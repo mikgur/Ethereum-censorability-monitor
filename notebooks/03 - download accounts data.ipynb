{
 "cells": [
  {
   "cell_type": "code",
   "execution_count": 1,
   "id": "ffd18db3-9ed9-4431-98b5-4873e45a4ddc",
   "metadata": {},
   "outputs": [],
   "source": [
    "%load_ext autoreload\n",
    "%autoreload 2\n",
    "\n",
    "# Добавляем путь к основной папке проекта, чтобы иметь возможность делать импорт из src\n",
    "import os\n",
    "import sys\n",
    "module_path = os.path.abspath(os.path.join('..'))\n",
    "if module_path not in sys.path:\n",
    "    sys.path.append(module_path)"
   ]
  },
  {
   "cell_type": "code",
   "execution_count": 7,
   "id": "7b6b80a1-5b30-4071-885b-7b07e0f865b3",
   "metadata": {},
   "outputs": [],
   "source": [
    "import pickle\n",
    "import tqdm\n",
    "\n",
    "import pandas as pd\n",
    "\n",
    "from censorability_monitor.mempool_analysis import get_transaction_status, divide_mempool_to_three_parts"
   ]
  },
  {
   "cell_type": "code",
   "execution_count": 3,
   "id": "8ad076b9-5a8b-4ea9-91bf-c52c4257209c",
   "metadata": {},
   "outputs": [
    {
     "data": {
      "text/html": [
       "<div>\n",
       "<style scoped>\n",
       "    .dataframe tbody tr th:only-of-type {\n",
       "        vertical-align: middle;\n",
       "    }\n",
       "\n",
       "    .dataframe tbody tr th {\n",
       "        vertical-align: top;\n",
       "    }\n",
       "\n",
       "    .dataframe thead th {\n",
       "        text-align: right;\n",
       "    }\n",
       "</style>\n",
       "<table border=\"1\" class=\"dataframe\">\n",
       "  <thead>\n",
       "    <tr style=\"text-align: right;\">\n",
       "      <th></th>\n",
       "      <th>tx_hash</th>\n",
       "      <th>from</th>\n",
       "      <th>to</th>\n",
       "      <th>gas</th>\n",
       "      <th>gasPrice</th>\n",
       "      <th>blockNumber</th>\n",
       "      <th>timestamp_x</th>\n",
       "      <th>miner</th>\n",
       "      <th>timestamp_y</th>\n",
       "      <th>waiting</th>\n",
       "      <th>...</th>\n",
       "      <th>is_contract_transaction</th>\n",
       "      <th>baseFeePerGas</th>\n",
       "      <th>wait_time_adjusted</th>\n",
       "      <th>is_ofac</th>\n",
       "      <th>priority_fee</th>\n",
       "      <th>maxFeePerGas</th>\n",
       "      <th>maxPriorityFeePerGas</th>\n",
       "      <th>gasUsed</th>\n",
       "      <th>effectiveGasPrice</th>\n",
       "      <th>nonce</th>\n",
       "    </tr>\n",
       "  </thead>\n",
       "  <tbody>\n",
       "    <tr>\n",
       "      <th>0</th>\n",
       "      <td>0x14e970dba71ef93b42f337d3494c4d6e8fee4d83ce38...</td>\n",
       "      <td>0x498B859D2e59958E209d7DD262324C8D31b12B12</td>\n",
       "      <td>0xC1E088fC1323b20BCBee9bd1B9fC9546db5624C5</td>\n",
       "      <td>242494</td>\n",
       "      <td>117.114005</td>\n",
       "      <td>16221291</td>\n",
       "      <td>1671483611</td>\n",
       "      <td>0x690B9A9E9aa1C9dB991C7721a92d351Db4FaC990</td>\n",
       "      <td>NaN</td>\n",
       "      <td>NaN</td>\n",
       "      <td>...</td>\n",
       "      <td>True</td>\n",
       "      <td>17.248596</td>\n",
       "      <td>0.0</td>\n",
       "      <td>False</td>\n",
       "      <td>99.865409</td>\n",
       "      <td>117.114005</td>\n",
       "      <td>117.114005</td>\n",
       "      <td>189564</td>\n",
       "      <td>117.114005</td>\n",
       "      <td>12269</td>\n",
       "    </tr>\n",
       "    <tr>\n",
       "      <th>1</th>\n",
       "      <td>0x33fcc824c05553a3ec31a7d71dc6dbb26cf51d608009...</td>\n",
       "      <td>0x07B873DE48807ec7B02B38cc31b4f96a6A507182</td>\n",
       "      <td>0x883B01205b938EC7268286d13Cb40a2045D2E78F</td>\n",
       "      <td>800000</td>\n",
       "      <td>23.932889</td>\n",
       "      <td>16221291</td>\n",
       "      <td>1671483611</td>\n",
       "      <td>0x690B9A9E9aa1C9dB991C7721a92d351Db4FaC990</td>\n",
       "      <td>NaN</td>\n",
       "      <td>NaN</td>\n",
       "      <td>...</td>\n",
       "      <td>True</td>\n",
       "      <td>17.248596</td>\n",
       "      <td>0.0</td>\n",
       "      <td>False</td>\n",
       "      <td>6.684293</td>\n",
       "      <td>23.932889</td>\n",
       "      <td>23.932889</td>\n",
       "      <td>214272</td>\n",
       "      <td>23.932889</td>\n",
       "      <td>907</td>\n",
       "    </tr>\n",
       "    <tr>\n",
       "      <th>2</th>\n",
       "      <td>0x555ffb08812804e23fe18467886edaa167f502488c6b...</td>\n",
       "      <td>0xAC813c6b767F3C2f1764994F9D3E4D38A8df6F32</td>\n",
       "      <td>0x0b382C0A00D6080b0009F003C050eAC3c30f0000</td>\n",
       "      <td>305170</td>\n",
       "      <td>17.248596</td>\n",
       "      <td>16221291</td>\n",
       "      <td>1671483611</td>\n",
       "      <td>0x690B9A9E9aa1C9dB991C7721a92d351Db4FaC990</td>\n",
       "      <td>NaN</td>\n",
       "      <td>NaN</td>\n",
       "      <td>...</td>\n",
       "      <td>True</td>\n",
       "      <td>17.248596</td>\n",
       "      <td>0.0</td>\n",
       "      <td>False</td>\n",
       "      <td>0.000000</td>\n",
       "      <td>17.248596</td>\n",
       "      <td>17.248596</td>\n",
       "      <td>152585</td>\n",
       "      <td>17.248596</td>\n",
       "      <td>1689</td>\n",
       "    </tr>\n",
       "    <tr>\n",
       "      <th>3</th>\n",
       "      <td>0x9febfdc63677cd0decb532cb049004add2959d7f1a1f...</td>\n",
       "      <td>0xf7C8133baEa3313993B3c476c016aa869C991679</td>\n",
       "      <td>0x91c8D7e4080bed28e26FCE1b87cACcFaF7bbF794</td>\n",
       "      <td>292432</td>\n",
       "      <td>18.212433</td>\n",
       "      <td>16221291</td>\n",
       "      <td>1671483611</td>\n",
       "      <td>0x690B9A9E9aa1C9dB991C7721a92d351Db4FaC990</td>\n",
       "      <td>1.671484e+09</td>\n",
       "      <td>3.0</td>\n",
       "      <td>...</td>\n",
       "      <td>True</td>\n",
       "      <td>17.248596</td>\n",
       "      <td>3.0</td>\n",
       "      <td>False</td>\n",
       "      <td>0.963838</td>\n",
       "      <td>0.000000</td>\n",
       "      <td>0.000000</td>\n",
       "      <td>208202</td>\n",
       "      <td>18.212433</td>\n",
       "      <td>19</td>\n",
       "    </tr>\n",
       "    <tr>\n",
       "      <th>4</th>\n",
       "      <td>0xe24c2fb8e8d581d86710a0ca685e27ed6c36ca722d8e...</td>\n",
       "      <td>0xAC813c6b767F3C2f1764994F9D3E4D38A8df6F32</td>\n",
       "      <td>0x0b382C0A00D6080b0009F003C050eAC3c30f0000</td>\n",
       "      <td>245026</td>\n",
       "      <td>20.798797</td>\n",
       "      <td>16221291</td>\n",
       "      <td>1671483611</td>\n",
       "      <td>0x690B9A9E9aa1C9dB991C7721a92d351Db4FaC990</td>\n",
       "      <td>NaN</td>\n",
       "      <td>NaN</td>\n",
       "      <td>...</td>\n",
       "      <td>True</td>\n",
       "      <td>17.248596</td>\n",
       "      <td>0.0</td>\n",
       "      <td>False</td>\n",
       "      <td>3.550201</td>\n",
       "      <td>20.798797</td>\n",
       "      <td>20.798797</td>\n",
       "      <td>122513</td>\n",
       "      <td>20.798797</td>\n",
       "      <td>1690</td>\n",
       "    </tr>\n",
       "  </tbody>\n",
       "</table>\n",
       "<p>5 rows × 28 columns</p>\n",
       "</div>"
      ],
      "text/plain": [
       "                                             tx_hash  \\\n",
       "0  0x14e970dba71ef93b42f337d3494c4d6e8fee4d83ce38...   \n",
       "1  0x33fcc824c05553a3ec31a7d71dc6dbb26cf51d608009...   \n",
       "2  0x555ffb08812804e23fe18467886edaa167f502488c6b...   \n",
       "3  0x9febfdc63677cd0decb532cb049004add2959d7f1a1f...   \n",
       "4  0xe24c2fb8e8d581d86710a0ca685e27ed6c36ca722d8e...   \n",
       "\n",
       "                                         from  \\\n",
       "0  0x498B859D2e59958E209d7DD262324C8D31b12B12   \n",
       "1  0x07B873DE48807ec7B02B38cc31b4f96a6A507182   \n",
       "2  0xAC813c6b767F3C2f1764994F9D3E4D38A8df6F32   \n",
       "3  0xf7C8133baEa3313993B3c476c016aa869C991679   \n",
       "4  0xAC813c6b767F3C2f1764994F9D3E4D38A8df6F32   \n",
       "\n",
       "                                           to     gas    gasPrice  \\\n",
       "0  0xC1E088fC1323b20BCBee9bd1B9fC9546db5624C5  242494  117.114005   \n",
       "1  0x883B01205b938EC7268286d13Cb40a2045D2E78F  800000   23.932889   \n",
       "2  0x0b382C0A00D6080b0009F003C050eAC3c30f0000  305170   17.248596   \n",
       "3  0x91c8D7e4080bed28e26FCE1b87cACcFaF7bbF794  292432   18.212433   \n",
       "4  0x0b382C0A00D6080b0009F003C050eAC3c30f0000  245026   20.798797   \n",
       "\n",
       "   blockNumber  timestamp_x                                       miner  \\\n",
       "0     16221291   1671483611  0x690B9A9E9aa1C9dB991C7721a92d351Db4FaC990   \n",
       "1     16221291   1671483611  0x690B9A9E9aa1C9dB991C7721a92d351Db4FaC990   \n",
       "2     16221291   1671483611  0x690B9A9E9aa1C9dB991C7721a92d351Db4FaC990   \n",
       "3     16221291   1671483611  0x690B9A9E9aa1C9dB991C7721a92d351Db4FaC990   \n",
       "4     16221291   1671483611  0x690B9A9E9aa1C9dB991C7721a92d351Db4FaC990   \n",
       "\n",
       "    timestamp_y  waiting  ...  is_contract_transaction baseFeePerGas  \\\n",
       "0           NaN      NaN  ...                     True     17.248596   \n",
       "1           NaN      NaN  ...                     True     17.248596   \n",
       "2           NaN      NaN  ...                     True     17.248596   \n",
       "3  1.671484e+09      3.0  ...                     True     17.248596   \n",
       "4           NaN      NaN  ...                     True     17.248596   \n",
       "\n",
       "  wait_time_adjusted is_ofac priority_fee maxFeePerGas maxPriorityFeePerGas  \\\n",
       "0                0.0   False    99.865409   117.114005           117.114005   \n",
       "1                0.0   False     6.684293    23.932889            23.932889   \n",
       "2                0.0   False     0.000000    17.248596            17.248596   \n",
       "3                3.0   False     0.963838     0.000000             0.000000   \n",
       "4                0.0   False     3.550201    20.798797            20.798797   \n",
       "\n",
       "  gasUsed  effectiveGasPrice  nonce  \n",
       "0  189564         117.114005  12269  \n",
       "1  214272          23.932889    907  \n",
       "2  152585          17.248596   1689  \n",
       "3  208202          18.212433     19  \n",
       "4  122513          20.798797   1690  \n",
       "\n",
       "[5 rows x 28 columns]"
      ]
     },
     "execution_count": 3,
     "metadata": {},
     "output_type": "execute_result"
    }
   ],
   "source": [
    "tr_data = pd.read_csv('../data/merged_221220_221231_with_contracts.csv')\n",
    "tr_data.head()"
   ]
  },
  {
   "cell_type": "code",
   "execution_count": 4,
   "id": "ed8ae012-83e3-4f72-ad35-ee03cb2003ae",
   "metadata": {},
   "outputs": [],
   "source": [
    "tr_data.loc[tr_data['maxFeePerGas'] == 0, 'maxFeePerGas'] = tr_data.loc[tr_data['maxFeePerGas'] == 0, 'gasPrice']\n",
    "tr_data.loc[tr_data['maxPriorityFeePerGas'] == 0, 'maxPriorityFeePerGas'] = tr_data.loc[tr_data['maxPriorityFeePerGas'] == 0, 'maxFeePerGas']"
   ]
  },
  {
   "cell_type": "code",
   "execution_count": 5,
   "id": "35354ba1-4882-4530-b0b4-f313551ddc24",
   "metadata": {},
   "outputs": [],
   "source": [
    "tr_data['first_seen'] = tr_data['timestamp_y']\n",
    "tr_data.loc[tr_data['timestamp_y'].isna(), 'first_seen'] = tr_data.loc[tr_data['timestamp_y'].isna(), 'timestamp_x'] - 1"
   ]
  },
  {
   "cell_type": "code",
   "execution_count": 6,
   "id": "925780ba-fd15-4829-9a74-5511d41e9410",
   "metadata": {},
   "outputs": [
    {
     "name": "stdout",
     "output_type": "stream",
     "text": [
      "Latest Ethereum block number DRPC 16564153\n",
      "Latest Ethereum block number 16564153\n"
     ]
    }
   ],
   "source": [
    "import web3\n",
    "from web3 import Web3, HTTPProvider, IPCProvider \n",
    "\n",
    "geth_ipc = '/media/Warehouse/Warehouse/Ethereum/data/.ethereum/geth.ipc'\n",
    "w3 = Web3(IPCProvider(geth_ipc))\n",
    "w3_drpc = Web3(HTTPProvider('https://main.drpc.org/ogrpc?network=ethereum&dkey=AhVPNnFg1020t9FEr-MKVyPunnyCo98R7bAt5s-wSZOx'))\n",
    "print (\"Latest Ethereum block number DRPC\" , w3_drpc.eth.blockNumber)\n",
    "print (\"Latest Ethereum block number\" , w3.eth.blockNumber)"
   ]
  },
  {
   "cell_type": "code",
   "execution_count": 8,
   "id": "2b40675e-5233-4221-8222-4f99f7f5ffc0",
   "metadata": {},
   "outputs": [],
   "source": [
    "ofac_txs = tr_data[tr_data['is_ofac'] == True].copy()\n",
    "# Соберем номера блоков, которые нам интересны (должны содержать в мемпуле ofac транзакции)\n",
    "ofac_txs.head()\n",
    "interesting_blocks = set()\n",
    "\n",
    "for i, row in ofac_txs.iterrows():\n",
    "    block_with_ofac = row['blockNumber']\n",
    "    waiting_time = row['wait_time_adjusted']\n",
    "    n_blocks_before = int(waiting_time) // 12 + 1\n",
    "    new_interesting_blocks = list(range(block_with_ofac, block_with_ofac - n_blocks_before - 1, -1))\n",
    "    interesting_blocks.update(new_interesting_blocks)\n",
    "\n",
    "interesting_blocks = sorted(interesting_blocks)"
   ]
  },
  {
   "cell_type": "code",
   "execution_count": 9,
   "id": "83ab8ae7-de05-48d6-bbca-aef1d549d289",
   "metadata": {},
   "outputs": [],
   "source": [
    "first_block = tr_data['blockNumber'].min()\n",
    "first_20_blocks = list(range(first_block + 1, first_block + 21))\n",
    "\n",
    "interesting_blocks = set(interesting_blocks)\n",
    "interesting_blocks.update(first_20_blocks)\n",
    "interesting_blocks = sorted(interesting_blocks)"
   ]
  },
  {
   "cell_type": "code",
   "execution_count": 10,
   "id": "0eca7f54-791e-474b-a522-b59f1236ea1f",
   "metadata": {},
   "outputs": [],
   "source": [
    "with open('../data/twelve_days_blocks.pickle', 'rb') as f:\n",
    "    blocks_info = pickle.load(f)"
   ]
  },
  {
   "cell_type": "code",
   "execution_count": null,
   "id": "3d429259-fe02-40fc-a457-1f8703b9d31c",
   "metadata": {
    "scrolled": true,
    "tags": []
   },
   "outputs": [
    {
     "name": "stderr",
     "output_type": "stream",
     "text": [
      "  0%|                                                                                        | 0/6594 [00:00<?, ?it/s]"
     ]
    },
    {
     "name": "stdout",
     "output_type": "stream",
     "text": [
      "Error 16253260  {'message': 'No response or no available upstream for eth_getBalance', 'code': 1}, trying again...\n",
      "Error 16253260  {'message': 'No response or no available upstream for eth_getBalance', 'code': 1}, trying again...\n",
      "Error 16253260  {'message': 'No response or no available upstream for eth_getBalance', 'code': 1}, trying again...\n",
      "Error 16253260  {'message': 'No response or no available upstream for eth_getBalance', 'code': 1}, trying again...\n",
      "Error 16253260  {'message': 'No response or no available upstream for eth_getBalance', 'code': 1}, trying again...\n",
      "Error 16253260  {'message': 'No response or no available upstream for eth_getBalance', 'code': 1}, trying again...\n",
      "Error 16253260  {'message': 'No response or no available upstream for eth_getBalance', 'code': 1}, trying again...\n",
      "Error 16253260  {'message': 'No response or no available upstream for eth_getBalance', 'code': 1}, trying again...\n",
      "Error 16253260  {'message': 'No response or no available upstream for eth_getTransactionCount', 'code': 1}, trying again...\n",
      "Error 16253260  {'message': 'No response or no available upstream for eth_getBalance', 'code': 1}, trying again...\n",
      "Error 16253260  {'message': 'No response or no available upstream for eth_getBalance', 'code': 1}, trying again...\n"
     ]
    },
    {
     "name": "stderr",
     "output_type": "stream",
     "text": [
      "  1%|▍                                                                      | 36/6594 [10:08:08<337:39:04, 185.35s/it]"
     ]
    },
    {
     "name": "stdout",
     "output_type": "stream",
     "text": [
      "Error 16253853  {'message': 'No response or no available upstream for eth_getBalance', 'code': 1}, trying again...\n",
      "Error 16253853  {'message': 'No response or no available upstream for eth_getBalance', 'code': 1}, trying again...\n",
      "Error 16253853  {'message': 'No response or no available upstream for eth_getBalance', 'code': 1}, trying again...\n"
     ]
    },
    {
     "name": "stderr",
     "output_type": "stream",
     "text": [
      "  3%|██▏                                                                   | 208/6594 [17:58:38<319:11:40, 179.94s/it]"
     ]
    },
    {
     "name": "stdout",
     "output_type": "stream",
     "text": [
      "Error 16256863  {'message': 'No response or no available upstream for eth_getBalance', 'code': 1}, trying again...\n",
      "Error 16256863  {'message': 'No response or no available upstream for eth_getBalance', 'code': 1}, trying again...\n",
      "Error 16256863  {'message': 'No response or no available upstream for eth_getBalance', 'code': 1}, trying again...\n",
      "Error 16256863  {'message': 'No response or no available upstream for eth_getBalance', 'code': 1}, trying again...\n",
      "Error 16256863  {'message': 'No response or no available upstream for eth_getBalance', 'code': 1}, trying again...\n",
      "Error 16256863  {'message': 'No response or no available upstream for eth_getBalance', 'code': 1}, trying again...\n",
      "Error 16256863  {'message': 'No response or no available upstream for eth_getBalance', 'code': 1}, trying again...\n"
     ]
    },
    {
     "name": "stderr",
     "output_type": "stream",
     "text": [
      "  3%|██▏                                                                | 215/6594 [26:42:40<11565:45:58, 6527.16s/it]"
     ]
    },
    {
     "name": "stdout",
     "output_type": "stream",
     "text": [
      "Error 16256865  {'message': 'No response or no available upstream for eth_getTransactionCount', 'code': 1}, trying again...\n",
      "Error 16256865  {'message': 'No response or no available upstream for eth_getBalance', 'code': 1}, trying again...\n",
      "Error 16256865  {'message': 'No response or no available upstream for eth_getBalance', 'code': 1}, trying again...\n",
      "Error 16256865  {'message': 'No response or no available upstream for eth_getBalance', 'code': 1}, trying again...\n",
      "Error 16256865  {'message': 'No response or no available upstream for eth_getBalance', 'code': 1}, trying again...\n",
      "Error 16256865  {'message': 'No response or no available upstream for eth_getBalance', 'code': 1}, trying again...\n",
      "Error 16256865  {'message': 'No response or no available upstream for eth_getBalance', 'code': 1}, trying again...\n",
      "Error 16256865  {'message': 'No response or no available upstream for eth_getBalance', 'code': 1}, trying again...\n",
      "Error 16256865  {'message': 'No response or no available upstream for eth_getBalance', 'code': 1}, trying again...\n",
      "Error 16256865  {'message': 'No response or no available upstream for eth_getBalance', 'code': 1}, trying again...\n",
      "Error 16256865  {'message': 'No response or no available upstream for eth_getBalance', 'code': 1}, trying again...\n",
      "Error 16256865  {'message': 'No response or no available upstream for eth_getBalance', 'code': 1}, trying again...\n"
     ]
    },
    {
     "name": "stderr",
     "output_type": "stream",
     "text": [
      "  4%|██▌                                                                   | 236/6594 [27:39:57<277:32:36, 157.15s/it]"
     ]
    },
    {
     "name": "stdout",
     "output_type": "stream",
     "text": [
      "Error 16257831  {'message': 'No response or no available upstream for eth_getBalance', 'code': 1}, trying again...\n",
      "Error 16257831  {'message': 'No response or no available upstream for eth_getBalance', 'code': 1}, trying again...\n",
      "Error 16257831  {'message': 'No response or no available upstream for eth_getBalance', 'code': 1}, trying again...\n"
     ]
    },
    {
     "name": "stderr",
     "output_type": "stream",
     "text": [
      "  4%|██▌                                                                   | 238/6594 [27:45:04<272:46:05, 154.49s/it]"
     ]
    },
    {
     "name": "stdout",
     "output_type": "stream",
     "text": [
      "Error 16257833  {'message': 'No response or no available upstream for eth_getBalance', 'code': 1}, trying again...\n",
      "Error 16257833  {'message': 'No response or no available upstream for eth_getBalance', 'code': 1}, trying again...\n",
      "Error 16257833  {'message': 'No response or no available upstream for eth_getBalance', 'code': 1}, trying again...\n",
      "Error 16257833  {'message': 'No response or no available upstream for eth_getTransactionCount', 'code': 1}, trying again...\n",
      "Error 16257833  {'message': 'No response or no available upstream for eth_getBalance', 'code': 1}, trying again...\n",
      "Error 16257833  {'message': 'No response or no available upstream for eth_getBalance', 'code': 1}, trying again...\n",
      "Error 16257833  {'message': 'No response or no available upstream for eth_getBalance', 'code': 1}, trying again...\n",
      "Error 16257833  {'message': 'No response or no available upstream for eth_getBalance', 'code': 1}, trying again...\n",
      "Error 16257833  {'message': 'No response or no available upstream for eth_getBalance', 'code': 1}, trying again...\n",
      "Error 16257833  {'message': 'No response or no available upstream for eth_getBalance', 'code': 1}, trying again...\n",
      "Error 16257833  {'message': 'No response or no available upstream for eth_getBalance', 'code': 1}, trying again...\n",
      "Error 16257833  {'message': 'No response or no available upstream for eth_getBalance', 'code': 1}, trying again...\n",
      "Error 16257833  {'message': 'No response or no available upstream for eth_getBalance', 'code': 1}, trying again...\n",
      "Error 16257833  {'message': 'No response or no available upstream for eth_getTransactionCount', 'code': 1}, trying again...\n",
      "Error 16257833  {'message': 'No response or no available upstream for eth_getBalance', 'code': 1}, trying again...\n",
      "Error 16257833  {'message': 'No response or no available upstream for eth_getBalance', 'code': 1}, trying again...\n",
      "Error 16257833  {'message': 'No response or no available upstream for eth_getBalance', 'code': 1}, trying again...\n"
     ]
    },
    {
     "name": "stderr",
     "output_type": "stream",
     "text": [
      "  4%|██▍                                                                | 239/6594 [34:55:23<13864:11:01, 7853.83s/it]"
     ]
    },
    {
     "name": "stdout",
     "output_type": "stream",
     "text": [
      "Error 16257834  {'message': 'No response or no available upstream for eth_getTransactionCount', 'code': 1}, trying again...\n",
      "Error 16257834  {'message': 'No response or no available upstream for eth_getBalance', 'code': 1}, trying again...\n",
      "Error 16257834  {'message': 'No response or no available upstream for eth_getBalance', 'code': 1}, trying again...\n",
      "Error 16257834  {'message': 'No response or no available upstream for eth_getBalance', 'code': 1}, trying again...\n",
      "Error 16257834  {'message': 'No response or no available upstream for eth_getTransactionCount', 'code': 1}, trying again...\n",
      "Error 16257834  {'message': 'No response or no available upstream for eth_getBalance', 'code': 1}, trying again...\n",
      "Error 16257834  {'message': 'No response or no available upstream for eth_getBalance', 'code': 1}, trying again...\n",
      "Error 16257834  {'message': 'No response or no available upstream for eth_getBalance', 'code': 1}, trying again...\n"
     ]
    },
    {
     "name": "stderr",
     "output_type": "stream",
     "text": [
      "  5%|███▎                                                                  | 308/6594 [44:45:44<255:35:52, 146.38s/it]"
     ]
    },
    {
     "name": "stdout",
     "output_type": "stream",
     "text": [
      "Error 16259582  {'message': 'No response or no available upstream for eth_getBalance', 'code': 1}, trying again...\n",
      "Error 16259582  {'message': 'No response or no available upstream for eth_getBalance', 'code': 1}, trying again...\n",
      "Error 16259582  {'message': 'No response or no available upstream for eth_getBalance', 'code': 1}, trying again...\n",
      "Error 16259582  {'message': 'No response or no available upstream for eth_getBalance', 'code': 1}, trying again...\n"
     ]
    },
    {
     "name": "stderr",
     "output_type": "stream",
     "text": [
      "  5%|███▏                                                                | 309/6594 [48:38:20<7488:19:44, 4289.26s/it]"
     ]
    },
    {
     "name": "stdout",
     "output_type": "stream",
     "text": [
      "Error 16259583  {'message': 'No response or no available upstream for eth_getTransactionCount', 'code': 1}, trying again...\n",
      "Error 16259583  {'message': 'No response or no available upstream for eth_getBalance', 'code': 1}, trying again...\n",
      "Error 16259583  {'message': 'No response or no available upstream for eth_getBalance', 'code': 1}, trying again...\n",
      "Error 16259583  {'message': 'No response or no available upstream for eth_getBalance', 'code': 1}, trying again...\n",
      "Error 16259583  {'message': 'No response or no available upstream for eth_getBalance', 'code': 1}, trying again...\n",
      "Error 16259583  {'message': 'No response or no available upstream for eth_getBalance', 'code': 1}, trying again...\n"
     ]
    },
    {
     "name": "stderr",
     "output_type": "stream",
     "text": [
      "  5%|███▏                                                               | 310/6594 [52:32:42<12604:53:41, 7221.14s/it]"
     ]
    },
    {
     "name": "stdout",
     "output_type": "stream",
     "text": [
      "Error 16259610  {'message': 'No response or no available upstream for eth_getBalance', 'code': 1}, trying again...\n",
      "Error 16259610  {'message': 'No response or no available upstream for eth_getBalance', 'code': 1}, trying again...\n",
      "Error 16259610  {'message': 'No response or no available upstream for eth_getBalance', 'code': 1}, trying again...\n",
      "Error 16259610  {'message': 'No response or no available upstream for eth_getBalance', 'code': 1}, trying again...\n"
     ]
    },
    {
     "name": "stderr",
     "output_type": "stream",
     "text": [
      "  5%|███▏                                                               | 311/6594 [56:16:05<15839:48:11, 9075.81s/it]"
     ]
    },
    {
     "name": "stdout",
     "output_type": "stream",
     "text": [
      "Error 16259611  {'message': 'No response or no available upstream for eth_getBalance', 'code': 1}, trying again...\n",
      "Error 16259611  {'message': 'No response or no available upstream for eth_getBalance', 'code': 1}, trying again...\n",
      "Error 16259611  {'message': 'No response or no available upstream for eth_getBalance', 'code': 1}, trying again...\n"
     ]
    },
    {
     "name": "stderr",
     "output_type": "stream",
     "text": [
      "  5%|███▏                                                                | 314/6594 [56:23:27<5600:03:17, 3210.22s/it]"
     ]
    },
    {
     "name": "stdout",
     "output_type": "stream",
     "text": [
      "Error 16259637  {'message': 'No response or no available upstream for eth_getBalance', 'code': 1}, trying again...\n",
      "Error 16259637  {'message': 'No response or no available upstream for eth_getBalance', 'code': 1}, trying again...\n",
      "Error 16259637  {'message': 'No response or no available upstream for eth_getBalance', 'code': 1}, trying again...\n",
      "Error 16259637  {'message': 'No response or no available upstream for eth_getBalance', 'code': 1}, trying again...\n",
      "Error 16259637  {'message': 'No response or no available upstream for eth_getBalance', 'code': 1}, trying again...\n",
      "Error 16259637  {'message': 'No response or no available upstream for eth_getBalance', 'code': 1}, trying again...\n",
      "Error 16259637  {'message': 'No response or no available upstream for eth_getBalance', 'code': 1}, trying again...\n"
     ]
    },
    {
     "name": "stderr",
     "output_type": "stream",
     "text": [
      "  5%|███▎                                                                 | 321/6594 [60:16:43<1513:16:10, 868.45s/it]"
     ]
    },
    {
     "name": "stdout",
     "output_type": "stream",
     "text": [
      "Error 16259687  {'message': 'No response or no available upstream for eth_getBalance', 'code': 1}, trying again...\n",
      "Error 16259687  {'message': 'No response or no available upstream for eth_getBalance', 'code': 1}, trying again...\n",
      "Error 16259687  {'message': 'No response or no available upstream for eth_getBalance', 'code': 1}, trying again...\n",
      "Error 16259687  {'message': 'No response or no available upstream for eth_getBalance', 'code': 1}, trying again...\n"
     ]
    },
    {
     "name": "stderr",
     "output_type": "stream",
     "text": [
      "  7%|█████                                                                 | 476/6594 [69:48:29<209:22:28, 123.20s/it]"
     ]
    },
    {
     "name": "stdout",
     "output_type": "stream",
     "text": [
      "Error 16262186  {'message': 'Remote status code: UNAVAILABLE', 'code': 1}, trying again...\n",
      "Error 16262186  400 Client Error: Bad Request for url: https://main.drpc.org/ogrpc?network=ethereum&dkey=AhVPNnFg1020t9FEr-MKVyPunnyCo98R7bAt5s-wSZOx, trying again...\n",
      "Error 16262186  400 Client Error: Bad Request for url: https://main.drpc.org/ogrpc?network=ethereum&dkey=AhVPNnFg1020t9FEr-MKVyPunnyCo98R7bAt5s-wSZOx, trying again...\n",
      "Error 16262186  400 Client Error: Bad Request for url: https://main.drpc.org/ogrpc?network=ethereum&dkey=AhVPNnFg1020t9FEr-MKVyPunnyCo98R7bAt5s-wSZOx, trying again...\n",
      "Error 16262186  400 Client Error: Bad Request for url: https://main.drpc.org/ogrpc?network=ethereum&dkey=AhVPNnFg1020t9FEr-MKVyPunnyCo98R7bAt5s-wSZOx, trying again...\n",
      "Error 16262186  400 Client Error: Bad Request for url: https://main.drpc.org/ogrpc?network=ethereum&dkey=AhVPNnFg1020t9FEr-MKVyPunnyCo98R7bAt5s-wSZOx, trying again...\n",
      "Error 16262186  400 Client Error: Bad Request for url: https://main.drpc.org/ogrpc?network=ethereum&dkey=AhVPNnFg1020t9FEr-MKVyPunnyCo98R7bAt5s-wSZOx, trying again...\n",
      "Error 16262186  400 Client Error: Bad Request for url: https://main.drpc.org/ogrpc?network=ethereum&dkey=AhVPNnFg1020t9FEr-MKVyPunnyCo98R7bAt5s-wSZOx, trying again...\n",
      "Error 16262186  400 Client Error: Bad Request for url: https://main.drpc.org/ogrpc?network=ethereum&dkey=AhVPNnFg1020t9FEr-MKVyPunnyCo98R7bAt5s-wSZOx, trying again...\n",
      "Error 16262186  400 Client Error: Bad Request for url: https://main.drpc.org/ogrpc?network=ethereum&dkey=AhVPNnFg1020t9FEr-MKVyPunnyCo98R7bAt5s-wSZOx, trying again...\n",
      "Error 16262186  400 Client Error: Bad Request for url: https://main.drpc.org/ogrpc?network=ethereum&dkey=AhVPNnFg1020t9FEr-MKVyPunnyCo98R7bAt5s-wSZOx, trying again...\n",
      "Error 16262186  400 Client Error: Bad Request for url: https://main.drpc.org/ogrpc?network=ethereum&dkey=AhVPNnFg1020t9FEr-MKVyPunnyCo98R7bAt5s-wSZOx, trying again...\n",
      "Error 16262186  400 Client Error: Bad Request for url: https://main.drpc.org/ogrpc?network=ethereum&dkey=AhVPNnFg1020t9FEr-MKVyPunnyCo98R7bAt5s-wSZOx, trying again...\n",
      "Error 16262186  400 Client Error: Bad Request for url: https://main.drpc.org/ogrpc?network=ethereum&dkey=AhVPNnFg1020t9FEr-MKVyPunnyCo98R7bAt5s-wSZOx, trying again...\n",
      "Error 16262186  400 Client Error: Bad Request for url: https://main.drpc.org/ogrpc?network=ethereum&dkey=AhVPNnFg1020t9FEr-MKVyPunnyCo98R7bAt5s-wSZOx, trying again...\n",
      "Error 16262186  400 Client Error: Bad Request for url: https://main.drpc.org/ogrpc?network=ethereum&dkey=AhVPNnFg1020t9FEr-MKVyPunnyCo98R7bAt5s-wSZOx, trying again...\n",
      "Error 16262186  400 Client Error: Bad Request for url: https://main.drpc.org/ogrpc?network=ethereum&dkey=AhVPNnFg1020t9FEr-MKVyPunnyCo98R7bAt5s-wSZOx, trying again...\n",
      "Error 16262186  400 Client Error: Bad Request for url: https://main.drpc.org/ogrpc?network=ethereum&dkey=AhVPNnFg1020t9FEr-MKVyPunnyCo98R7bAt5s-wSZOx, trying again...\n",
      "Error 16262186  400 Client Error: Bad Request for url: https://main.drpc.org/ogrpc?network=ethereum&dkey=AhVPNnFg1020t9FEr-MKVyPunnyCo98R7bAt5s-wSZOx, trying again...\n",
      "Error 16262186  400 Client Error: Bad Request for url: https://main.drpc.org/ogrpc?network=ethereum&dkey=AhVPNnFg1020t9FEr-MKVyPunnyCo98R7bAt5s-wSZOx, trying again...\n",
      "Error 16262186  400 Client Error: Bad Request for url: https://main.drpc.org/ogrpc?network=ethereum&dkey=AhVPNnFg1020t9FEr-MKVyPunnyCo98R7bAt5s-wSZOx, trying again...\n",
      "Error 16262186  400 Client Error: Bad Request for url: https://main.drpc.org/ogrpc?network=ethereum&dkey=AhVPNnFg1020t9FEr-MKVyPunnyCo98R7bAt5s-wSZOx, trying again...\n",
      "Error 16262186  400 Client Error: Bad Request for url: https://main.drpc.org/ogrpc?network=ethereum&dkey=AhVPNnFg1020t9FEr-MKVyPunnyCo98R7bAt5s-wSZOx, trying again...\n",
      "Error 16262186  400 Client Error: Bad Request for url: https://main.drpc.org/ogrpc?network=ethereum&dkey=AhVPNnFg1020t9FEr-MKVyPunnyCo98R7bAt5s-wSZOx, trying again...\n",
      "Error 16262186  400 Client Error: Bad Request for url: https://main.drpc.org/ogrpc?network=ethereum&dkey=AhVPNnFg1020t9FEr-MKVyPunnyCo98R7bAt5s-wSZOx, trying again...\n",
      "Error 16262186  400 Client Error: Bad Request for url: https://main.drpc.org/ogrpc?network=ethereum&dkey=AhVPNnFg1020t9FEr-MKVyPunnyCo98R7bAt5s-wSZOx, trying again...\n",
      "Error 16262186  400 Client Error: Bad Request for url: https://main.drpc.org/ogrpc?network=ethereum&dkey=AhVPNnFg1020t9FEr-MKVyPunnyCo98R7bAt5s-wSZOx, trying again...\n",
      "Error 16262186  400 Client Error: Bad Request for url: https://main.drpc.org/ogrpc?network=ethereum&dkey=AhVPNnFg1020t9FEr-MKVyPunnyCo98R7bAt5s-wSZOx, trying again...\n",
      "Error 16262186  400 Client Error: Bad Request for url: https://main.drpc.org/ogrpc?network=ethereum&dkey=AhVPNnFg1020t9FEr-MKVyPunnyCo98R7bAt5s-wSZOx, trying again...\n",
      "Error 16262186  400 Client Error: Bad Request for url: https://main.drpc.org/ogrpc?network=ethereum&dkey=AhVPNnFg1020t9FEr-MKVyPunnyCo98R7bAt5s-wSZOx, trying again...\n",
      "Error 16262186  400 Client Error: Bad Request for url: https://main.drpc.org/ogrpc?network=ethereum&dkey=AhVPNnFg1020t9FEr-MKVyPunnyCo98R7bAt5s-wSZOx, trying again...\n",
      "Error 16262186  400 Client Error: Bad Request for url: https://main.drpc.org/ogrpc?network=ethereum&dkey=AhVPNnFg1020t9FEr-MKVyPunnyCo98R7bAt5s-wSZOx, trying again...\n",
      "Error 16262186  400 Client Error: Bad Request for url: https://main.drpc.org/ogrpc?network=ethereum&dkey=AhVPNnFg1020t9FEr-MKVyPunnyCo98R7bAt5s-wSZOx, trying again...\n",
      "Error 16262186  400 Client Error: Bad Request for url: https://main.drpc.org/ogrpc?network=ethereum&dkey=AhVPNnFg1020t9FEr-MKVyPunnyCo98R7bAt5s-wSZOx, trying again...\n",
      "Error 16262186  400 Client Error: Bad Request for url: https://main.drpc.org/ogrpc?network=ethereum&dkey=AhVPNnFg1020t9FEr-MKVyPunnyCo98R7bAt5s-wSZOx, trying again...\n",
      "Error 16262186  400 Client Error: Bad Request for url: https://main.drpc.org/ogrpc?network=ethereum&dkey=AhVPNnFg1020t9FEr-MKVyPunnyCo98R7bAt5s-wSZOx, trying again...\n",
      "Error 16262186  400 Client Error: Bad Request for url: https://main.drpc.org/ogrpc?network=ethereum&dkey=AhVPNnFg1020t9FEr-MKVyPunnyCo98R7bAt5s-wSZOx, trying again...\n",
      "Error 16262186  400 Client Error: Bad Request for url: https://main.drpc.org/ogrpc?network=ethereum&dkey=AhVPNnFg1020t9FEr-MKVyPunnyCo98R7bAt5s-wSZOx, trying again...\n",
      "Error 16262186  400 Client Error: Bad Request for url: https://main.drpc.org/ogrpc?network=ethereum&dkey=AhVPNnFg1020t9FEr-MKVyPunnyCo98R7bAt5s-wSZOx, trying again...\n",
      "Error 16262186  400 Client Error: Bad Request for url: https://main.drpc.org/ogrpc?network=ethereum&dkey=AhVPNnFg1020t9FEr-MKVyPunnyCo98R7bAt5s-wSZOx, trying again...\n",
      "Error 16262186  400 Client Error: Bad Request for url: https://main.drpc.org/ogrpc?network=ethereum&dkey=AhVPNnFg1020t9FEr-MKVyPunnyCo98R7bAt5s-wSZOx, trying again...\n",
      "Error 16262186  400 Client Error: Bad Request for url: https://main.drpc.org/ogrpc?network=ethereum&dkey=AhVPNnFg1020t9FEr-MKVyPunnyCo98R7bAt5s-wSZOx, trying again...\n",
      "Error 16262186  400 Client Error: Bad Request for url: https://main.drpc.org/ogrpc?network=ethereum&dkey=AhVPNnFg1020t9FEr-MKVyPunnyCo98R7bAt5s-wSZOx, trying again...\n",
      "Error 16262186  400 Client Error: Bad Request for url: https://main.drpc.org/ogrpc?network=ethereum&dkey=AhVPNnFg1020t9FEr-MKVyPunnyCo98R7bAt5s-wSZOx, trying again...\n",
      "Error 16262186  400 Client Error: Bad Request for url: https://main.drpc.org/ogrpc?network=ethereum&dkey=AhVPNnFg1020t9FEr-MKVyPunnyCo98R7bAt5s-wSZOx, trying again...\n",
      "Error 16262186  400 Client Error: Bad Request for url: https://main.drpc.org/ogrpc?network=ethereum&dkey=AhVPNnFg1020t9FEr-MKVyPunnyCo98R7bAt5s-wSZOx, trying again...\n",
      "Error 16262186  400 Client Error: Bad Request for url: https://main.drpc.org/ogrpc?network=ethereum&dkey=AhVPNnFg1020t9FEr-MKVyPunnyCo98R7bAt5s-wSZOx, trying again...\n",
      "Error 16262186  400 Client Error: Bad Request for url: https://main.drpc.org/ogrpc?network=ethereum&dkey=AhVPNnFg1020t9FEr-MKVyPunnyCo98R7bAt5s-wSZOx, trying again...\n",
      "Error 16262186  400 Client Error: Bad Request for url: https://main.drpc.org/ogrpc?network=ethereum&dkey=AhVPNnFg1020t9FEr-MKVyPunnyCo98R7bAt5s-wSZOx, trying again...\n",
      "Error 16262186  400 Client Error: Bad Request for url: https://main.drpc.org/ogrpc?network=ethereum&dkey=AhVPNnFg1020t9FEr-MKVyPunnyCo98R7bAt5s-wSZOx, trying again...\n",
      "Error 16262186  400 Client Error: Bad Request for url: https://main.drpc.org/ogrpc?network=ethereum&dkey=AhVPNnFg1020t9FEr-MKVyPunnyCo98R7bAt5s-wSZOx, trying again...\n",
      "Error 16262186  400 Client Error: Bad Request for url: https://main.drpc.org/ogrpc?network=ethereum&dkey=AhVPNnFg1020t9FEr-MKVyPunnyCo98R7bAt5s-wSZOx, trying again...\n",
      "Error 16262186  400 Client Error: Bad Request for url: https://main.drpc.org/ogrpc?network=ethereum&dkey=AhVPNnFg1020t9FEr-MKVyPunnyCo98R7bAt5s-wSZOx, trying again...\n",
      "Error 16262186  400 Client Error: Bad Request for url: https://main.drpc.org/ogrpc?network=ethereum&dkey=AhVPNnFg1020t9FEr-MKVyPunnyCo98R7bAt5s-wSZOx, trying again...\n",
      "Error 16262186  400 Client Error: Bad Request for url: https://main.drpc.org/ogrpc?network=ethereum&dkey=AhVPNnFg1020t9FEr-MKVyPunnyCo98R7bAt5s-wSZOx, trying again...\n",
      "Error 16262186  {'message': 'No response or no available upstream for eth_getBalance', 'code': 1}, trying again...\n",
      "Error 16262186  400 Client Error: Bad Request for url: https://main.drpc.org/ogrpc?network=ethereum&dkey=AhVPNnFg1020t9FEr-MKVyPunnyCo98R7bAt5s-wSZOx, trying again...\n",
      "Error 16262186  400 Client Error: Bad Request for url: https://main.drpc.org/ogrpc?network=ethereum&dkey=AhVPNnFg1020t9FEr-MKVyPunnyCo98R7bAt5s-wSZOx, trying again...\n",
      "Error 16262186  400 Client Error: Bad Request for url: https://main.drpc.org/ogrpc?network=ethereum&dkey=AhVPNnFg1020t9FEr-MKVyPunnyCo98R7bAt5s-wSZOx, trying again...\n",
      "Error 16262186  400 Client Error: Bad Request for url: https://main.drpc.org/ogrpc?network=ethereum&dkey=AhVPNnFg1020t9FEr-MKVyPunnyCo98R7bAt5s-wSZOx, trying again...\n",
      "Error 16262186  400 Client Error: Bad Request for url: https://main.drpc.org/ogrpc?network=ethereum&dkey=AhVPNnFg1020t9FEr-MKVyPunnyCo98R7bAt5s-wSZOx, trying again...\n",
      "Error 16262186  400 Client Error: Bad Request for url: https://main.drpc.org/ogrpc?network=ethereum&dkey=AhVPNnFg1020t9FEr-MKVyPunnyCo98R7bAt5s-wSZOx, trying again...\n",
      "Error 16262186  400 Client Error: Bad Request for url: https://main.drpc.org/ogrpc?network=ethereum&dkey=AhVPNnFg1020t9FEr-MKVyPunnyCo98R7bAt5s-wSZOx, trying again...\n",
      "Error 16262186  400 Client Error: Bad Request for url: https://main.drpc.org/ogrpc?network=ethereum&dkey=AhVPNnFg1020t9FEr-MKVyPunnyCo98R7bAt5s-wSZOx, trying again...\n",
      "Error 16262186  400 Client Error: Bad Request for url: https://main.drpc.org/ogrpc?network=ethereum&dkey=AhVPNnFg1020t9FEr-MKVyPunnyCo98R7bAt5s-wSZOx, trying again...\n",
      "Error 16262186  400 Client Error: Bad Request for url: https://main.drpc.org/ogrpc?network=ethereum&dkey=AhVPNnFg1020t9FEr-MKVyPunnyCo98R7bAt5s-wSZOx, trying again...\n",
      "Error 16262186  400 Client Error: Bad Request for url: https://main.drpc.org/ogrpc?network=ethereum&dkey=AhVPNnFg1020t9FEr-MKVyPunnyCo98R7bAt5s-wSZOx, trying again...\n",
      "Error 16262186  400 Client Error: Bad Request for url: https://main.drpc.org/ogrpc?network=ethereum&dkey=AhVPNnFg1020t9FEr-MKVyPunnyCo98R7bAt5s-wSZOx, trying again...\n",
      "Error 16262186  400 Client Error: Bad Request for url: https://main.drpc.org/ogrpc?network=ethereum&dkey=AhVPNnFg1020t9FEr-MKVyPunnyCo98R7bAt5s-wSZOx, trying again...\n",
      "Error 16262186  400 Client Error: Bad Request for url: https://main.drpc.org/ogrpc?network=ethereum&dkey=AhVPNnFg1020t9FEr-MKVyPunnyCo98R7bAt5s-wSZOx, trying again...\n",
      "Error 16262186  {'message': 'No response or no available upstream for eth_getBalance', 'code': 1}, trying again...\n",
      "Error 16262186  400 Client Error: Bad Request for url: https://main.drpc.org/ogrpc?network=ethereum&dkey=AhVPNnFg1020t9FEr-MKVyPunnyCo98R7bAt5s-wSZOx, trying again...\n",
      "Error 16262186  400 Client Error: Bad Request for url: https://main.drpc.org/ogrpc?network=ethereum&dkey=AhVPNnFg1020t9FEr-MKVyPunnyCo98R7bAt5s-wSZOx, trying again...\n",
      "Error 16262186  400 Client Error: Bad Request for url: https://main.drpc.org/ogrpc?network=ethereum&dkey=AhVPNnFg1020t9FEr-MKVyPunnyCo98R7bAt5s-wSZOx, trying again...\n",
      "Error 16262186  400 Client Error: Bad Request for url: https://main.drpc.org/ogrpc?network=ethereum&dkey=AhVPNnFg1020t9FEr-MKVyPunnyCo98R7bAt5s-wSZOx, trying again...\n",
      "Error 16262186  400 Client Error: Bad Request for url: https://main.drpc.org/ogrpc?network=ethereum&dkey=AhVPNnFg1020t9FEr-MKVyPunnyCo98R7bAt5s-wSZOx, trying again...\n",
      "Error 16262186  400 Client Error: Bad Request for url: https://main.drpc.org/ogrpc?network=ethereum&dkey=AhVPNnFg1020t9FEr-MKVyPunnyCo98R7bAt5s-wSZOx, trying again...\n",
      "Error 16262186  400 Client Error: Bad Request for url: https://main.drpc.org/ogrpc?network=ethereum&dkey=AhVPNnFg1020t9FEr-MKVyPunnyCo98R7bAt5s-wSZOx, trying again...\n",
      "Error 16262186  400 Client Error: Bad Request for url: https://main.drpc.org/ogrpc?network=ethereum&dkey=AhVPNnFg1020t9FEr-MKVyPunnyCo98R7bAt5s-wSZOx, trying again...\n",
      "Error 16262186  400 Client Error: Bad Request for url: https://main.drpc.org/ogrpc?network=ethereum&dkey=AhVPNnFg1020t9FEr-MKVyPunnyCo98R7bAt5s-wSZOx, trying again...\n",
      "Error 16262186  400 Client Error: Bad Request for url: https://main.drpc.org/ogrpc?network=ethereum&dkey=AhVPNnFg1020t9FEr-MKVyPunnyCo98R7bAt5s-wSZOx, trying again...\n",
      "Error 16262186  400 Client Error: Bad Request for url: https://main.drpc.org/ogrpc?network=ethereum&dkey=AhVPNnFg1020t9FEr-MKVyPunnyCo98R7bAt5s-wSZOx, trying again...\n",
      "Error 16262186  400 Client Error: Bad Request for url: https://main.drpc.org/ogrpc?network=ethereum&dkey=AhVPNnFg1020t9FEr-MKVyPunnyCo98R7bAt5s-wSZOx, trying again...\n",
      "Error 16262186  400 Client Error: Bad Request for url: https://main.drpc.org/ogrpc?network=ethereum&dkey=AhVPNnFg1020t9FEr-MKVyPunnyCo98R7bAt5s-wSZOx, trying again...\n",
      "Error 16262186  400 Client Error: Bad Request for url: https://main.drpc.org/ogrpc?network=ethereum&dkey=AhVPNnFg1020t9FEr-MKVyPunnyCo98R7bAt5s-wSZOx, trying again...\n",
      "Error 16262186  400 Client Error: Bad Request for url: https://main.drpc.org/ogrpc?network=ethereum&dkey=AhVPNnFg1020t9FEr-MKVyPunnyCo98R7bAt5s-wSZOx, trying again...\n",
      "Error 16262186  400 Client Error: Bad Request for url: https://main.drpc.org/ogrpc?network=ethereum&dkey=AhVPNnFg1020t9FEr-MKVyPunnyCo98R7bAt5s-wSZOx, trying again...\n",
      "Error 16262186  400 Client Error: Bad Request for url: https://main.drpc.org/ogrpc?network=ethereum&dkey=AhVPNnFg1020t9FEr-MKVyPunnyCo98R7bAt5s-wSZOx, trying again...\n",
      "Error 16262186  400 Client Error: Bad Request for url: https://main.drpc.org/ogrpc?network=ethereum&dkey=AhVPNnFg1020t9FEr-MKVyPunnyCo98R7bAt5s-wSZOx, trying again...\n",
      "Error 16262186  400 Client Error: Bad Request for url: https://main.drpc.org/ogrpc?network=ethereum&dkey=AhVPNnFg1020t9FEr-MKVyPunnyCo98R7bAt5s-wSZOx, trying again...\n",
      "Error 16262186  400 Client Error: Bad Request for url: https://main.drpc.org/ogrpc?network=ethereum&dkey=AhVPNnFg1020t9FEr-MKVyPunnyCo98R7bAt5s-wSZOx, trying again...\n",
      "Error 16262186  400 Client Error: Bad Request for url: https://main.drpc.org/ogrpc?network=ethereum&dkey=AhVPNnFg1020t9FEr-MKVyPunnyCo98R7bAt5s-wSZOx, trying again...\n",
      "Error 16262186  400 Client Error: Bad Request for url: https://main.drpc.org/ogrpc?network=ethereum&dkey=AhVPNnFg1020t9FEr-MKVyPunnyCo98R7bAt5s-wSZOx, trying again...\n",
      "Error 16262186  400 Client Error: Bad Request for url: https://main.drpc.org/ogrpc?network=ethereum&dkey=AhVPNnFg1020t9FEr-MKVyPunnyCo98R7bAt5s-wSZOx, trying again...\n",
      "Error 16262186  400 Client Error: Bad Request for url: https://main.drpc.org/ogrpc?network=ethereum&dkey=AhVPNnFg1020t9FEr-MKVyPunnyCo98R7bAt5s-wSZOx, trying again...\n",
      "Error 16262186  400 Client Error: Bad Request for url: https://main.drpc.org/ogrpc?network=ethereum&dkey=AhVPNnFg1020t9FEr-MKVyPunnyCo98R7bAt5s-wSZOx, trying again...\n",
      "Error 16262186  400 Client Error: Bad Request for url: https://main.drpc.org/ogrpc?network=ethereum&dkey=AhVPNnFg1020t9FEr-MKVyPunnyCo98R7bAt5s-wSZOx, trying again...\n",
      "Error 16262186  400 Client Error: Bad Request for url: https://main.drpc.org/ogrpc?network=ethereum&dkey=AhVPNnFg1020t9FEr-MKVyPunnyCo98R7bAt5s-wSZOx, trying again...\n",
      "Error 16262186  400 Client Error: Bad Request for url: https://main.drpc.org/ogrpc?network=ethereum&dkey=AhVPNnFg1020t9FEr-MKVyPunnyCo98R7bAt5s-wSZOx, trying again...\n",
      "Error 16262186  400 Client Error: Bad Request for url: https://main.drpc.org/ogrpc?network=ethereum&dkey=AhVPNnFg1020t9FEr-MKVyPunnyCo98R7bAt5s-wSZOx, trying again...\n",
      "Error 16262186  400 Client Error: Bad Request for url: https://main.drpc.org/ogrpc?network=ethereum&dkey=AhVPNnFg1020t9FEr-MKVyPunnyCo98R7bAt5s-wSZOx, trying again...\n",
      "Error 16262186  400 Client Error: Bad Request for url: https://main.drpc.org/ogrpc?network=ethereum&dkey=AhVPNnFg1020t9FEr-MKVyPunnyCo98R7bAt5s-wSZOx, trying again...\n",
      "Error 16262186  400 Client Error: Bad Request for url: https://main.drpc.org/ogrpc?network=ethereum&dkey=AhVPNnFg1020t9FEr-MKVyPunnyCo98R7bAt5s-wSZOx, trying again...\n",
      "Error 16262186  400 Client Error: Bad Request for url: https://main.drpc.org/ogrpc?network=ethereum&dkey=AhVPNnFg1020t9FEr-MKVyPunnyCo98R7bAt5s-wSZOx, trying again...\n",
      "Error 16262186  400 Client Error: Bad Request for url: https://main.drpc.org/ogrpc?network=ethereum&dkey=AhVPNnFg1020t9FEr-MKVyPunnyCo98R7bAt5s-wSZOx, trying again...\n",
      "Error 16262186  400 Client Error: Bad Request for url: https://main.drpc.org/ogrpc?network=ethereum&dkey=AhVPNnFg1020t9FEr-MKVyPunnyCo98R7bAt5s-wSZOx, trying again...\n",
      "Error 16262186  400 Client Error: Bad Request for url: https://main.drpc.org/ogrpc?network=ethereum&dkey=AhVPNnFg1020t9FEr-MKVyPunnyCo98R7bAt5s-wSZOx, trying again...\n",
      "Error 16262186  400 Client Error: Bad Request for url: https://main.drpc.org/ogrpc?network=ethereum&dkey=AhVPNnFg1020t9FEr-MKVyPunnyCo98R7bAt5s-wSZOx, trying again...\n",
      "Error 16262186  400 Client Error: Bad Request for url: https://main.drpc.org/ogrpc?network=ethereum&dkey=AhVPNnFg1020t9FEr-MKVyPunnyCo98R7bAt5s-wSZOx, trying again...\n",
      "Error 16262186  400 Client Error: Bad Request for url: https://main.drpc.org/ogrpc?network=ethereum&dkey=AhVPNnFg1020t9FEr-MKVyPunnyCo98R7bAt5s-wSZOx, trying again...\n",
      "Error 16262186  400 Client Error: Bad Request for url: https://main.drpc.org/ogrpc?network=ethereum&dkey=AhVPNnFg1020t9FEr-MKVyPunnyCo98R7bAt5s-wSZOx, trying again...\n",
      "Error 16262186  400 Client Error: Bad Request for url: https://main.drpc.org/ogrpc?network=ethereum&dkey=AhVPNnFg1020t9FEr-MKVyPunnyCo98R7bAt5s-wSZOx, trying again...\n",
      "Error 16262186  400 Client Error: Bad Request for url: https://main.drpc.org/ogrpc?network=ethereum&dkey=AhVPNnFg1020t9FEr-MKVyPunnyCo98R7bAt5s-wSZOx, trying again...\n",
      "Error 16262186  400 Client Error: Bad Request for url: https://main.drpc.org/ogrpc?network=ethereum&dkey=AhVPNnFg1020t9FEr-MKVyPunnyCo98R7bAt5s-wSZOx, trying again...\n",
      "Error 16262186  400 Client Error: Bad Request for url: https://main.drpc.org/ogrpc?network=ethereum&dkey=AhVPNnFg1020t9FEr-MKVyPunnyCo98R7bAt5s-wSZOx, trying again...\n",
      "Error 16262186  400 Client Error: Bad Request for url: https://main.drpc.org/ogrpc?network=ethereum&dkey=AhVPNnFg1020t9FEr-MKVyPunnyCo98R7bAt5s-wSZOx, trying again...\n",
      "Error 16262186  400 Client Error: Bad Request for url: https://main.drpc.org/ogrpc?network=ethereum&dkey=AhVPNnFg1020t9FEr-MKVyPunnyCo98R7bAt5s-wSZOx, trying again...\n",
      "Error 16262186  400 Client Error: Bad Request for url: https://main.drpc.org/ogrpc?network=ethereum&dkey=AhVPNnFg1020t9FEr-MKVyPunnyCo98R7bAt5s-wSZOx, trying again...\n",
      "Error 16262186  400 Client Error: Bad Request for url: https://main.drpc.org/ogrpc?network=ethereum&dkey=AhVPNnFg1020t9FEr-MKVyPunnyCo98R7bAt5s-wSZOx, trying again...\n",
      "Error 16262186  400 Client Error: Bad Request for url: https://main.drpc.org/ogrpc?network=ethereum&dkey=AhVPNnFg1020t9FEr-MKVyPunnyCo98R7bAt5s-wSZOx, trying again...\n",
      "Error 16262186  400 Client Error: Bad Request for url: https://main.drpc.org/ogrpc?network=ethereum&dkey=AhVPNnFg1020t9FEr-MKVyPunnyCo98R7bAt5s-wSZOx, trying again...\n",
      "Error 16262186  400 Client Error: Bad Request for url: https://main.drpc.org/ogrpc?network=ethereum&dkey=AhVPNnFg1020t9FEr-MKVyPunnyCo98R7bAt5s-wSZOx, trying again...\n",
      "Error 16262186  400 Client Error: Bad Request for url: https://main.drpc.org/ogrpc?network=ethereum&dkey=AhVPNnFg1020t9FEr-MKVyPunnyCo98R7bAt5s-wSZOx, trying again...\n",
      "Error 16262186  400 Client Error: Bad Request for url: https://main.drpc.org/ogrpc?network=ethereum&dkey=AhVPNnFg1020t9FEr-MKVyPunnyCo98R7bAt5s-wSZOx, trying again...\n",
      "Error 16262186  400 Client Error: Bad Request for url: https://main.drpc.org/ogrpc?network=ethereum&dkey=AhVPNnFg1020t9FEr-MKVyPunnyCo98R7bAt5s-wSZOx, trying again...\n",
      "Error 16262186  400 Client Error: Bad Request for url: https://main.drpc.org/ogrpc?network=ethereum&dkey=AhVPNnFg1020t9FEr-MKVyPunnyCo98R7bAt5s-wSZOx, trying again...\n",
      "Error 16262186  400 Client Error: Bad Request for url: https://main.drpc.org/ogrpc?network=ethereum&dkey=AhVPNnFg1020t9FEr-MKVyPunnyCo98R7bAt5s-wSZOx, trying again...\n",
      "Error 16262186  400 Client Error: Bad Request for url: https://main.drpc.org/ogrpc?network=ethereum&dkey=AhVPNnFg1020t9FEr-MKVyPunnyCo98R7bAt5s-wSZOx, trying again...\n",
      "Error 16262186  400 Client Error: Bad Request for url: https://main.drpc.org/ogrpc?network=ethereum&dkey=AhVPNnFg1020t9FEr-MKVyPunnyCo98R7bAt5s-wSZOx, trying again...\n",
      "Error 16262186  400 Client Error: Bad Request for url: https://main.drpc.org/ogrpc?network=ethereum&dkey=AhVPNnFg1020t9FEr-MKVyPunnyCo98R7bAt5s-wSZOx, trying again...\n",
      "Error 16262186  400 Client Error: Bad Request for url: https://main.drpc.org/ogrpc?network=ethereum&dkey=AhVPNnFg1020t9FEr-MKVyPunnyCo98R7bAt5s-wSZOx, trying again...\n",
      "Error 16262186  400 Client Error: Bad Request for url: https://main.drpc.org/ogrpc?network=ethereum&dkey=AhVPNnFg1020t9FEr-MKVyPunnyCo98R7bAt5s-wSZOx, trying again...\n",
      "Error 16262186  400 Client Error: Bad Request for url: https://main.drpc.org/ogrpc?network=ethereum&dkey=AhVPNnFg1020t9FEr-MKVyPunnyCo98R7bAt5s-wSZOx, trying again...\n",
      "Error 16262186  400 Client Error: Bad Request for url: https://main.drpc.org/ogrpc?network=ethereum&dkey=AhVPNnFg1020t9FEr-MKVyPunnyCo98R7bAt5s-wSZOx, trying again...\n",
      "Error 16262186  400 Client Error: Bad Request for url: https://main.drpc.org/ogrpc?network=ethereum&dkey=AhVPNnFg1020t9FEr-MKVyPunnyCo98R7bAt5s-wSZOx, trying again...\n",
      "Error 16262186  400 Client Error: Bad Request for url: https://main.drpc.org/ogrpc?network=ethereum&dkey=AhVPNnFg1020t9FEr-MKVyPunnyCo98R7bAt5s-wSZOx, trying again...\n",
      "Error 16262186  400 Client Error: Bad Request for url: https://main.drpc.org/ogrpc?network=ethereum&dkey=AhVPNnFg1020t9FEr-MKVyPunnyCo98R7bAt5s-wSZOx, trying again...\n",
      "Error 16262186  400 Client Error: Bad Request for url: https://main.drpc.org/ogrpc?network=ethereum&dkey=AhVPNnFg1020t9FEr-MKVyPunnyCo98R7bAt5s-wSZOx, trying again...\n",
      "Error 16262186  400 Client Error: Bad Request for url: https://main.drpc.org/ogrpc?network=ethereum&dkey=AhVPNnFg1020t9FEr-MKVyPunnyCo98R7bAt5s-wSZOx, trying again...\n",
      "Error 16262186  400 Client Error: Bad Request for url: https://main.drpc.org/ogrpc?network=ethereum&dkey=AhVPNnFg1020t9FEr-MKVyPunnyCo98R7bAt5s-wSZOx, trying again...\n",
      "Error 16262186  400 Client Error: Bad Request for url: https://main.drpc.org/ogrpc?network=ethereum&dkey=AhVPNnFg1020t9FEr-MKVyPunnyCo98R7bAt5s-wSZOx, trying again...\n",
      "Error 16262186  400 Client Error: Bad Request for url: https://main.drpc.org/ogrpc?network=ethereum&dkey=AhVPNnFg1020t9FEr-MKVyPunnyCo98R7bAt5s-wSZOx, trying again...\n",
      "Error 16262186  400 Client Error: Bad Request for url: https://main.drpc.org/ogrpc?network=ethereum&dkey=AhVPNnFg1020t9FEr-MKVyPunnyCo98R7bAt5s-wSZOx, trying again...\n",
      "Error 16262186  400 Client Error: Bad Request for url: https://main.drpc.org/ogrpc?network=ethereum&dkey=AhVPNnFg1020t9FEr-MKVyPunnyCo98R7bAt5s-wSZOx, trying again...\n",
      "Error 16262186  400 Client Error: Bad Request for url: https://main.drpc.org/ogrpc?network=ethereum&dkey=AhVPNnFg1020t9FEr-MKVyPunnyCo98R7bAt5s-wSZOx, trying again...\n",
      "Error 16262186  400 Client Error: Bad Request for url: https://main.drpc.org/ogrpc?network=ethereum&dkey=AhVPNnFg1020t9FEr-MKVyPunnyCo98R7bAt5s-wSZOx, trying again...\n",
      "Error 16262186  400 Client Error: Bad Request for url: https://main.drpc.org/ogrpc?network=ethereum&dkey=AhVPNnFg1020t9FEr-MKVyPunnyCo98R7bAt5s-wSZOx, trying again...\n",
      "Error 16262186  400 Client Error: Bad Request for url: https://main.drpc.org/ogrpc?network=ethereum&dkey=AhVPNnFg1020t9FEr-MKVyPunnyCo98R7bAt5s-wSZOx, trying again...\n",
      "Error 16262186  400 Client Error: Bad Request for url: https://main.drpc.org/ogrpc?network=ethereum&dkey=AhVPNnFg1020t9FEr-MKVyPunnyCo98R7bAt5s-wSZOx, trying again...\n",
      "Error 16262186  400 Client Error: Bad Request for url: https://main.drpc.org/ogrpc?network=ethereum&dkey=AhVPNnFg1020t9FEr-MKVyPunnyCo98R7bAt5s-wSZOx, trying again...\n",
      "Error 16262186  400 Client Error: Bad Request for url: https://main.drpc.org/ogrpc?network=ethereum&dkey=AhVPNnFg1020t9FEr-MKVyPunnyCo98R7bAt5s-wSZOx, trying again...\n",
      "Error 16262186  400 Client Error: Bad Request for url: https://main.drpc.org/ogrpc?network=ethereum&dkey=AhVPNnFg1020t9FEr-MKVyPunnyCo98R7bAt5s-wSZOx, trying again...\n",
      "Error 16262186  400 Client Error: Bad Request for url: https://main.drpc.org/ogrpc?network=ethereum&dkey=AhVPNnFg1020t9FEr-MKVyPunnyCo98R7bAt5s-wSZOx, trying again...\n",
      "Error 16262186  400 Client Error: Bad Request for url: https://main.drpc.org/ogrpc?network=ethereum&dkey=AhVPNnFg1020t9FEr-MKVyPunnyCo98R7bAt5s-wSZOx, trying again...\n",
      "Error 16262186  400 Client Error: Bad Request for url: https://main.drpc.org/ogrpc?network=ethereum&dkey=AhVPNnFg1020t9FEr-MKVyPunnyCo98R7bAt5s-wSZOx, trying again...\n",
      "Error 16262186  400 Client Error: Bad Request for url: https://main.drpc.org/ogrpc?network=ethereum&dkey=AhVPNnFg1020t9FEr-MKVyPunnyCo98R7bAt5s-wSZOx, trying again...\n",
      "Error 16262186  400 Client Error: Bad Request for url: https://main.drpc.org/ogrpc?network=ethereum&dkey=AhVPNnFg1020t9FEr-MKVyPunnyCo98R7bAt5s-wSZOx, trying again...\n",
      "Error 16262186  400 Client Error: Bad Request for url: https://main.drpc.org/ogrpc?network=ethereum&dkey=AhVPNnFg1020t9FEr-MKVyPunnyCo98R7bAt5s-wSZOx, trying again...\n",
      "Error 16262186  400 Client Error: Bad Request for url: https://main.drpc.org/ogrpc?network=ethereum&dkey=AhVPNnFg1020t9FEr-MKVyPunnyCo98R7bAt5s-wSZOx, trying again...\n",
      "Error 16262186  400 Client Error: Bad Request for url: https://main.drpc.org/ogrpc?network=ethereum&dkey=AhVPNnFg1020t9FEr-MKVyPunnyCo98R7bAt5s-wSZOx, trying again...\n",
      "Error 16262186  400 Client Error: Bad Request for url: https://main.drpc.org/ogrpc?network=ethereum&dkey=AhVPNnFg1020t9FEr-MKVyPunnyCo98R7bAt5s-wSZOx, trying again...\n",
      "Error 16262186  400 Client Error: Bad Request for url: https://main.drpc.org/ogrpc?network=ethereum&dkey=AhVPNnFg1020t9FEr-MKVyPunnyCo98R7bAt5s-wSZOx, trying again...\n",
      "Error 16262186  400 Client Error: Bad Request for url: https://main.drpc.org/ogrpc?network=ethereum&dkey=AhVPNnFg1020t9FEr-MKVyPunnyCo98R7bAt5s-wSZOx, trying again...\n",
      "Error 16262186  400 Client Error: Bad Request for url: https://main.drpc.org/ogrpc?network=ethereum&dkey=AhVPNnFg1020t9FEr-MKVyPunnyCo98R7bAt5s-wSZOx, trying again...\n",
      "Error 16262186  400 Client Error: Bad Request for url: https://main.drpc.org/ogrpc?network=ethereum&dkey=AhVPNnFg1020t9FEr-MKVyPunnyCo98R7bAt5s-wSZOx, trying again...\n",
      "Error 16262186  400 Client Error: Bad Request for url: https://main.drpc.org/ogrpc?network=ethereum&dkey=AhVPNnFg1020t9FEr-MKVyPunnyCo98R7bAt5s-wSZOx, trying again...\n",
      "Error 16262186  400 Client Error: Bad Request for url: https://main.drpc.org/ogrpc?network=ethereum&dkey=AhVPNnFg1020t9FEr-MKVyPunnyCo98R7bAt5s-wSZOx, trying again...\n"
     ]
    },
    {
     "name": "stderr",
     "output_type": "stream",
     "text": [
      "  7%|█████▏                                                                | 490/6594 [73:48:45<297:53:07, 175.69s/it]"
     ]
    },
    {
     "name": "stdout",
     "output_type": "stream",
     "text": [
      "Error 16262417  400 Client Error: Bad Request for url: https://main.drpc.org/ogrpc?network=ethereum&dkey=AhVPNnFg1020t9FEr-MKVyPunnyCo98R7bAt5s-wSZOx, trying again...\n",
      "Error 16262417  400 Client Error: Bad Request for url: https://main.drpc.org/ogrpc?network=ethereum&dkey=AhVPNnFg1020t9FEr-MKVyPunnyCo98R7bAt5s-wSZOx, trying again...\n",
      "Error 16262417  400 Client Error: Bad Request for url: https://main.drpc.org/ogrpc?network=ethereum&dkey=AhVPNnFg1020t9FEr-MKVyPunnyCo98R7bAt5s-wSZOx, trying again...\n",
      "Error 16262417  400 Client Error: Bad Request for url: https://main.drpc.org/ogrpc?network=ethereum&dkey=AhVPNnFg1020t9FEr-MKVyPunnyCo98R7bAt5s-wSZOx, trying again...\n",
      "Error 16262417  400 Client Error: Bad Request for url: https://main.drpc.org/ogrpc?network=ethereum&dkey=AhVPNnFg1020t9FEr-MKVyPunnyCo98R7bAt5s-wSZOx, trying again...\n",
      "Error 16262417  400 Client Error: Bad Request for url: https://main.drpc.org/ogrpc?network=ethereum&dkey=AhVPNnFg1020t9FEr-MKVyPunnyCo98R7bAt5s-wSZOx, trying again...\n",
      "Error 16262417  400 Client Error: Bad Request for url: https://main.drpc.org/ogrpc?network=ethereum&dkey=AhVPNnFg1020t9FEr-MKVyPunnyCo98R7bAt5s-wSZOx, trying again...\n",
      "Error 16262417  400 Client Error: Bad Request for url: https://main.drpc.org/ogrpc?network=ethereum&dkey=AhVPNnFg1020t9FEr-MKVyPunnyCo98R7bAt5s-wSZOx, trying again...\n",
      "Error 16262417  400 Client Error: Bad Request for url: https://main.drpc.org/ogrpc?network=ethereum&dkey=AhVPNnFg1020t9FEr-MKVyPunnyCo98R7bAt5s-wSZOx, trying again...\n",
      "Error 16262417  400 Client Error: Bad Request for url: https://main.drpc.org/ogrpc?network=ethereum&dkey=AhVPNnFg1020t9FEr-MKVyPunnyCo98R7bAt5s-wSZOx, trying again...\n",
      "Error 16262417  400 Client Error: Bad Request for url: https://main.drpc.org/ogrpc?network=ethereum&dkey=AhVPNnFg1020t9FEr-MKVyPunnyCo98R7bAt5s-wSZOx, trying again...\n",
      "Error 16262417  400 Client Error: Bad Request for url: https://main.drpc.org/ogrpc?network=ethereum&dkey=AhVPNnFg1020t9FEr-MKVyPunnyCo98R7bAt5s-wSZOx, trying again...\n",
      "Error 16262417  400 Client Error: Bad Request for url: https://main.drpc.org/ogrpc?network=ethereum&dkey=AhVPNnFg1020t9FEr-MKVyPunnyCo98R7bAt5s-wSZOx, trying again...\n",
      "Error 16262417  {'message': 'No state available for block 0x4c1e6d1522ac4a1a5ee2d8aa0d98520a8b5eb8a057f3855ae2d012d2bb6f1b24', 'code': 1}, trying again...\n",
      "Error 16262417  {'message': 'No state available for block 0x4c1e6d1522ac4a1a5ee2d8aa0d98520a8b5eb8a057f3855ae2d012d2bb6f1b24', 'code': 1}, trying again...\n",
      "Error 16262417  {'message': 'Internal server error', 'code': 3}, trying again...\n",
      "Error 16262417  400 Client Error: Bad Request for url: https://main.drpc.org/ogrpc?network=ethereum&dkey=AhVPNnFg1020t9FEr-MKVyPunnyCo98R7bAt5s-wSZOx, trying again...\n",
      "Error 16262417  400 Client Error: Bad Request for url: https://main.drpc.org/ogrpc?network=ethereum&dkey=AhVPNnFg1020t9FEr-MKVyPunnyCo98R7bAt5s-wSZOx, trying again...\n",
      "Error 16262417  400 Client Error: Bad Request for url: https://main.drpc.org/ogrpc?network=ethereum&dkey=AhVPNnFg1020t9FEr-MKVyPunnyCo98R7bAt5s-wSZOx, trying again...\n",
      "Error 16262417  400 Client Error: Bad Request for url: https://main.drpc.org/ogrpc?network=ethereum&dkey=AhVPNnFg1020t9FEr-MKVyPunnyCo98R7bAt5s-wSZOx, trying again...\n",
      "Error 16262417  400 Client Error: Bad Request for url: https://main.drpc.org/ogrpc?network=ethereum&dkey=AhVPNnFg1020t9FEr-MKVyPunnyCo98R7bAt5s-wSZOx, trying again...\n",
      "Error 16262417  400 Client Error: Bad Request for url: https://main.drpc.org/ogrpc?network=ethereum&dkey=AhVPNnFg1020t9FEr-MKVyPunnyCo98R7bAt5s-wSZOx, trying again...\n",
      "Error 16262417  400 Client Error: Bad Request for url: https://main.drpc.org/ogrpc?network=ethereum&dkey=AhVPNnFg1020t9FEr-MKVyPunnyCo98R7bAt5s-wSZOx, trying again...\n",
      "Error 16262417  400 Client Error: Bad Request for url: https://main.drpc.org/ogrpc?network=ethereum&dkey=AhVPNnFg1020t9FEr-MKVyPunnyCo98R7bAt5s-wSZOx, trying again...\n",
      "Error 16262417  400 Client Error: Bad Request for url: https://main.drpc.org/ogrpc?network=ethereum&dkey=AhVPNnFg1020t9FEr-MKVyPunnyCo98R7bAt5s-wSZOx, trying again...\n",
      "Error 16262417  400 Client Error: Bad Request for url: https://main.drpc.org/ogrpc?network=ethereum&dkey=AhVPNnFg1020t9FEr-MKVyPunnyCo98R7bAt5s-wSZOx, trying again...\n",
      "Error 16262417  400 Client Error: Bad Request for url: https://main.drpc.org/ogrpc?network=ethereum&dkey=AhVPNnFg1020t9FEr-MKVyPunnyCo98R7bAt5s-wSZOx, trying again...\n",
      "Error 16262417  400 Client Error: Bad Request for url: https://main.drpc.org/ogrpc?network=ethereum&dkey=AhVPNnFg1020t9FEr-MKVyPunnyCo98R7bAt5s-wSZOx, trying again...\n",
      "Error 16262417  {'message': 'No state available for block 0x4c1e6d1522ac4a1a5ee2d8aa0d98520a8b5eb8a057f3855ae2d012d2bb6f1b24', 'code': 1}, trying again...\n",
      "Error 16262417  {'message': 'No state available for block 0x4c1e6d1522ac4a1a5ee2d8aa0d98520a8b5eb8a057f3855ae2d012d2bb6f1b24', 'code': 1}, trying again...\n"
     ]
    },
    {
     "name": "stderr",
     "output_type": "stream",
     "text": [
      "  7%|█████▏                                                                | 493/6594 [73:57:21<293:57:11, 173.45s/it]"
     ]
    },
    {
     "name": "stdout",
     "output_type": "stream",
     "text": [
      "Error 16262518  {'message': 'No state available for block 0xf8ad4c85990b77947a48cf0b91e6c6eff8183fcd0e11af10e0f500dc63b47ed8', 'code': 1}, trying again...\n"
     ]
    },
    {
     "name": "stderr",
     "output_type": "stream",
     "text": [
      "  9%|██████▏                                                               | 586/6594 [84:23:35<243:07:17, 145.68s/it]"
     ]
    }
   ],
   "source": [
    "for b_number in tqdm.tqdm([n for n in interesting_blocks if n >= 16253260]):\n",
    "    block_ts = blocks_info[b_number]['timestamp']\n",
    "    baseFeePerGas = blocks_info[b_number]['baseFeePerGas'] / 10 ** 9\n",
    "\n",
    "    current_block_tx, next_block_tx, after_next_block_tx =  divide_mempool_to_three_parts(\n",
    "        b_number, tr_data, w3)\n",
    "\n",
    "    not_included = pd.concat([current_block_tx, next_block_tx, after_next_block_tx])\n",
    "    addresses = not_included['from'].unique()\n",
    "\n",
    "    # Fetch and save account details\n",
    "    account_details = {}\n",
    "\n",
    "    for addr in addresses:\n",
    "        fetched = False\n",
    "        while not fetched:\n",
    "            try:\n",
    "                account_balance = w3_drpc.eth.get_balance(addr, b_number - 1) / 10 ** 18\n",
    "                n_account_transactions = w3_drpc.eth.get_transaction_count(addr, b_number - 1)\n",
    "                fetched = True\n",
    "            except Exception as e:\n",
    "                print(f'Error {b_number}  {e}, trying again...') \n",
    "        account_details[addr] = {\n",
    "            'tx_count': n_account_transactions,\n",
    "            'account_balance': account_balance\n",
    "        }\n",
    "    with open(f'../block_addresses_details/block_{b_number}_address_details.pickle', 'wb') as f:\n",
    "        pickle.dump(account_details, f)"
   ]
  },
  {
   "cell_type": "code",
   "execution_count": null,
   "id": "27d4ff18-aa05-43ec-b3e9-4697f6019111",
   "metadata": {},
   "outputs": [],
   "source": []
  }
 ],
 "metadata": {
  "kernelspec": {
   "display_name": "Python 3 (ipykernel)",
   "language": "python",
   "name": "python3"
  },
  "language_info": {
   "codemirror_mode": {
    "name": "ipython",
    "version": 3
   },
   "file_extension": ".py",
   "mimetype": "text/x-python",
   "name": "python",
   "nbconvert_exporter": "python",
   "pygments_lexer": "ipython3",
   "version": "3.10.9"
  }
 },
 "nbformat": 4,
 "nbformat_minor": 5
}
