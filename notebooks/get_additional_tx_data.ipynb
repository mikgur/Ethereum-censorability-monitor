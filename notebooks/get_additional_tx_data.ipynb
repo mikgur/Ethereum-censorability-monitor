{
 "cells": [
  {
   "cell_type": "code",
   "execution_count": 1,
   "id": "4289ba45-a4dd-403b-aa8b-aa917bfab0ef",
   "metadata": {},
   "outputs": [
    {
     "name": "stdout",
     "output_type": "stream",
     "text": [
      "Latest Ethereum block number 16535422\n"
     ]
    }
   ],
   "source": [
    "from web3 import Web3, IPCProvider\n",
    "\n",
    "geth_ipc = '/media/Warehouse/Warehouse/Ethereum/data/.ethereum/geth.ipc'\n",
    "w3 = Web3(IPCProvider(geth_ipc))\n",
    "# Check\n",
    "print (\"Latest Ethereum block number\" , w3.eth.blockNumber)"
   ]
  },
  {
   "cell_type": "code",
   "execution_count": 2,
   "id": "f4db4bdc-13e5-4ba8-a6fa-5c8069135f4c",
   "metadata": {},
   "outputs": [],
   "source": [
    "import pickle\n",
    "\n",
    "import pandas as pd\n",
    "import tqdm"
   ]
  },
  {
   "cell_type": "code",
   "execution_count": 3,
   "id": "c07887bf-e968-4403-b5ad-0fd38c13fd50",
   "metadata": {},
   "outputs": [
    {
     "data": {
      "text/html": [
       "<div>\n",
       "<style scoped>\n",
       "    .dataframe tbody tr th:only-of-type {\n",
       "        vertical-align: middle;\n",
       "    }\n",
       "\n",
       "    .dataframe tbody tr th {\n",
       "        vertical-align: top;\n",
       "    }\n",
       "\n",
       "    .dataframe thead th {\n",
       "        text-align: right;\n",
       "    }\n",
       "</style>\n",
       "<table border=\"1\" class=\"dataframe\">\n",
       "  <thead>\n",
       "    <tr style=\"text-align: right;\">\n",
       "      <th></th>\n",
       "      <th>tx_hash</th>\n",
       "    </tr>\n",
       "  </thead>\n",
       "  <tbody>\n",
       "    <tr>\n",
       "      <th>0</th>\n",
       "      <td>0x14e970dba71ef93b42f337d3494c4d6e8fee4d83ce38...</td>\n",
       "    </tr>\n",
       "    <tr>\n",
       "      <th>1</th>\n",
       "      <td>0x33fcc824c05553a3ec31a7d71dc6dbb26cf51d608009...</td>\n",
       "    </tr>\n",
       "    <tr>\n",
       "      <th>2</th>\n",
       "      <td>0x555ffb08812804e23fe18467886edaa167f502488c6b...</td>\n",
       "    </tr>\n",
       "    <tr>\n",
       "      <th>3</th>\n",
       "      <td>0x9febfdc63677cd0decb532cb049004add2959d7f1a1f...</td>\n",
       "    </tr>\n",
       "    <tr>\n",
       "      <th>4</th>\n",
       "      <td>0xe24c2fb8e8d581d86710a0ca685e27ed6c36ca722d8e...</td>\n",
       "    </tr>\n",
       "  </tbody>\n",
       "</table>\n",
       "</div>"
      ],
      "text/plain": [
       "                                             tx_hash\n",
       "0  0x14e970dba71ef93b42f337d3494c4d6e8fee4d83ce38...\n",
       "1  0x33fcc824c05553a3ec31a7d71dc6dbb26cf51d608009...\n",
       "2  0x555ffb08812804e23fe18467886edaa167f502488c6b...\n",
       "3  0x9febfdc63677cd0decb532cb049004add2959d7f1a1f...\n",
       "4  0xe24c2fb8e8d581d86710a0ca685e27ed6c36ca722d8e..."
      ]
     },
     "execution_count": 3,
     "metadata": {},
     "output_type": "execute_result"
    }
   ],
   "source": [
    "tr_data = pd.read_csv('data/merged_221220_221231_with_contracts.csv', usecols=['tx_hash'])\n",
    "tr_data.head()"
   ]
  },
  {
   "cell_type": "code",
   "execution_count": null,
   "id": "8bb2f8f5-83a1-45ef-a447-9ffe60f4f095",
   "metadata": {},
   "outputs": [
    {
     "name": "stderr",
     "output_type": "stream",
     "text": [
      " 92%|███████████████████████████████████████████████████████████▉     | 10639182/11527423 [11:50:16<47:04, 314.51it/s]"
     ]
    }
   ],
   "source": [
    "# Получим данные о газе для каждой транзакции\n",
    "\n",
    "additional_tx_data = {}\n",
    "\n",
    "for i, tx_hash in tqdm.tqdm(enumerate(tr_data['tx_hash']), total=len(tr_data)):\n",
    "    tx = w3.eth.get_transaction(tx_hash)\n",
    "    tx_receipt = w3.eth.get_transaction_receipt(tx_hash)\n",
    "    additional_tx_data[tx_hash] = {\n",
    "        'maxFeePerGas': tx.get('maxFeePerGas', 0),\n",
    "        'maxPriorityFeePerGas': tx.get('maxPriorityFeePerGas', 0),\n",
    "        'gasUsed': tx_receipt['gasUsed'],\n",
    "        'effectiveGasPrice': tx_receipt['effectiveGasPrice']\n",
    "    }\n",
    "    if i % 100000 == 0:\n",
    "        with open('additional_tx_data.pickle', 'wb') as f:\n",
    "            pickle.dump(additional_tx_data, f)"
   ]
  },
  {
   "cell_type": "code",
   "execution_count": 9,
   "id": "62a76f2c-d6fa-4b7c-b6ca-376e0fb28027",
   "metadata": {},
   "outputs": [],
   "source": [
    "with open('additional_tx_data.pickle', 'wb') as f:\n",
    "            pickle.dump(additional_tx_data, f)"
   ]
  },
  {
   "cell_type": "code",
   "execution_count": 12,
   "id": "3005cb7c-060d-48a0-9181-96c5df4764c4",
   "metadata": {},
   "outputs": [
    {
     "name": "stderr",
     "output_type": "stream",
     "text": [
      "100%|████████████████████████████████████████████████████████████████| 11527423/11527423 [00:04<00:00, 2753343.53it/s]\n"
     ]
    }
   ],
   "source": [
    "for i, tx_hash in tqdm.tqdm(enumerate(tr_data['tx_hash']), total=len(tr_data)):\n",
    "    if tx_hash in additional_tx_data:\n",
    "        continue\n",
    "    tx = w3.eth.get_transaction(tx_hash)\n",
    "    tx_receipt = w3.eth.get_transaction_receipt(tx_hash)\n",
    "    additional_tx_data[tx_hash] = {\n",
    "        'maxFeePerGas': tx.get('maxFeePerGas', 0),\n",
    "        'maxPriorityFeePerGas': tx.get('maxPriorityFeePerGas', 0),\n",
    "        'gasUsed': tx_receipt['gasUsed'],\n",
    "        'effectiveGasPrice': tx_receipt['effectiveGasPrice']\n",
    "    }\n",
    "with open('additional_tx_data.pickle', 'wb') as f:\n",
    "    pickle.dump(additional_tx_data, f)"
   ]
  },
  {
   "cell_type": "code",
   "execution_count": 8,
   "id": "8cccbe60-ccd4-4f74-96d4-8db4fe2af6c3",
   "metadata": {},
   "outputs": [
    {
     "name": "stderr",
     "output_type": "stream",
     "text": [
      "100%|█████████████████████████████████████████████████████████████████| 11527306/11527306 [12:33:09<00:00, 255.09it/s]\n"
     ]
    }
   ],
   "source": [
    "# Получим nonce\n",
    "\n",
    "additional_tx_data = {}\n",
    "\n",
    "for i, tx_hash in tqdm.tqdm(enumerate(tr_data['tx_hash']), total=len(tr_data)):\n",
    "    tx = w3.eth.get_transaction(tx_hash)\n",
    "    tx_receipt = w3.eth.get_transaction_receipt(tx_hash)\n",
    "    additional_tx_data[tx_hash] = {\n",
    "        'nonce': tx['nonce']\n",
    "    }\n",
    "    if i % 100000 == 0:\n",
    "        with open('additional_tx_data_nonce.pickle', 'wb') as f:\n",
    "            pickle.dump(additional_tx_data, f)"
   ]
  },
  {
   "cell_type": "code",
   "execution_count": 9,
   "id": "41c07f4c-8ff4-4a95-a002-e50e03526739",
   "metadata": {},
   "outputs": [],
   "source": [
    "with open('additional_tx_data_nonce.pickle', 'wb') as f:\n",
    "            pickle.dump(additional_tx_data, f)"
   ]
  },
  {
   "cell_type": "code",
   "execution_count": null,
   "id": "cfb869bc-8017-48e1-be51-c779fa1dbfbc",
   "metadata": {},
   "outputs": [],
   "source": []
  }
 ],
 "metadata": {
  "kernelspec": {
   "display_name": "Python 3 (ipykernel)",
   "language": "python",
   "name": "python3"
  },
  "language_info": {
   "codemirror_mode": {
    "name": "ipython",
    "version": 3
   },
   "file_extension": ".py",
   "mimetype": "text/x-python",
   "name": "python",
   "nbconvert_exporter": "python",
   "pygments_lexer": "ipython3",
   "version": "3.10.9"
  }
 },
 "nbformat": 4,
 "nbformat_minor": 5
}
