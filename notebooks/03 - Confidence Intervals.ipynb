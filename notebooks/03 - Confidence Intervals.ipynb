{
 "cells": [
  {
   "cell_type": "code",
   "execution_count": 44,
   "id": "72c4982e-38fd-4e2d-8194-3349167f45a3",
   "metadata": {},
   "outputs": [],
   "source": [
    "import numpy as np\n",
    "import pandas as pd\n",
    "\n",
    "from matplotlib import pyplot as plt\n",
    "import seaborn as sns\n",
    "sns.set_theme()"
   ]
  },
  {
   "cell_type": "code",
   "execution_count": 2,
   "id": "bfb852e7-4b34-43d2-9843-026e43d5b7a3",
   "metadata": {},
   "outputs": [
    {
     "data": {
      "text/html": [
       "<div>\n",
       "<style scoped>\n",
       "    .dataframe tbody tr th:only-of-type {\n",
       "        vertical-align: middle;\n",
       "    }\n",
       "\n",
       "    .dataframe tbody tr th {\n",
       "        vertical-align: top;\n",
       "    }\n",
       "\n",
       "    .dataframe thead th {\n",
       "        text-align: right;\n",
       "    }\n",
       "</style>\n",
       "<table border=\"1\" class=\"dataframe\">\n",
       "  <thead>\n",
       "    <tr style=\"text-align: right;\">\n",
       "      <th></th>\n",
       "      <th>tx_hash</th>\n",
       "      <th>from</th>\n",
       "      <th>to</th>\n",
       "      <th>gas</th>\n",
       "      <th>gasPrice</th>\n",
       "      <th>blockNumber</th>\n",
       "      <th>timestamp_x</th>\n",
       "      <th>miner</th>\n",
       "      <th>timestamp_y</th>\n",
       "      <th>waiting</th>\n",
       "      <th>...</th>\n",
       "      <th>eth_hour</th>\n",
       "      <th>is_contract_transaction</th>\n",
       "      <th>baseFeePerGas</th>\n",
       "      <th>wait_time_adjusted</th>\n",
       "      <th>is_ofac</th>\n",
       "      <th>priority_fee</th>\n",
       "      <th>maxFeePerGas</th>\n",
       "      <th>maxPriorityFeePerGas</th>\n",
       "      <th>gasUsed</th>\n",
       "      <th>effectiveGasPrice</th>\n",
       "    </tr>\n",
       "  </thead>\n",
       "  <tbody>\n",
       "    <tr>\n",
       "      <th>0</th>\n",
       "      <td>0x14e970dba71ef93b42f337d3494c4d6e8fee4d83ce38...</td>\n",
       "      <td>0x498B859D2e59958E209d7DD262324C8D31b12B12</td>\n",
       "      <td>0xC1E088fC1323b20BCBee9bd1B9fC9546db5624C5</td>\n",
       "      <td>242494</td>\n",
       "      <td>117.114005</td>\n",
       "      <td>16221291</td>\n",
       "      <td>1671483611</td>\n",
       "      <td>0x690B9A9E9aa1C9dB991C7721a92d351Db4FaC990</td>\n",
       "      <td>NaN</td>\n",
       "      <td>NaN</td>\n",
       "      <td>...</td>\n",
       "      <td>2022-12-19 21:00:00</td>\n",
       "      <td>True</td>\n",
       "      <td>17.248596</td>\n",
       "      <td>0.0</td>\n",
       "      <td>False</td>\n",
       "      <td>99.865409</td>\n",
       "      <td>117114004578</td>\n",
       "      <td>117114004578</td>\n",
       "      <td>189564</td>\n",
       "      <td>117114004578</td>\n",
       "    </tr>\n",
       "    <tr>\n",
       "      <th>1</th>\n",
       "      <td>0x33fcc824c05553a3ec31a7d71dc6dbb26cf51d608009...</td>\n",
       "      <td>0x07B873DE48807ec7B02B38cc31b4f96a6A507182</td>\n",
       "      <td>0x883B01205b938EC7268286d13Cb40a2045D2E78F</td>\n",
       "      <td>800000</td>\n",
       "      <td>23.932889</td>\n",
       "      <td>16221291</td>\n",
       "      <td>1671483611</td>\n",
       "      <td>0x690B9A9E9aa1C9dB991C7721a92d351Db4FaC990</td>\n",
       "      <td>NaN</td>\n",
       "      <td>NaN</td>\n",
       "      <td>...</td>\n",
       "      <td>2022-12-19 21:00:00</td>\n",
       "      <td>True</td>\n",
       "      <td>17.248596</td>\n",
       "      <td>0.0</td>\n",
       "      <td>False</td>\n",
       "      <td>6.684293</td>\n",
       "      <td>23932889038</td>\n",
       "      <td>23932889038</td>\n",
       "      <td>214272</td>\n",
       "      <td>23932889038</td>\n",
       "    </tr>\n",
       "    <tr>\n",
       "      <th>2</th>\n",
       "      <td>0x555ffb08812804e23fe18467886edaa167f502488c6b...</td>\n",
       "      <td>0xAC813c6b767F3C2f1764994F9D3E4D38A8df6F32</td>\n",
       "      <td>0x0b382C0A00D6080b0009F003C050eAC3c30f0000</td>\n",
       "      <td>305170</td>\n",
       "      <td>17.248596</td>\n",
       "      <td>16221291</td>\n",
       "      <td>1671483611</td>\n",
       "      <td>0x690B9A9E9aa1C9dB991C7721a92d351Db4FaC990</td>\n",
       "      <td>NaN</td>\n",
       "      <td>NaN</td>\n",
       "      <td>...</td>\n",
       "      <td>2022-12-19 21:00:00</td>\n",
       "      <td>True</td>\n",
       "      <td>17.248596</td>\n",
       "      <td>0.0</td>\n",
       "      <td>False</td>\n",
       "      <td>0.000000</td>\n",
       "      <td>17248595741</td>\n",
       "      <td>17248595741</td>\n",
       "      <td>152585</td>\n",
       "      <td>17248595741</td>\n",
       "    </tr>\n",
       "    <tr>\n",
       "      <th>3</th>\n",
       "      <td>0x9febfdc63677cd0decb532cb049004add2959d7f1a1f...</td>\n",
       "      <td>0xf7C8133baEa3313993B3c476c016aa869C991679</td>\n",
       "      <td>0x91c8D7e4080bed28e26FCE1b87cACcFaF7bbF794</td>\n",
       "      <td>292432</td>\n",
       "      <td>18.212433</td>\n",
       "      <td>16221291</td>\n",
       "      <td>1671483611</td>\n",
       "      <td>0x690B9A9E9aa1C9dB991C7721a92d351Db4FaC990</td>\n",
       "      <td>1.671484e+09</td>\n",
       "      <td>3.0</td>\n",
       "      <td>...</td>\n",
       "      <td>2022-12-19 21:00:00</td>\n",
       "      <td>True</td>\n",
       "      <td>17.248596</td>\n",
       "      <td>3.0</td>\n",
       "      <td>False</td>\n",
       "      <td>0.963838</td>\n",
       "      <td>0</td>\n",
       "      <td>0</td>\n",
       "      <td>208202</td>\n",
       "      <td>18212433401</td>\n",
       "    </tr>\n",
       "    <tr>\n",
       "      <th>4</th>\n",
       "      <td>0xe24c2fb8e8d581d86710a0ca685e27ed6c36ca722d8e...</td>\n",
       "      <td>0xAC813c6b767F3C2f1764994F9D3E4D38A8df6F32</td>\n",
       "      <td>0x0b382C0A00D6080b0009F003C050eAC3c30f0000</td>\n",
       "      <td>245026</td>\n",
       "      <td>20.798797</td>\n",
       "      <td>16221291</td>\n",
       "      <td>1671483611</td>\n",
       "      <td>0x690B9A9E9aa1C9dB991C7721a92d351Db4FaC990</td>\n",
       "      <td>NaN</td>\n",
       "      <td>NaN</td>\n",
       "      <td>...</td>\n",
       "      <td>2022-12-19 21:00:00</td>\n",
       "      <td>True</td>\n",
       "      <td>17.248596</td>\n",
       "      <td>0.0</td>\n",
       "      <td>False</td>\n",
       "      <td>3.550201</td>\n",
       "      <td>20798797016</td>\n",
       "      <td>20798797016</td>\n",
       "      <td>122513</td>\n",
       "      <td>20798797016</td>\n",
       "    </tr>\n",
       "  </tbody>\n",
       "</table>\n",
       "<p>5 rows × 27 columns</p>\n",
       "</div>"
      ],
      "text/plain": [
       "                                             tx_hash  \\\n",
       "0  0x14e970dba71ef93b42f337d3494c4d6e8fee4d83ce38...   \n",
       "1  0x33fcc824c05553a3ec31a7d71dc6dbb26cf51d608009...   \n",
       "2  0x555ffb08812804e23fe18467886edaa167f502488c6b...   \n",
       "3  0x9febfdc63677cd0decb532cb049004add2959d7f1a1f...   \n",
       "4  0xe24c2fb8e8d581d86710a0ca685e27ed6c36ca722d8e...   \n",
       "\n",
       "                                         from  \\\n",
       "0  0x498B859D2e59958E209d7DD262324C8D31b12B12   \n",
       "1  0x07B873DE48807ec7B02B38cc31b4f96a6A507182   \n",
       "2  0xAC813c6b767F3C2f1764994F9D3E4D38A8df6F32   \n",
       "3  0xf7C8133baEa3313993B3c476c016aa869C991679   \n",
       "4  0xAC813c6b767F3C2f1764994F9D3E4D38A8df6F32   \n",
       "\n",
       "                                           to     gas    gasPrice  \\\n",
       "0  0xC1E088fC1323b20BCBee9bd1B9fC9546db5624C5  242494  117.114005   \n",
       "1  0x883B01205b938EC7268286d13Cb40a2045D2E78F  800000   23.932889   \n",
       "2  0x0b382C0A00D6080b0009F003C050eAC3c30f0000  305170   17.248596   \n",
       "3  0x91c8D7e4080bed28e26FCE1b87cACcFaF7bbF794  292432   18.212433   \n",
       "4  0x0b382C0A00D6080b0009F003C050eAC3c30f0000  245026   20.798797   \n",
       "\n",
       "   blockNumber  timestamp_x                                       miner  \\\n",
       "0     16221291   1671483611  0x690B9A9E9aa1C9dB991C7721a92d351Db4FaC990   \n",
       "1     16221291   1671483611  0x690B9A9E9aa1C9dB991C7721a92d351Db4FaC990   \n",
       "2     16221291   1671483611  0x690B9A9E9aa1C9dB991C7721a92d351Db4FaC990   \n",
       "3     16221291   1671483611  0x690B9A9E9aa1C9dB991C7721a92d351Db4FaC990   \n",
       "4     16221291   1671483611  0x690B9A9E9aa1C9dB991C7721a92d351Db4FaC990   \n",
       "\n",
       "    timestamp_y  waiting  ...             eth_hour is_contract_transaction  \\\n",
       "0           NaN      NaN  ...  2022-12-19 21:00:00                    True   \n",
       "1           NaN      NaN  ...  2022-12-19 21:00:00                    True   \n",
       "2           NaN      NaN  ...  2022-12-19 21:00:00                    True   \n",
       "3  1.671484e+09      3.0  ...  2022-12-19 21:00:00                    True   \n",
       "4           NaN      NaN  ...  2022-12-19 21:00:00                    True   \n",
       "\n",
       "  baseFeePerGas wait_time_adjusted is_ofac priority_fee  maxFeePerGas  \\\n",
       "0     17.248596                0.0   False    99.865409  117114004578   \n",
       "1     17.248596                0.0   False     6.684293   23932889038   \n",
       "2     17.248596                0.0   False     0.000000   17248595741   \n",
       "3     17.248596                3.0   False     0.963838             0   \n",
       "4     17.248596                0.0   False     3.550201   20798797016   \n",
       "\n",
       "  maxPriorityFeePerGas  gasUsed  effectiveGasPrice  \n",
       "0         117114004578   189564       117114004578  \n",
       "1          23932889038   214272        23932889038  \n",
       "2          17248595741   152585        17248595741  \n",
       "3                    0   208202        18212433401  \n",
       "4          20798797016   122513        20798797016  \n",
       "\n",
       "[5 rows x 27 columns]"
      ]
     },
     "execution_count": 2,
     "metadata": {},
     "output_type": "execute_result"
    }
   ],
   "source": [
    "tr_data = pd.read_csv('../data/merged_221220_221231_with_contracts.csv')\n",
    "tr_data.head()"
   ]
  },
  {
   "cell_type": "code",
   "execution_count": 3,
   "id": "58d506a5-102e-49fe-b5a8-4a197932471f",
   "metadata": {},
   "outputs": [],
   "source": [
    "quantiles = tr_data.priority_fee.quantile(np.arange(0.01,1,0.01))\n",
    "shifted_quantiles = tr_data.priority_fee.quantile(np.arange(0.02,1.01,0.01))"
   ]
  },
  {
   "cell_type": "code",
   "execution_count": 4,
   "id": "eb5546e7",
   "metadata": {
    "scrolled": true
   },
   "outputs": [
    {
     "data": {
      "text/plain": [
       "Float64Index([                0.01,                 0.02,                 0.03,\n",
       "                              0.04,                 0.05, 0.060000000000000005,\n",
       "               0.06999999999999999,                 0.08,                 0.09,\n",
       "               0.09999999999999999,                 0.11,                 0.12,\n",
       "                              0.13,                 0.14,  0.15000000000000002,\n",
       "                              0.16,                 0.17,  0.18000000000000002,\n",
       "                              0.19,                  0.2,  0.21000000000000002,\n",
       "                              0.22,                 0.23,  0.24000000000000002,\n",
       "                              0.25,                 0.26,                 0.27,\n",
       "                              0.28,  0.29000000000000004,                  0.3,\n",
       "                              0.31,                 0.32,                 0.33,\n",
       "                              0.34,  0.35000000000000003,  0.36000000000000004,\n",
       "                              0.37,                 0.38,                 0.39,\n",
       "                               0.4,  0.41000000000000003,  0.42000000000000004,\n",
       "                              0.43,                 0.44,                 0.45,\n",
       "                              0.46,  0.47000000000000003,  0.48000000000000004,\n",
       "                              0.49,                  0.5,                 0.51,\n",
       "                              0.52,                 0.53,                 0.54,\n",
       "                              0.55,                 0.56,   0.5700000000000001,\n",
       "                0.5800000000000001,                 0.59,                  0.6,\n",
       "                              0.61,                 0.62,                 0.63,\n",
       "                              0.64,                 0.65,                 0.66,\n",
       "                              0.67,                 0.68,   0.6900000000000001,\n",
       "                0.7000000000000001,   0.7100000000000001,                 0.72,\n",
       "                              0.73,                 0.74,                 0.75,\n",
       "                              0.76,                 0.77,                 0.78,\n",
       "                              0.79,                  0.8,                 0.81,\n",
       "                0.8200000000000001,   0.8300000000000001,   0.8400000000000001,\n",
       "                              0.85,                 0.86,                 0.87,\n",
       "                              0.88,                 0.89,                  0.9,\n",
       "                              0.91,                 0.92,                 0.93,\n",
       "                0.9400000000000001,   0.9500000000000001,   0.9600000000000001,\n",
       "                              0.97,                 0.98,\n",
       "                              0.99],\n",
       "             dtype='float64')"
      ]
     },
     "execution_count": 4,
     "metadata": {},
     "output_type": "execute_result"
    }
   ],
   "source": [
    "quantiles.keys()"
   ]
  },
  {
   "cell_type": "code",
   "execution_count": 5,
   "id": "26b48f4a",
   "metadata": {},
   "outputs": [],
   "source": [
    "q_list = [.7,.75,.8,.85,.9,.91,.92,.93,.94,.95,.96,.97,.98,.99]"
   ]
  },
  {
   "cell_type": "code",
   "execution_count": 6,
   "id": "23bc9695",
   "metadata": {},
   "outputs": [
    {
     "name": "stdout",
     "output_type": "stream",
     "text": [
      "0.01 fee quantile: 0.00000 gwei | 0.02 fee quantile: 0.05913 gwei\n",
      "0.70 time quantile: 2 transactions suspended to be cansored\n",
      "0.75 time quantile: 2 transactions suspended to be cansored\n",
      "0.80 time quantile: 2 transactions suspended to be cansored\n",
      "0.85 time quantile: 0 transactions suspended to be cansored\n",
      "0.90 time quantile: 0 transactions suspended to be cansored\n",
      "0.91 time quantile: 0 transactions suspended to be cansored\n",
      "0.92 time quantile: 0 transactions suspended to be cansored\n",
      "0.93 time quantile: 0 transactions suspended to be cansored\n",
      "0.94 time quantile: 0 transactions suspended to be cansored\n",
      "0.95 time quantile: 0 transactions suspended to be cansored\n",
      "0.96 time quantile: 0 transactions suspended to be cansored\n",
      "0.97 time quantile: 0 transactions suspended to be cansored\n",
      "0.98 time quantile: 0 transactions suspended to be cansored\n",
      "0.99 time quantile: 0 transactions suspended to be cansored\n",
      "-------------------------------------\n",
      "0.02 fee quantile: 0.05913 gwei | 0.03 fee quantile: 0.11730 gwei\n",
      "0.70 time quantile: 3 transactions suspended to be cansored\n",
      "0.75 time quantile: 2 transactions suspended to be cansored\n",
      "0.80 time quantile: 1 transactions suspended to be cansored\n",
      "0.85 time quantile: 0 transactions suspended to be cansored\n",
      "0.90 time quantile: 0 transactions suspended to be cansored\n",
      "0.91 time quantile: 0 transactions suspended to be cansored\n",
      "0.92 time quantile: 0 transactions suspended to be cansored\n",
      "0.93 time quantile: 0 transactions suspended to be cansored\n",
      "0.94 time quantile: 0 transactions suspended to be cansored\n",
      "0.95 time quantile: 0 transactions suspended to be cansored\n",
      "0.96 time quantile: 0 transactions suspended to be cansored\n",
      "0.97 time quantile: 0 transactions suspended to be cansored\n",
      "0.98 time quantile: 0 transactions suspended to be cansored\n",
      "0.99 time quantile: 0 transactions suspended to be cansored\n",
      "-------------------------------------\n",
      "0.03 fee quantile: 0.11730 gwei | 0.04 fee quantile: 0.14435 gwei\n",
      "0.70 time quantile: 9 transactions suspended to be cansored\n",
      "0.75 time quantile: 5 transactions suspended to be cansored\n",
      "0.80 time quantile: 3 transactions suspended to be cansored\n",
      "0.85 time quantile: 2 transactions suspended to be cansored\n",
      "0.90 time quantile: 0 transactions suspended to be cansored\n",
      "0.91 time quantile: 0 transactions suspended to be cansored\n",
      "0.92 time quantile: 0 transactions suspended to be cansored\n",
      "0.93 time quantile: 0 transactions suspended to be cansored\n",
      "0.94 time quantile: 0 transactions suspended to be cansored\n",
      "0.95 time quantile: 0 transactions suspended to be cansored\n",
      "0.96 time quantile: 0 transactions suspended to be cansored\n",
      "0.97 time quantile: 0 transactions suspended to be cansored\n",
      "0.98 time quantile: 0 transactions suspended to be cansored\n",
      "0.99 time quantile: 0 transactions suspended to be cansored\n",
      "-------------------------------------\n",
      "0.04 fee quantile: 0.14435 gwei | 0.05 fee quantile: 0.16750 gwei\n",
      "0.70 time quantile: 7 transactions suspended to be cansored\n",
      "0.75 time quantile: 6 transactions suspended to be cansored\n",
      "0.80 time quantile: 4 transactions suspended to be cansored\n",
      "0.85 time quantile: 2 transactions suspended to be cansored\n",
      "0.90 time quantile: 1 transactions suspended to be cansored\n",
      "0.91 time quantile: 0 transactions suspended to be cansored\n",
      "0.92 time quantile: 0 transactions suspended to be cansored\n",
      "0.93 time quantile: 0 transactions suspended to be cansored\n",
      "0.94 time quantile: 0 transactions suspended to be cansored\n",
      "0.95 time quantile: 0 transactions suspended to be cansored\n",
      "0.96 time quantile: 0 transactions suspended to be cansored\n",
      "0.97 time quantile: 0 transactions suspended to be cansored\n",
      "0.98 time quantile: 0 transactions suspended to be cansored\n",
      "0.99 time quantile: 0 transactions suspended to be cansored\n",
      "-------------------------------------\n",
      "0.05 fee quantile: 0.16750 gwei | 0.06 fee quantile: 0.19584 gwei\n",
      "0.70 time quantile: 8 transactions suspended to be cansored\n",
      "0.75 time quantile: 7 transactions suspended to be cansored\n",
      "0.80 time quantile: 5 transactions suspended to be cansored\n",
      "0.85 time quantile: 3 transactions suspended to be cansored\n",
      "0.90 time quantile: 2 transactions suspended to be cansored\n",
      "0.91 time quantile: 2 transactions suspended to be cansored\n",
      "0.92 time quantile: 1 transactions suspended to be cansored\n",
      "0.93 time quantile: 1 transactions suspended to be cansored\n",
      "0.94 time quantile: 1 transactions suspended to be cansored\n",
      "0.95 time quantile: 0 transactions suspended to be cansored\n",
      "0.96 time quantile: 0 transactions suspended to be cansored\n",
      "0.97 time quantile: 0 transactions suspended to be cansored\n",
      "0.98 time quantile: 0 transactions suspended to be cansored\n",
      "0.99 time quantile: 0 transactions suspended to be cansored\n",
      "-------------------------------------\n",
      "0.06 fee quantile: 0.19584 gwei | 0.07 fee quantile: 0.22616 gwei\n",
      "0.70 time quantile: 3 transactions suspended to be cansored\n",
      "0.75 time quantile: 3 transactions suspended to be cansored\n",
      "0.80 time quantile: 3 transactions suspended to be cansored\n",
      "0.85 time quantile: 1 transactions suspended to be cansored\n",
      "0.90 time quantile: 0 transactions suspended to be cansored\n",
      "0.91 time quantile: 0 transactions suspended to be cansored\n",
      "0.92 time quantile: 0 transactions suspended to be cansored\n",
      "0.93 time quantile: 0 transactions suspended to be cansored\n",
      "0.94 time quantile: 0 transactions suspended to be cansored\n",
      "0.95 time quantile: 0 transactions suspended to be cansored\n",
      "0.96 time quantile: 0 transactions suspended to be cansored\n",
      "0.97 time quantile: 0 transactions suspended to be cansored\n",
      "0.98 time quantile: 0 transactions suspended to be cansored\n",
      "0.99 time quantile: 0 transactions suspended to be cansored\n",
      "-------------------------------------\n",
      "0.07 fee quantile: 0.22616 gwei | 0.08 fee quantile: 0.25669 gwei\n",
      "0.70 time quantile: 1 transactions suspended to be cansored\n",
      "0.75 time quantile: 1 transactions suspended to be cansored\n",
      "0.80 time quantile: 0 transactions suspended to be cansored\n",
      "0.85 time quantile: 0 transactions suspended to be cansored\n",
      "0.90 time quantile: 0 transactions suspended to be cansored\n",
      "0.91 time quantile: 0 transactions suspended to be cansored\n",
      "0.92 time quantile: 0 transactions suspended to be cansored\n",
      "0.93 time quantile: 0 transactions suspended to be cansored\n",
      "0.94 time quantile: 0 transactions suspended to be cansored\n",
      "0.95 time quantile: 0 transactions suspended to be cansored\n",
      "0.96 time quantile: 0 transactions suspended to be cansored\n",
      "0.97 time quantile: 0 transactions suspended to be cansored\n",
      "0.98 time quantile: 0 transactions suspended to be cansored\n",
      "0.99 time quantile: 0 transactions suspended to be cansored\n",
      "-------------------------------------\n",
      "0.08 fee quantile: 0.25669 gwei | 0.09 fee quantile: 0.30190 gwei\n",
      "0.70 time quantile: 6 transactions suspended to be cansored\n",
      "0.75 time quantile: 3 transactions suspended to be cansored\n",
      "0.80 time quantile: 1 transactions suspended to be cansored\n",
      "0.85 time quantile: 0 transactions suspended to be cansored\n",
      "0.90 time quantile: 0 transactions suspended to be cansored\n",
      "0.91 time quantile: 0 transactions suspended to be cansored\n",
      "0.92 time quantile: 0 transactions suspended to be cansored\n",
      "0.93 time quantile: 0 transactions suspended to be cansored\n",
      "0.94 time quantile: 0 transactions suspended to be cansored\n",
      "0.95 time quantile: 0 transactions suspended to be cansored\n",
      "0.96 time quantile: 0 transactions suspended to be cansored\n",
      "0.97 time quantile: 0 transactions suspended to be cansored\n",
      "0.98 time quantile: 0 transactions suspended to be cansored\n",
      "0.99 time quantile: 0 transactions suspended to be cansored\n",
      "-------------------------------------\n",
      "0.09 fee quantile: 0.30190 gwei | 0.10 fee quantile: 0.36052 gwei\n",
      "0.70 time quantile: 1 transactions suspended to be cansored\n",
      "0.75 time quantile: 0 transactions suspended to be cansored\n",
      "0.80 time quantile: 0 transactions suspended to be cansored\n",
      "0.85 time quantile: 0 transactions suspended to be cansored\n",
      "0.90 time quantile: 0 transactions suspended to be cansored\n",
      "0.91 time quantile: 0 transactions suspended to be cansored\n",
      "0.92 time quantile: 0 transactions suspended to be cansored\n",
      "0.93 time quantile: 0 transactions suspended to be cansored\n",
      "0.94 time quantile: 0 transactions suspended to be cansored\n",
      "0.95 time quantile: 0 transactions suspended to be cansored\n",
      "0.96 time quantile: 0 transactions suspended to be cansored\n",
      "0.97 time quantile: 0 transactions suspended to be cansored\n",
      "0.98 time quantile: 0 transactions suspended to be cansored\n",
      "0.99 time quantile: 0 transactions suspended to be cansored\n",
      "-------------------------------------\n",
      "0.10 fee quantile: 0.36052 gwei | 0.11 fee quantile: 0.43298 gwei\n"
     ]
    },
    {
     "name": "stdout",
     "output_type": "stream",
     "text": [
      "0.70 time quantile: 1 transactions suspended to be cansored\n",
      "0.75 time quantile: 1 transactions suspended to be cansored\n",
      "0.80 time quantile: 1 transactions suspended to be cansored\n",
      "0.85 time quantile: 0 transactions suspended to be cansored\n",
      "0.90 time quantile: 0 transactions suspended to be cansored\n",
      "0.91 time quantile: 0 transactions suspended to be cansored\n",
      "0.92 time quantile: 0 transactions suspended to be cansored\n",
      "0.93 time quantile: 0 transactions suspended to be cansored\n",
      "0.94 time quantile: 0 transactions suspended to be cansored\n",
      "0.95 time quantile: 0 transactions suspended to be cansored\n",
      "0.96 time quantile: 0 transactions suspended to be cansored\n",
      "0.97 time quantile: 0 transactions suspended to be cansored\n",
      "0.98 time quantile: 0 transactions suspended to be cansored\n",
      "0.99 time quantile: 0 transactions suspended to be cansored\n",
      "-------------------------------------\n",
      "0.11 fee quantile: 0.43298 gwei | 0.12 fee quantile: 0.51344 gwei\n",
      "0.70 time quantile: 7 transactions suspended to be cansored\n",
      "0.75 time quantile: 5 transactions suspended to be cansored\n",
      "0.80 time quantile: 1 transactions suspended to be cansored\n",
      "0.85 time quantile: 0 transactions suspended to be cansored\n",
      "0.90 time quantile: 0 transactions suspended to be cansored\n",
      "0.91 time quantile: 0 transactions suspended to be cansored\n",
      "0.92 time quantile: 0 transactions suspended to be cansored\n",
      "0.93 time quantile: 0 transactions suspended to be cansored\n",
      "0.94 time quantile: 0 transactions suspended to be cansored\n",
      "0.95 time quantile: 0 transactions suspended to be cansored\n",
      "0.96 time quantile: 0 transactions suspended to be cansored\n",
      "0.97 time quantile: 0 transactions suspended to be cansored\n",
      "0.98 time quantile: 0 transactions suspended to be cansored\n",
      "0.99 time quantile: 0 transactions suspended to be cansored\n",
      "-------------------------------------\n",
      "0.12 fee quantile: 0.51344 gwei | 0.13 fee quantile: 0.61083 gwei\n",
      "0.70 time quantile: 3 transactions suspended to be cansored\n",
      "0.75 time quantile: 3 transactions suspended to be cansored\n",
      "0.80 time quantile: 2 transactions suspended to be cansored\n",
      "0.85 time quantile: 0 transactions suspended to be cansored\n",
      "0.90 time quantile: 0 transactions suspended to be cansored\n",
      "0.91 time quantile: 0 transactions suspended to be cansored\n",
      "0.92 time quantile: 0 transactions suspended to be cansored\n",
      "0.93 time quantile: 0 transactions suspended to be cansored\n",
      "0.94 time quantile: 0 transactions suspended to be cansored\n",
      "0.95 time quantile: 0 transactions suspended to be cansored\n",
      "0.96 time quantile: 0 transactions suspended to be cansored\n",
      "0.97 time quantile: 0 transactions suspended to be cansored\n",
      "0.98 time quantile: 0 transactions suspended to be cansored\n",
      "0.99 time quantile: 0 transactions suspended to be cansored\n",
      "-------------------------------------\n",
      "0.13 fee quantile: 0.61083 gwei | 0.14 fee quantile: 0.71298 gwei\n",
      "0.70 time quantile: 4 transactions suspended to be cansored\n",
      "0.75 time quantile: 3 transactions suspended to be cansored\n",
      "0.80 time quantile: 3 transactions suspended to be cansored\n",
      "0.85 time quantile: 1 transactions suspended to be cansored\n",
      "0.90 time quantile: 0 transactions suspended to be cansored\n",
      "0.91 time quantile: 0 transactions suspended to be cansored\n",
      "0.92 time quantile: 0 transactions suspended to be cansored\n",
      "0.93 time quantile: 0 transactions suspended to be cansored\n",
      "0.94 time quantile: 0 transactions suspended to be cansored\n",
      "0.95 time quantile: 0 transactions suspended to be cansored\n",
      "0.96 time quantile: 0 transactions suspended to be cansored\n",
      "0.97 time quantile: 0 transactions suspended to be cansored\n",
      "0.98 time quantile: 0 transactions suspended to be cansored\n",
      "0.99 time quantile: 0 transactions suspended to be cansored\n",
      "-------------------------------------\n",
      "0.14 fee quantile: 0.71298 gwei | 0.15 fee quantile: 0.83486 gwei\n",
      "0.70 time quantile: 1 transactions suspended to be cansored\n",
      "0.75 time quantile: 1 transactions suspended to be cansored\n",
      "0.80 time quantile: 1 transactions suspended to be cansored\n",
      "0.85 time quantile: 1 transactions suspended to be cansored\n",
      "0.90 time quantile: 0 transactions suspended to be cansored\n",
      "0.91 time quantile: 0 transactions suspended to be cansored\n",
      "0.92 time quantile: 0 transactions suspended to be cansored\n",
      "0.93 time quantile: 0 transactions suspended to be cansored\n",
      "0.94 time quantile: 0 transactions suspended to be cansored\n",
      "0.95 time quantile: 0 transactions suspended to be cansored\n",
      "0.96 time quantile: 0 transactions suspended to be cansored\n",
      "0.97 time quantile: 0 transactions suspended to be cansored\n",
      "0.98 time quantile: 0 transactions suspended to be cansored\n",
      "0.99 time quantile: 0 transactions suspended to be cansored\n",
      "-------------------------------------\n",
      "0.15 fee quantile: 0.83486 gwei | 0.16 fee quantile: 0.96886 gwei\n",
      "0.70 time quantile: 8 transactions suspended to be cansored\n",
      "0.75 time quantile: 8 transactions suspended to be cansored\n",
      "0.80 time quantile: 6 transactions suspended to be cansored\n",
      "0.85 time quantile: 5 transactions suspended to be cansored\n",
      "0.90 time quantile: 3 transactions suspended to be cansored\n",
      "0.91 time quantile: 3 transactions suspended to be cansored\n",
      "0.92 time quantile: 3 transactions suspended to be cansored\n",
      "0.93 time quantile: 2 transactions suspended to be cansored\n",
      "0.94 time quantile: 2 transactions suspended to be cansored\n",
      "0.95 time quantile: 1 transactions suspended to be cansored\n",
      "0.96 time quantile: 1 transactions suspended to be cansored\n",
      "0.97 time quantile: 1 transactions suspended to be cansored\n",
      "0.98 time quantile: 0 transactions suspended to be cansored\n",
      "0.99 time quantile: 0 transactions suspended to be cansored\n",
      "-------------------------------------\n",
      "0.16 fee quantile: 0.96886 gwei | 0.17 fee quantile: 1.00000 gwei\n",
      "0.70 time quantile: 83 transactions suspended to be cansored\n",
      "0.75 time quantile: 77 transactions suspended to be cansored\n",
      "0.80 time quantile: 66 transactions suspended to be cansored\n",
      "0.85 time quantile: 66 transactions suspended to be cansored\n",
      "0.90 time quantile: 57 transactions suspended to be cansored\n",
      "0.91 time quantile: 57 transactions suspended to be cansored\n",
      "0.92 time quantile: 53 transactions suspended to be cansored\n",
      "0.93 time quantile: 52 transactions suspended to be cansored\n",
      "0.94 time quantile: 48 transactions suspended to be cansored\n",
      "0.95 time quantile: 44 transactions suspended to be cansored\n",
      "0.96 time quantile: 38 transactions suspended to be cansored\n",
      "0.97 time quantile: 33 transactions suspended to be cansored\n",
      "0.98 time quantile: 24 transactions suspended to be cansored\n",
      "0.99 time quantile: 6 transactions suspended to be cansored\n",
      "-------------------------------------\n",
      "0.17 fee quantile: 1.00000 gwei | 0.18 fee quantile: 1.00000 gwei\n",
      "0.70 time quantile: 80 transactions suspended to be cansored\n",
      "0.75 time quantile: 74 transactions suspended to be cansored\n",
      "0.80 time quantile: 65 transactions suspended to be cansored\n",
      "0.85 time quantile: 65 transactions suspended to be cansored\n",
      "0.90 time quantile: 60 transactions suspended to be cansored\n",
      "0.91 time quantile: 57 transactions suspended to be cansored\n",
      "0.92 time quantile: 53 transactions suspended to be cansored\n",
      "0.93 time quantile: 52 transactions suspended to be cansored\n",
      "0.94 time quantile: 48 transactions suspended to be cansored\n",
      "0.95 time quantile: 45 transactions suspended to be cansored\n",
      "0.96 time quantile: 40 transactions suspended to be cansored\n",
      "0.97 time quantile: 37 transactions suspended to be cansored\n",
      "0.98 time quantile: 28 transactions suspended to be cansored\n",
      "0.99 time quantile: 9 transactions suspended to be cansored\n",
      "-------------------------------------\n",
      "0.18 fee quantile: 1.00000 gwei | 0.19 fee quantile: 1.00000 gwei\n",
      "0.70 time quantile: 80 transactions suspended to be cansored\n",
      "0.75 time quantile: 74 transactions suspended to be cansored\n",
      "0.80 time quantile: 65 transactions suspended to be cansored\n",
      "0.85 time quantile: 65 transactions suspended to be cansored\n",
      "0.90 time quantile: 60 transactions suspended to be cansored\n",
      "0.91 time quantile: 57 transactions suspended to be cansored\n",
      "0.92 time quantile: 53 transactions suspended to be cansored\n",
      "0.93 time quantile: 52 transactions suspended to be cansored\n",
      "0.94 time quantile: 48 transactions suspended to be cansored\n",
      "0.95 time quantile: 45 transactions suspended to be cansored\n",
      "0.96 time quantile: 40 transactions suspended to be cansored\n",
      "0.97 time quantile: 37 transactions suspended to be cansored\n",
      "0.98 time quantile: 28 transactions suspended to be cansored\n",
      "0.99 time quantile: 9 transactions suspended to be cansored\n",
      "-------------------------------------\n",
      "0.19 fee quantile: 1.00000 gwei | 0.20 fee quantile: 1.00000 gwei\n"
     ]
    },
    {
     "name": "stdout",
     "output_type": "stream",
     "text": [
      "0.70 time quantile: 80 transactions suspended to be cansored\n",
      "0.75 time quantile: 74 transactions suspended to be cansored\n",
      "0.80 time quantile: 65 transactions suspended to be cansored\n",
      "0.85 time quantile: 65 transactions suspended to be cansored\n",
      "0.90 time quantile: 60 transactions suspended to be cansored\n",
      "0.91 time quantile: 57 transactions suspended to be cansored\n",
      "0.92 time quantile: 53 transactions suspended to be cansored\n",
      "0.93 time quantile: 52 transactions suspended to be cansored\n",
      "0.94 time quantile: 48 transactions suspended to be cansored\n",
      "0.95 time quantile: 45 transactions suspended to be cansored\n",
      "0.96 time quantile: 40 transactions suspended to be cansored\n",
      "0.97 time quantile: 37 transactions suspended to be cansored\n",
      "0.98 time quantile: 28 transactions suspended to be cansored\n",
      "0.99 time quantile: 9 transactions suspended to be cansored\n",
      "-------------------------------------\n",
      "0.20 fee quantile: 1.00000 gwei | 0.21 fee quantile: 1.00000 gwei\n",
      "0.70 time quantile: 80 transactions suspended to be cansored\n",
      "0.75 time quantile: 74 transactions suspended to be cansored\n",
      "0.80 time quantile: 65 transactions suspended to be cansored\n",
      "0.85 time quantile: 65 transactions suspended to be cansored\n",
      "0.90 time quantile: 60 transactions suspended to be cansored\n",
      "0.91 time quantile: 57 transactions suspended to be cansored\n",
      "0.92 time quantile: 53 transactions suspended to be cansored\n",
      "0.93 time quantile: 52 transactions suspended to be cansored\n",
      "0.94 time quantile: 48 transactions suspended to be cansored\n",
      "0.95 time quantile: 45 transactions suspended to be cansored\n",
      "0.96 time quantile: 40 transactions suspended to be cansored\n",
      "0.97 time quantile: 37 transactions suspended to be cansored\n",
      "0.98 time quantile: 28 transactions suspended to be cansored\n",
      "0.99 time quantile: 9 transactions suspended to be cansored\n",
      "-------------------------------------\n",
      "0.21 fee quantile: 1.00000 gwei | 0.22 fee quantile: 1.00000 gwei\n",
      "0.70 time quantile: 80 transactions suspended to be cansored\n",
      "0.75 time quantile: 74 transactions suspended to be cansored\n",
      "0.80 time quantile: 65 transactions suspended to be cansored\n",
      "0.85 time quantile: 65 transactions suspended to be cansored\n",
      "0.90 time quantile: 60 transactions suspended to be cansored\n",
      "0.91 time quantile: 57 transactions suspended to be cansored\n",
      "0.92 time quantile: 53 transactions suspended to be cansored\n",
      "0.93 time quantile: 52 transactions suspended to be cansored\n",
      "0.94 time quantile: 48 transactions suspended to be cansored\n",
      "0.95 time quantile: 45 transactions suspended to be cansored\n",
      "0.96 time quantile: 40 transactions suspended to be cansored\n",
      "0.97 time quantile: 37 transactions suspended to be cansored\n",
      "0.98 time quantile: 28 transactions suspended to be cansored\n",
      "0.99 time quantile: 9 transactions suspended to be cansored\n",
      "-------------------------------------\n",
      "0.22 fee quantile: 1.00000 gwei | 0.23 fee quantile: 1.08562 gwei\n",
      "0.70 time quantile: 84 transactions suspended to be cansored\n",
      "0.75 time quantile: 78 transactions suspended to be cansored\n",
      "0.80 time quantile: 68 transactions suspended to be cansored\n",
      "0.85 time quantile: 68 transactions suspended to be cansored\n",
      "0.90 time quantile: 60 transactions suspended to be cansored\n",
      "0.91 time quantile: 60 transactions suspended to be cansored\n",
      "0.92 time quantile: 55 transactions suspended to be cansored\n",
      "0.93 time quantile: 50 transactions suspended to be cansored\n",
      "0.94 time quantile: 47 transactions suspended to be cansored\n",
      "0.95 time quantile: 41 transactions suspended to be cansored\n",
      "0.96 time quantile: 38 transactions suspended to be cansored\n",
      "0.97 time quantile: 34 transactions suspended to be cansored\n",
      "0.98 time quantile: 18 transactions suspended to be cansored\n",
      "0.99 time quantile: 0 transactions suspended to be cansored\n",
      "-------------------------------------\n",
      "0.23 fee quantile: 1.08562 gwei | 0.24 fee quantile: 1.20000 gwei\n",
      "0.70 time quantile: 19 transactions suspended to be cansored\n",
      "0.75 time quantile: 18 transactions suspended to be cansored\n",
      "0.80 time quantile: 17 transactions suspended to be cansored\n",
      "0.85 time quantile: 16 transactions suspended to be cansored\n",
      "0.90 time quantile: 15 transactions suspended to be cansored\n",
      "0.91 time quantile: 15 transactions suspended to be cansored\n",
      "0.92 time quantile: 15 transactions suspended to be cansored\n",
      "0.93 time quantile: 12 transactions suspended to be cansored\n",
      "0.94 time quantile: 10 transactions suspended to be cansored\n",
      "0.95 time quantile: 7 transactions suspended to be cansored\n",
      "0.96 time quantile: 5 transactions suspended to be cansored\n",
      "0.97 time quantile: 4 transactions suspended to be cansored\n",
      "0.98 time quantile: 2 transactions suspended to be cansored\n",
      "0.99 time quantile: 0 transactions suspended to be cansored\n",
      "-------------------------------------\n",
      "0.24 fee quantile: 1.20000 gwei | 0.25 fee quantile: 1.31436 gwei\n",
      "0.70 time quantile: 14 transactions suspended to be cansored\n",
      "0.75 time quantile: 13 transactions suspended to be cansored\n",
      "0.80 time quantile: 13 transactions suspended to be cansored\n",
      "0.85 time quantile: 10 transactions suspended to be cansored\n",
      "0.90 time quantile: 6 transactions suspended to be cansored\n",
      "0.91 time quantile: 6 transactions suspended to be cansored\n",
      "0.92 time quantile: 4 transactions suspended to be cansored\n",
      "0.93 time quantile: 2 transactions suspended to be cansored\n",
      "0.94 time quantile: 2 transactions suspended to be cansored\n",
      "0.95 time quantile: 2 transactions suspended to be cansored\n",
      "0.96 time quantile: 1 transactions suspended to be cansored\n",
      "0.97 time quantile: 0 transactions suspended to be cansored\n",
      "0.98 time quantile: 0 transactions suspended to be cansored\n",
      "0.99 time quantile: 0 transactions suspended to be cansored\n",
      "-------------------------------------\n",
      "0.25 fee quantile: 1.31436 gwei | 0.26 fee quantile: 1.40000 gwei\n",
      "0.70 time quantile: 25 transactions suspended to be cansored\n",
      "0.75 time quantile: 24 transactions suspended to be cansored\n",
      "0.80 time quantile: 21 transactions suspended to be cansored\n",
      "0.85 time quantile: 19 transactions suspended to be cansored\n",
      "0.90 time quantile: 18 transactions suspended to be cansored\n",
      "0.91 time quantile: 17 transactions suspended to be cansored\n",
      "0.92 time quantile: 16 transactions suspended to be cansored\n",
      "0.93 time quantile: 13 transactions suspended to be cansored\n",
      "0.94 time quantile: 12 transactions suspended to be cansored\n",
      "0.95 time quantile: 11 transactions suspended to be cansored\n",
      "0.96 time quantile: 9 transactions suspended to be cansored\n",
      "0.97 time quantile: 7 transactions suspended to be cansored\n",
      "0.98 time quantile: 4 transactions suspended to be cansored\n",
      "0.99 time quantile: 0 transactions suspended to be cansored\n",
      "-------------------------------------\n",
      "0.26 fee quantile: 1.40000 gwei | 0.27 fee quantile: 1.41060 gwei\n",
      "0.70 time quantile: 39 transactions suspended to be cansored\n",
      "0.75 time quantile: 37 transactions suspended to be cansored\n",
      "0.80 time quantile: 34 transactions suspended to be cansored\n",
      "0.85 time quantile: 33 transactions suspended to be cansored\n",
      "0.90 time quantile: 33 transactions suspended to be cansored\n",
      "0.91 time quantile: 33 transactions suspended to be cansored\n",
      "0.92 time quantile: 33 transactions suspended to be cansored\n",
      "0.93 time quantile: 31 transactions suspended to be cansored\n",
      "0.94 time quantile: 31 transactions suspended to be cansored\n",
      "0.95 time quantile: 29 transactions suspended to be cansored\n",
      "0.96 time quantile: 26 transactions suspended to be cansored\n",
      "0.97 time quantile: 20 transactions suspended to be cansored\n",
      "0.98 time quantile: 18 transactions suspended to be cansored\n",
      "0.99 time quantile: 12 transactions suspended to be cansored\n",
      "-------------------------------------\n",
      "0.27 fee quantile: 1.41060 gwei | 0.28 fee quantile: 1.50000 gwei\n",
      "0.70 time quantile: 15 transactions suspended to be cansored\n",
      "0.75 time quantile: 12 transactions suspended to be cansored\n",
      "0.80 time quantile: 12 transactions suspended to be cansored\n",
      "0.85 time quantile: 12 transactions suspended to be cansored\n",
      "0.90 time quantile: 10 transactions suspended to be cansored\n",
      "0.91 time quantile: 10 transactions suspended to be cansored\n",
      "0.92 time quantile: 10 transactions suspended to be cansored\n",
      "0.93 time quantile: 10 transactions suspended to be cansored\n",
      "0.94 time quantile: 10 transactions suspended to be cansored\n",
      "0.95 time quantile: 10 transactions suspended to be cansored\n",
      "0.96 time quantile: 10 transactions suspended to be cansored\n",
      "0.97 time quantile: 9 transactions suspended to be cansored\n",
      "0.98 time quantile: 6 transactions suspended to be cansored\n",
      "0.99 time quantile: 1 transactions suspended to be cansored\n",
      "-------------------------------------\n",
      "0.28 fee quantile: 1.50000 gwei | 0.29 fee quantile: 1.50000 gwei\n"
     ]
    },
    {
     "name": "stdout",
     "output_type": "stream",
     "text": [
      "0.70 time quantile: 360 transactions suspended to be cansored\n",
      "0.75 time quantile: 360 transactions suspended to be cansored\n",
      "0.80 time quantile: 322 transactions suspended to be cansored\n",
      "0.85 time quantile: 277 transactions suspended to be cansored\n",
      "0.90 time quantile: 258 transactions suspended to be cansored\n",
      "0.91 time quantile: 258 transactions suspended to be cansored\n",
      "0.92 time quantile: 258 transactions suspended to be cansored\n",
      "0.93 time quantile: 244 transactions suspended to be cansored\n",
      "0.94 time quantile: 244 transactions suspended to be cansored\n",
      "0.95 time quantile: 225 transactions suspended to be cansored\n",
      "0.96 time quantile: 216 transactions suspended to be cansored\n",
      "0.97 time quantile: 206 transactions suspended to be cansored\n",
      "0.98 time quantile: 180 transactions suspended to be cansored\n",
      "0.99 time quantile: 145 transactions suspended to be cansored\n",
      "-------------------------------------\n",
      "0.29 fee quantile: 1.50000 gwei | 0.30 fee quantile: 1.50000 gwei\n",
      "0.70 time quantile: 355 transactions suspended to be cansored\n",
      "0.75 time quantile: 355 transactions suspended to be cansored\n",
      "0.80 time quantile: 318 transactions suspended to be cansored\n",
      "0.85 time quantile: 273 transactions suspended to be cansored\n",
      "0.90 time quantile: 254 transactions suspended to be cansored\n",
      "0.91 time quantile: 254 transactions suspended to be cansored\n",
      "0.92 time quantile: 254 transactions suspended to be cansored\n",
      "0.93 time quantile: 240 transactions suspended to be cansored\n",
      "0.94 time quantile: 240 transactions suspended to be cansored\n",
      "0.95 time quantile: 221 transactions suspended to be cansored\n",
      "0.96 time quantile: 212 transactions suspended to be cansored\n",
      "0.97 time quantile: 202 transactions suspended to be cansored\n",
      "0.98 time quantile: 176 transactions suspended to be cansored\n",
      "0.99 time quantile: 141 transactions suspended to be cansored\n",
      "-------------------------------------\n",
      "0.30 fee quantile: 1.50000 gwei | 0.31 fee quantile: 1.50000 gwei\n",
      "0.70 time quantile: 355 transactions suspended to be cansored\n",
      "0.75 time quantile: 355 transactions suspended to be cansored\n",
      "0.80 time quantile: 318 transactions suspended to be cansored\n",
      "0.85 time quantile: 273 transactions suspended to be cansored\n",
      "0.90 time quantile: 254 transactions suspended to be cansored\n",
      "0.91 time quantile: 254 transactions suspended to be cansored\n",
      "0.92 time quantile: 254 transactions suspended to be cansored\n",
      "0.93 time quantile: 240 transactions suspended to be cansored\n",
      "0.94 time quantile: 240 transactions suspended to be cansored\n",
      "0.95 time quantile: 221 transactions suspended to be cansored\n",
      "0.96 time quantile: 212 transactions suspended to be cansored\n",
      "0.97 time quantile: 202 transactions suspended to be cansored\n",
      "0.98 time quantile: 176 transactions suspended to be cansored\n",
      "0.99 time quantile: 141 transactions suspended to be cansored\n",
      "-------------------------------------\n",
      "0.31 fee quantile: 1.50000 gwei | 0.32 fee quantile: 1.50000 gwei\n",
      "0.70 time quantile: 355 transactions suspended to be cansored\n",
      "0.75 time quantile: 355 transactions suspended to be cansored\n",
      "0.80 time quantile: 318 transactions suspended to be cansored\n",
      "0.85 time quantile: 273 transactions suspended to be cansored\n",
      "0.90 time quantile: 254 transactions suspended to be cansored\n",
      "0.91 time quantile: 254 transactions suspended to be cansored\n",
      "0.92 time quantile: 254 transactions suspended to be cansored\n",
      "0.93 time quantile: 240 transactions suspended to be cansored\n",
      "0.94 time quantile: 240 transactions suspended to be cansored\n",
      "0.95 time quantile: 221 transactions suspended to be cansored\n",
      "0.96 time quantile: 212 transactions suspended to be cansored\n",
      "0.97 time quantile: 202 transactions suspended to be cansored\n",
      "0.98 time quantile: 176 transactions suspended to be cansored\n",
      "0.99 time quantile: 141 transactions suspended to be cansored\n",
      "-------------------------------------\n",
      "0.32 fee quantile: 1.50000 gwei | 0.33 fee quantile: 1.50000 gwei\n",
      "0.70 time quantile: 355 transactions suspended to be cansored\n",
      "0.75 time quantile: 355 transactions suspended to be cansored\n",
      "0.80 time quantile: 318 transactions suspended to be cansored\n",
      "0.85 time quantile: 273 transactions suspended to be cansored\n",
      "0.90 time quantile: 254 transactions suspended to be cansored\n",
      "0.91 time quantile: 254 transactions suspended to be cansored\n",
      "0.92 time quantile: 254 transactions suspended to be cansored\n",
      "0.93 time quantile: 240 transactions suspended to be cansored\n",
      "0.94 time quantile: 240 transactions suspended to be cansored\n",
      "0.95 time quantile: 221 transactions suspended to be cansored\n",
      "0.96 time quantile: 212 transactions suspended to be cansored\n",
      "0.97 time quantile: 202 transactions suspended to be cansored\n",
      "0.98 time quantile: 176 transactions suspended to be cansored\n",
      "0.99 time quantile: 141 transactions suspended to be cansored\n",
      "-------------------------------------\n",
      "0.33 fee quantile: 1.50000 gwei | 0.34 fee quantile: 1.50000 gwei\n",
      "0.70 time quantile: 355 transactions suspended to be cansored\n",
      "0.75 time quantile: 355 transactions suspended to be cansored\n",
      "0.80 time quantile: 318 transactions suspended to be cansored\n",
      "0.85 time quantile: 273 transactions suspended to be cansored\n",
      "0.90 time quantile: 254 transactions suspended to be cansored\n",
      "0.91 time quantile: 254 transactions suspended to be cansored\n",
      "0.92 time quantile: 254 transactions suspended to be cansored\n",
      "0.93 time quantile: 240 transactions suspended to be cansored\n",
      "0.94 time quantile: 240 transactions suspended to be cansored\n",
      "0.95 time quantile: 221 transactions suspended to be cansored\n",
      "0.96 time quantile: 212 transactions suspended to be cansored\n",
      "0.97 time quantile: 202 transactions suspended to be cansored\n",
      "0.98 time quantile: 176 transactions suspended to be cansored\n",
      "0.99 time quantile: 141 transactions suspended to be cansored\n",
      "-------------------------------------\n",
      "0.34 fee quantile: 1.50000 gwei | 0.35 fee quantile: 1.50000 gwei\n",
      "0.70 time quantile: 355 transactions suspended to be cansored\n",
      "0.75 time quantile: 355 transactions suspended to be cansored\n",
      "0.80 time quantile: 318 transactions suspended to be cansored\n",
      "0.85 time quantile: 273 transactions suspended to be cansored\n",
      "0.90 time quantile: 254 transactions suspended to be cansored\n",
      "0.91 time quantile: 254 transactions suspended to be cansored\n",
      "0.92 time quantile: 254 transactions suspended to be cansored\n",
      "0.93 time quantile: 240 transactions suspended to be cansored\n",
      "0.94 time quantile: 240 transactions suspended to be cansored\n",
      "0.95 time quantile: 221 transactions suspended to be cansored\n",
      "0.96 time quantile: 212 transactions suspended to be cansored\n",
      "0.97 time quantile: 202 transactions suspended to be cansored\n",
      "0.98 time quantile: 176 transactions suspended to be cansored\n",
      "0.99 time quantile: 141 transactions suspended to be cansored\n",
      "-------------------------------------\n",
      "0.35 fee quantile: 1.50000 gwei | 0.36 fee quantile: 1.50000 gwei\n",
      "0.70 time quantile: 355 transactions suspended to be cansored\n",
      "0.75 time quantile: 355 transactions suspended to be cansored\n",
      "0.80 time quantile: 318 transactions suspended to be cansored\n",
      "0.85 time quantile: 273 transactions suspended to be cansored\n",
      "0.90 time quantile: 254 transactions suspended to be cansored\n",
      "0.91 time quantile: 254 transactions suspended to be cansored\n",
      "0.92 time quantile: 254 transactions suspended to be cansored\n",
      "0.93 time quantile: 240 transactions suspended to be cansored\n",
      "0.94 time quantile: 240 transactions suspended to be cansored\n",
      "0.95 time quantile: 221 transactions suspended to be cansored\n",
      "0.96 time quantile: 212 transactions suspended to be cansored\n",
      "0.97 time quantile: 202 transactions suspended to be cansored\n",
      "0.98 time quantile: 176 transactions suspended to be cansored\n",
      "0.99 time quantile: 141 transactions suspended to be cansored\n",
      "-------------------------------------\n",
      "0.36 fee quantile: 1.50000 gwei | 0.37 fee quantile: 1.50000 gwei\n",
      "0.70 time quantile: 355 transactions suspended to be cansored\n",
      "0.75 time quantile: 355 transactions suspended to be cansored\n",
      "0.80 time quantile: 318 transactions suspended to be cansored\n",
      "0.85 time quantile: 273 transactions suspended to be cansored\n",
      "0.90 time quantile: 254 transactions suspended to be cansored\n",
      "0.91 time quantile: 254 transactions suspended to be cansored\n",
      "0.92 time quantile: 254 transactions suspended to be cansored\n",
      "0.93 time quantile: 240 transactions suspended to be cansored\n",
      "0.94 time quantile: 240 transactions suspended to be cansored\n",
      "0.95 time quantile: 221 transactions suspended to be cansored\n",
      "0.96 time quantile: 212 transactions suspended to be cansored\n",
      "0.97 time quantile: 202 transactions suspended to be cansored\n",
      "0.98 time quantile: 176 transactions suspended to be cansored\n",
      "0.99 time quantile: 141 transactions suspended to be cansored\n",
      "-------------------------------------\n",
      "0.37 fee quantile: 1.50000 gwei | 0.38 fee quantile: 1.50000 gwei\n"
     ]
    },
    {
     "name": "stdout",
     "output_type": "stream",
     "text": [
      "0.70 time quantile: 355 transactions suspended to be cansored\n",
      "0.75 time quantile: 355 transactions suspended to be cansored\n",
      "0.80 time quantile: 318 transactions suspended to be cansored\n",
      "0.85 time quantile: 273 transactions suspended to be cansored\n",
      "0.90 time quantile: 254 transactions suspended to be cansored\n",
      "0.91 time quantile: 254 transactions suspended to be cansored\n",
      "0.92 time quantile: 254 transactions suspended to be cansored\n",
      "0.93 time quantile: 240 transactions suspended to be cansored\n",
      "0.94 time quantile: 240 transactions suspended to be cansored\n",
      "0.95 time quantile: 221 transactions suspended to be cansored\n",
      "0.96 time quantile: 212 transactions suspended to be cansored\n",
      "0.97 time quantile: 202 transactions suspended to be cansored\n",
      "0.98 time quantile: 176 transactions suspended to be cansored\n",
      "0.99 time quantile: 141 transactions suspended to be cansored\n",
      "-------------------------------------\n",
      "0.38 fee quantile: 1.50000 gwei | 0.39 fee quantile: 1.50000 gwei\n",
      "0.70 time quantile: 355 transactions suspended to be cansored\n",
      "0.75 time quantile: 355 transactions suspended to be cansored\n",
      "0.80 time quantile: 318 transactions suspended to be cansored\n",
      "0.85 time quantile: 273 transactions suspended to be cansored\n",
      "0.90 time quantile: 254 transactions suspended to be cansored\n",
      "0.91 time quantile: 254 transactions suspended to be cansored\n",
      "0.92 time quantile: 254 transactions suspended to be cansored\n",
      "0.93 time quantile: 240 transactions suspended to be cansored\n",
      "0.94 time quantile: 240 transactions suspended to be cansored\n",
      "0.95 time quantile: 221 transactions suspended to be cansored\n",
      "0.96 time quantile: 212 transactions suspended to be cansored\n",
      "0.97 time quantile: 202 transactions suspended to be cansored\n",
      "0.98 time quantile: 176 transactions suspended to be cansored\n",
      "0.99 time quantile: 141 transactions suspended to be cansored\n",
      "-------------------------------------\n",
      "0.39 fee quantile: 1.50000 gwei | 0.40 fee quantile: 1.50000 gwei\n",
      "0.70 time quantile: 355 transactions suspended to be cansored\n",
      "0.75 time quantile: 355 transactions suspended to be cansored\n",
      "0.80 time quantile: 318 transactions suspended to be cansored\n",
      "0.85 time quantile: 273 transactions suspended to be cansored\n",
      "0.90 time quantile: 254 transactions suspended to be cansored\n",
      "0.91 time quantile: 254 transactions suspended to be cansored\n",
      "0.92 time quantile: 254 transactions suspended to be cansored\n",
      "0.93 time quantile: 240 transactions suspended to be cansored\n",
      "0.94 time quantile: 240 transactions suspended to be cansored\n",
      "0.95 time quantile: 221 transactions suspended to be cansored\n",
      "0.96 time quantile: 212 transactions suspended to be cansored\n",
      "0.97 time quantile: 202 transactions suspended to be cansored\n",
      "0.98 time quantile: 176 transactions suspended to be cansored\n",
      "0.99 time quantile: 141 transactions suspended to be cansored\n",
      "-------------------------------------\n",
      "0.40 fee quantile: 1.50000 gwei | 0.41 fee quantile: 1.50000 gwei\n",
      "0.70 time quantile: 355 transactions suspended to be cansored\n",
      "0.75 time quantile: 355 transactions suspended to be cansored\n",
      "0.80 time quantile: 318 transactions suspended to be cansored\n",
      "0.85 time quantile: 273 transactions suspended to be cansored\n",
      "0.90 time quantile: 254 transactions suspended to be cansored\n",
      "0.91 time quantile: 254 transactions suspended to be cansored\n",
      "0.92 time quantile: 254 transactions suspended to be cansored\n",
      "0.93 time quantile: 240 transactions suspended to be cansored\n",
      "0.94 time quantile: 240 transactions suspended to be cansored\n",
      "0.95 time quantile: 221 transactions suspended to be cansored\n",
      "0.96 time quantile: 212 transactions suspended to be cansored\n",
      "0.97 time quantile: 202 transactions suspended to be cansored\n",
      "0.98 time quantile: 176 transactions suspended to be cansored\n",
      "0.99 time quantile: 141 transactions suspended to be cansored\n",
      "-------------------------------------\n",
      "0.41 fee quantile: 1.50000 gwei | 0.42 fee quantile: 1.50000 gwei\n",
      "0.70 time quantile: 355 transactions suspended to be cansored\n",
      "0.75 time quantile: 355 transactions suspended to be cansored\n",
      "0.80 time quantile: 318 transactions suspended to be cansored\n",
      "0.85 time quantile: 273 transactions suspended to be cansored\n",
      "0.90 time quantile: 254 transactions suspended to be cansored\n",
      "0.91 time quantile: 254 transactions suspended to be cansored\n",
      "0.92 time quantile: 254 transactions suspended to be cansored\n",
      "0.93 time quantile: 240 transactions suspended to be cansored\n",
      "0.94 time quantile: 240 transactions suspended to be cansored\n",
      "0.95 time quantile: 221 transactions suspended to be cansored\n",
      "0.96 time quantile: 212 transactions suspended to be cansored\n",
      "0.97 time quantile: 202 transactions suspended to be cansored\n",
      "0.98 time quantile: 176 transactions suspended to be cansored\n",
      "0.99 time quantile: 141 transactions suspended to be cansored\n",
      "-------------------------------------\n",
      "0.42 fee quantile: 1.50000 gwei | 0.43 fee quantile: 1.50000 gwei\n",
      "0.70 time quantile: 355 transactions suspended to be cansored\n",
      "0.75 time quantile: 355 transactions suspended to be cansored\n",
      "0.80 time quantile: 318 transactions suspended to be cansored\n",
      "0.85 time quantile: 273 transactions suspended to be cansored\n",
      "0.90 time quantile: 254 transactions suspended to be cansored\n",
      "0.91 time quantile: 254 transactions suspended to be cansored\n",
      "0.92 time quantile: 254 transactions suspended to be cansored\n",
      "0.93 time quantile: 240 transactions suspended to be cansored\n",
      "0.94 time quantile: 240 transactions suspended to be cansored\n",
      "0.95 time quantile: 221 transactions suspended to be cansored\n",
      "0.96 time quantile: 212 transactions suspended to be cansored\n",
      "0.97 time quantile: 202 transactions suspended to be cansored\n",
      "0.98 time quantile: 176 transactions suspended to be cansored\n",
      "0.99 time quantile: 141 transactions suspended to be cansored\n",
      "-------------------------------------\n",
      "0.43 fee quantile: 1.50000 gwei | 0.44 fee quantile: 1.50000 gwei\n",
      "0.70 time quantile: 355 transactions suspended to be cansored\n",
      "0.75 time quantile: 355 transactions suspended to be cansored\n",
      "0.80 time quantile: 318 transactions suspended to be cansored\n",
      "0.85 time quantile: 273 transactions suspended to be cansored\n",
      "0.90 time quantile: 254 transactions suspended to be cansored\n",
      "0.91 time quantile: 254 transactions suspended to be cansored\n",
      "0.92 time quantile: 254 transactions suspended to be cansored\n",
      "0.93 time quantile: 240 transactions suspended to be cansored\n",
      "0.94 time quantile: 240 transactions suspended to be cansored\n",
      "0.95 time quantile: 221 transactions suspended to be cansored\n",
      "0.96 time quantile: 212 transactions suspended to be cansored\n",
      "0.97 time quantile: 202 transactions suspended to be cansored\n",
      "0.98 time quantile: 176 transactions suspended to be cansored\n",
      "0.99 time quantile: 141 transactions suspended to be cansored\n",
      "-------------------------------------\n",
      "0.44 fee quantile: 1.50000 gwei | 0.45 fee quantile: 1.50000 gwei\n",
      "0.70 time quantile: 355 transactions suspended to be cansored\n",
      "0.75 time quantile: 355 transactions suspended to be cansored\n",
      "0.80 time quantile: 318 transactions suspended to be cansored\n",
      "0.85 time quantile: 273 transactions suspended to be cansored\n",
      "0.90 time quantile: 254 transactions suspended to be cansored\n",
      "0.91 time quantile: 254 transactions suspended to be cansored\n",
      "0.92 time quantile: 254 transactions suspended to be cansored\n",
      "0.93 time quantile: 240 transactions suspended to be cansored\n",
      "0.94 time quantile: 240 transactions suspended to be cansored\n",
      "0.95 time quantile: 221 transactions suspended to be cansored\n",
      "0.96 time quantile: 212 transactions suspended to be cansored\n",
      "0.97 time quantile: 202 transactions suspended to be cansored\n",
      "0.98 time quantile: 176 transactions suspended to be cansored\n",
      "0.99 time quantile: 141 transactions suspended to be cansored\n",
      "-------------------------------------\n",
      "0.45 fee quantile: 1.50000 gwei | 0.46 fee quantile: 1.50000 gwei\n",
      "0.70 time quantile: 355 transactions suspended to be cansored\n",
      "0.75 time quantile: 355 transactions suspended to be cansored\n",
      "0.80 time quantile: 318 transactions suspended to be cansored\n",
      "0.85 time quantile: 273 transactions suspended to be cansored\n",
      "0.90 time quantile: 254 transactions suspended to be cansored\n",
      "0.91 time quantile: 254 transactions suspended to be cansored\n",
      "0.92 time quantile: 254 transactions suspended to be cansored\n",
      "0.93 time quantile: 240 transactions suspended to be cansored\n",
      "0.94 time quantile: 240 transactions suspended to be cansored\n",
      "0.95 time quantile: 221 transactions suspended to be cansored\n",
      "0.96 time quantile: 212 transactions suspended to be cansored\n",
      "0.97 time quantile: 202 transactions suspended to be cansored\n",
      "0.98 time quantile: 176 transactions suspended to be cansored\n",
      "0.99 time quantile: 141 transactions suspended to be cansored\n",
      "-------------------------------------\n",
      "0.46 fee quantile: 1.50000 gwei | 0.47 fee quantile: 1.50000 gwei\n"
     ]
    },
    {
     "name": "stdout",
     "output_type": "stream",
     "text": [
      "0.70 time quantile: 355 transactions suspended to be cansored\n",
      "0.75 time quantile: 355 transactions suspended to be cansored\n",
      "0.80 time quantile: 318 transactions suspended to be cansored\n",
      "0.85 time quantile: 273 transactions suspended to be cansored\n",
      "0.90 time quantile: 254 transactions suspended to be cansored\n",
      "0.91 time quantile: 254 transactions suspended to be cansored\n",
      "0.92 time quantile: 254 transactions suspended to be cansored\n",
      "0.93 time quantile: 240 transactions suspended to be cansored\n",
      "0.94 time quantile: 240 transactions suspended to be cansored\n",
      "0.95 time quantile: 221 transactions suspended to be cansored\n",
      "0.96 time quantile: 212 transactions suspended to be cansored\n",
      "0.97 time quantile: 202 transactions suspended to be cansored\n",
      "0.98 time quantile: 176 transactions suspended to be cansored\n",
      "0.99 time quantile: 141 transactions suspended to be cansored\n",
      "-------------------------------------\n",
      "0.47 fee quantile: 1.50000 gwei | 0.48 fee quantile: 1.50000 gwei\n",
      "0.70 time quantile: 355 transactions suspended to be cansored\n",
      "0.75 time quantile: 355 transactions suspended to be cansored\n",
      "0.80 time quantile: 318 transactions suspended to be cansored\n",
      "0.85 time quantile: 273 transactions suspended to be cansored\n",
      "0.90 time quantile: 254 transactions suspended to be cansored\n",
      "0.91 time quantile: 254 transactions suspended to be cansored\n",
      "0.92 time quantile: 254 transactions suspended to be cansored\n",
      "0.93 time quantile: 240 transactions suspended to be cansored\n",
      "0.94 time quantile: 240 transactions suspended to be cansored\n",
      "0.95 time quantile: 221 transactions suspended to be cansored\n",
      "0.96 time quantile: 212 transactions suspended to be cansored\n",
      "0.97 time quantile: 202 transactions suspended to be cansored\n",
      "0.98 time quantile: 176 transactions suspended to be cansored\n",
      "0.99 time quantile: 141 transactions suspended to be cansored\n",
      "-------------------------------------\n",
      "0.48 fee quantile: 1.50000 gwei | 0.49 fee quantile: 1.50000 gwei\n",
      "0.70 time quantile: 355 transactions suspended to be cansored\n",
      "0.75 time quantile: 355 transactions suspended to be cansored\n",
      "0.80 time quantile: 318 transactions suspended to be cansored\n",
      "0.85 time quantile: 273 transactions suspended to be cansored\n",
      "0.90 time quantile: 254 transactions suspended to be cansored\n",
      "0.91 time quantile: 254 transactions suspended to be cansored\n",
      "0.92 time quantile: 254 transactions suspended to be cansored\n",
      "0.93 time quantile: 240 transactions suspended to be cansored\n",
      "0.94 time quantile: 240 transactions suspended to be cansored\n",
      "0.95 time quantile: 221 transactions suspended to be cansored\n",
      "0.96 time quantile: 212 transactions suspended to be cansored\n",
      "0.97 time quantile: 202 transactions suspended to be cansored\n",
      "0.98 time quantile: 176 transactions suspended to be cansored\n",
      "0.99 time quantile: 141 transactions suspended to be cansored\n",
      "-------------------------------------\n",
      "0.49 fee quantile: 1.50000 gwei | 0.50 fee quantile: 1.50000 gwei\n",
      "0.70 time quantile: 355 transactions suspended to be cansored\n",
      "0.75 time quantile: 355 transactions suspended to be cansored\n",
      "0.80 time quantile: 318 transactions suspended to be cansored\n",
      "0.85 time quantile: 273 transactions suspended to be cansored\n",
      "0.90 time quantile: 254 transactions suspended to be cansored\n",
      "0.91 time quantile: 254 transactions suspended to be cansored\n",
      "0.92 time quantile: 254 transactions suspended to be cansored\n",
      "0.93 time quantile: 240 transactions suspended to be cansored\n",
      "0.94 time quantile: 240 transactions suspended to be cansored\n",
      "0.95 time quantile: 221 transactions suspended to be cansored\n",
      "0.96 time quantile: 212 transactions suspended to be cansored\n",
      "0.97 time quantile: 202 transactions suspended to be cansored\n",
      "0.98 time quantile: 176 transactions suspended to be cansored\n",
      "0.99 time quantile: 141 transactions suspended to be cansored\n",
      "-------------------------------------\n",
      "0.50 fee quantile: 1.50000 gwei | 0.51 fee quantile: 1.50000 gwei\n",
      "0.70 time quantile: 355 transactions suspended to be cansored\n",
      "0.75 time quantile: 355 transactions suspended to be cansored\n",
      "0.80 time quantile: 318 transactions suspended to be cansored\n",
      "0.85 time quantile: 273 transactions suspended to be cansored\n",
      "0.90 time quantile: 254 transactions suspended to be cansored\n",
      "0.91 time quantile: 254 transactions suspended to be cansored\n",
      "0.92 time quantile: 254 transactions suspended to be cansored\n",
      "0.93 time quantile: 240 transactions suspended to be cansored\n",
      "0.94 time quantile: 240 transactions suspended to be cansored\n",
      "0.95 time quantile: 221 transactions suspended to be cansored\n",
      "0.96 time quantile: 212 transactions suspended to be cansored\n",
      "0.97 time quantile: 202 transactions suspended to be cansored\n",
      "0.98 time quantile: 176 transactions suspended to be cansored\n",
      "0.99 time quantile: 141 transactions suspended to be cansored\n",
      "-------------------------------------\n",
      "0.51 fee quantile: 1.50000 gwei | 0.52 fee quantile: 1.50000 gwei\n",
      "0.70 time quantile: 355 transactions suspended to be cansored\n",
      "0.75 time quantile: 355 transactions suspended to be cansored\n",
      "0.80 time quantile: 318 transactions suspended to be cansored\n",
      "0.85 time quantile: 273 transactions suspended to be cansored\n",
      "0.90 time quantile: 254 transactions suspended to be cansored\n",
      "0.91 time quantile: 254 transactions suspended to be cansored\n",
      "0.92 time quantile: 254 transactions suspended to be cansored\n",
      "0.93 time quantile: 240 transactions suspended to be cansored\n",
      "0.94 time quantile: 240 transactions suspended to be cansored\n",
      "0.95 time quantile: 221 transactions suspended to be cansored\n",
      "0.96 time quantile: 212 transactions suspended to be cansored\n",
      "0.97 time quantile: 202 transactions suspended to be cansored\n",
      "0.98 time quantile: 176 transactions suspended to be cansored\n",
      "0.99 time quantile: 141 transactions suspended to be cansored\n",
      "-------------------------------------\n",
      "0.52 fee quantile: 1.50000 gwei | 0.53 fee quantile: 1.50000 gwei\n",
      "0.70 time quantile: 355 transactions suspended to be cansored\n",
      "0.75 time quantile: 355 transactions suspended to be cansored\n",
      "0.80 time quantile: 318 transactions suspended to be cansored\n",
      "0.85 time quantile: 273 transactions suspended to be cansored\n",
      "0.90 time quantile: 254 transactions suspended to be cansored\n",
      "0.91 time quantile: 254 transactions suspended to be cansored\n",
      "0.92 time quantile: 254 transactions suspended to be cansored\n",
      "0.93 time quantile: 240 transactions suspended to be cansored\n",
      "0.94 time quantile: 240 transactions suspended to be cansored\n",
      "0.95 time quantile: 221 transactions suspended to be cansored\n",
      "0.96 time quantile: 212 transactions suspended to be cansored\n",
      "0.97 time quantile: 202 transactions suspended to be cansored\n",
      "0.98 time quantile: 176 transactions suspended to be cansored\n",
      "0.99 time quantile: 141 transactions suspended to be cansored\n",
      "-------------------------------------\n",
      "0.53 fee quantile: 1.50000 gwei | 0.54 fee quantile: 1.50000 gwei\n",
      "0.70 time quantile: 355 transactions suspended to be cansored\n",
      "0.75 time quantile: 355 transactions suspended to be cansored\n",
      "0.80 time quantile: 318 transactions suspended to be cansored\n",
      "0.85 time quantile: 273 transactions suspended to be cansored\n",
      "0.90 time quantile: 254 transactions suspended to be cansored\n",
      "0.91 time quantile: 254 transactions suspended to be cansored\n",
      "0.92 time quantile: 254 transactions suspended to be cansored\n",
      "0.93 time quantile: 240 transactions suspended to be cansored\n",
      "0.94 time quantile: 240 transactions suspended to be cansored\n",
      "0.95 time quantile: 221 transactions suspended to be cansored\n",
      "0.96 time quantile: 212 transactions suspended to be cansored\n",
      "0.97 time quantile: 202 transactions suspended to be cansored\n",
      "0.98 time quantile: 176 transactions suspended to be cansored\n",
      "0.99 time quantile: 141 transactions suspended to be cansored\n",
      "-------------------------------------\n",
      "0.54 fee quantile: 1.50000 gwei | 0.55 fee quantile: 1.50000 gwei\n",
      "0.70 time quantile: 355 transactions suspended to be cansored\n",
      "0.75 time quantile: 355 transactions suspended to be cansored\n",
      "0.80 time quantile: 318 transactions suspended to be cansored\n",
      "0.85 time quantile: 273 transactions suspended to be cansored\n",
      "0.90 time quantile: 254 transactions suspended to be cansored\n",
      "0.91 time quantile: 254 transactions suspended to be cansored\n",
      "0.92 time quantile: 254 transactions suspended to be cansored\n",
      "0.93 time quantile: 240 transactions suspended to be cansored\n",
      "0.94 time quantile: 240 transactions suspended to be cansored\n",
      "0.95 time quantile: 221 transactions suspended to be cansored\n",
      "0.96 time quantile: 212 transactions suspended to be cansored\n",
      "0.97 time quantile: 202 transactions suspended to be cansored\n",
      "0.98 time quantile: 176 transactions suspended to be cansored\n",
      "0.99 time quantile: 141 transactions suspended to be cansored\n",
      "-------------------------------------\n",
      "0.55 fee quantile: 1.50000 gwei | 0.56 fee quantile: 1.50000 gwei\n"
     ]
    },
    {
     "name": "stdout",
     "output_type": "stream",
     "text": [
      "0.70 time quantile: 355 transactions suspended to be cansored\n",
      "0.75 time quantile: 355 transactions suspended to be cansored\n",
      "0.80 time quantile: 318 transactions suspended to be cansored\n",
      "0.85 time quantile: 273 transactions suspended to be cansored\n",
      "0.90 time quantile: 254 transactions suspended to be cansored\n",
      "0.91 time quantile: 254 transactions suspended to be cansored\n",
      "0.92 time quantile: 254 transactions suspended to be cansored\n",
      "0.93 time quantile: 240 transactions suspended to be cansored\n",
      "0.94 time quantile: 240 transactions suspended to be cansored\n",
      "0.95 time quantile: 221 transactions suspended to be cansored\n",
      "0.96 time quantile: 212 transactions suspended to be cansored\n",
      "0.97 time quantile: 202 transactions suspended to be cansored\n",
      "0.98 time quantile: 176 transactions suspended to be cansored\n",
      "0.99 time quantile: 141 transactions suspended to be cansored\n",
      "-------------------------------------\n",
      "0.56 fee quantile: 1.50000 gwei | 0.57 fee quantile: 1.50000 gwei\n",
      "0.70 time quantile: 355 transactions suspended to be cansored\n",
      "0.75 time quantile: 355 transactions suspended to be cansored\n",
      "0.80 time quantile: 318 transactions suspended to be cansored\n",
      "0.85 time quantile: 273 transactions suspended to be cansored\n",
      "0.90 time quantile: 254 transactions suspended to be cansored\n",
      "0.91 time quantile: 254 transactions suspended to be cansored\n",
      "0.92 time quantile: 254 transactions suspended to be cansored\n",
      "0.93 time quantile: 240 transactions suspended to be cansored\n",
      "0.94 time quantile: 240 transactions suspended to be cansored\n",
      "0.95 time quantile: 221 transactions suspended to be cansored\n",
      "0.96 time quantile: 212 transactions suspended to be cansored\n",
      "0.97 time quantile: 202 transactions suspended to be cansored\n",
      "0.98 time quantile: 176 transactions suspended to be cansored\n",
      "0.99 time quantile: 141 transactions suspended to be cansored\n",
      "-------------------------------------\n",
      "0.57 fee quantile: 1.50000 gwei | 0.58 fee quantile: 1.50000 gwei\n",
      "0.70 time quantile: 355 transactions suspended to be cansored\n",
      "0.75 time quantile: 355 transactions suspended to be cansored\n",
      "0.80 time quantile: 318 transactions suspended to be cansored\n",
      "0.85 time quantile: 273 transactions suspended to be cansored\n",
      "0.90 time quantile: 254 transactions suspended to be cansored\n",
      "0.91 time quantile: 254 transactions suspended to be cansored\n",
      "0.92 time quantile: 254 transactions suspended to be cansored\n",
      "0.93 time quantile: 240 transactions suspended to be cansored\n",
      "0.94 time quantile: 240 transactions suspended to be cansored\n",
      "0.95 time quantile: 221 transactions suspended to be cansored\n",
      "0.96 time quantile: 212 transactions suspended to be cansored\n",
      "0.97 time quantile: 202 transactions suspended to be cansored\n",
      "0.98 time quantile: 176 transactions suspended to be cansored\n",
      "0.99 time quantile: 141 transactions suspended to be cansored\n",
      "-------------------------------------\n",
      "0.58 fee quantile: 1.50000 gwei | 0.59 fee quantile: 1.50000 gwei\n",
      "0.70 time quantile: 355 transactions suspended to be cansored\n",
      "0.75 time quantile: 355 transactions suspended to be cansored\n",
      "0.80 time quantile: 318 transactions suspended to be cansored\n",
      "0.85 time quantile: 273 transactions suspended to be cansored\n",
      "0.90 time quantile: 254 transactions suspended to be cansored\n",
      "0.91 time quantile: 254 transactions suspended to be cansored\n",
      "0.92 time quantile: 254 transactions suspended to be cansored\n",
      "0.93 time quantile: 240 transactions suspended to be cansored\n",
      "0.94 time quantile: 240 transactions suspended to be cansored\n",
      "0.95 time quantile: 221 transactions suspended to be cansored\n",
      "0.96 time quantile: 212 transactions suspended to be cansored\n",
      "0.97 time quantile: 202 transactions suspended to be cansored\n",
      "0.98 time quantile: 176 transactions suspended to be cansored\n",
      "0.99 time quantile: 141 transactions suspended to be cansored\n",
      "-------------------------------------\n",
      "0.59 fee quantile: 1.50000 gwei | 0.60 fee quantile: 1.50000 gwei\n",
      "0.70 time quantile: 355 transactions suspended to be cansored\n",
      "0.75 time quantile: 355 transactions suspended to be cansored\n",
      "0.80 time quantile: 318 transactions suspended to be cansored\n",
      "0.85 time quantile: 273 transactions suspended to be cansored\n",
      "0.90 time quantile: 254 transactions suspended to be cansored\n",
      "0.91 time quantile: 254 transactions suspended to be cansored\n",
      "0.92 time quantile: 254 transactions suspended to be cansored\n",
      "0.93 time quantile: 240 transactions suspended to be cansored\n",
      "0.94 time quantile: 240 transactions suspended to be cansored\n",
      "0.95 time quantile: 221 transactions suspended to be cansored\n",
      "0.96 time quantile: 212 transactions suspended to be cansored\n",
      "0.97 time quantile: 202 transactions suspended to be cansored\n",
      "0.98 time quantile: 176 transactions suspended to be cansored\n",
      "0.99 time quantile: 141 transactions suspended to be cansored\n",
      "-------------------------------------\n",
      "0.60 fee quantile: 1.50000 gwei | 0.61 fee quantile: 1.50000 gwei\n",
      "0.70 time quantile: 371 transactions suspended to be cansored\n",
      "0.75 time quantile: 371 transactions suspended to be cansored\n",
      "0.80 time quantile: 333 transactions suspended to be cansored\n",
      "0.85 time quantile: 287 transactions suspended to be cansored\n",
      "0.90 time quantile: 268 transactions suspended to be cansored\n",
      "0.91 time quantile: 268 transactions suspended to be cansored\n",
      "0.92 time quantile: 268 transactions suspended to be cansored\n",
      "0.93 time quantile: 254 transactions suspended to be cansored\n",
      "0.94 time quantile: 254 transactions suspended to be cansored\n",
      "0.95 time quantile: 235 transactions suspended to be cansored\n",
      "0.96 time quantile: 223 transactions suspended to be cansored\n",
      "0.97 time quantile: 212 transactions suspended to be cansored\n",
      "0.98 time quantile: 184 transactions suspended to be cansored\n",
      "0.99 time quantile: 148 transactions suspended to be cansored\n",
      "-------------------------------------\n",
      "0.61 fee quantile: 1.50000 gwei | 0.62 fee quantile: 1.55104 gwei\n",
      "0.70 time quantile: 23 transactions suspended to be cansored\n",
      "0.75 time quantile: 20 transactions suspended to be cansored\n",
      "0.80 time quantile: 20 transactions suspended to be cansored\n",
      "0.85 time quantile: 18 transactions suspended to be cansored\n",
      "0.90 time quantile: 18 transactions suspended to be cansored\n",
      "0.91 time quantile: 18 transactions suspended to be cansored\n",
      "0.92 time quantile: 18 transactions suspended to be cansored\n",
      "0.93 time quantile: 18 transactions suspended to be cansored\n",
      "0.94 time quantile: 18 transactions suspended to be cansored\n",
      "0.95 time quantile: 17 transactions suspended to be cansored\n",
      "0.96 time quantile: 13 transactions suspended to be cansored\n",
      "0.97 time quantile: 11 transactions suspended to be cansored\n",
      "0.98 time quantile: 11 transactions suspended to be cansored\n",
      "0.99 time quantile: 10 transactions suspended to be cansored\n",
      "-------------------------------------\n",
      "0.62 fee quantile: 1.55104 gwei | 0.63 fee quantile: 1.71701 gwei\n",
      "0.70 time quantile: 24 transactions suspended to be cansored\n",
      "0.75 time quantile: 22 transactions suspended to be cansored\n",
      "0.80 time quantile: 20 transactions suspended to be cansored\n",
      "0.85 time quantile: 19 transactions suspended to be cansored\n",
      "0.90 time quantile: 17 transactions suspended to be cansored\n",
      "0.91 time quantile: 17 transactions suspended to be cansored\n",
      "0.92 time quantile: 17 transactions suspended to be cansored\n",
      "0.93 time quantile: 16 transactions suspended to be cansored\n",
      "0.94 time quantile: 16 transactions suspended to be cansored\n",
      "0.95 time quantile: 14 transactions suspended to be cansored\n",
      "0.96 time quantile: 11 transactions suspended to be cansored\n",
      "0.97 time quantile: 5 transactions suspended to be cansored\n",
      "0.98 time quantile: 1 transactions suspended to be cansored\n",
      "0.99 time quantile: 0 transactions suspended to be cansored\n",
      "-------------------------------------\n",
      "0.63 fee quantile: 1.71701 gwei | 0.64 fee quantile: 1.93029 gwei\n",
      "0.70 time quantile: 13 transactions suspended to be cansored\n",
      "0.75 time quantile: 12 transactions suspended to be cansored\n",
      "0.80 time quantile: 11 transactions suspended to be cansored\n",
      "0.85 time quantile: 11 transactions suspended to be cansored\n",
      "0.90 time quantile: 9 transactions suspended to be cansored\n",
      "0.91 time quantile: 9 transactions suspended to be cansored\n",
      "0.92 time quantile: 8 transactions suspended to be cansored\n",
      "0.93 time quantile: 6 transactions suspended to be cansored\n",
      "0.94 time quantile: 5 transactions suspended to be cansored\n",
      "0.95 time quantile: 5 transactions suspended to be cansored\n",
      "0.96 time quantile: 4 transactions suspended to be cansored\n",
      "0.97 time quantile: 2 transactions suspended to be cansored\n"
     ]
    },
    {
     "name": "stdout",
     "output_type": "stream",
     "text": [
      "0.98 time quantile: 0 transactions suspended to be cansored\n",
      "0.99 time quantile: 0 transactions suspended to be cansored\n",
      "-------------------------------------\n",
      "0.64 fee quantile: 1.93029 gwei | 0.65 fee quantile: 2.00000 gwei\n",
      "0.70 time quantile: 213 transactions suspended to be cansored\n",
      "0.75 time quantile: 207 transactions suspended to be cansored\n",
      "0.80 time quantile: 207 transactions suspended to be cansored\n",
      "0.85 time quantile: 196 transactions suspended to be cansored\n",
      "0.90 time quantile: 190 transactions suspended to be cansored\n",
      "0.91 time quantile: 190 transactions suspended to be cansored\n",
      "0.92 time quantile: 190 transactions suspended to be cansored\n",
      "0.93 time quantile: 190 transactions suspended to be cansored\n",
      "0.94 time quantile: 188 transactions suspended to be cansored\n",
      "0.95 time quantile: 186 transactions suspended to be cansored\n",
      "0.96 time quantile: 180 transactions suspended to be cansored\n",
      "0.97 time quantile: 174 transactions suspended to be cansored\n",
      "0.98 time quantile: 156 transactions suspended to be cansored\n",
      "0.99 time quantile: 135 transactions suspended to be cansored\n",
      "-------------------------------------\n",
      "0.65 fee quantile: 2.00000 gwei | 0.66 fee quantile: 2.00000 gwei\n",
      "0.70 time quantile: 205 transactions suspended to be cansored\n",
      "0.75 time quantile: 200 transactions suspended to be cansored\n",
      "0.80 time quantile: 200 transactions suspended to be cansored\n",
      "0.85 time quantile: 189 transactions suspended to be cansored\n",
      "0.90 time quantile: 184 transactions suspended to be cansored\n",
      "0.91 time quantile: 184 transactions suspended to be cansored\n",
      "0.92 time quantile: 184 transactions suspended to be cansored\n",
      "0.93 time quantile: 184 transactions suspended to be cansored\n",
      "0.94 time quantile: 182 transactions suspended to be cansored\n",
      "0.95 time quantile: 180 transactions suspended to be cansored\n",
      "0.96 time quantile: 174 transactions suspended to be cansored\n",
      "0.97 time quantile: 168 transactions suspended to be cansored\n",
      "0.98 time quantile: 150 transactions suspended to be cansored\n",
      "0.99 time quantile: 130 transactions suspended to be cansored\n",
      "-------------------------------------\n",
      "0.66 fee quantile: 2.00000 gwei | 0.67 fee quantile: 2.00000 gwei\n",
      "0.70 time quantile: 205 transactions suspended to be cansored\n",
      "0.75 time quantile: 200 transactions suspended to be cansored\n",
      "0.80 time quantile: 200 transactions suspended to be cansored\n",
      "0.85 time quantile: 189 transactions suspended to be cansored\n",
      "0.90 time quantile: 184 transactions suspended to be cansored\n",
      "0.91 time quantile: 184 transactions suspended to be cansored\n",
      "0.92 time quantile: 184 transactions suspended to be cansored\n",
      "0.93 time quantile: 184 transactions suspended to be cansored\n",
      "0.94 time quantile: 182 transactions suspended to be cansored\n",
      "0.95 time quantile: 180 transactions suspended to be cansored\n",
      "0.96 time quantile: 174 transactions suspended to be cansored\n",
      "0.97 time quantile: 168 transactions suspended to be cansored\n",
      "0.98 time quantile: 150 transactions suspended to be cansored\n",
      "0.99 time quantile: 130 transactions suspended to be cansored\n",
      "-------------------------------------\n",
      "0.67 fee quantile: 2.00000 gwei | 0.68 fee quantile: 2.00000 gwei\n",
      "0.70 time quantile: 205 transactions suspended to be cansored\n",
      "0.75 time quantile: 200 transactions suspended to be cansored\n",
      "0.80 time quantile: 200 transactions suspended to be cansored\n",
      "0.85 time quantile: 189 transactions suspended to be cansored\n",
      "0.90 time quantile: 184 transactions suspended to be cansored\n",
      "0.91 time quantile: 184 transactions suspended to be cansored\n",
      "0.92 time quantile: 184 transactions suspended to be cansored\n",
      "0.93 time quantile: 184 transactions suspended to be cansored\n",
      "0.94 time quantile: 182 transactions suspended to be cansored\n",
      "0.95 time quantile: 180 transactions suspended to be cansored\n",
      "0.96 time quantile: 174 transactions suspended to be cansored\n",
      "0.97 time quantile: 168 transactions suspended to be cansored\n",
      "0.98 time quantile: 150 transactions suspended to be cansored\n",
      "0.99 time quantile: 130 transactions suspended to be cansored\n",
      "-------------------------------------\n",
      "0.68 fee quantile: 2.00000 gwei | 0.69 fee quantile: 2.00000 gwei\n",
      "0.70 time quantile: 205 transactions suspended to be cansored\n",
      "0.75 time quantile: 200 transactions suspended to be cansored\n",
      "0.80 time quantile: 200 transactions suspended to be cansored\n",
      "0.85 time quantile: 189 transactions suspended to be cansored\n",
      "0.90 time quantile: 184 transactions suspended to be cansored\n",
      "0.91 time quantile: 184 transactions suspended to be cansored\n",
      "0.92 time quantile: 184 transactions suspended to be cansored\n",
      "0.93 time quantile: 184 transactions suspended to be cansored\n",
      "0.94 time quantile: 182 transactions suspended to be cansored\n",
      "0.95 time quantile: 180 transactions suspended to be cansored\n",
      "0.96 time quantile: 174 transactions suspended to be cansored\n",
      "0.97 time quantile: 168 transactions suspended to be cansored\n",
      "0.98 time quantile: 150 transactions suspended to be cansored\n",
      "0.99 time quantile: 130 transactions suspended to be cansored\n",
      "-------------------------------------\n",
      "0.69 fee quantile: 2.00000 gwei | 0.70 fee quantile: 2.00000 gwei\n",
      "0.70 time quantile: 205 transactions suspended to be cansored\n",
      "0.75 time quantile: 200 transactions suspended to be cansored\n",
      "0.80 time quantile: 200 transactions suspended to be cansored\n",
      "0.85 time quantile: 189 transactions suspended to be cansored\n",
      "0.90 time quantile: 184 transactions suspended to be cansored\n",
      "0.91 time quantile: 184 transactions suspended to be cansored\n",
      "0.92 time quantile: 184 transactions suspended to be cansored\n",
      "0.93 time quantile: 184 transactions suspended to be cansored\n",
      "0.94 time quantile: 182 transactions suspended to be cansored\n",
      "0.95 time quantile: 180 transactions suspended to be cansored\n",
      "0.96 time quantile: 174 transactions suspended to be cansored\n",
      "0.97 time quantile: 168 transactions suspended to be cansored\n",
      "0.98 time quantile: 150 transactions suspended to be cansored\n",
      "0.99 time quantile: 130 transactions suspended to be cansored\n",
      "-------------------------------------\n",
      "0.70 fee quantile: 2.00000 gwei | 0.71 fee quantile: 2.00000 gwei\n",
      "0.70 time quantile: 205 transactions suspended to be cansored\n",
      "0.75 time quantile: 200 transactions suspended to be cansored\n",
      "0.80 time quantile: 200 transactions suspended to be cansored\n",
      "0.85 time quantile: 189 transactions suspended to be cansored\n",
      "0.90 time quantile: 184 transactions suspended to be cansored\n",
      "0.91 time quantile: 184 transactions suspended to be cansored\n",
      "0.92 time quantile: 184 transactions suspended to be cansored\n",
      "0.93 time quantile: 184 transactions suspended to be cansored\n",
      "0.94 time quantile: 182 transactions suspended to be cansored\n",
      "0.95 time quantile: 180 transactions suspended to be cansored\n",
      "0.96 time quantile: 174 transactions suspended to be cansored\n",
      "0.97 time quantile: 168 transactions suspended to be cansored\n",
      "0.98 time quantile: 150 transactions suspended to be cansored\n",
      "0.99 time quantile: 130 transactions suspended to be cansored\n",
      "-------------------------------------\n",
      "0.71 fee quantile: 2.00000 gwei | 0.72 fee quantile: 2.00000 gwei\n",
      "0.70 time quantile: 205 transactions suspended to be cansored\n",
      "0.75 time quantile: 200 transactions suspended to be cansored\n",
      "0.80 time quantile: 200 transactions suspended to be cansored\n",
      "0.85 time quantile: 189 transactions suspended to be cansored\n",
      "0.90 time quantile: 184 transactions suspended to be cansored\n",
      "0.91 time quantile: 184 transactions suspended to be cansored\n",
      "0.92 time quantile: 184 transactions suspended to be cansored\n",
      "0.93 time quantile: 184 transactions suspended to be cansored\n",
      "0.94 time quantile: 182 transactions suspended to be cansored\n",
      "0.95 time quantile: 180 transactions suspended to be cansored\n",
      "0.96 time quantile: 174 transactions suspended to be cansored\n",
      "0.97 time quantile: 168 transactions suspended to be cansored\n",
      "0.98 time quantile: 150 transactions suspended to be cansored\n",
      "0.99 time quantile: 130 transactions suspended to be cansored\n",
      "-------------------------------------\n",
      "0.72 fee quantile: 2.00000 gwei | 0.73 fee quantile: 2.00000 gwei\n",
      "0.70 time quantile: 205 transactions suspended to be cansored\n",
      "0.75 time quantile: 200 transactions suspended to be cansored\n",
      "0.80 time quantile: 200 transactions suspended to be cansored\n",
      "0.85 time quantile: 189 transactions suspended to be cansored\n",
      "0.90 time quantile: 184 transactions suspended to be cansored\n",
      "0.91 time quantile: 184 transactions suspended to be cansored\n",
      "0.92 time quantile: 184 transactions suspended to be cansored\n",
      "0.93 time quantile: 184 transactions suspended to be cansored\n",
      "0.94 time quantile: 182 transactions suspended to be cansored\n",
      "0.95 time quantile: 180 transactions suspended to be cansored\n",
      "0.96 time quantile: 174 transactions suspended to be cansored\n",
      "0.97 time quantile: 168 transactions suspended to be cansored\n",
      "0.98 time quantile: 150 transactions suspended to be cansored\n",
      "0.99 time quantile: 130 transactions suspended to be cansored\n",
      "-------------------------------------\n",
      "0.73 fee quantile: 2.00000 gwei | 0.74 fee quantile: 2.00000 gwei\n"
     ]
    },
    {
     "name": "stdout",
     "output_type": "stream",
     "text": [
      "0.70 time quantile: 205 transactions suspended to be cansored\n",
      "0.75 time quantile: 200 transactions suspended to be cansored\n",
      "0.80 time quantile: 200 transactions suspended to be cansored\n",
      "0.85 time quantile: 189 transactions suspended to be cansored\n",
      "0.90 time quantile: 184 transactions suspended to be cansored\n",
      "0.91 time quantile: 184 transactions suspended to be cansored\n",
      "0.92 time quantile: 184 transactions suspended to be cansored\n",
      "0.93 time quantile: 184 transactions suspended to be cansored\n",
      "0.94 time quantile: 182 transactions suspended to be cansored\n",
      "0.95 time quantile: 180 transactions suspended to be cansored\n",
      "0.96 time quantile: 174 transactions suspended to be cansored\n",
      "0.97 time quantile: 168 transactions suspended to be cansored\n",
      "0.98 time quantile: 150 transactions suspended to be cansored\n",
      "0.99 time quantile: 130 transactions suspended to be cansored\n",
      "-------------------------------------\n",
      "0.74 fee quantile: 2.00000 gwei | 0.75 fee quantile: 2.00000 gwei\n",
      "0.70 time quantile: 205 transactions suspended to be cansored\n",
      "0.75 time quantile: 200 transactions suspended to be cansored\n",
      "0.80 time quantile: 200 transactions suspended to be cansored\n",
      "0.85 time quantile: 189 transactions suspended to be cansored\n",
      "0.90 time quantile: 184 transactions suspended to be cansored\n",
      "0.91 time quantile: 184 transactions suspended to be cansored\n",
      "0.92 time quantile: 184 transactions suspended to be cansored\n",
      "0.93 time quantile: 184 transactions suspended to be cansored\n",
      "0.94 time quantile: 182 transactions suspended to be cansored\n",
      "0.95 time quantile: 180 transactions suspended to be cansored\n",
      "0.96 time quantile: 174 transactions suspended to be cansored\n",
      "0.97 time quantile: 168 transactions suspended to be cansored\n",
      "0.98 time quantile: 150 transactions suspended to be cansored\n",
      "0.99 time quantile: 130 transactions suspended to be cansored\n",
      "-------------------------------------\n",
      "0.75 fee quantile: 2.00000 gwei | 0.76 fee quantile: 2.00000 gwei\n",
      "0.70 time quantile: 205 transactions suspended to be cansored\n",
      "0.75 time quantile: 200 transactions suspended to be cansored\n",
      "0.80 time quantile: 200 transactions suspended to be cansored\n",
      "0.85 time quantile: 189 transactions suspended to be cansored\n",
      "0.90 time quantile: 184 transactions suspended to be cansored\n",
      "0.91 time quantile: 184 transactions suspended to be cansored\n",
      "0.92 time quantile: 184 transactions suspended to be cansored\n",
      "0.93 time quantile: 184 transactions suspended to be cansored\n",
      "0.94 time quantile: 182 transactions suspended to be cansored\n",
      "0.95 time quantile: 180 transactions suspended to be cansored\n",
      "0.96 time quantile: 174 transactions suspended to be cansored\n",
      "0.97 time quantile: 168 transactions suspended to be cansored\n",
      "0.98 time quantile: 150 transactions suspended to be cansored\n",
      "0.99 time quantile: 130 transactions suspended to be cansored\n",
      "-------------------------------------\n",
      "0.76 fee quantile: 2.00000 gwei | 0.77 fee quantile: 2.00000 gwei\n",
      "0.70 time quantile: 205 transactions suspended to be cansored\n",
      "0.75 time quantile: 200 transactions suspended to be cansored\n",
      "0.80 time quantile: 200 transactions suspended to be cansored\n",
      "0.85 time quantile: 189 transactions suspended to be cansored\n",
      "0.90 time quantile: 184 transactions suspended to be cansored\n",
      "0.91 time quantile: 184 transactions suspended to be cansored\n",
      "0.92 time quantile: 184 transactions suspended to be cansored\n",
      "0.93 time quantile: 184 transactions suspended to be cansored\n",
      "0.94 time quantile: 182 transactions suspended to be cansored\n",
      "0.95 time quantile: 180 transactions suspended to be cansored\n",
      "0.96 time quantile: 174 transactions suspended to be cansored\n",
      "0.97 time quantile: 168 transactions suspended to be cansored\n",
      "0.98 time quantile: 150 transactions suspended to be cansored\n",
      "0.99 time quantile: 130 transactions suspended to be cansored\n",
      "-------------------------------------\n",
      "0.77 fee quantile: 2.00000 gwei | 0.78 fee quantile: 2.00000 gwei\n",
      "0.70 time quantile: 216 transactions suspended to be cansored\n",
      "0.75 time quantile: 211 transactions suspended to be cansored\n",
      "0.80 time quantile: 211 transactions suspended to be cansored\n",
      "0.85 time quantile: 200 transactions suspended to be cansored\n",
      "0.90 time quantile: 194 transactions suspended to be cansored\n",
      "0.91 time quantile: 194 transactions suspended to be cansored\n",
      "0.92 time quantile: 194 transactions suspended to be cansored\n",
      "0.93 time quantile: 194 transactions suspended to be cansored\n",
      "0.94 time quantile: 191 transactions suspended to be cansored\n",
      "0.95 time quantile: 189 transactions suspended to be cansored\n",
      "0.96 time quantile: 185 transactions suspended to be cansored\n",
      "0.97 time quantile: 177 transactions suspended to be cansored\n",
      "0.98 time quantile: 158 transactions suspended to be cansored\n",
      "0.99 time quantile: 141 transactions suspended to be cansored\n",
      "-------------------------------------\n",
      "0.78 fee quantile: 2.00000 gwei | 0.79 fee quantile: 2.00787 gwei\n",
      "0.70 time quantile: 11 transactions suspended to be cansored\n",
      "0.75 time quantile: 11 transactions suspended to be cansored\n",
      "0.80 time quantile: 11 transactions suspended to be cansored\n",
      "0.85 time quantile: 11 transactions suspended to be cansored\n",
      "0.90 time quantile: 10 transactions suspended to be cansored\n",
      "0.91 time quantile: 10 transactions suspended to be cansored\n",
      "0.92 time quantile: 10 transactions suspended to be cansored\n",
      "0.93 time quantile: 10 transactions suspended to be cansored\n",
      "0.94 time quantile: 9 transactions suspended to be cansored\n",
      "0.95 time quantile: 9 transactions suspended to be cansored\n",
      "0.96 time quantile: 9 transactions suspended to be cansored\n",
      "0.97 time quantile: 9 transactions suspended to be cansored\n",
      "0.98 time quantile: 8 transactions suspended to be cansored\n",
      "0.99 time quantile: 6 transactions suspended to be cansored\n",
      "-------------------------------------\n",
      "0.79 fee quantile: 2.00787 gwei | 0.80 fee quantile: 2.18500 gwei\n",
      "0.70 time quantile: 7 transactions suspended to be cansored\n",
      "0.75 time quantile: 7 transactions suspended to be cansored\n",
      "0.80 time quantile: 7 transactions suspended to be cansored\n",
      "0.85 time quantile: 7 transactions suspended to be cansored\n",
      "0.90 time quantile: 6 transactions suspended to be cansored\n",
      "0.91 time quantile: 6 transactions suspended to be cansored\n",
      "0.92 time quantile: 6 transactions suspended to be cansored\n",
      "0.93 time quantile: 6 transactions suspended to be cansored\n",
      "0.94 time quantile: 5 transactions suspended to be cansored\n",
      "0.95 time quantile: 5 transactions suspended to be cansored\n",
      "0.96 time quantile: 5 transactions suspended to be cansored\n",
      "0.97 time quantile: 4 transactions suspended to be cansored\n",
      "0.98 time quantile: 4 transactions suspended to be cansored\n",
      "0.99 time quantile: 1 transactions suspended to be cansored\n",
      "-------------------------------------\n",
      "0.80 fee quantile: 2.18500 gwei | 0.81 fee quantile: 2.42000 gwei\n",
      "0.70 time quantile: 21 transactions suspended to be cansored\n",
      "0.75 time quantile: 21 transactions suspended to be cansored\n",
      "0.80 time quantile: 21 transactions suspended to be cansored\n",
      "0.85 time quantile: 20 transactions suspended to be cansored\n",
      "0.90 time quantile: 19 transactions suspended to be cansored\n",
      "0.91 time quantile: 19 transactions suspended to be cansored\n",
      "0.92 time quantile: 19 transactions suspended to be cansored\n",
      "0.93 time quantile: 18 transactions suspended to be cansored\n",
      "0.94 time quantile: 16 transactions suspended to be cansored\n",
      "0.95 time quantile: 16 transactions suspended to be cansored\n",
      "0.96 time quantile: 14 transactions suspended to be cansored\n",
      "0.97 time quantile: 13 transactions suspended to be cansored\n",
      "0.98 time quantile: 12 transactions suspended to be cansored\n",
      "0.99 time quantile: 1 transactions suspended to be cansored\n",
      "-------------------------------------\n",
      "0.81 fee quantile: 2.42000 gwei | 0.82 fee quantile: 2.50000 gwei\n",
      "0.70 time quantile: 5 transactions suspended to be cansored\n",
      "0.75 time quantile: 5 transactions suspended to be cansored\n",
      "0.80 time quantile: 5 transactions suspended to be cansored\n",
      "0.85 time quantile: 5 transactions suspended to be cansored\n",
      "0.90 time quantile: 5 transactions suspended to be cansored\n",
      "0.91 time quantile: 5 transactions suspended to be cansored\n",
      "0.92 time quantile: 5 transactions suspended to be cansored\n",
      "0.93 time quantile: 5 transactions suspended to be cansored\n",
      "0.94 time quantile: 5 transactions suspended to be cansored\n",
      "0.95 time quantile: 5 transactions suspended to be cansored\n",
      "0.96 time quantile: 5 transactions suspended to be cansored\n",
      "0.97 time quantile: 4 transactions suspended to be cansored\n",
      "0.98 time quantile: 3 transactions suspended to be cansored\n",
      "0.99 time quantile: 2 transactions suspended to be cansored\n",
      "-------------------------------------\n",
      "0.82 fee quantile: 2.50000 gwei | 0.83 fee quantile: 2.50000 gwei\n"
     ]
    },
    {
     "name": "stdout",
     "output_type": "stream",
     "text": [
      "0.70 time quantile: 1 transactions suspended to be cansored\n",
      "0.75 time quantile: 1 transactions suspended to be cansored\n",
      "0.80 time quantile: 1 transactions suspended to be cansored\n",
      "0.85 time quantile: 1 transactions suspended to be cansored\n",
      "0.90 time quantile: 1 transactions suspended to be cansored\n",
      "0.91 time quantile: 1 transactions suspended to be cansored\n",
      "0.92 time quantile: 1 transactions suspended to be cansored\n",
      "0.93 time quantile: 1 transactions suspended to be cansored\n",
      "0.94 time quantile: 1 transactions suspended to be cansored\n",
      "0.95 time quantile: 1 transactions suspended to be cansored\n",
      "0.96 time quantile: 1 transactions suspended to be cansored\n",
      "0.97 time quantile: 1 transactions suspended to be cansored\n",
      "0.98 time quantile: 0 transactions suspended to be cansored\n",
      "0.99 time quantile: 0 transactions suspended to be cansored\n",
      "-------------------------------------\n",
      "0.83 fee quantile: 2.50000 gwei | 0.84 fee quantile: 2.68084 gwei\n",
      "0.70 time quantile: 21 transactions suspended to be cansored\n",
      "0.75 time quantile: 21 transactions suspended to be cansored\n",
      "0.80 time quantile: 21 transactions suspended to be cansored\n",
      "0.85 time quantile: 20 transactions suspended to be cansored\n",
      "0.90 time quantile: 19 transactions suspended to be cansored\n",
      "0.91 time quantile: 19 transactions suspended to be cansored\n",
      "0.92 time quantile: 19 transactions suspended to be cansored\n",
      "0.93 time quantile: 18 transactions suspended to be cansored\n",
      "0.94 time quantile: 18 transactions suspended to be cansored\n",
      "0.95 time quantile: 15 transactions suspended to be cansored\n",
      "0.96 time quantile: 13 transactions suspended to be cansored\n",
      "0.97 time quantile: 12 transactions suspended to be cansored\n",
      "0.98 time quantile: 11 transactions suspended to be cansored\n",
      "0.99 time quantile: 10 transactions suspended to be cansored\n",
      "-------------------------------------\n",
      "0.84 fee quantile: 2.68084 gwei | 0.85 fee quantile: 2.97401 gwei\n",
      "0.70 time quantile: 15 transactions suspended to be cansored\n",
      "0.75 time quantile: 15 transactions suspended to be cansored\n",
      "0.80 time quantile: 15 transactions suspended to be cansored\n",
      "0.85 time quantile: 14 transactions suspended to be cansored\n",
      "0.90 time quantile: 12 transactions suspended to be cansored\n",
      "0.91 time quantile: 12 transactions suspended to be cansored\n",
      "0.92 time quantile: 12 transactions suspended to be cansored\n",
      "0.93 time quantile: 12 transactions suspended to be cansored\n",
      "0.94 time quantile: 12 transactions suspended to be cansored\n",
      "0.95 time quantile: 12 transactions suspended to be cansored\n",
      "0.96 time quantile: 11 transactions suspended to be cansored\n",
      "0.97 time quantile: 9 transactions suspended to be cansored\n",
      "0.98 time quantile: 8 transactions suspended to be cansored\n",
      "0.99 time quantile: 1 transactions suspended to be cansored\n",
      "-------------------------------------\n",
      "0.85 fee quantile: 2.97401 gwei | 0.86 fee quantile: 3.00000 gwei\n",
      "0.70 time quantile: 276 transactions suspended to be cansored\n",
      "0.75 time quantile: 276 transactions suspended to be cansored\n",
      "0.80 time quantile: 276 transactions suspended to be cansored\n",
      "0.85 time quantile: 259 transactions suspended to be cansored\n",
      "0.90 time quantile: 243 transactions suspended to be cansored\n",
      "0.91 time quantile: 243 transactions suspended to be cansored\n",
      "0.92 time quantile: 243 transactions suspended to be cansored\n",
      "0.93 time quantile: 230 transactions suspended to be cansored\n",
      "0.94 time quantile: 219 transactions suspended to be cansored\n",
      "0.95 time quantile: 212 transactions suspended to be cansored\n",
      "0.96 time quantile: 196 transactions suspended to be cansored\n",
      "0.97 time quantile: 169 transactions suspended to be cansored\n",
      "0.98 time quantile: 152 transactions suspended to be cansored\n",
      "0.99 time quantile: 117 transactions suspended to be cansored\n",
      "-------------------------------------\n",
      "0.86 fee quantile: 3.00000 gwei | 0.87 fee quantile: 3.01785 gwei\n",
      "0.70 time quantile: 267 transactions suspended to be cansored\n",
      "0.75 time quantile: 267 transactions suspended to be cansored\n",
      "0.80 time quantile: 267 transactions suspended to be cansored\n",
      "0.85 time quantile: 251 transactions suspended to be cansored\n",
      "0.90 time quantile: 237 transactions suspended to be cansored\n",
      "0.91 time quantile: 237 transactions suspended to be cansored\n",
      "0.92 time quantile: 237 transactions suspended to be cansored\n",
      "0.93 time quantile: 225 transactions suspended to be cansored\n",
      "0.94 time quantile: 214 transactions suspended to be cansored\n",
      "0.95 time quantile: 208 transactions suspended to be cansored\n",
      "0.96 time quantile: 192 transactions suspended to be cansored\n",
      "0.97 time quantile: 165 transactions suspended to be cansored\n",
      "0.98 time quantile: 151 transactions suspended to be cansored\n",
      "0.99 time quantile: 118 transactions suspended to be cansored\n",
      "-------------------------------------\n",
      "0.87 fee quantile: 3.01785 gwei | 0.88 fee quantile: 3.31902 gwei\n",
      "0.70 time quantile: 12 transactions suspended to be cansored\n",
      "0.75 time quantile: 11 transactions suspended to be cansored\n",
      "0.80 time quantile: 11 transactions suspended to be cansored\n",
      "0.85 time quantile: 10 transactions suspended to be cansored\n",
      "0.90 time quantile: 10 transactions suspended to be cansored\n",
      "0.91 time quantile: 10 transactions suspended to be cansored\n",
      "0.92 time quantile: 10 transactions suspended to be cansored\n",
      "0.93 time quantile: 10 transactions suspended to be cansored\n",
      "0.94 time quantile: 10 transactions suspended to be cansored\n",
      "0.95 time quantile: 10 transactions suspended to be cansored\n",
      "0.96 time quantile: 8 transactions suspended to be cansored\n",
      "0.97 time quantile: 8 transactions suspended to be cansored\n",
      "0.98 time quantile: 8 transactions suspended to be cansored\n",
      "0.99 time quantile: 5 transactions suspended to be cansored\n",
      "-------------------------------------\n",
      "0.88 fee quantile: 3.31902 gwei | 0.89 fee quantile: 3.70523 gwei\n",
      "0.70 time quantile: 11 transactions suspended to be cansored\n",
      "0.75 time quantile: 11 transactions suspended to be cansored\n",
      "0.80 time quantile: 10 transactions suspended to be cansored\n",
      "0.85 time quantile: 10 transactions suspended to be cansored\n",
      "0.90 time quantile: 10 transactions suspended to be cansored\n",
      "0.91 time quantile: 10 transactions suspended to be cansored\n",
      "0.92 time quantile: 10 transactions suspended to be cansored\n",
      "0.93 time quantile: 10 transactions suspended to be cansored\n",
      "0.94 time quantile: 10 transactions suspended to be cansored\n",
      "0.95 time quantile: 10 transactions suspended to be cansored\n",
      "0.96 time quantile: 10 transactions suspended to be cansored\n",
      "0.97 time quantile: 10 transactions suspended to be cansored\n",
      "0.98 time quantile: 10 transactions suspended to be cansored\n",
      "0.99 time quantile: 10 transactions suspended to be cansored\n",
      "-------------------------------------\n",
      "0.89 fee quantile: 3.70523 gwei | 0.90 fee quantile: 4.06495 gwei\n",
      "0.70 time quantile: 9 transactions suspended to be cansored\n",
      "0.75 time quantile: 9 transactions suspended to be cansored\n",
      "0.80 time quantile: 8 transactions suspended to be cansored\n",
      "0.85 time quantile: 7 transactions suspended to be cansored\n",
      "0.90 time quantile: 6 transactions suspended to be cansored\n",
      "0.91 time quantile: 6 transactions suspended to be cansored\n",
      "0.92 time quantile: 6 transactions suspended to be cansored\n",
      "0.93 time quantile: 6 transactions suspended to be cansored\n",
      "0.94 time quantile: 6 transactions suspended to be cansored\n",
      "0.95 time quantile: 6 transactions suspended to be cansored\n",
      "0.96 time quantile: 6 transactions suspended to be cansored\n",
      "0.97 time quantile: 5 transactions suspended to be cansored\n",
      "0.98 time quantile: 4 transactions suspended to be cansored\n",
      "0.99 time quantile: 0 transactions suspended to be cansored\n",
      "-------------------------------------\n",
      "0.90 fee quantile: 4.06495 gwei | 0.91 fee quantile: 4.69125 gwei\n",
      "0.70 time quantile: 2 transactions suspended to be cansored\n",
      "0.75 time quantile: 2 transactions suspended to be cansored\n",
      "0.80 time quantile: 2 transactions suspended to be cansored\n",
      "0.85 time quantile: 2 transactions suspended to be cansored\n",
      "0.90 time quantile: 2 transactions suspended to be cansored\n",
      "0.91 time quantile: 2 transactions suspended to be cansored\n",
      "0.92 time quantile: 2 transactions suspended to be cansored\n",
      "0.93 time quantile: 2 transactions suspended to be cansored\n",
      "0.94 time quantile: 2 transactions suspended to be cansored\n",
      "0.95 time quantile: 2 transactions suspended to be cansored\n",
      "0.96 time quantile: 2 transactions suspended to be cansored\n",
      "0.97 time quantile: 2 transactions suspended to be cansored\n",
      "0.98 time quantile: 2 transactions suspended to be cansored\n",
      "0.99 time quantile: 0 transactions suspended to be cansored\n",
      "-------------------------------------\n",
      "0.91 fee quantile: 4.69125 gwei | 0.92 fee quantile: 5.06801 gwei\n",
      "0.70 time quantile: 6 transactions suspended to be cansored\n",
      "0.75 time quantile: 6 transactions suspended to be cansored\n",
      "0.80 time quantile: 6 transactions suspended to be cansored\n",
      "0.85 time quantile: 6 transactions suspended to be cansored\n",
      "0.90 time quantile: 6 transactions suspended to be cansored\n",
      "0.91 time quantile: 6 transactions suspended to be cansored\n"
     ]
    },
    {
     "name": "stdout",
     "output_type": "stream",
     "text": [
      "0.92 time quantile: 5 transactions suspended to be cansored\n",
      "0.93 time quantile: 5 transactions suspended to be cansored\n",
      "0.94 time quantile: 5 transactions suspended to be cansored\n",
      "0.95 time quantile: 5 transactions suspended to be cansored\n",
      "0.96 time quantile: 4 transactions suspended to be cansored\n",
      "0.97 time quantile: 2 transactions suspended to be cansored\n",
      "0.98 time quantile: 2 transactions suspended to be cansored\n",
      "0.99 time quantile: 0 transactions suspended to be cansored\n",
      "-------------------------------------\n",
      "0.92 fee quantile: 5.06801 gwei | 0.93 fee quantile: 6.00000 gwei\n",
      "0.70 time quantile: 6 transactions suspended to be cansored\n",
      "0.75 time quantile: 4 transactions suspended to be cansored\n",
      "0.80 time quantile: 4 transactions suspended to be cansored\n",
      "0.85 time quantile: 4 transactions suspended to be cansored\n",
      "0.90 time quantile: 3 transactions suspended to be cansored\n",
      "0.91 time quantile: 3 transactions suspended to be cansored\n",
      "0.92 time quantile: 3 transactions suspended to be cansored\n",
      "0.93 time quantile: 3 transactions suspended to be cansored\n",
      "0.94 time quantile: 3 transactions suspended to be cansored\n",
      "0.95 time quantile: 3 transactions suspended to be cansored\n",
      "0.96 time quantile: 2 transactions suspended to be cansored\n",
      "0.97 time quantile: 2 transactions suspended to be cansored\n",
      "0.98 time quantile: 2 transactions suspended to be cansored\n",
      "0.99 time quantile: 1 transactions suspended to be cansored\n",
      "-------------------------------------\n",
      "0.93 fee quantile: 6.00000 gwei | 0.94 fee quantile: 7.00000 gwei\n",
      "0.70 time quantile: 13 transactions suspended to be cansored\n",
      "0.75 time quantile: 13 transactions suspended to be cansored\n",
      "0.80 time quantile: 13 transactions suspended to be cansored\n",
      "0.85 time quantile: 13 transactions suspended to be cansored\n",
      "0.90 time quantile: 13 transactions suspended to be cansored\n",
      "0.91 time quantile: 13 transactions suspended to be cansored\n",
      "0.92 time quantile: 13 transactions suspended to be cansored\n",
      "0.93 time quantile: 13 transactions suspended to be cansored\n",
      "0.94 time quantile: 13 transactions suspended to be cansored\n",
      "0.95 time quantile: 12 transactions suspended to be cansored\n",
      "0.96 time quantile: 12 transactions suspended to be cansored\n",
      "0.97 time quantile: 12 transactions suspended to be cansored\n",
      "0.98 time quantile: 12 transactions suspended to be cansored\n",
      "0.99 time quantile: 7 transactions suspended to be cansored\n",
      "-------------------------------------\n",
      "0.94 fee quantile: 7.00000 gwei | 0.95 fee quantile: 8.15000 gwei\n",
      "0.70 time quantile: 21 transactions suspended to be cansored\n",
      "0.75 time quantile: 18 transactions suspended to be cansored\n",
      "0.80 time quantile: 18 transactions suspended to be cansored\n",
      "0.85 time quantile: 14 transactions suspended to be cansored\n",
      "0.90 time quantile: 14 transactions suspended to be cansored\n",
      "0.91 time quantile: 14 transactions suspended to be cansored\n",
      "0.92 time quantile: 14 transactions suspended to be cansored\n",
      "0.93 time quantile: 14 transactions suspended to be cansored\n",
      "0.94 time quantile: 14 transactions suspended to be cansored\n",
      "0.95 time quantile: 14 transactions suspended to be cansored\n",
      "0.96 time quantile: 13 transactions suspended to be cansored\n",
      "0.97 time quantile: 12 transactions suspended to be cansored\n",
      "0.98 time quantile: 11 transactions suspended to be cansored\n",
      "0.99 time quantile: 3 transactions suspended to be cansored\n",
      "-------------------------------------\n",
      "0.95 fee quantile: 8.15000 gwei | 0.96 fee quantile: 10.00000 gwei\n",
      "0.70 time quantile: 21 transactions suspended to be cansored\n",
      "0.75 time quantile: 20 transactions suspended to be cansored\n",
      "0.80 time quantile: 20 transactions suspended to be cansored\n",
      "0.85 time quantile: 17 transactions suspended to be cansored\n",
      "0.90 time quantile: 15 transactions suspended to be cansored\n",
      "0.91 time quantile: 15 transactions suspended to be cansored\n",
      "0.92 time quantile: 15 transactions suspended to be cansored\n",
      "0.93 time quantile: 15 transactions suspended to be cansored\n",
      "0.94 time quantile: 15 transactions suspended to be cansored\n",
      "0.95 time quantile: 14 transactions suspended to be cansored\n",
      "0.96 time quantile: 13 transactions suspended to be cansored\n",
      "0.97 time quantile: 13 transactions suspended to be cansored\n",
      "0.98 time quantile: 13 transactions suspended to be cansored\n",
      "0.99 time quantile: 10 transactions suspended to be cansored\n",
      "-------------------------------------\n",
      "0.96 fee quantile: 10.00000 gwei | 0.97 fee quantile: 12.53620 gwei\n",
      "0.70 time quantile: 15 transactions suspended to be cansored\n",
      "0.75 time quantile: 12 transactions suspended to be cansored\n",
      "0.80 time quantile: 12 transactions suspended to be cansored\n",
      "0.85 time quantile: 11 transactions suspended to be cansored\n",
      "0.90 time quantile: 11 transactions suspended to be cansored\n",
      "0.91 time quantile: 11 transactions suspended to be cansored\n",
      "0.92 time quantile: 11 transactions suspended to be cansored\n",
      "0.93 time quantile: 11 transactions suspended to be cansored\n",
      "0.94 time quantile: 9 transactions suspended to be cansored\n",
      "0.95 time quantile: 8 transactions suspended to be cansored\n",
      "0.96 time quantile: 7 transactions suspended to be cansored\n",
      "0.97 time quantile: 6 transactions suspended to be cansored\n",
      "0.98 time quantile: 6 transactions suspended to be cansored\n",
      "0.99 time quantile: 3 transactions suspended to be cansored\n",
      "-------------------------------------\n",
      "0.97 fee quantile: 12.53620 gwei | 0.98 fee quantile: 18.71265 gwei\n",
      "0.70 time quantile: 30 transactions suspended to be cansored\n",
      "0.75 time quantile: 30 transactions suspended to be cansored\n",
      "0.80 time quantile: 28 transactions suspended to be cansored\n",
      "0.85 time quantile: 26 transactions suspended to be cansored\n",
      "0.90 time quantile: 26 transactions suspended to be cansored\n",
      "0.91 time quantile: 26 transactions suspended to be cansored\n",
      "0.92 time quantile: 26 transactions suspended to be cansored\n",
      "0.93 time quantile: 26 transactions suspended to be cansored\n",
      "0.94 time quantile: 25 transactions suspended to be cansored\n",
      "0.95 time quantile: 23 transactions suspended to be cansored\n",
      "0.96 time quantile: 21 transactions suspended to be cansored\n",
      "0.97 time quantile: 20 transactions suspended to be cansored\n",
      "0.98 time quantile: 20 transactions suspended to be cansored\n",
      "0.99 time quantile: 10 transactions suspended to be cansored\n",
      "-------------------------------------\n",
      "0.98 fee quantile: 18.71265 gwei | 0.99 fee quantile: 33.30468 gwei\n",
      "0.70 time quantile: 4 transactions suspended to be cansored\n",
      "0.75 time quantile: 4 transactions suspended to be cansored\n",
      "0.80 time quantile: 4 transactions suspended to be cansored\n",
      "0.85 time quantile: 4 transactions suspended to be cansored\n",
      "0.90 time quantile: 4 transactions suspended to be cansored\n",
      "0.91 time quantile: 4 transactions suspended to be cansored\n",
      "0.92 time quantile: 4 transactions suspended to be cansored\n",
      "0.93 time quantile: 4 transactions suspended to be cansored\n",
      "0.94 time quantile: 3 transactions suspended to be cansored\n",
      "0.95 time quantile: 3 transactions suspended to be cansored\n",
      "0.96 time quantile: 3 transactions suspended to be cansored\n",
      "0.97 time quantile: 2 transactions suspended to be cansored\n",
      "0.98 time quantile: 2 transactions suspended to be cansored\n",
      "0.99 time quantile: 1 transactions suspended to be cansored\n",
      "-------------------------------------\n",
      "0.99 fee quantile: 33.30468 gwei | 1.00 fee quantile: 504695.87943 gwei\n",
      "0.70 time quantile: 5 transactions suspended to be cansored\n",
      "0.75 time quantile: 3 transactions suspended to be cansored\n",
      "0.80 time quantile: 3 transactions suspended to be cansored\n",
      "0.85 time quantile: 3 transactions suspended to be cansored\n",
      "0.90 time quantile: 3 transactions suspended to be cansored\n",
      "0.91 time quantile: 3 transactions suspended to be cansored\n",
      "0.92 time quantile: 3 transactions suspended to be cansored\n",
      "0.93 time quantile: 3 transactions suspended to be cansored\n",
      "0.94 time quantile: 3 transactions suspended to be cansored\n",
      "0.95 time quantile: 1 transactions suspended to be cansored\n",
      "0.96 time quantile: 1 transactions suspended to be cansored\n",
      "0.97 time quantile: 1 transactions suspended to be cansored\n",
      "0.98 time quantile: 1 transactions suspended to be cansored\n",
      "0.99 time quantile: 1 transactions suspended to be cansored\n",
      "-------------------------------------\n"
     ]
    }
   ],
   "source": [
    "for left_q, right_q in zip(quantiles.keys(),shifted_quantiles.keys()):\n",
    "    left_pf, right_pf = quantiles[left_q], shifted_quantiles[right_q]\n",
    "    print(f'{left_q:.2f} fee quantile: {left_pf:.5f} gwei | {right_q:.2f} fee quantile: {right_pf:.5f} gwei')\n",
    "    q_data = tr_data.query(f'priority_fee >= {left_pf} and priority_fee <= {right_pf}')\n",
    "    \n",
    "    non_ofac_q_data = q_data[~q_data.is_ofac]\n",
    "    ofac_q_data = q_data[q_data.is_ofac]\n",
    "    \n",
    "    non_ofac_quantiles = non_ofac_q_data.wait_time_adjusted.quantile(q_list)\n",
    "    \n",
    "    for q in non_ofac_quantiles.keys():\n",
    "        ofac_over_quantile_count = len(ofac_q_data[ofac_q_data.wait_time_adjusted >= non_ofac_quantiles[q]])\n",
    "        \n",
    "        print(f'{q:.2f} time quantile: {ofac_over_quantile_count} transactions suspended to be cansored')\n",
    "        \n",
    "    print('-------------------------------------')"
   ]
  },
  {
   "cell_type": "code",
   "execution_count": 7,
   "id": "fe7951a2",
   "metadata": {},
   "outputs": [],
   "source": [
    "fee_q_set = set()"
   ]
  },
  {
   "cell_type": "code",
   "execution_count": 8,
   "id": "56784c3b",
   "metadata": {},
   "outputs": [],
   "source": [
    "for left_q, right_q in zip(quantiles.keys(),shifted_quantiles.keys()):\n",
    "    left_pf, right_pf = quantiles[left_q], shifted_quantiles[right_q]\n",
    "    left_pf, right_pf = round(left_pf,3), round(right_pf,3)\n",
    "    \n",
    "    if (left_pf != right_pf):\n",
    "        fee_q_set.add((left_pf, right_pf))"
   ]
  },
  {
   "cell_type": "code",
   "execution_count": 9,
   "id": "57c6b55f",
   "metadata": {},
   "outputs": [],
   "source": [
    "cdf = pd.DataFrame()"
   ]
  },
  {
   "cell_type": "code",
   "execution_count": 10,
   "id": "fd0e3503",
   "metadata": {},
   "outputs": [],
   "source": [
    "for left_pf, right_pf in fee_q_set:\n",
    "    q_data = tr_data.query(f'priority_fee >= {left_pf} and priority_fee < {right_pf}')\n",
    "    \n",
    "    non_ofac_q_data = q_data[~q_data.is_ofac]\n",
    "    ofac_q_data = q_data[q_data.is_ofac]\n",
    "    \n",
    "    non_ofac_quantiles = non_ofac_q_data.wait_time_adjusted.quantile(q_list)\n",
    "    \n",
    "    dct = {'left_fee_border': left_pf, 'right_fee_border': right_pf, 'fee_interval': (left_pf, right_pf)}\n",
    "    \n",
    "    for q in non_ofac_quantiles.keys():\n",
    "        ofac_over_quantile_count = len(ofac_q_data[ofac_q_data.wait_time_adjusted >= non_ofac_quantiles[q]])\n",
    "        \n",
    "        dct[f'{q} percentile'] = ofac_over_quantile_count\n",
    "        \n",
    "    cdf = cdf.append(dct, ignore_index=True)"
   ]
  },
  {
   "cell_type": "code",
   "execution_count": 11,
   "id": "486294d8",
   "metadata": {},
   "outputs": [
    {
     "data": {
      "text/html": [
       "<div>\n",
       "<style scoped>\n",
       "    .dataframe tbody tr th:only-of-type {\n",
       "        vertical-align: middle;\n",
       "    }\n",
       "\n",
       "    .dataframe tbody tr th {\n",
       "        vertical-align: top;\n",
       "    }\n",
       "\n",
       "    .dataframe thead th {\n",
       "        text-align: right;\n",
       "    }\n",
       "</style>\n",
       "<table border=\"1\" class=\"dataframe\">\n",
       "  <thead>\n",
       "    <tr style=\"text-align: right;\">\n",
       "      <th></th>\n",
       "      <th>0.7 percentile</th>\n",
       "      <th>0.75 percentile</th>\n",
       "      <th>0.8 percentile</th>\n",
       "      <th>0.85 percentile</th>\n",
       "      <th>0.9 percentile</th>\n",
       "      <th>0.91 percentile</th>\n",
       "      <th>0.92 percentile</th>\n",
       "      <th>0.93 percentile</th>\n",
       "      <th>0.94 percentile</th>\n",
       "      <th>0.95 percentile</th>\n",
       "      <th>0.96 percentile</th>\n",
       "      <th>0.97 percentile</th>\n",
       "      <th>0.98 percentile</th>\n",
       "      <th>0.99 percentile</th>\n",
       "      <th>fee_interval</th>\n",
       "      <th>left_fee_border</th>\n",
       "      <th>right_fee_border</th>\n",
       "    </tr>\n",
       "  </thead>\n",
       "  <tbody>\n",
       "    <tr>\n",
       "      <th>0</th>\n",
       "      <td>8.0</td>\n",
       "      <td>7.0</td>\n",
       "      <td>6.0</td>\n",
       "      <td>3.0</td>\n",
       "      <td>2.0</td>\n",
       "      <td>2.0</td>\n",
       "      <td>1.0</td>\n",
       "      <td>1.0</td>\n",
       "      <td>1.0</td>\n",
       "      <td>0.0</td>\n",
       "      <td>0.0</td>\n",
       "      <td>0.0</td>\n",
       "      <td>0.0</td>\n",
       "      <td>0.0</td>\n",
       "      <td>(0.168, 0.196)</td>\n",
       "      <td>0.168</td>\n",
       "      <td>0.196</td>\n",
       "    </tr>\n",
       "    <tr>\n",
       "      <th>1</th>\n",
       "      <td>3.0</td>\n",
       "      <td>3.0</td>\n",
       "      <td>2.0</td>\n",
       "      <td>0.0</td>\n",
       "      <td>0.0</td>\n",
       "      <td>0.0</td>\n",
       "      <td>0.0</td>\n",
       "      <td>0.0</td>\n",
       "      <td>0.0</td>\n",
       "      <td>0.0</td>\n",
       "      <td>0.0</td>\n",
       "      <td>0.0</td>\n",
       "      <td>0.0</td>\n",
       "      <td>0.0</td>\n",
       "      <td>(0.513, 0.611)</td>\n",
       "      <td>0.513</td>\n",
       "      <td>0.611</td>\n",
       "    </tr>\n",
       "    <tr>\n",
       "      <th>2</th>\n",
       "      <td>11.0</td>\n",
       "      <td>11.0</td>\n",
       "      <td>10.0</td>\n",
       "      <td>10.0</td>\n",
       "      <td>10.0</td>\n",
       "      <td>10.0</td>\n",
       "      <td>10.0</td>\n",
       "      <td>10.0</td>\n",
       "      <td>10.0</td>\n",
       "      <td>10.0</td>\n",
       "      <td>10.0</td>\n",
       "      <td>10.0</td>\n",
       "      <td>10.0</td>\n",
       "      <td>10.0</td>\n",
       "      <td>(3.319, 3.705)</td>\n",
       "      <td>3.319</td>\n",
       "      <td>3.705</td>\n",
       "    </tr>\n",
       "    <tr>\n",
       "      <th>3</th>\n",
       "      <td>8.0</td>\n",
       "      <td>8.0</td>\n",
       "      <td>6.0</td>\n",
       "      <td>5.0</td>\n",
       "      <td>3.0</td>\n",
       "      <td>3.0</td>\n",
       "      <td>3.0</td>\n",
       "      <td>2.0</td>\n",
       "      <td>2.0</td>\n",
       "      <td>1.0</td>\n",
       "      <td>1.0</td>\n",
       "      <td>1.0</td>\n",
       "      <td>0.0</td>\n",
       "      <td>0.0</td>\n",
       "      <td>(0.835, 0.969)</td>\n",
       "      <td>0.835</td>\n",
       "      <td>0.969</td>\n",
       "    </tr>\n",
       "    <tr>\n",
       "      <th>4</th>\n",
       "      <td>5.0</td>\n",
       "      <td>3.0</td>\n",
       "      <td>3.0</td>\n",
       "      <td>3.0</td>\n",
       "      <td>3.0</td>\n",
       "      <td>3.0</td>\n",
       "      <td>3.0</td>\n",
       "      <td>3.0</td>\n",
       "      <td>3.0</td>\n",
       "      <td>1.0</td>\n",
       "      <td>1.0</td>\n",
       "      <td>1.0</td>\n",
       "      <td>1.0</td>\n",
       "      <td>1.0</td>\n",
       "      <td>(33.305, 504695.879)</td>\n",
       "      <td>33.305</td>\n",
       "      <td>504695.879</td>\n",
       "    </tr>\n",
       "    <tr>\n",
       "      <th>5</th>\n",
       "      <td>15.0</td>\n",
       "      <td>15.0</td>\n",
       "      <td>15.0</td>\n",
       "      <td>14.0</td>\n",
       "      <td>12.0</td>\n",
       "      <td>12.0</td>\n",
       "      <td>12.0</td>\n",
       "      <td>12.0</td>\n",
       "      <td>12.0</td>\n",
       "      <td>12.0</td>\n",
       "      <td>11.0</td>\n",
       "      <td>9.0</td>\n",
       "      <td>8.0</td>\n",
       "      <td>1.0</td>\n",
       "      <td>(2.681, 2.974)</td>\n",
       "      <td>2.681</td>\n",
       "      <td>2.974</td>\n",
       "    </tr>\n",
       "    <tr>\n",
       "      <th>6</th>\n",
       "      <td>21.0</td>\n",
       "      <td>21.0</td>\n",
       "      <td>21.0</td>\n",
       "      <td>20.0</td>\n",
       "      <td>19.0</td>\n",
       "      <td>19.0</td>\n",
       "      <td>19.0</td>\n",
       "      <td>18.0</td>\n",
       "      <td>16.0</td>\n",
       "      <td>16.0</td>\n",
       "      <td>14.0</td>\n",
       "      <td>13.0</td>\n",
       "      <td>12.0</td>\n",
       "      <td>1.0</td>\n",
       "      <td>(2.185, 2.42)</td>\n",
       "      <td>2.185</td>\n",
       "      <td>2.420</td>\n",
       "    </tr>\n",
       "    <tr>\n",
       "      <th>7</th>\n",
       "      <td>2.0</td>\n",
       "      <td>2.0</td>\n",
       "      <td>2.0</td>\n",
       "      <td>2.0</td>\n",
       "      <td>2.0</td>\n",
       "      <td>2.0</td>\n",
       "      <td>2.0</td>\n",
       "      <td>2.0</td>\n",
       "      <td>2.0</td>\n",
       "      <td>2.0</td>\n",
       "      <td>2.0</td>\n",
       "      <td>2.0</td>\n",
       "      <td>2.0</td>\n",
       "      <td>0.0</td>\n",
       "      <td>(4.065, 4.691)</td>\n",
       "      <td>4.065</td>\n",
       "      <td>4.691</td>\n",
       "    </tr>\n",
       "    <tr>\n",
       "      <th>8</th>\n",
       "      <td>6.0</td>\n",
       "      <td>6.0</td>\n",
       "      <td>6.0</td>\n",
       "      <td>6.0</td>\n",
       "      <td>6.0</td>\n",
       "      <td>6.0</td>\n",
       "      <td>5.0</td>\n",
       "      <td>5.0</td>\n",
       "      <td>5.0</td>\n",
       "      <td>5.0</td>\n",
       "      <td>4.0</td>\n",
       "      <td>2.0</td>\n",
       "      <td>2.0</td>\n",
       "      <td>0.0</td>\n",
       "      <td>(4.691, 5.068)</td>\n",
       "      <td>4.691</td>\n",
       "      <td>5.068</td>\n",
       "    </tr>\n",
       "    <tr>\n",
       "      <th>9</th>\n",
       "      <td>3.0</td>\n",
       "      <td>3.0</td>\n",
       "      <td>3.0</td>\n",
       "      <td>1.0</td>\n",
       "      <td>0.0</td>\n",
       "      <td>0.0</td>\n",
       "      <td>0.0</td>\n",
       "      <td>0.0</td>\n",
       "      <td>0.0</td>\n",
       "      <td>0.0</td>\n",
       "      <td>0.0</td>\n",
       "      <td>0.0</td>\n",
       "      <td>0.0</td>\n",
       "      <td>0.0</td>\n",
       "      <td>(0.196, 0.226)</td>\n",
       "      <td>0.196</td>\n",
       "      <td>0.226</td>\n",
       "    </tr>\n",
       "    <tr>\n",
       "      <th>10</th>\n",
       "      <td>2.0</td>\n",
       "      <td>2.0</td>\n",
       "      <td>2.0</td>\n",
       "      <td>0.0</td>\n",
       "      <td>0.0</td>\n",
       "      <td>0.0</td>\n",
       "      <td>0.0</td>\n",
       "      <td>0.0</td>\n",
       "      <td>0.0</td>\n",
       "      <td>0.0</td>\n",
       "      <td>0.0</td>\n",
       "      <td>0.0</td>\n",
       "      <td>0.0</td>\n",
       "      <td>0.0</td>\n",
       "      <td>(0.0, 0.059)</td>\n",
       "      <td>0.000</td>\n",
       "      <td>0.059</td>\n",
       "    </tr>\n",
       "    <tr>\n",
       "      <th>11</th>\n",
       "      <td>25.0</td>\n",
       "      <td>24.0</td>\n",
       "      <td>21.0</td>\n",
       "      <td>19.0</td>\n",
       "      <td>18.0</td>\n",
       "      <td>17.0</td>\n",
       "      <td>16.0</td>\n",
       "      <td>13.0</td>\n",
       "      <td>12.0</td>\n",
       "      <td>11.0</td>\n",
       "      <td>9.0</td>\n",
       "      <td>7.0</td>\n",
       "      <td>4.0</td>\n",
       "      <td>0.0</td>\n",
       "      <td>(1.314, 1.4)</td>\n",
       "      <td>1.314</td>\n",
       "      <td>1.400</td>\n",
       "    </tr>\n",
       "    <tr>\n",
       "      <th>12</th>\n",
       "      <td>267.0</td>\n",
       "      <td>267.0</td>\n",
       "      <td>267.0</td>\n",
       "      <td>251.0</td>\n",
       "      <td>237.0</td>\n",
       "      <td>237.0</td>\n",
       "      <td>237.0</td>\n",
       "      <td>225.0</td>\n",
       "      <td>214.0</td>\n",
       "      <td>208.0</td>\n",
       "      <td>192.0</td>\n",
       "      <td>165.0</td>\n",
       "      <td>151.0</td>\n",
       "      <td>118.0</td>\n",
       "      <td>(3.0, 3.018)</td>\n",
       "      <td>3.000</td>\n",
       "      <td>3.018</td>\n",
       "    </tr>\n",
       "    <tr>\n",
       "      <th>13</th>\n",
       "      <td>7.0</td>\n",
       "      <td>7.0</td>\n",
       "      <td>7.0</td>\n",
       "      <td>7.0</td>\n",
       "      <td>6.0</td>\n",
       "      <td>6.0</td>\n",
       "      <td>6.0</td>\n",
       "      <td>6.0</td>\n",
       "      <td>5.0</td>\n",
       "      <td>5.0</td>\n",
       "      <td>5.0</td>\n",
       "      <td>4.0</td>\n",
       "      <td>4.0</td>\n",
       "      <td>1.0</td>\n",
       "      <td>(2.008, 2.185)</td>\n",
       "      <td>2.008</td>\n",
       "      <td>2.185</td>\n",
       "    </tr>\n",
       "    <tr>\n",
       "      <th>14</th>\n",
       "      <td>84.0</td>\n",
       "      <td>78.0</td>\n",
       "      <td>68.0</td>\n",
       "      <td>68.0</td>\n",
       "      <td>60.0</td>\n",
       "      <td>60.0</td>\n",
       "      <td>55.0</td>\n",
       "      <td>50.0</td>\n",
       "      <td>47.0</td>\n",
       "      <td>41.0</td>\n",
       "      <td>38.0</td>\n",
       "      <td>34.0</td>\n",
       "      <td>18.0</td>\n",
       "      <td>0.0</td>\n",
       "      <td>(1.0, 1.086)</td>\n",
       "      <td>1.000</td>\n",
       "      <td>1.086</td>\n",
       "    </tr>\n",
       "    <tr>\n",
       "      <th>15</th>\n",
       "      <td>216.0</td>\n",
       "      <td>211.0</td>\n",
       "      <td>211.0</td>\n",
       "      <td>200.0</td>\n",
       "      <td>194.0</td>\n",
       "      <td>194.0</td>\n",
       "      <td>194.0</td>\n",
       "      <td>194.0</td>\n",
       "      <td>191.0</td>\n",
       "      <td>189.0</td>\n",
       "      <td>185.0</td>\n",
       "      <td>177.0</td>\n",
       "      <td>158.0</td>\n",
       "      <td>141.0</td>\n",
       "      <td>(2.0, 2.008)</td>\n",
       "      <td>2.000</td>\n",
       "      <td>2.008</td>\n",
       "    </tr>\n",
       "    <tr>\n",
       "      <th>16</th>\n",
       "      <td>19.0</td>\n",
       "      <td>18.0</td>\n",
       "      <td>17.0</td>\n",
       "      <td>16.0</td>\n",
       "      <td>15.0</td>\n",
       "      <td>15.0</td>\n",
       "      <td>15.0</td>\n",
       "      <td>12.0</td>\n",
       "      <td>10.0</td>\n",
       "      <td>7.0</td>\n",
       "      <td>5.0</td>\n",
       "      <td>4.0</td>\n",
       "      <td>2.0</td>\n",
       "      <td>0.0</td>\n",
       "      <td>(1.086, 1.2)</td>\n",
       "      <td>1.086</td>\n",
       "      <td>1.200</td>\n",
       "    </tr>\n",
       "    <tr>\n",
       "      <th>17</th>\n",
       "      <td>4.0</td>\n",
       "      <td>3.0</td>\n",
       "      <td>3.0</td>\n",
       "      <td>1.0</td>\n",
       "      <td>0.0</td>\n",
       "      <td>0.0</td>\n",
       "      <td>0.0</td>\n",
       "      <td>0.0</td>\n",
       "      <td>0.0</td>\n",
       "      <td>0.0</td>\n",
       "      <td>0.0</td>\n",
       "      <td>0.0</td>\n",
       "      <td>0.0</td>\n",
       "      <td>0.0</td>\n",
       "      <td>(0.611, 0.713)</td>\n",
       "      <td>0.611</td>\n",
       "      <td>0.713</td>\n",
       "    </tr>\n",
       "    <tr>\n",
       "      <th>18</th>\n",
       "      <td>4.0</td>\n",
       "      <td>4.0</td>\n",
       "      <td>4.0</td>\n",
       "      <td>4.0</td>\n",
       "      <td>4.0</td>\n",
       "      <td>4.0</td>\n",
       "      <td>4.0</td>\n",
       "      <td>4.0</td>\n",
       "      <td>4.0</td>\n",
       "      <td>4.0</td>\n",
       "      <td>4.0</td>\n",
       "      <td>4.0</td>\n",
       "      <td>3.0</td>\n",
       "      <td>1.0</td>\n",
       "      <td>(2.42, 2.5)</td>\n",
       "      <td>2.420</td>\n",
       "      <td>2.500</td>\n",
       "    </tr>\n",
       "    <tr>\n",
       "      <th>19</th>\n",
       "      <td>7.0</td>\n",
       "      <td>5.0</td>\n",
       "      <td>1.0</td>\n",
       "      <td>0.0</td>\n",
       "      <td>0.0</td>\n",
       "      <td>0.0</td>\n",
       "      <td>0.0</td>\n",
       "      <td>0.0</td>\n",
       "      <td>0.0</td>\n",
       "      <td>0.0</td>\n",
       "      <td>0.0</td>\n",
       "      <td>0.0</td>\n",
       "      <td>0.0</td>\n",
       "      <td>0.0</td>\n",
       "      <td>(0.433, 0.513)</td>\n",
       "      <td>0.433</td>\n",
       "      <td>0.513</td>\n",
       "    </tr>\n",
       "    <tr>\n",
       "      <th>20</th>\n",
       "      <td>9.0</td>\n",
       "      <td>5.0</td>\n",
       "      <td>3.0</td>\n",
       "      <td>2.0</td>\n",
       "      <td>0.0</td>\n",
       "      <td>0.0</td>\n",
       "      <td>0.0</td>\n",
       "      <td>0.0</td>\n",
       "      <td>0.0</td>\n",
       "      <td>0.0</td>\n",
       "      <td>0.0</td>\n",
       "      <td>0.0</td>\n",
       "      <td>0.0</td>\n",
       "      <td>0.0</td>\n",
       "      <td>(0.117, 0.144)</td>\n",
       "      <td>0.117</td>\n",
       "      <td>0.144</td>\n",
       "    </tr>\n",
       "    <tr>\n",
       "      <th>21</th>\n",
       "      <td>21.0</td>\n",
       "      <td>18.0</td>\n",
       "      <td>18.0</td>\n",
       "      <td>14.0</td>\n",
       "      <td>14.0</td>\n",
       "      <td>14.0</td>\n",
       "      <td>14.0</td>\n",
       "      <td>14.0</td>\n",
       "      <td>14.0</td>\n",
       "      <td>14.0</td>\n",
       "      <td>13.0</td>\n",
       "      <td>12.0</td>\n",
       "      <td>11.0</td>\n",
       "      <td>3.0</td>\n",
       "      <td>(7.0, 8.15)</td>\n",
       "      <td>7.000</td>\n",
       "      <td>8.150</td>\n",
       "    </tr>\n",
       "    <tr>\n",
       "      <th>22</th>\n",
       "      <td>12.0</td>\n",
       "      <td>11.0</td>\n",
       "      <td>11.0</td>\n",
       "      <td>10.0</td>\n",
       "      <td>10.0</td>\n",
       "      <td>10.0</td>\n",
       "      <td>10.0</td>\n",
       "      <td>10.0</td>\n",
       "      <td>10.0</td>\n",
       "      <td>10.0</td>\n",
       "      <td>8.0</td>\n",
       "      <td>8.0</td>\n",
       "      <td>8.0</td>\n",
       "      <td>5.0</td>\n",
       "      <td>(3.018, 3.319)</td>\n",
       "      <td>3.018</td>\n",
       "      <td>3.319</td>\n",
       "    </tr>\n",
       "    <tr>\n",
       "      <th>23</th>\n",
       "      <td>1.0</td>\n",
       "      <td>1.0</td>\n",
       "      <td>1.0</td>\n",
       "      <td>0.0</td>\n",
       "      <td>0.0</td>\n",
       "      <td>0.0</td>\n",
       "      <td>0.0</td>\n",
       "      <td>0.0</td>\n",
       "      <td>0.0</td>\n",
       "      <td>0.0</td>\n",
       "      <td>0.0</td>\n",
       "      <td>0.0</td>\n",
       "      <td>0.0</td>\n",
       "      <td>0.0</td>\n",
       "      <td>(0.361, 0.433)</td>\n",
       "      <td>0.361</td>\n",
       "      <td>0.433</td>\n",
       "    </tr>\n",
       "    <tr>\n",
       "      <th>24</th>\n",
       "      <td>9.0</td>\n",
       "      <td>9.0</td>\n",
       "      <td>8.0</td>\n",
       "      <td>7.0</td>\n",
       "      <td>6.0</td>\n",
       "      <td>6.0</td>\n",
       "      <td>6.0</td>\n",
       "      <td>6.0</td>\n",
       "      <td>6.0</td>\n",
       "      <td>6.0</td>\n",
       "      <td>6.0</td>\n",
       "      <td>5.0</td>\n",
       "      <td>4.0</td>\n",
       "      <td>0.0</td>\n",
       "      <td>(3.705, 4.065)</td>\n",
       "      <td>3.705</td>\n",
       "      <td>4.065</td>\n",
       "    </tr>\n",
       "    <tr>\n",
       "      <th>25</th>\n",
       "      <td>23.0</td>\n",
       "      <td>21.0</td>\n",
       "      <td>21.0</td>\n",
       "      <td>21.0</td>\n",
       "      <td>21.0</td>\n",
       "      <td>21.0</td>\n",
       "      <td>21.0</td>\n",
       "      <td>20.0</td>\n",
       "      <td>20.0</td>\n",
       "      <td>19.0</td>\n",
       "      <td>17.0</td>\n",
       "      <td>12.0</td>\n",
       "      <td>11.0</td>\n",
       "      <td>7.0</td>\n",
       "      <td>(1.4, 1.411)</td>\n",
       "      <td>1.400</td>\n",
       "      <td>1.411</td>\n",
       "    </tr>\n",
       "    <tr>\n",
       "      <th>26</th>\n",
       "      <td>6.0</td>\n",
       "      <td>4.0</td>\n",
       "      <td>4.0</td>\n",
       "      <td>4.0</td>\n",
       "      <td>3.0</td>\n",
       "      <td>3.0</td>\n",
       "      <td>3.0</td>\n",
       "      <td>3.0</td>\n",
       "      <td>3.0</td>\n",
       "      <td>3.0</td>\n",
       "      <td>2.0</td>\n",
       "      <td>2.0</td>\n",
       "      <td>2.0</td>\n",
       "      <td>1.0</td>\n",
       "      <td>(5.068, 6.0)</td>\n",
       "      <td>5.068</td>\n",
       "      <td>6.000</td>\n",
       "    </tr>\n",
       "    <tr>\n",
       "      <th>27</th>\n",
       "      <td>24.0</td>\n",
       "      <td>22.0</td>\n",
       "      <td>20.0</td>\n",
       "      <td>19.0</td>\n",
       "      <td>17.0</td>\n",
       "      <td>17.0</td>\n",
       "      <td>17.0</td>\n",
       "      <td>16.0</td>\n",
       "      <td>16.0</td>\n",
       "      <td>14.0</td>\n",
       "      <td>11.0</td>\n",
       "      <td>5.0</td>\n",
       "      <td>1.0</td>\n",
       "      <td>0.0</td>\n",
       "      <td>(1.551, 1.717)</td>\n",
       "      <td>1.551</td>\n",
       "      <td>1.717</td>\n",
       "    </tr>\n",
       "    <tr>\n",
       "      <th>28</th>\n",
       "      <td>7.0</td>\n",
       "      <td>6.0</td>\n",
       "      <td>4.0</td>\n",
       "      <td>2.0</td>\n",
       "      <td>1.0</td>\n",
       "      <td>0.0</td>\n",
       "      <td>0.0</td>\n",
       "      <td>0.0</td>\n",
       "      <td>0.0</td>\n",
       "      <td>0.0</td>\n",
       "      <td>0.0</td>\n",
       "      <td>0.0</td>\n",
       "      <td>0.0</td>\n",
       "      <td>0.0</td>\n",
       "      <td>(0.144, 0.168)</td>\n",
       "      <td>0.144</td>\n",
       "      <td>0.168</td>\n",
       "    </tr>\n",
       "    <tr>\n",
       "      <th>29</th>\n",
       "      <td>1.0</td>\n",
       "      <td>1.0</td>\n",
       "      <td>0.0</td>\n",
       "      <td>0.0</td>\n",
       "      <td>0.0</td>\n",
       "      <td>0.0</td>\n",
       "      <td>0.0</td>\n",
       "      <td>0.0</td>\n",
       "      <td>0.0</td>\n",
       "      <td>0.0</td>\n",
       "      <td>0.0</td>\n",
       "      <td>0.0</td>\n",
       "      <td>0.0</td>\n",
       "      <td>0.0</td>\n",
       "      <td>(0.226, 0.257)</td>\n",
       "      <td>0.226</td>\n",
       "      <td>0.257</td>\n",
       "    </tr>\n",
       "    <tr>\n",
       "      <th>30</th>\n",
       "      <td>30.0</td>\n",
       "      <td>30.0</td>\n",
       "      <td>28.0</td>\n",
       "      <td>26.0</td>\n",
       "      <td>26.0</td>\n",
       "      <td>26.0</td>\n",
       "      <td>26.0</td>\n",
       "      <td>26.0</td>\n",
       "      <td>25.0</td>\n",
       "      <td>23.0</td>\n",
       "      <td>21.0</td>\n",
       "      <td>20.0</td>\n",
       "      <td>20.0</td>\n",
       "      <td>10.0</td>\n",
       "      <td>(12.536, 18.713)</td>\n",
       "      <td>12.536</td>\n",
       "      <td>18.713</td>\n",
       "    </tr>\n",
       "    <tr>\n",
       "      <th>31</th>\n",
       "      <td>14.0</td>\n",
       "      <td>13.0</td>\n",
       "      <td>13.0</td>\n",
       "      <td>10.0</td>\n",
       "      <td>6.0</td>\n",
       "      <td>6.0</td>\n",
       "      <td>4.0</td>\n",
       "      <td>2.0</td>\n",
       "      <td>2.0</td>\n",
       "      <td>2.0</td>\n",
       "      <td>1.0</td>\n",
       "      <td>0.0</td>\n",
       "      <td>0.0</td>\n",
       "      <td>0.0</td>\n",
       "      <td>(1.2, 1.314)</td>\n",
       "      <td>1.200</td>\n",
       "      <td>1.314</td>\n",
       "    </tr>\n",
       "    <tr>\n",
       "      <th>32</th>\n",
       "      <td>13.0</td>\n",
       "      <td>13.0</td>\n",
       "      <td>13.0</td>\n",
       "      <td>13.0</td>\n",
       "      <td>13.0</td>\n",
       "      <td>13.0</td>\n",
       "      <td>13.0</td>\n",
       "      <td>13.0</td>\n",
       "      <td>13.0</td>\n",
       "      <td>12.0</td>\n",
       "      <td>12.0</td>\n",
       "      <td>12.0</td>\n",
       "      <td>12.0</td>\n",
       "      <td>7.0</td>\n",
       "      <td>(6.0, 7.0)</td>\n",
       "      <td>6.000</td>\n",
       "      <td>7.000</td>\n",
       "    </tr>\n",
       "    <tr>\n",
       "      <th>33</th>\n",
       "      <td>1.0</td>\n",
       "      <td>1.0</td>\n",
       "      <td>1.0</td>\n",
       "      <td>1.0</td>\n",
       "      <td>0.0</td>\n",
       "      <td>0.0</td>\n",
       "      <td>0.0</td>\n",
       "      <td>0.0</td>\n",
       "      <td>0.0</td>\n",
       "      <td>0.0</td>\n",
       "      <td>0.0</td>\n",
       "      <td>0.0</td>\n",
       "      <td>0.0</td>\n",
       "      <td>0.0</td>\n",
       "      <td>(0.713, 0.835)</td>\n",
       "      <td>0.713</td>\n",
       "      <td>0.835</td>\n",
       "    </tr>\n",
       "    <tr>\n",
       "      <th>34</th>\n",
       "      <td>3.0</td>\n",
       "      <td>1.0</td>\n",
       "      <td>0.0</td>\n",
       "      <td>0.0</td>\n",
       "      <td>0.0</td>\n",
       "      <td>0.0</td>\n",
       "      <td>0.0</td>\n",
       "      <td>0.0</td>\n",
       "      <td>0.0</td>\n",
       "      <td>0.0</td>\n",
       "      <td>0.0</td>\n",
       "      <td>0.0</td>\n",
       "      <td>0.0</td>\n",
       "      <td>0.0</td>\n",
       "      <td>(0.969, 1.0)</td>\n",
       "      <td>0.969</td>\n",
       "      <td>1.000</td>\n",
       "    </tr>\n",
       "    <tr>\n",
       "      <th>35</th>\n",
       "      <td>21.0</td>\n",
       "      <td>21.0</td>\n",
       "      <td>21.0</td>\n",
       "      <td>20.0</td>\n",
       "      <td>19.0</td>\n",
       "      <td>19.0</td>\n",
       "      <td>19.0</td>\n",
       "      <td>18.0</td>\n",
       "      <td>18.0</td>\n",
       "      <td>15.0</td>\n",
       "      <td>13.0</td>\n",
       "      <td>12.0</td>\n",
       "      <td>11.0</td>\n",
       "      <td>10.0</td>\n",
       "      <td>(2.5, 2.681)</td>\n",
       "      <td>2.500</td>\n",
       "      <td>2.681</td>\n",
       "    </tr>\n",
       "    <tr>\n",
       "      <th>36</th>\n",
       "      <td>18.0</td>\n",
       "      <td>18.0</td>\n",
       "      <td>18.0</td>\n",
       "      <td>17.0</td>\n",
       "      <td>17.0</td>\n",
       "      <td>15.0</td>\n",
       "      <td>15.0</td>\n",
       "      <td>15.0</td>\n",
       "      <td>13.0</td>\n",
       "      <td>13.0</td>\n",
       "      <td>12.0</td>\n",
       "      <td>12.0</td>\n",
       "      <td>11.0</td>\n",
       "      <td>7.0</td>\n",
       "      <td>(2.974, 3.0)</td>\n",
       "      <td>2.974</td>\n",
       "      <td>3.000</td>\n",
       "    </tr>\n",
       "    <tr>\n",
       "      <th>37</th>\n",
       "      <td>378.0</td>\n",
       "      <td>378.0</td>\n",
       "      <td>338.0</td>\n",
       "      <td>291.0</td>\n",
       "      <td>272.0</td>\n",
       "      <td>272.0</td>\n",
       "      <td>272.0</td>\n",
       "      <td>258.0</td>\n",
       "      <td>258.0</td>\n",
       "      <td>238.0</td>\n",
       "      <td>226.0</td>\n",
       "      <td>201.0</td>\n",
       "      <td>176.0</td>\n",
       "      <td>151.0</td>\n",
       "      <td>(1.5, 1.551)</td>\n",
       "      <td>1.500</td>\n",
       "      <td>1.551</td>\n",
       "    </tr>\n",
       "    <tr>\n",
       "      <th>38</th>\n",
       "      <td>6.0</td>\n",
       "      <td>3.0</td>\n",
       "      <td>1.0</td>\n",
       "      <td>0.0</td>\n",
       "      <td>0.0</td>\n",
       "      <td>0.0</td>\n",
       "      <td>0.0</td>\n",
       "      <td>0.0</td>\n",
       "      <td>0.0</td>\n",
       "      <td>0.0</td>\n",
       "      <td>0.0</td>\n",
       "      <td>0.0</td>\n",
       "      <td>0.0</td>\n",
       "      <td>0.0</td>\n",
       "      <td>(0.257, 0.302)</td>\n",
       "      <td>0.257</td>\n",
       "      <td>0.302</td>\n",
       "    </tr>\n",
       "    <tr>\n",
       "      <th>39</th>\n",
       "      <td>15.0</td>\n",
       "      <td>12.0</td>\n",
       "      <td>12.0</td>\n",
       "      <td>12.0</td>\n",
       "      <td>10.0</td>\n",
       "      <td>10.0</td>\n",
       "      <td>10.0</td>\n",
       "      <td>10.0</td>\n",
       "      <td>10.0</td>\n",
       "      <td>10.0</td>\n",
       "      <td>10.0</td>\n",
       "      <td>9.0</td>\n",
       "      <td>6.0</td>\n",
       "      <td>1.0</td>\n",
       "      <td>(1.411, 1.5)</td>\n",
       "      <td>1.411</td>\n",
       "      <td>1.500</td>\n",
       "    </tr>\n",
       "    <tr>\n",
       "      <th>40</th>\n",
       "      <td>13.0</td>\n",
       "      <td>10.0</td>\n",
       "      <td>10.0</td>\n",
       "      <td>9.0</td>\n",
       "      <td>9.0</td>\n",
       "      <td>9.0</td>\n",
       "      <td>9.0</td>\n",
       "      <td>9.0</td>\n",
       "      <td>7.0</td>\n",
       "      <td>6.0</td>\n",
       "      <td>6.0</td>\n",
       "      <td>5.0</td>\n",
       "      <td>5.0</td>\n",
       "      <td>2.0</td>\n",
       "      <td>(10.0, 12.536)</td>\n",
       "      <td>10.000</td>\n",
       "      <td>12.536</td>\n",
       "    </tr>\n",
       "    <tr>\n",
       "      <th>41</th>\n",
       "      <td>1.0</td>\n",
       "      <td>1.0</td>\n",
       "      <td>0.0</td>\n",
       "      <td>0.0</td>\n",
       "      <td>0.0</td>\n",
       "      <td>0.0</td>\n",
       "      <td>0.0</td>\n",
       "      <td>0.0</td>\n",
       "      <td>0.0</td>\n",
       "      <td>0.0</td>\n",
       "      <td>0.0</td>\n",
       "      <td>0.0</td>\n",
       "      <td>0.0</td>\n",
       "      <td>0.0</td>\n",
       "      <td>(0.302, 0.361)</td>\n",
       "      <td>0.302</td>\n",
       "      <td>0.361</td>\n",
       "    </tr>\n",
       "    <tr>\n",
       "      <th>42</th>\n",
       "      <td>8.0</td>\n",
       "      <td>7.0</td>\n",
       "      <td>7.0</td>\n",
       "      <td>7.0</td>\n",
       "      <td>6.0</td>\n",
       "      <td>6.0</td>\n",
       "      <td>6.0</td>\n",
       "      <td>6.0</td>\n",
       "      <td>6.0</td>\n",
       "      <td>6.0</td>\n",
       "      <td>6.0</td>\n",
       "      <td>6.0</td>\n",
       "      <td>5.0</td>\n",
       "      <td>5.0</td>\n",
       "      <td>(1.93, 2.0)</td>\n",
       "      <td>1.930</td>\n",
       "      <td>2.000</td>\n",
       "    </tr>\n",
       "    <tr>\n",
       "      <th>43</th>\n",
       "      <td>13.0</td>\n",
       "      <td>12.0</td>\n",
       "      <td>11.0</td>\n",
       "      <td>11.0</td>\n",
       "      <td>9.0</td>\n",
       "      <td>9.0</td>\n",
       "      <td>8.0</td>\n",
       "      <td>6.0</td>\n",
       "      <td>5.0</td>\n",
       "      <td>5.0</td>\n",
       "      <td>4.0</td>\n",
       "      <td>2.0</td>\n",
       "      <td>0.0</td>\n",
       "      <td>0.0</td>\n",
       "      <td>(1.717, 1.93)</td>\n",
       "      <td>1.717</td>\n",
       "      <td>1.930</td>\n",
       "    </tr>\n",
       "    <tr>\n",
       "      <th>44</th>\n",
       "      <td>4.0</td>\n",
       "      <td>4.0</td>\n",
       "      <td>4.0</td>\n",
       "      <td>4.0</td>\n",
       "      <td>4.0</td>\n",
       "      <td>4.0</td>\n",
       "      <td>4.0</td>\n",
       "      <td>4.0</td>\n",
       "      <td>3.0</td>\n",
       "      <td>3.0</td>\n",
       "      <td>3.0</td>\n",
       "      <td>2.0</td>\n",
       "      <td>2.0</td>\n",
       "      <td>1.0</td>\n",
       "      <td>(18.713, 33.305)</td>\n",
       "      <td>18.713</td>\n",
       "      <td>33.305</td>\n",
       "    </tr>\n",
       "    <tr>\n",
       "      <th>45</th>\n",
       "      <td>21.0</td>\n",
       "      <td>20.0</td>\n",
       "      <td>20.0</td>\n",
       "      <td>17.0</td>\n",
       "      <td>15.0</td>\n",
       "      <td>15.0</td>\n",
       "      <td>15.0</td>\n",
       "      <td>15.0</td>\n",
       "      <td>15.0</td>\n",
       "      <td>14.0</td>\n",
       "      <td>13.0</td>\n",
       "      <td>13.0</td>\n",
       "      <td>13.0</td>\n",
       "      <td>10.0</td>\n",
       "      <td>(8.15, 10.0)</td>\n",
       "      <td>8.150</td>\n",
       "      <td>10.000</td>\n",
       "    </tr>\n",
       "    <tr>\n",
       "      <th>46</th>\n",
       "      <td>3.0</td>\n",
       "      <td>2.0</td>\n",
       "      <td>1.0</td>\n",
       "      <td>0.0</td>\n",
       "      <td>0.0</td>\n",
       "      <td>0.0</td>\n",
       "      <td>0.0</td>\n",
       "      <td>0.0</td>\n",
       "      <td>0.0</td>\n",
       "      <td>0.0</td>\n",
       "      <td>0.0</td>\n",
       "      <td>0.0</td>\n",
       "      <td>0.0</td>\n",
       "      <td>0.0</td>\n",
       "      <td>(0.059, 0.117)</td>\n",
       "      <td>0.059</td>\n",
       "      <td>0.117</td>\n",
       "    </tr>\n",
       "  </tbody>\n",
       "</table>\n",
       "</div>"
      ],
      "text/plain": [
       "    0.7 percentile  0.75 percentile  0.8 percentile  0.85 percentile  \\\n",
       "0              8.0              7.0             6.0              3.0   \n",
       "1              3.0              3.0             2.0              0.0   \n",
       "2             11.0             11.0            10.0             10.0   \n",
       "3              8.0              8.0             6.0              5.0   \n",
       "4              5.0              3.0             3.0              3.0   \n",
       "5             15.0             15.0            15.0             14.0   \n",
       "6             21.0             21.0            21.0             20.0   \n",
       "7              2.0              2.0             2.0              2.0   \n",
       "8              6.0              6.0             6.0              6.0   \n",
       "9              3.0              3.0             3.0              1.0   \n",
       "10             2.0              2.0             2.0              0.0   \n",
       "11            25.0             24.0            21.0             19.0   \n",
       "12           267.0            267.0           267.0            251.0   \n",
       "13             7.0              7.0             7.0              7.0   \n",
       "14            84.0             78.0            68.0             68.0   \n",
       "15           216.0            211.0           211.0            200.0   \n",
       "16            19.0             18.0            17.0             16.0   \n",
       "17             4.0              3.0             3.0              1.0   \n",
       "18             4.0              4.0             4.0              4.0   \n",
       "19             7.0              5.0             1.0              0.0   \n",
       "20             9.0              5.0             3.0              2.0   \n",
       "21            21.0             18.0            18.0             14.0   \n",
       "22            12.0             11.0            11.0             10.0   \n",
       "23             1.0              1.0             1.0              0.0   \n",
       "24             9.0              9.0             8.0              7.0   \n",
       "25            23.0             21.0            21.0             21.0   \n",
       "26             6.0              4.0             4.0              4.0   \n",
       "27            24.0             22.0            20.0             19.0   \n",
       "28             7.0              6.0             4.0              2.0   \n",
       "29             1.0              1.0             0.0              0.0   \n",
       "30            30.0             30.0            28.0             26.0   \n",
       "31            14.0             13.0            13.0             10.0   \n",
       "32            13.0             13.0            13.0             13.0   \n",
       "33             1.0              1.0             1.0              1.0   \n",
       "34             3.0              1.0             0.0              0.0   \n",
       "35            21.0             21.0            21.0             20.0   \n",
       "36            18.0             18.0            18.0             17.0   \n",
       "37           378.0            378.0           338.0            291.0   \n",
       "38             6.0              3.0             1.0              0.0   \n",
       "39            15.0             12.0            12.0             12.0   \n",
       "40            13.0             10.0            10.0              9.0   \n",
       "41             1.0              1.0             0.0              0.0   \n",
       "42             8.0              7.0             7.0              7.0   \n",
       "43            13.0             12.0            11.0             11.0   \n",
       "44             4.0              4.0             4.0              4.0   \n",
       "45            21.0             20.0            20.0             17.0   \n",
       "46             3.0              2.0             1.0              0.0   \n",
       "\n",
       "    0.9 percentile  0.91 percentile  0.92 percentile  0.93 percentile  \\\n",
       "0              2.0              2.0              1.0              1.0   \n",
       "1              0.0              0.0              0.0              0.0   \n",
       "2             10.0             10.0             10.0             10.0   \n",
       "3              3.0              3.0              3.0              2.0   \n",
       "4              3.0              3.0              3.0              3.0   \n",
       "5             12.0             12.0             12.0             12.0   \n",
       "6             19.0             19.0             19.0             18.0   \n",
       "7              2.0              2.0              2.0              2.0   \n",
       "8              6.0              6.0              5.0              5.0   \n",
       "9              0.0              0.0              0.0              0.0   \n",
       "10             0.0              0.0              0.0              0.0   \n",
       "11            18.0             17.0             16.0             13.0   \n",
       "12           237.0            237.0            237.0            225.0   \n",
       "13             6.0              6.0              6.0              6.0   \n",
       "14            60.0             60.0             55.0             50.0   \n",
       "15           194.0            194.0            194.0            194.0   \n",
       "16            15.0             15.0             15.0             12.0   \n",
       "17             0.0              0.0              0.0              0.0   \n",
       "18             4.0              4.0              4.0              4.0   \n",
       "19             0.0              0.0              0.0              0.0   \n",
       "20             0.0              0.0              0.0              0.0   \n",
       "21            14.0             14.0             14.0             14.0   \n",
       "22            10.0             10.0             10.0             10.0   \n",
       "23             0.0              0.0              0.0              0.0   \n",
       "24             6.0              6.0              6.0              6.0   \n",
       "25            21.0             21.0             21.0             20.0   \n",
       "26             3.0              3.0              3.0              3.0   \n",
       "27            17.0             17.0             17.0             16.0   \n",
       "28             1.0              0.0              0.0              0.0   \n",
       "29             0.0              0.0              0.0              0.0   \n",
       "30            26.0             26.0             26.0             26.0   \n",
       "31             6.0              6.0              4.0              2.0   \n",
       "32            13.0             13.0             13.0             13.0   \n",
       "33             0.0              0.0              0.0              0.0   \n",
       "34             0.0              0.0              0.0              0.0   \n",
       "35            19.0             19.0             19.0             18.0   \n",
       "36            17.0             15.0             15.0             15.0   \n",
       "37           272.0            272.0            272.0            258.0   \n",
       "38             0.0              0.0              0.0              0.0   \n",
       "39            10.0             10.0             10.0             10.0   \n",
       "40             9.0              9.0              9.0              9.0   \n",
       "41             0.0              0.0              0.0              0.0   \n",
       "42             6.0              6.0              6.0              6.0   \n",
       "43             9.0              9.0              8.0              6.0   \n",
       "44             4.0              4.0              4.0              4.0   \n",
       "45            15.0             15.0             15.0             15.0   \n",
       "46             0.0              0.0              0.0              0.0   \n",
       "\n",
       "    0.94 percentile  0.95 percentile  0.96 percentile  0.97 percentile  \\\n",
       "0               1.0              0.0              0.0              0.0   \n",
       "1               0.0              0.0              0.0              0.0   \n",
       "2              10.0             10.0             10.0             10.0   \n",
       "3               2.0              1.0              1.0              1.0   \n",
       "4               3.0              1.0              1.0              1.0   \n",
       "5              12.0             12.0             11.0              9.0   \n",
       "6              16.0             16.0             14.0             13.0   \n",
       "7               2.0              2.0              2.0              2.0   \n",
       "8               5.0              5.0              4.0              2.0   \n",
       "9               0.0              0.0              0.0              0.0   \n",
       "10              0.0              0.0              0.0              0.0   \n",
       "11             12.0             11.0              9.0              7.0   \n",
       "12            214.0            208.0            192.0            165.0   \n",
       "13              5.0              5.0              5.0              4.0   \n",
       "14             47.0             41.0             38.0             34.0   \n",
       "15            191.0            189.0            185.0            177.0   \n",
       "16             10.0              7.0              5.0              4.0   \n",
       "17              0.0              0.0              0.0              0.0   \n",
       "18              4.0              4.0              4.0              4.0   \n",
       "19              0.0              0.0              0.0              0.0   \n",
       "20              0.0              0.0              0.0              0.0   \n",
       "21             14.0             14.0             13.0             12.0   \n",
       "22             10.0             10.0              8.0              8.0   \n",
       "23              0.0              0.0              0.0              0.0   \n",
       "24              6.0              6.0              6.0              5.0   \n",
       "25             20.0             19.0             17.0             12.0   \n",
       "26              3.0              3.0              2.0              2.0   \n",
       "27             16.0             14.0             11.0              5.0   \n",
       "28              0.0              0.0              0.0              0.0   \n",
       "29              0.0              0.0              0.0              0.0   \n",
       "30             25.0             23.0             21.0             20.0   \n",
       "31              2.0              2.0              1.0              0.0   \n",
       "32             13.0             12.0             12.0             12.0   \n",
       "33              0.0              0.0              0.0              0.0   \n",
       "34              0.0              0.0              0.0              0.0   \n",
       "35             18.0             15.0             13.0             12.0   \n",
       "36             13.0             13.0             12.0             12.0   \n",
       "37            258.0            238.0            226.0            201.0   \n",
       "38              0.0              0.0              0.0              0.0   \n",
       "39             10.0             10.0             10.0              9.0   \n",
       "40              7.0              6.0              6.0              5.0   \n",
       "41              0.0              0.0              0.0              0.0   \n",
       "42              6.0              6.0              6.0              6.0   \n",
       "43              5.0              5.0              4.0              2.0   \n",
       "44              3.0              3.0              3.0              2.0   \n",
       "45             15.0             14.0             13.0             13.0   \n",
       "46              0.0              0.0              0.0              0.0   \n",
       "\n",
       "    0.98 percentile  0.99 percentile          fee_interval  left_fee_border  \\\n",
       "0               0.0              0.0        (0.168, 0.196)            0.168   \n",
       "1               0.0              0.0        (0.513, 0.611)            0.513   \n",
       "2              10.0             10.0        (3.319, 3.705)            3.319   \n",
       "3               0.0              0.0        (0.835, 0.969)            0.835   \n",
       "4               1.0              1.0  (33.305, 504695.879)           33.305   \n",
       "5               8.0              1.0        (2.681, 2.974)            2.681   \n",
       "6              12.0              1.0         (2.185, 2.42)            2.185   \n",
       "7               2.0              0.0        (4.065, 4.691)            4.065   \n",
       "8               2.0              0.0        (4.691, 5.068)            4.691   \n",
       "9               0.0              0.0        (0.196, 0.226)            0.196   \n",
       "10              0.0              0.0          (0.0, 0.059)            0.000   \n",
       "11              4.0              0.0          (1.314, 1.4)            1.314   \n",
       "12            151.0            118.0          (3.0, 3.018)            3.000   \n",
       "13              4.0              1.0        (2.008, 2.185)            2.008   \n",
       "14             18.0              0.0          (1.0, 1.086)            1.000   \n",
       "15            158.0            141.0          (2.0, 2.008)            2.000   \n",
       "16              2.0              0.0          (1.086, 1.2)            1.086   \n",
       "17              0.0              0.0        (0.611, 0.713)            0.611   \n",
       "18              3.0              1.0           (2.42, 2.5)            2.420   \n",
       "19              0.0              0.0        (0.433, 0.513)            0.433   \n",
       "20              0.0              0.0        (0.117, 0.144)            0.117   \n",
       "21             11.0              3.0           (7.0, 8.15)            7.000   \n",
       "22              8.0              5.0        (3.018, 3.319)            3.018   \n",
       "23              0.0              0.0        (0.361, 0.433)            0.361   \n",
       "24              4.0              0.0        (3.705, 4.065)            3.705   \n",
       "25             11.0              7.0          (1.4, 1.411)            1.400   \n",
       "26              2.0              1.0          (5.068, 6.0)            5.068   \n",
       "27              1.0              0.0        (1.551, 1.717)            1.551   \n",
       "28              0.0              0.0        (0.144, 0.168)            0.144   \n",
       "29              0.0              0.0        (0.226, 0.257)            0.226   \n",
       "30             20.0             10.0      (12.536, 18.713)           12.536   \n",
       "31              0.0              0.0          (1.2, 1.314)            1.200   \n",
       "32             12.0              7.0            (6.0, 7.0)            6.000   \n",
       "33              0.0              0.0        (0.713, 0.835)            0.713   \n",
       "34              0.0              0.0          (0.969, 1.0)            0.969   \n",
       "35             11.0             10.0          (2.5, 2.681)            2.500   \n",
       "36             11.0              7.0          (2.974, 3.0)            2.974   \n",
       "37            176.0            151.0          (1.5, 1.551)            1.500   \n",
       "38              0.0              0.0        (0.257, 0.302)            0.257   \n",
       "39              6.0              1.0          (1.411, 1.5)            1.411   \n",
       "40              5.0              2.0        (10.0, 12.536)           10.000   \n",
       "41              0.0              0.0        (0.302, 0.361)            0.302   \n",
       "42              5.0              5.0           (1.93, 2.0)            1.930   \n",
       "43              0.0              0.0         (1.717, 1.93)            1.717   \n",
       "44              2.0              1.0      (18.713, 33.305)           18.713   \n",
       "45             13.0             10.0          (8.15, 10.0)            8.150   \n",
       "46              0.0              0.0        (0.059, 0.117)            0.059   \n",
       "\n",
       "    right_fee_border  \n",
       "0              0.196  \n",
       "1              0.611  \n",
       "2              3.705  \n",
       "3              0.969  \n",
       "4         504695.879  \n",
       "5              2.974  \n",
       "6              2.420  \n",
       "7              4.691  \n",
       "8              5.068  \n",
       "9              0.226  \n",
       "10             0.059  \n",
       "11             1.400  \n",
       "12             3.018  \n",
       "13             2.185  \n",
       "14             1.086  \n",
       "15             2.008  \n",
       "16             1.200  \n",
       "17             0.713  \n",
       "18             2.500  \n",
       "19             0.513  \n",
       "20             0.144  \n",
       "21             8.150  \n",
       "22             3.319  \n",
       "23             0.433  \n",
       "24             4.065  \n",
       "25             1.411  \n",
       "26             6.000  \n",
       "27             1.717  \n",
       "28             0.168  \n",
       "29             0.257  \n",
       "30            18.713  \n",
       "31             1.314  \n",
       "32             7.000  \n",
       "33             0.835  \n",
       "34             1.000  \n",
       "35             2.681  \n",
       "36             3.000  \n",
       "37             1.551  \n",
       "38             0.302  \n",
       "39             1.500  \n",
       "40            12.536  \n",
       "41             0.361  \n",
       "42             2.000  \n",
       "43             1.930  \n",
       "44            33.305  \n",
       "45            10.000  \n",
       "46             0.117  "
      ]
     },
     "execution_count": 11,
     "metadata": {},
     "output_type": "execute_result"
    }
   ],
   "source": [
    "cdf"
   ]
  },
  {
   "cell_type": "code",
   "execution_count": 12,
   "id": "94a854ea",
   "metadata": {},
   "outputs": [],
   "source": [
    "cdf = cdf.sort_values('left_fee_border')"
   ]
  },
  {
   "cell_type": "code",
   "execution_count": 13,
   "id": "71712870",
   "metadata": {},
   "outputs": [
    {
     "data": {
      "text/html": [
       "<div>\n",
       "<style scoped>\n",
       "    .dataframe tbody tr th:only-of-type {\n",
       "        vertical-align: middle;\n",
       "    }\n",
       "\n",
       "    .dataframe tbody tr th {\n",
       "        vertical-align: top;\n",
       "    }\n",
       "\n",
       "    .dataframe thead th {\n",
       "        text-align: right;\n",
       "    }\n",
       "</style>\n",
       "<table border=\"1\" class=\"dataframe\">\n",
       "  <thead>\n",
       "    <tr style=\"text-align: right;\">\n",
       "      <th></th>\n",
       "      <th>0.7 percentile</th>\n",
       "      <th>0.75 percentile</th>\n",
       "      <th>0.8 percentile</th>\n",
       "      <th>0.85 percentile</th>\n",
       "      <th>0.9 percentile</th>\n",
       "      <th>0.91 percentile</th>\n",
       "      <th>0.92 percentile</th>\n",
       "      <th>0.93 percentile</th>\n",
       "      <th>0.94 percentile</th>\n",
       "      <th>0.95 percentile</th>\n",
       "      <th>0.96 percentile</th>\n",
       "      <th>0.97 percentile</th>\n",
       "      <th>0.98 percentile</th>\n",
       "      <th>0.99 percentile</th>\n",
       "      <th>fee_interval</th>\n",
       "      <th>left_fee_border</th>\n",
       "      <th>right_fee_border</th>\n",
       "    </tr>\n",
       "  </thead>\n",
       "  <tbody>\n",
       "    <tr>\n",
       "      <th>10</th>\n",
       "      <td>2.0</td>\n",
       "      <td>2.0</td>\n",
       "      <td>2.0</td>\n",
       "      <td>0.0</td>\n",
       "      <td>0.0</td>\n",
       "      <td>0.0</td>\n",
       "      <td>0.0</td>\n",
       "      <td>0.0</td>\n",
       "      <td>0.0</td>\n",
       "      <td>0.0</td>\n",
       "      <td>0.0</td>\n",
       "      <td>0.0</td>\n",
       "      <td>0.0</td>\n",
       "      <td>0.0</td>\n",
       "      <td>(0.0, 0.059)</td>\n",
       "      <td>0.000</td>\n",
       "      <td>0.059</td>\n",
       "    </tr>\n",
       "    <tr>\n",
       "      <th>46</th>\n",
       "      <td>3.0</td>\n",
       "      <td>2.0</td>\n",
       "      <td>1.0</td>\n",
       "      <td>0.0</td>\n",
       "      <td>0.0</td>\n",
       "      <td>0.0</td>\n",
       "      <td>0.0</td>\n",
       "      <td>0.0</td>\n",
       "      <td>0.0</td>\n",
       "      <td>0.0</td>\n",
       "      <td>0.0</td>\n",
       "      <td>0.0</td>\n",
       "      <td>0.0</td>\n",
       "      <td>0.0</td>\n",
       "      <td>(0.059, 0.117)</td>\n",
       "      <td>0.059</td>\n",
       "      <td>0.117</td>\n",
       "    </tr>\n",
       "    <tr>\n",
       "      <th>20</th>\n",
       "      <td>9.0</td>\n",
       "      <td>5.0</td>\n",
       "      <td>3.0</td>\n",
       "      <td>2.0</td>\n",
       "      <td>0.0</td>\n",
       "      <td>0.0</td>\n",
       "      <td>0.0</td>\n",
       "      <td>0.0</td>\n",
       "      <td>0.0</td>\n",
       "      <td>0.0</td>\n",
       "      <td>0.0</td>\n",
       "      <td>0.0</td>\n",
       "      <td>0.0</td>\n",
       "      <td>0.0</td>\n",
       "      <td>(0.117, 0.144)</td>\n",
       "      <td>0.117</td>\n",
       "      <td>0.144</td>\n",
       "    </tr>\n",
       "    <tr>\n",
       "      <th>28</th>\n",
       "      <td>7.0</td>\n",
       "      <td>6.0</td>\n",
       "      <td>4.0</td>\n",
       "      <td>2.0</td>\n",
       "      <td>1.0</td>\n",
       "      <td>0.0</td>\n",
       "      <td>0.0</td>\n",
       "      <td>0.0</td>\n",
       "      <td>0.0</td>\n",
       "      <td>0.0</td>\n",
       "      <td>0.0</td>\n",
       "      <td>0.0</td>\n",
       "      <td>0.0</td>\n",
       "      <td>0.0</td>\n",
       "      <td>(0.144, 0.168)</td>\n",
       "      <td>0.144</td>\n",
       "      <td>0.168</td>\n",
       "    </tr>\n",
       "    <tr>\n",
       "      <th>0</th>\n",
       "      <td>8.0</td>\n",
       "      <td>7.0</td>\n",
       "      <td>6.0</td>\n",
       "      <td>3.0</td>\n",
       "      <td>2.0</td>\n",
       "      <td>2.0</td>\n",
       "      <td>1.0</td>\n",
       "      <td>1.0</td>\n",
       "      <td>1.0</td>\n",
       "      <td>0.0</td>\n",
       "      <td>0.0</td>\n",
       "      <td>0.0</td>\n",
       "      <td>0.0</td>\n",
       "      <td>0.0</td>\n",
       "      <td>(0.168, 0.196)</td>\n",
       "      <td>0.168</td>\n",
       "      <td>0.196</td>\n",
       "    </tr>\n",
       "    <tr>\n",
       "      <th>9</th>\n",
       "      <td>3.0</td>\n",
       "      <td>3.0</td>\n",
       "      <td>3.0</td>\n",
       "      <td>1.0</td>\n",
       "      <td>0.0</td>\n",
       "      <td>0.0</td>\n",
       "      <td>0.0</td>\n",
       "      <td>0.0</td>\n",
       "      <td>0.0</td>\n",
       "      <td>0.0</td>\n",
       "      <td>0.0</td>\n",
       "      <td>0.0</td>\n",
       "      <td>0.0</td>\n",
       "      <td>0.0</td>\n",
       "      <td>(0.196, 0.226)</td>\n",
       "      <td>0.196</td>\n",
       "      <td>0.226</td>\n",
       "    </tr>\n",
       "    <tr>\n",
       "      <th>29</th>\n",
       "      <td>1.0</td>\n",
       "      <td>1.0</td>\n",
       "      <td>0.0</td>\n",
       "      <td>0.0</td>\n",
       "      <td>0.0</td>\n",
       "      <td>0.0</td>\n",
       "      <td>0.0</td>\n",
       "      <td>0.0</td>\n",
       "      <td>0.0</td>\n",
       "      <td>0.0</td>\n",
       "      <td>0.0</td>\n",
       "      <td>0.0</td>\n",
       "      <td>0.0</td>\n",
       "      <td>0.0</td>\n",
       "      <td>(0.226, 0.257)</td>\n",
       "      <td>0.226</td>\n",
       "      <td>0.257</td>\n",
       "    </tr>\n",
       "    <tr>\n",
       "      <th>38</th>\n",
       "      <td>6.0</td>\n",
       "      <td>3.0</td>\n",
       "      <td>1.0</td>\n",
       "      <td>0.0</td>\n",
       "      <td>0.0</td>\n",
       "      <td>0.0</td>\n",
       "      <td>0.0</td>\n",
       "      <td>0.0</td>\n",
       "      <td>0.0</td>\n",
       "      <td>0.0</td>\n",
       "      <td>0.0</td>\n",
       "      <td>0.0</td>\n",
       "      <td>0.0</td>\n",
       "      <td>0.0</td>\n",
       "      <td>(0.257, 0.302)</td>\n",
       "      <td>0.257</td>\n",
       "      <td>0.302</td>\n",
       "    </tr>\n",
       "    <tr>\n",
       "      <th>41</th>\n",
       "      <td>1.0</td>\n",
       "      <td>1.0</td>\n",
       "      <td>0.0</td>\n",
       "      <td>0.0</td>\n",
       "      <td>0.0</td>\n",
       "      <td>0.0</td>\n",
       "      <td>0.0</td>\n",
       "      <td>0.0</td>\n",
       "      <td>0.0</td>\n",
       "      <td>0.0</td>\n",
       "      <td>0.0</td>\n",
       "      <td>0.0</td>\n",
       "      <td>0.0</td>\n",
       "      <td>0.0</td>\n",
       "      <td>(0.302, 0.361)</td>\n",
       "      <td>0.302</td>\n",
       "      <td>0.361</td>\n",
       "    </tr>\n",
       "    <tr>\n",
       "      <th>23</th>\n",
       "      <td>1.0</td>\n",
       "      <td>1.0</td>\n",
       "      <td>1.0</td>\n",
       "      <td>0.0</td>\n",
       "      <td>0.0</td>\n",
       "      <td>0.0</td>\n",
       "      <td>0.0</td>\n",
       "      <td>0.0</td>\n",
       "      <td>0.0</td>\n",
       "      <td>0.0</td>\n",
       "      <td>0.0</td>\n",
       "      <td>0.0</td>\n",
       "      <td>0.0</td>\n",
       "      <td>0.0</td>\n",
       "      <td>(0.361, 0.433)</td>\n",
       "      <td>0.361</td>\n",
       "      <td>0.433</td>\n",
       "    </tr>\n",
       "    <tr>\n",
       "      <th>19</th>\n",
       "      <td>7.0</td>\n",
       "      <td>5.0</td>\n",
       "      <td>1.0</td>\n",
       "      <td>0.0</td>\n",
       "      <td>0.0</td>\n",
       "      <td>0.0</td>\n",
       "      <td>0.0</td>\n",
       "      <td>0.0</td>\n",
       "      <td>0.0</td>\n",
       "      <td>0.0</td>\n",
       "      <td>0.0</td>\n",
       "      <td>0.0</td>\n",
       "      <td>0.0</td>\n",
       "      <td>0.0</td>\n",
       "      <td>(0.433, 0.513)</td>\n",
       "      <td>0.433</td>\n",
       "      <td>0.513</td>\n",
       "    </tr>\n",
       "    <tr>\n",
       "      <th>1</th>\n",
       "      <td>3.0</td>\n",
       "      <td>3.0</td>\n",
       "      <td>2.0</td>\n",
       "      <td>0.0</td>\n",
       "      <td>0.0</td>\n",
       "      <td>0.0</td>\n",
       "      <td>0.0</td>\n",
       "      <td>0.0</td>\n",
       "      <td>0.0</td>\n",
       "      <td>0.0</td>\n",
       "      <td>0.0</td>\n",
       "      <td>0.0</td>\n",
       "      <td>0.0</td>\n",
       "      <td>0.0</td>\n",
       "      <td>(0.513, 0.611)</td>\n",
       "      <td>0.513</td>\n",
       "      <td>0.611</td>\n",
       "    </tr>\n",
       "    <tr>\n",
       "      <th>17</th>\n",
       "      <td>4.0</td>\n",
       "      <td>3.0</td>\n",
       "      <td>3.0</td>\n",
       "      <td>1.0</td>\n",
       "      <td>0.0</td>\n",
       "      <td>0.0</td>\n",
       "      <td>0.0</td>\n",
       "      <td>0.0</td>\n",
       "      <td>0.0</td>\n",
       "      <td>0.0</td>\n",
       "      <td>0.0</td>\n",
       "      <td>0.0</td>\n",
       "      <td>0.0</td>\n",
       "      <td>0.0</td>\n",
       "      <td>(0.611, 0.713)</td>\n",
       "      <td>0.611</td>\n",
       "      <td>0.713</td>\n",
       "    </tr>\n",
       "    <tr>\n",
       "      <th>33</th>\n",
       "      <td>1.0</td>\n",
       "      <td>1.0</td>\n",
       "      <td>1.0</td>\n",
       "      <td>1.0</td>\n",
       "      <td>0.0</td>\n",
       "      <td>0.0</td>\n",
       "      <td>0.0</td>\n",
       "      <td>0.0</td>\n",
       "      <td>0.0</td>\n",
       "      <td>0.0</td>\n",
       "      <td>0.0</td>\n",
       "      <td>0.0</td>\n",
       "      <td>0.0</td>\n",
       "      <td>0.0</td>\n",
       "      <td>(0.713, 0.835)</td>\n",
       "      <td>0.713</td>\n",
       "      <td>0.835</td>\n",
       "    </tr>\n",
       "    <tr>\n",
       "      <th>3</th>\n",
       "      <td>8.0</td>\n",
       "      <td>8.0</td>\n",
       "      <td>6.0</td>\n",
       "      <td>5.0</td>\n",
       "      <td>3.0</td>\n",
       "      <td>3.0</td>\n",
       "      <td>3.0</td>\n",
       "      <td>2.0</td>\n",
       "      <td>2.0</td>\n",
       "      <td>1.0</td>\n",
       "      <td>1.0</td>\n",
       "      <td>1.0</td>\n",
       "      <td>0.0</td>\n",
       "      <td>0.0</td>\n",
       "      <td>(0.835, 0.969)</td>\n",
       "      <td>0.835</td>\n",
       "      <td>0.969</td>\n",
       "    </tr>\n",
       "    <tr>\n",
       "      <th>34</th>\n",
       "      <td>3.0</td>\n",
       "      <td>1.0</td>\n",
       "      <td>0.0</td>\n",
       "      <td>0.0</td>\n",
       "      <td>0.0</td>\n",
       "      <td>0.0</td>\n",
       "      <td>0.0</td>\n",
       "      <td>0.0</td>\n",
       "      <td>0.0</td>\n",
       "      <td>0.0</td>\n",
       "      <td>0.0</td>\n",
       "      <td>0.0</td>\n",
       "      <td>0.0</td>\n",
       "      <td>0.0</td>\n",
       "      <td>(0.969, 1.0)</td>\n",
       "      <td>0.969</td>\n",
       "      <td>1.000</td>\n",
       "    </tr>\n",
       "    <tr>\n",
       "      <th>14</th>\n",
       "      <td>84.0</td>\n",
       "      <td>78.0</td>\n",
       "      <td>68.0</td>\n",
       "      <td>68.0</td>\n",
       "      <td>60.0</td>\n",
       "      <td>60.0</td>\n",
       "      <td>55.0</td>\n",
       "      <td>50.0</td>\n",
       "      <td>47.0</td>\n",
       "      <td>41.0</td>\n",
       "      <td>38.0</td>\n",
       "      <td>34.0</td>\n",
       "      <td>18.0</td>\n",
       "      <td>0.0</td>\n",
       "      <td>(1.0, 1.086)</td>\n",
       "      <td>1.000</td>\n",
       "      <td>1.086</td>\n",
       "    </tr>\n",
       "    <tr>\n",
       "      <th>16</th>\n",
       "      <td>19.0</td>\n",
       "      <td>18.0</td>\n",
       "      <td>17.0</td>\n",
       "      <td>16.0</td>\n",
       "      <td>15.0</td>\n",
       "      <td>15.0</td>\n",
       "      <td>15.0</td>\n",
       "      <td>12.0</td>\n",
       "      <td>10.0</td>\n",
       "      <td>7.0</td>\n",
       "      <td>5.0</td>\n",
       "      <td>4.0</td>\n",
       "      <td>2.0</td>\n",
       "      <td>0.0</td>\n",
       "      <td>(1.086, 1.2)</td>\n",
       "      <td>1.086</td>\n",
       "      <td>1.200</td>\n",
       "    </tr>\n",
       "    <tr>\n",
       "      <th>31</th>\n",
       "      <td>14.0</td>\n",
       "      <td>13.0</td>\n",
       "      <td>13.0</td>\n",
       "      <td>10.0</td>\n",
       "      <td>6.0</td>\n",
       "      <td>6.0</td>\n",
       "      <td>4.0</td>\n",
       "      <td>2.0</td>\n",
       "      <td>2.0</td>\n",
       "      <td>2.0</td>\n",
       "      <td>1.0</td>\n",
       "      <td>0.0</td>\n",
       "      <td>0.0</td>\n",
       "      <td>0.0</td>\n",
       "      <td>(1.2, 1.314)</td>\n",
       "      <td>1.200</td>\n",
       "      <td>1.314</td>\n",
       "    </tr>\n",
       "    <tr>\n",
       "      <th>11</th>\n",
       "      <td>25.0</td>\n",
       "      <td>24.0</td>\n",
       "      <td>21.0</td>\n",
       "      <td>19.0</td>\n",
       "      <td>18.0</td>\n",
       "      <td>17.0</td>\n",
       "      <td>16.0</td>\n",
       "      <td>13.0</td>\n",
       "      <td>12.0</td>\n",
       "      <td>11.0</td>\n",
       "      <td>9.0</td>\n",
       "      <td>7.0</td>\n",
       "      <td>4.0</td>\n",
       "      <td>0.0</td>\n",
       "      <td>(1.314, 1.4)</td>\n",
       "      <td>1.314</td>\n",
       "      <td>1.400</td>\n",
       "    </tr>\n",
       "    <tr>\n",
       "      <th>25</th>\n",
       "      <td>23.0</td>\n",
       "      <td>21.0</td>\n",
       "      <td>21.0</td>\n",
       "      <td>21.0</td>\n",
       "      <td>21.0</td>\n",
       "      <td>21.0</td>\n",
       "      <td>21.0</td>\n",
       "      <td>20.0</td>\n",
       "      <td>20.0</td>\n",
       "      <td>19.0</td>\n",
       "      <td>17.0</td>\n",
       "      <td>12.0</td>\n",
       "      <td>11.0</td>\n",
       "      <td>7.0</td>\n",
       "      <td>(1.4, 1.411)</td>\n",
       "      <td>1.400</td>\n",
       "      <td>1.411</td>\n",
       "    </tr>\n",
       "    <tr>\n",
       "      <th>39</th>\n",
       "      <td>15.0</td>\n",
       "      <td>12.0</td>\n",
       "      <td>12.0</td>\n",
       "      <td>12.0</td>\n",
       "      <td>10.0</td>\n",
       "      <td>10.0</td>\n",
       "      <td>10.0</td>\n",
       "      <td>10.0</td>\n",
       "      <td>10.0</td>\n",
       "      <td>10.0</td>\n",
       "      <td>10.0</td>\n",
       "      <td>9.0</td>\n",
       "      <td>6.0</td>\n",
       "      <td>1.0</td>\n",
       "      <td>(1.411, 1.5)</td>\n",
       "      <td>1.411</td>\n",
       "      <td>1.500</td>\n",
       "    </tr>\n",
       "    <tr>\n",
       "      <th>37</th>\n",
       "      <td>378.0</td>\n",
       "      <td>378.0</td>\n",
       "      <td>338.0</td>\n",
       "      <td>291.0</td>\n",
       "      <td>272.0</td>\n",
       "      <td>272.0</td>\n",
       "      <td>272.0</td>\n",
       "      <td>258.0</td>\n",
       "      <td>258.0</td>\n",
       "      <td>238.0</td>\n",
       "      <td>226.0</td>\n",
       "      <td>201.0</td>\n",
       "      <td>176.0</td>\n",
       "      <td>151.0</td>\n",
       "      <td>(1.5, 1.551)</td>\n",
       "      <td>1.500</td>\n",
       "      <td>1.551</td>\n",
       "    </tr>\n",
       "    <tr>\n",
       "      <th>27</th>\n",
       "      <td>24.0</td>\n",
       "      <td>22.0</td>\n",
       "      <td>20.0</td>\n",
       "      <td>19.0</td>\n",
       "      <td>17.0</td>\n",
       "      <td>17.0</td>\n",
       "      <td>17.0</td>\n",
       "      <td>16.0</td>\n",
       "      <td>16.0</td>\n",
       "      <td>14.0</td>\n",
       "      <td>11.0</td>\n",
       "      <td>5.0</td>\n",
       "      <td>1.0</td>\n",
       "      <td>0.0</td>\n",
       "      <td>(1.551, 1.717)</td>\n",
       "      <td>1.551</td>\n",
       "      <td>1.717</td>\n",
       "    </tr>\n",
       "    <tr>\n",
       "      <th>43</th>\n",
       "      <td>13.0</td>\n",
       "      <td>12.0</td>\n",
       "      <td>11.0</td>\n",
       "      <td>11.0</td>\n",
       "      <td>9.0</td>\n",
       "      <td>9.0</td>\n",
       "      <td>8.0</td>\n",
       "      <td>6.0</td>\n",
       "      <td>5.0</td>\n",
       "      <td>5.0</td>\n",
       "      <td>4.0</td>\n",
       "      <td>2.0</td>\n",
       "      <td>0.0</td>\n",
       "      <td>0.0</td>\n",
       "      <td>(1.717, 1.93)</td>\n",
       "      <td>1.717</td>\n",
       "      <td>1.930</td>\n",
       "    </tr>\n",
       "    <tr>\n",
       "      <th>42</th>\n",
       "      <td>8.0</td>\n",
       "      <td>7.0</td>\n",
       "      <td>7.0</td>\n",
       "      <td>7.0</td>\n",
       "      <td>6.0</td>\n",
       "      <td>6.0</td>\n",
       "      <td>6.0</td>\n",
       "      <td>6.0</td>\n",
       "      <td>6.0</td>\n",
       "      <td>6.0</td>\n",
       "      <td>6.0</td>\n",
       "      <td>6.0</td>\n",
       "      <td>5.0</td>\n",
       "      <td>5.0</td>\n",
       "      <td>(1.93, 2.0)</td>\n",
       "      <td>1.930</td>\n",
       "      <td>2.000</td>\n",
       "    </tr>\n",
       "    <tr>\n",
       "      <th>15</th>\n",
       "      <td>216.0</td>\n",
       "      <td>211.0</td>\n",
       "      <td>211.0</td>\n",
       "      <td>200.0</td>\n",
       "      <td>194.0</td>\n",
       "      <td>194.0</td>\n",
       "      <td>194.0</td>\n",
       "      <td>194.0</td>\n",
       "      <td>191.0</td>\n",
       "      <td>189.0</td>\n",
       "      <td>185.0</td>\n",
       "      <td>177.0</td>\n",
       "      <td>158.0</td>\n",
       "      <td>141.0</td>\n",
       "      <td>(2.0, 2.008)</td>\n",
       "      <td>2.000</td>\n",
       "      <td>2.008</td>\n",
       "    </tr>\n",
       "    <tr>\n",
       "      <th>13</th>\n",
       "      <td>7.0</td>\n",
       "      <td>7.0</td>\n",
       "      <td>7.0</td>\n",
       "      <td>7.0</td>\n",
       "      <td>6.0</td>\n",
       "      <td>6.0</td>\n",
       "      <td>6.0</td>\n",
       "      <td>6.0</td>\n",
       "      <td>5.0</td>\n",
       "      <td>5.0</td>\n",
       "      <td>5.0</td>\n",
       "      <td>4.0</td>\n",
       "      <td>4.0</td>\n",
       "      <td>1.0</td>\n",
       "      <td>(2.008, 2.185)</td>\n",
       "      <td>2.008</td>\n",
       "      <td>2.185</td>\n",
       "    </tr>\n",
       "    <tr>\n",
       "      <th>6</th>\n",
       "      <td>21.0</td>\n",
       "      <td>21.0</td>\n",
       "      <td>21.0</td>\n",
       "      <td>20.0</td>\n",
       "      <td>19.0</td>\n",
       "      <td>19.0</td>\n",
       "      <td>19.0</td>\n",
       "      <td>18.0</td>\n",
       "      <td>16.0</td>\n",
       "      <td>16.0</td>\n",
       "      <td>14.0</td>\n",
       "      <td>13.0</td>\n",
       "      <td>12.0</td>\n",
       "      <td>1.0</td>\n",
       "      <td>(2.185, 2.42)</td>\n",
       "      <td>2.185</td>\n",
       "      <td>2.420</td>\n",
       "    </tr>\n",
       "    <tr>\n",
       "      <th>18</th>\n",
       "      <td>4.0</td>\n",
       "      <td>4.0</td>\n",
       "      <td>4.0</td>\n",
       "      <td>4.0</td>\n",
       "      <td>4.0</td>\n",
       "      <td>4.0</td>\n",
       "      <td>4.0</td>\n",
       "      <td>4.0</td>\n",
       "      <td>4.0</td>\n",
       "      <td>4.0</td>\n",
       "      <td>4.0</td>\n",
       "      <td>4.0</td>\n",
       "      <td>3.0</td>\n",
       "      <td>1.0</td>\n",
       "      <td>(2.42, 2.5)</td>\n",
       "      <td>2.420</td>\n",
       "      <td>2.500</td>\n",
       "    </tr>\n",
       "    <tr>\n",
       "      <th>35</th>\n",
       "      <td>21.0</td>\n",
       "      <td>21.0</td>\n",
       "      <td>21.0</td>\n",
       "      <td>20.0</td>\n",
       "      <td>19.0</td>\n",
       "      <td>19.0</td>\n",
       "      <td>19.0</td>\n",
       "      <td>18.0</td>\n",
       "      <td>18.0</td>\n",
       "      <td>15.0</td>\n",
       "      <td>13.0</td>\n",
       "      <td>12.0</td>\n",
       "      <td>11.0</td>\n",
       "      <td>10.0</td>\n",
       "      <td>(2.5, 2.681)</td>\n",
       "      <td>2.500</td>\n",
       "      <td>2.681</td>\n",
       "    </tr>\n",
       "    <tr>\n",
       "      <th>5</th>\n",
       "      <td>15.0</td>\n",
       "      <td>15.0</td>\n",
       "      <td>15.0</td>\n",
       "      <td>14.0</td>\n",
       "      <td>12.0</td>\n",
       "      <td>12.0</td>\n",
       "      <td>12.0</td>\n",
       "      <td>12.0</td>\n",
       "      <td>12.0</td>\n",
       "      <td>12.0</td>\n",
       "      <td>11.0</td>\n",
       "      <td>9.0</td>\n",
       "      <td>8.0</td>\n",
       "      <td>1.0</td>\n",
       "      <td>(2.681, 2.974)</td>\n",
       "      <td>2.681</td>\n",
       "      <td>2.974</td>\n",
       "    </tr>\n",
       "    <tr>\n",
       "      <th>36</th>\n",
       "      <td>18.0</td>\n",
       "      <td>18.0</td>\n",
       "      <td>18.0</td>\n",
       "      <td>17.0</td>\n",
       "      <td>17.0</td>\n",
       "      <td>15.0</td>\n",
       "      <td>15.0</td>\n",
       "      <td>15.0</td>\n",
       "      <td>13.0</td>\n",
       "      <td>13.0</td>\n",
       "      <td>12.0</td>\n",
       "      <td>12.0</td>\n",
       "      <td>11.0</td>\n",
       "      <td>7.0</td>\n",
       "      <td>(2.974, 3.0)</td>\n",
       "      <td>2.974</td>\n",
       "      <td>3.000</td>\n",
       "    </tr>\n",
       "    <tr>\n",
       "      <th>12</th>\n",
       "      <td>267.0</td>\n",
       "      <td>267.0</td>\n",
       "      <td>267.0</td>\n",
       "      <td>251.0</td>\n",
       "      <td>237.0</td>\n",
       "      <td>237.0</td>\n",
       "      <td>237.0</td>\n",
       "      <td>225.0</td>\n",
       "      <td>214.0</td>\n",
       "      <td>208.0</td>\n",
       "      <td>192.0</td>\n",
       "      <td>165.0</td>\n",
       "      <td>151.0</td>\n",
       "      <td>118.0</td>\n",
       "      <td>(3.0, 3.018)</td>\n",
       "      <td>3.000</td>\n",
       "      <td>3.018</td>\n",
       "    </tr>\n",
       "    <tr>\n",
       "      <th>22</th>\n",
       "      <td>12.0</td>\n",
       "      <td>11.0</td>\n",
       "      <td>11.0</td>\n",
       "      <td>10.0</td>\n",
       "      <td>10.0</td>\n",
       "      <td>10.0</td>\n",
       "      <td>10.0</td>\n",
       "      <td>10.0</td>\n",
       "      <td>10.0</td>\n",
       "      <td>10.0</td>\n",
       "      <td>8.0</td>\n",
       "      <td>8.0</td>\n",
       "      <td>8.0</td>\n",
       "      <td>5.0</td>\n",
       "      <td>(3.018, 3.319)</td>\n",
       "      <td>3.018</td>\n",
       "      <td>3.319</td>\n",
       "    </tr>\n",
       "    <tr>\n",
       "      <th>2</th>\n",
       "      <td>11.0</td>\n",
       "      <td>11.0</td>\n",
       "      <td>10.0</td>\n",
       "      <td>10.0</td>\n",
       "      <td>10.0</td>\n",
       "      <td>10.0</td>\n",
       "      <td>10.0</td>\n",
       "      <td>10.0</td>\n",
       "      <td>10.0</td>\n",
       "      <td>10.0</td>\n",
       "      <td>10.0</td>\n",
       "      <td>10.0</td>\n",
       "      <td>10.0</td>\n",
       "      <td>10.0</td>\n",
       "      <td>(3.319, 3.705)</td>\n",
       "      <td>3.319</td>\n",
       "      <td>3.705</td>\n",
       "    </tr>\n",
       "    <tr>\n",
       "      <th>24</th>\n",
       "      <td>9.0</td>\n",
       "      <td>9.0</td>\n",
       "      <td>8.0</td>\n",
       "      <td>7.0</td>\n",
       "      <td>6.0</td>\n",
       "      <td>6.0</td>\n",
       "      <td>6.0</td>\n",
       "      <td>6.0</td>\n",
       "      <td>6.0</td>\n",
       "      <td>6.0</td>\n",
       "      <td>6.0</td>\n",
       "      <td>5.0</td>\n",
       "      <td>4.0</td>\n",
       "      <td>0.0</td>\n",
       "      <td>(3.705, 4.065)</td>\n",
       "      <td>3.705</td>\n",
       "      <td>4.065</td>\n",
       "    </tr>\n",
       "    <tr>\n",
       "      <th>7</th>\n",
       "      <td>2.0</td>\n",
       "      <td>2.0</td>\n",
       "      <td>2.0</td>\n",
       "      <td>2.0</td>\n",
       "      <td>2.0</td>\n",
       "      <td>2.0</td>\n",
       "      <td>2.0</td>\n",
       "      <td>2.0</td>\n",
       "      <td>2.0</td>\n",
       "      <td>2.0</td>\n",
       "      <td>2.0</td>\n",
       "      <td>2.0</td>\n",
       "      <td>2.0</td>\n",
       "      <td>0.0</td>\n",
       "      <td>(4.065, 4.691)</td>\n",
       "      <td>4.065</td>\n",
       "      <td>4.691</td>\n",
       "    </tr>\n",
       "    <tr>\n",
       "      <th>8</th>\n",
       "      <td>6.0</td>\n",
       "      <td>6.0</td>\n",
       "      <td>6.0</td>\n",
       "      <td>6.0</td>\n",
       "      <td>6.0</td>\n",
       "      <td>6.0</td>\n",
       "      <td>5.0</td>\n",
       "      <td>5.0</td>\n",
       "      <td>5.0</td>\n",
       "      <td>5.0</td>\n",
       "      <td>4.0</td>\n",
       "      <td>2.0</td>\n",
       "      <td>2.0</td>\n",
       "      <td>0.0</td>\n",
       "      <td>(4.691, 5.068)</td>\n",
       "      <td>4.691</td>\n",
       "      <td>5.068</td>\n",
       "    </tr>\n",
       "    <tr>\n",
       "      <th>26</th>\n",
       "      <td>6.0</td>\n",
       "      <td>4.0</td>\n",
       "      <td>4.0</td>\n",
       "      <td>4.0</td>\n",
       "      <td>3.0</td>\n",
       "      <td>3.0</td>\n",
       "      <td>3.0</td>\n",
       "      <td>3.0</td>\n",
       "      <td>3.0</td>\n",
       "      <td>3.0</td>\n",
       "      <td>2.0</td>\n",
       "      <td>2.0</td>\n",
       "      <td>2.0</td>\n",
       "      <td>1.0</td>\n",
       "      <td>(5.068, 6.0)</td>\n",
       "      <td>5.068</td>\n",
       "      <td>6.000</td>\n",
       "    </tr>\n",
       "    <tr>\n",
       "      <th>32</th>\n",
       "      <td>13.0</td>\n",
       "      <td>13.0</td>\n",
       "      <td>13.0</td>\n",
       "      <td>13.0</td>\n",
       "      <td>13.0</td>\n",
       "      <td>13.0</td>\n",
       "      <td>13.0</td>\n",
       "      <td>13.0</td>\n",
       "      <td>13.0</td>\n",
       "      <td>12.0</td>\n",
       "      <td>12.0</td>\n",
       "      <td>12.0</td>\n",
       "      <td>12.0</td>\n",
       "      <td>7.0</td>\n",
       "      <td>(6.0, 7.0)</td>\n",
       "      <td>6.000</td>\n",
       "      <td>7.000</td>\n",
       "    </tr>\n",
       "    <tr>\n",
       "      <th>21</th>\n",
       "      <td>21.0</td>\n",
       "      <td>18.0</td>\n",
       "      <td>18.0</td>\n",
       "      <td>14.0</td>\n",
       "      <td>14.0</td>\n",
       "      <td>14.0</td>\n",
       "      <td>14.0</td>\n",
       "      <td>14.0</td>\n",
       "      <td>14.0</td>\n",
       "      <td>14.0</td>\n",
       "      <td>13.0</td>\n",
       "      <td>12.0</td>\n",
       "      <td>11.0</td>\n",
       "      <td>3.0</td>\n",
       "      <td>(7.0, 8.15)</td>\n",
       "      <td>7.000</td>\n",
       "      <td>8.150</td>\n",
       "    </tr>\n",
       "    <tr>\n",
       "      <th>45</th>\n",
       "      <td>21.0</td>\n",
       "      <td>20.0</td>\n",
       "      <td>20.0</td>\n",
       "      <td>17.0</td>\n",
       "      <td>15.0</td>\n",
       "      <td>15.0</td>\n",
       "      <td>15.0</td>\n",
       "      <td>15.0</td>\n",
       "      <td>15.0</td>\n",
       "      <td>14.0</td>\n",
       "      <td>13.0</td>\n",
       "      <td>13.0</td>\n",
       "      <td>13.0</td>\n",
       "      <td>10.0</td>\n",
       "      <td>(8.15, 10.0)</td>\n",
       "      <td>8.150</td>\n",
       "      <td>10.000</td>\n",
       "    </tr>\n",
       "    <tr>\n",
       "      <th>40</th>\n",
       "      <td>13.0</td>\n",
       "      <td>10.0</td>\n",
       "      <td>10.0</td>\n",
       "      <td>9.0</td>\n",
       "      <td>9.0</td>\n",
       "      <td>9.0</td>\n",
       "      <td>9.0</td>\n",
       "      <td>9.0</td>\n",
       "      <td>7.0</td>\n",
       "      <td>6.0</td>\n",
       "      <td>6.0</td>\n",
       "      <td>5.0</td>\n",
       "      <td>5.0</td>\n",
       "      <td>2.0</td>\n",
       "      <td>(10.0, 12.536)</td>\n",
       "      <td>10.000</td>\n",
       "      <td>12.536</td>\n",
       "    </tr>\n",
       "    <tr>\n",
       "      <th>30</th>\n",
       "      <td>30.0</td>\n",
       "      <td>30.0</td>\n",
       "      <td>28.0</td>\n",
       "      <td>26.0</td>\n",
       "      <td>26.0</td>\n",
       "      <td>26.0</td>\n",
       "      <td>26.0</td>\n",
       "      <td>26.0</td>\n",
       "      <td>25.0</td>\n",
       "      <td>23.0</td>\n",
       "      <td>21.0</td>\n",
       "      <td>20.0</td>\n",
       "      <td>20.0</td>\n",
       "      <td>10.0</td>\n",
       "      <td>(12.536, 18.713)</td>\n",
       "      <td>12.536</td>\n",
       "      <td>18.713</td>\n",
       "    </tr>\n",
       "    <tr>\n",
       "      <th>44</th>\n",
       "      <td>4.0</td>\n",
       "      <td>4.0</td>\n",
       "      <td>4.0</td>\n",
       "      <td>4.0</td>\n",
       "      <td>4.0</td>\n",
       "      <td>4.0</td>\n",
       "      <td>4.0</td>\n",
       "      <td>4.0</td>\n",
       "      <td>3.0</td>\n",
       "      <td>3.0</td>\n",
       "      <td>3.0</td>\n",
       "      <td>2.0</td>\n",
       "      <td>2.0</td>\n",
       "      <td>1.0</td>\n",
       "      <td>(18.713, 33.305)</td>\n",
       "      <td>18.713</td>\n",
       "      <td>33.305</td>\n",
       "    </tr>\n",
       "    <tr>\n",
       "      <th>4</th>\n",
       "      <td>5.0</td>\n",
       "      <td>3.0</td>\n",
       "      <td>3.0</td>\n",
       "      <td>3.0</td>\n",
       "      <td>3.0</td>\n",
       "      <td>3.0</td>\n",
       "      <td>3.0</td>\n",
       "      <td>3.0</td>\n",
       "      <td>3.0</td>\n",
       "      <td>1.0</td>\n",
       "      <td>1.0</td>\n",
       "      <td>1.0</td>\n",
       "      <td>1.0</td>\n",
       "      <td>1.0</td>\n",
       "      <td>(33.305, 504695.879)</td>\n",
       "      <td>33.305</td>\n",
       "      <td>504695.879</td>\n",
       "    </tr>\n",
       "  </tbody>\n",
       "</table>\n",
       "</div>"
      ],
      "text/plain": [
       "    0.7 percentile  0.75 percentile  0.8 percentile  0.85 percentile  \\\n",
       "10             2.0              2.0             2.0              0.0   \n",
       "46             3.0              2.0             1.0              0.0   \n",
       "20             9.0              5.0             3.0              2.0   \n",
       "28             7.0              6.0             4.0              2.0   \n",
       "0              8.0              7.0             6.0              3.0   \n",
       "9              3.0              3.0             3.0              1.0   \n",
       "29             1.0              1.0             0.0              0.0   \n",
       "38             6.0              3.0             1.0              0.0   \n",
       "41             1.0              1.0             0.0              0.0   \n",
       "23             1.0              1.0             1.0              0.0   \n",
       "19             7.0              5.0             1.0              0.0   \n",
       "1              3.0              3.0             2.0              0.0   \n",
       "17             4.0              3.0             3.0              1.0   \n",
       "33             1.0              1.0             1.0              1.0   \n",
       "3              8.0              8.0             6.0              5.0   \n",
       "34             3.0              1.0             0.0              0.0   \n",
       "14            84.0             78.0            68.0             68.0   \n",
       "16            19.0             18.0            17.0             16.0   \n",
       "31            14.0             13.0            13.0             10.0   \n",
       "11            25.0             24.0            21.0             19.0   \n",
       "25            23.0             21.0            21.0             21.0   \n",
       "39            15.0             12.0            12.0             12.0   \n",
       "37           378.0            378.0           338.0            291.0   \n",
       "27            24.0             22.0            20.0             19.0   \n",
       "43            13.0             12.0            11.0             11.0   \n",
       "42             8.0              7.0             7.0              7.0   \n",
       "15           216.0            211.0           211.0            200.0   \n",
       "13             7.0              7.0             7.0              7.0   \n",
       "6             21.0             21.0            21.0             20.0   \n",
       "18             4.0              4.0             4.0              4.0   \n",
       "35            21.0             21.0            21.0             20.0   \n",
       "5             15.0             15.0            15.0             14.0   \n",
       "36            18.0             18.0            18.0             17.0   \n",
       "12           267.0            267.0           267.0            251.0   \n",
       "22            12.0             11.0            11.0             10.0   \n",
       "2             11.0             11.0            10.0             10.0   \n",
       "24             9.0              9.0             8.0              7.0   \n",
       "7              2.0              2.0             2.0              2.0   \n",
       "8              6.0              6.0             6.0              6.0   \n",
       "26             6.0              4.0             4.0              4.0   \n",
       "32            13.0             13.0            13.0             13.0   \n",
       "21            21.0             18.0            18.0             14.0   \n",
       "45            21.0             20.0            20.0             17.0   \n",
       "40            13.0             10.0            10.0              9.0   \n",
       "30            30.0             30.0            28.0             26.0   \n",
       "44             4.0              4.0             4.0              4.0   \n",
       "4              5.0              3.0             3.0              3.0   \n",
       "\n",
       "    0.9 percentile  0.91 percentile  0.92 percentile  0.93 percentile  \\\n",
       "10             0.0              0.0              0.0              0.0   \n",
       "46             0.0              0.0              0.0              0.0   \n",
       "20             0.0              0.0              0.0              0.0   \n",
       "28             1.0              0.0              0.0              0.0   \n",
       "0              2.0              2.0              1.0              1.0   \n",
       "9              0.0              0.0              0.0              0.0   \n",
       "29             0.0              0.0              0.0              0.0   \n",
       "38             0.0              0.0              0.0              0.0   \n",
       "41             0.0              0.0              0.0              0.0   \n",
       "23             0.0              0.0              0.0              0.0   \n",
       "19             0.0              0.0              0.0              0.0   \n",
       "1              0.0              0.0              0.0              0.0   \n",
       "17             0.0              0.0              0.0              0.0   \n",
       "33             0.0              0.0              0.0              0.0   \n",
       "3              3.0              3.0              3.0              2.0   \n",
       "34             0.0              0.0              0.0              0.0   \n",
       "14            60.0             60.0             55.0             50.0   \n",
       "16            15.0             15.0             15.0             12.0   \n",
       "31             6.0              6.0              4.0              2.0   \n",
       "11            18.0             17.0             16.0             13.0   \n",
       "25            21.0             21.0             21.0             20.0   \n",
       "39            10.0             10.0             10.0             10.0   \n",
       "37           272.0            272.0            272.0            258.0   \n",
       "27            17.0             17.0             17.0             16.0   \n",
       "43             9.0              9.0              8.0              6.0   \n",
       "42             6.0              6.0              6.0              6.0   \n",
       "15           194.0            194.0            194.0            194.0   \n",
       "13             6.0              6.0              6.0              6.0   \n",
       "6             19.0             19.0             19.0             18.0   \n",
       "18             4.0              4.0              4.0              4.0   \n",
       "35            19.0             19.0             19.0             18.0   \n",
       "5             12.0             12.0             12.0             12.0   \n",
       "36            17.0             15.0             15.0             15.0   \n",
       "12           237.0            237.0            237.0            225.0   \n",
       "22            10.0             10.0             10.0             10.0   \n",
       "2             10.0             10.0             10.0             10.0   \n",
       "24             6.0              6.0              6.0              6.0   \n",
       "7              2.0              2.0              2.0              2.0   \n",
       "8              6.0              6.0              5.0              5.0   \n",
       "26             3.0              3.0              3.0              3.0   \n",
       "32            13.0             13.0             13.0             13.0   \n",
       "21            14.0             14.0             14.0             14.0   \n",
       "45            15.0             15.0             15.0             15.0   \n",
       "40             9.0              9.0              9.0              9.0   \n",
       "30            26.0             26.0             26.0             26.0   \n",
       "44             4.0              4.0              4.0              4.0   \n",
       "4              3.0              3.0              3.0              3.0   \n",
       "\n",
       "    0.94 percentile  0.95 percentile  0.96 percentile  0.97 percentile  \\\n",
       "10              0.0              0.0              0.0              0.0   \n",
       "46              0.0              0.0              0.0              0.0   \n",
       "20              0.0              0.0              0.0              0.0   \n",
       "28              0.0              0.0              0.0              0.0   \n",
       "0               1.0              0.0              0.0              0.0   \n",
       "9               0.0              0.0              0.0              0.0   \n",
       "29              0.0              0.0              0.0              0.0   \n",
       "38              0.0              0.0              0.0              0.0   \n",
       "41              0.0              0.0              0.0              0.0   \n",
       "23              0.0              0.0              0.0              0.0   \n",
       "19              0.0              0.0              0.0              0.0   \n",
       "1               0.0              0.0              0.0              0.0   \n",
       "17              0.0              0.0              0.0              0.0   \n",
       "33              0.0              0.0              0.0              0.0   \n",
       "3               2.0              1.0              1.0              1.0   \n",
       "34              0.0              0.0              0.0              0.0   \n",
       "14             47.0             41.0             38.0             34.0   \n",
       "16             10.0              7.0              5.0              4.0   \n",
       "31              2.0              2.0              1.0              0.0   \n",
       "11             12.0             11.0              9.0              7.0   \n",
       "25             20.0             19.0             17.0             12.0   \n",
       "39             10.0             10.0             10.0              9.0   \n",
       "37            258.0            238.0            226.0            201.0   \n",
       "27             16.0             14.0             11.0              5.0   \n",
       "43              5.0              5.0              4.0              2.0   \n",
       "42              6.0              6.0              6.0              6.0   \n",
       "15            191.0            189.0            185.0            177.0   \n",
       "13              5.0              5.0              5.0              4.0   \n",
       "6              16.0             16.0             14.0             13.0   \n",
       "18              4.0              4.0              4.0              4.0   \n",
       "35             18.0             15.0             13.0             12.0   \n",
       "5              12.0             12.0             11.0              9.0   \n",
       "36             13.0             13.0             12.0             12.0   \n",
       "12            214.0            208.0            192.0            165.0   \n",
       "22             10.0             10.0              8.0              8.0   \n",
       "2              10.0             10.0             10.0             10.0   \n",
       "24              6.0              6.0              6.0              5.0   \n",
       "7               2.0              2.0              2.0              2.0   \n",
       "8               5.0              5.0              4.0              2.0   \n",
       "26              3.0              3.0              2.0              2.0   \n",
       "32             13.0             12.0             12.0             12.0   \n",
       "21             14.0             14.0             13.0             12.0   \n",
       "45             15.0             14.0             13.0             13.0   \n",
       "40              7.0              6.0              6.0              5.0   \n",
       "30             25.0             23.0             21.0             20.0   \n",
       "44              3.0              3.0              3.0              2.0   \n",
       "4               3.0              1.0              1.0              1.0   \n",
       "\n",
       "    0.98 percentile  0.99 percentile          fee_interval  left_fee_border  \\\n",
       "10              0.0              0.0          (0.0, 0.059)            0.000   \n",
       "46              0.0              0.0        (0.059, 0.117)            0.059   \n",
       "20              0.0              0.0        (0.117, 0.144)            0.117   \n",
       "28              0.0              0.0        (0.144, 0.168)            0.144   \n",
       "0               0.0              0.0        (0.168, 0.196)            0.168   \n",
       "9               0.0              0.0        (0.196, 0.226)            0.196   \n",
       "29              0.0              0.0        (0.226, 0.257)            0.226   \n",
       "38              0.0              0.0        (0.257, 0.302)            0.257   \n",
       "41              0.0              0.0        (0.302, 0.361)            0.302   \n",
       "23              0.0              0.0        (0.361, 0.433)            0.361   \n",
       "19              0.0              0.0        (0.433, 0.513)            0.433   \n",
       "1               0.0              0.0        (0.513, 0.611)            0.513   \n",
       "17              0.0              0.0        (0.611, 0.713)            0.611   \n",
       "33              0.0              0.0        (0.713, 0.835)            0.713   \n",
       "3               0.0              0.0        (0.835, 0.969)            0.835   \n",
       "34              0.0              0.0          (0.969, 1.0)            0.969   \n",
       "14             18.0              0.0          (1.0, 1.086)            1.000   \n",
       "16              2.0              0.0          (1.086, 1.2)            1.086   \n",
       "31              0.0              0.0          (1.2, 1.314)            1.200   \n",
       "11              4.0              0.0          (1.314, 1.4)            1.314   \n",
       "25             11.0              7.0          (1.4, 1.411)            1.400   \n",
       "39              6.0              1.0          (1.411, 1.5)            1.411   \n",
       "37            176.0            151.0          (1.5, 1.551)            1.500   \n",
       "27              1.0              0.0        (1.551, 1.717)            1.551   \n",
       "43              0.0              0.0         (1.717, 1.93)            1.717   \n",
       "42              5.0              5.0           (1.93, 2.0)            1.930   \n",
       "15            158.0            141.0          (2.0, 2.008)            2.000   \n",
       "13              4.0              1.0        (2.008, 2.185)            2.008   \n",
       "6              12.0              1.0         (2.185, 2.42)            2.185   \n",
       "18              3.0              1.0           (2.42, 2.5)            2.420   \n",
       "35             11.0             10.0          (2.5, 2.681)            2.500   \n",
       "5               8.0              1.0        (2.681, 2.974)            2.681   \n",
       "36             11.0              7.0          (2.974, 3.0)            2.974   \n",
       "12            151.0            118.0          (3.0, 3.018)            3.000   \n",
       "22              8.0              5.0        (3.018, 3.319)            3.018   \n",
       "2              10.0             10.0        (3.319, 3.705)            3.319   \n",
       "24              4.0              0.0        (3.705, 4.065)            3.705   \n",
       "7               2.0              0.0        (4.065, 4.691)            4.065   \n",
       "8               2.0              0.0        (4.691, 5.068)            4.691   \n",
       "26              2.0              1.0          (5.068, 6.0)            5.068   \n",
       "32             12.0              7.0            (6.0, 7.0)            6.000   \n",
       "21             11.0              3.0           (7.0, 8.15)            7.000   \n",
       "45             13.0             10.0          (8.15, 10.0)            8.150   \n",
       "40              5.0              2.0        (10.0, 12.536)           10.000   \n",
       "30             20.0             10.0      (12.536, 18.713)           12.536   \n",
       "44              2.0              1.0      (18.713, 33.305)           18.713   \n",
       "4               1.0              1.0  (33.305, 504695.879)           33.305   \n",
       "\n",
       "    right_fee_border  \n",
       "10             0.059  \n",
       "46             0.117  \n",
       "20             0.144  \n",
       "28             0.168  \n",
       "0              0.196  \n",
       "9              0.226  \n",
       "29             0.257  \n",
       "38             0.302  \n",
       "41             0.361  \n",
       "23             0.433  \n",
       "19             0.513  \n",
       "1              0.611  \n",
       "17             0.713  \n",
       "33             0.835  \n",
       "3              0.969  \n",
       "34             1.000  \n",
       "14             1.086  \n",
       "16             1.200  \n",
       "31             1.314  \n",
       "11             1.400  \n",
       "25             1.411  \n",
       "39             1.500  \n",
       "37             1.551  \n",
       "27             1.717  \n",
       "43             1.930  \n",
       "42             2.000  \n",
       "15             2.008  \n",
       "13             2.185  \n",
       "6              2.420  \n",
       "18             2.500  \n",
       "35             2.681  \n",
       "5              2.974  \n",
       "36             3.000  \n",
       "12             3.018  \n",
       "22             3.319  \n",
       "2              3.705  \n",
       "24             4.065  \n",
       "7              4.691  \n",
       "8              5.068  \n",
       "26             6.000  \n",
       "32             7.000  \n",
       "21             8.150  \n",
       "45            10.000  \n",
       "40            12.536  \n",
       "30            18.713  \n",
       "44            33.305  \n",
       "4         504695.879  "
      ]
     },
     "execution_count": 13,
     "metadata": {},
     "output_type": "execute_result"
    }
   ],
   "source": [
    "cdf"
   ]
  },
  {
   "cell_type": "code",
   "execution_count": 41,
   "id": "0e26819a",
   "metadata": {},
   "outputs": [],
   "source": [
    "sub_df = cdf.drop(['left_fee_border','right_fee_border'],axis=1)"
   ]
  },
  {
   "cell_type": "code",
   "execution_count": 37,
   "id": "74d506d0",
   "metadata": {
    "scrolled": true
   },
   "outputs": [
    {
     "data": {
      "application/vnd.plotly.v1+json": {
       "config": {
        "plotlyServerURL": "https://plot.ly"
       },
       "data": [
        {
         "name": "0.7 percentile",
         "text": "0.7 percentile",
         "type": "bar",
         "x": [
          [
           0,
           0.059
          ],
          [
           0.059,
           0.117
          ],
          [
           0.117,
           0.144
          ],
          [
           0.144,
           0.168
          ],
          [
           0.168,
           0.196
          ],
          [
           0.196,
           0.226
          ],
          [
           0.226,
           0.257
          ],
          [
           0.257,
           0.302
          ],
          [
           0.302,
           0.361
          ],
          [
           0.361,
           0.433
          ],
          [
           0.433,
           0.513
          ],
          [
           0.513,
           0.611
          ],
          [
           0.611,
           0.713
          ],
          [
           0.713,
           0.835
          ],
          [
           0.835,
           0.969
          ],
          [
           0.969,
           1
          ],
          [
           1,
           1.086
          ],
          [
           1.086,
           1.2
          ],
          [
           1.2,
           1.314
          ],
          [
           1.314,
           1.4
          ],
          [
           1.4,
           1.411
          ],
          [
           1.411,
           1.5
          ],
          [
           1.5,
           1.551
          ],
          [
           1.551,
           1.717
          ],
          [
           1.717,
           1.93
          ],
          [
           1.93,
           2
          ],
          [
           2,
           2.008
          ],
          [
           2.008,
           2.185
          ],
          [
           2.185,
           2.42
          ],
          [
           2.42,
           2.5
          ],
          [
           2.5,
           2.681
          ],
          [
           2.681,
           2.974
          ],
          [
           2.974,
           3
          ],
          [
           3,
           3.018
          ],
          [
           3.018,
           3.319
          ],
          [
           3.319,
           3.705
          ],
          [
           3.705,
           4.065
          ],
          [
           4.065,
           4.691
          ],
          [
           4.691,
           5.068
          ],
          [
           5.068,
           6
          ],
          [
           6,
           7
          ],
          [
           7,
           8.15
          ],
          [
           8.15,
           10
          ],
          [
           10,
           12.536
          ],
          [
           12.536,
           18.713
          ],
          [
           18.713,
           33.305
          ],
          [
           33.305,
           504695.879
          ]
         ],
         "y": [
          2,
          3,
          9,
          7,
          8,
          3,
          1,
          6,
          1,
          1,
          7,
          3,
          4,
          1,
          8,
          3,
          84,
          19,
          14,
          25,
          23,
          15,
          378,
          24,
          13,
          8,
          216,
          7,
          21,
          4,
          21,
          15,
          18,
          267,
          12,
          11,
          9,
          2,
          6,
          6,
          13,
          21,
          21,
          13,
          30,
          4,
          5
         ]
        },
        {
         "name": "0.75 percentile",
         "text": "0.75 percentile",
         "type": "bar",
         "x": [
          [
           0,
           0.059
          ],
          [
           0.059,
           0.117
          ],
          [
           0.117,
           0.144
          ],
          [
           0.144,
           0.168
          ],
          [
           0.168,
           0.196
          ],
          [
           0.196,
           0.226
          ],
          [
           0.226,
           0.257
          ],
          [
           0.257,
           0.302
          ],
          [
           0.302,
           0.361
          ],
          [
           0.361,
           0.433
          ],
          [
           0.433,
           0.513
          ],
          [
           0.513,
           0.611
          ],
          [
           0.611,
           0.713
          ],
          [
           0.713,
           0.835
          ],
          [
           0.835,
           0.969
          ],
          [
           0.969,
           1
          ],
          [
           1,
           1.086
          ],
          [
           1.086,
           1.2
          ],
          [
           1.2,
           1.314
          ],
          [
           1.314,
           1.4
          ],
          [
           1.4,
           1.411
          ],
          [
           1.411,
           1.5
          ],
          [
           1.5,
           1.551
          ],
          [
           1.551,
           1.717
          ],
          [
           1.717,
           1.93
          ],
          [
           1.93,
           2
          ],
          [
           2,
           2.008
          ],
          [
           2.008,
           2.185
          ],
          [
           2.185,
           2.42
          ],
          [
           2.42,
           2.5
          ],
          [
           2.5,
           2.681
          ],
          [
           2.681,
           2.974
          ],
          [
           2.974,
           3
          ],
          [
           3,
           3.018
          ],
          [
           3.018,
           3.319
          ],
          [
           3.319,
           3.705
          ],
          [
           3.705,
           4.065
          ],
          [
           4.065,
           4.691
          ],
          [
           4.691,
           5.068
          ],
          [
           5.068,
           6
          ],
          [
           6,
           7
          ],
          [
           7,
           8.15
          ],
          [
           8.15,
           10
          ],
          [
           10,
           12.536
          ],
          [
           12.536,
           18.713
          ],
          [
           18.713,
           33.305
          ],
          [
           33.305,
           504695.879
          ]
         ],
         "y": [
          2,
          2,
          5,
          6,
          7,
          3,
          1,
          3,
          1,
          1,
          5,
          3,
          3,
          1,
          8,
          1,
          78,
          18,
          13,
          24,
          21,
          12,
          378,
          22,
          12,
          7,
          211,
          7,
          21,
          4,
          21,
          15,
          18,
          267,
          11,
          11,
          9,
          2,
          6,
          4,
          13,
          18,
          20,
          10,
          30,
          4,
          3
         ]
        },
        {
         "name": "0.8 percentile",
         "text": "0.8 percentile",
         "type": "bar",
         "x": [
          [
           0,
           0.059
          ],
          [
           0.059,
           0.117
          ],
          [
           0.117,
           0.144
          ],
          [
           0.144,
           0.168
          ],
          [
           0.168,
           0.196
          ],
          [
           0.196,
           0.226
          ],
          [
           0.226,
           0.257
          ],
          [
           0.257,
           0.302
          ],
          [
           0.302,
           0.361
          ],
          [
           0.361,
           0.433
          ],
          [
           0.433,
           0.513
          ],
          [
           0.513,
           0.611
          ],
          [
           0.611,
           0.713
          ],
          [
           0.713,
           0.835
          ],
          [
           0.835,
           0.969
          ],
          [
           0.969,
           1
          ],
          [
           1,
           1.086
          ],
          [
           1.086,
           1.2
          ],
          [
           1.2,
           1.314
          ],
          [
           1.314,
           1.4
          ],
          [
           1.4,
           1.411
          ],
          [
           1.411,
           1.5
          ],
          [
           1.5,
           1.551
          ],
          [
           1.551,
           1.717
          ],
          [
           1.717,
           1.93
          ],
          [
           1.93,
           2
          ],
          [
           2,
           2.008
          ],
          [
           2.008,
           2.185
          ],
          [
           2.185,
           2.42
          ],
          [
           2.42,
           2.5
          ],
          [
           2.5,
           2.681
          ],
          [
           2.681,
           2.974
          ],
          [
           2.974,
           3
          ],
          [
           3,
           3.018
          ],
          [
           3.018,
           3.319
          ],
          [
           3.319,
           3.705
          ],
          [
           3.705,
           4.065
          ],
          [
           4.065,
           4.691
          ],
          [
           4.691,
           5.068
          ],
          [
           5.068,
           6
          ],
          [
           6,
           7
          ],
          [
           7,
           8.15
          ],
          [
           8.15,
           10
          ],
          [
           10,
           12.536
          ],
          [
           12.536,
           18.713
          ],
          [
           18.713,
           33.305
          ],
          [
           33.305,
           504695.879
          ]
         ],
         "y": [
          2,
          1,
          3,
          4,
          6,
          3,
          0,
          1,
          0,
          1,
          1,
          2,
          3,
          1,
          6,
          0,
          68,
          17,
          13,
          21,
          21,
          12,
          338,
          20,
          11,
          7,
          211,
          7,
          21,
          4,
          21,
          15,
          18,
          267,
          11,
          10,
          8,
          2,
          6,
          4,
          13,
          18,
          20,
          10,
          28,
          4,
          3
         ]
        },
        {
         "name": "0.85 percentile",
         "text": "0.85 percentile",
         "type": "bar",
         "x": [
          [
           0,
           0.059
          ],
          [
           0.059,
           0.117
          ],
          [
           0.117,
           0.144
          ],
          [
           0.144,
           0.168
          ],
          [
           0.168,
           0.196
          ],
          [
           0.196,
           0.226
          ],
          [
           0.226,
           0.257
          ],
          [
           0.257,
           0.302
          ],
          [
           0.302,
           0.361
          ],
          [
           0.361,
           0.433
          ],
          [
           0.433,
           0.513
          ],
          [
           0.513,
           0.611
          ],
          [
           0.611,
           0.713
          ],
          [
           0.713,
           0.835
          ],
          [
           0.835,
           0.969
          ],
          [
           0.969,
           1
          ],
          [
           1,
           1.086
          ],
          [
           1.086,
           1.2
          ],
          [
           1.2,
           1.314
          ],
          [
           1.314,
           1.4
          ],
          [
           1.4,
           1.411
          ],
          [
           1.411,
           1.5
          ],
          [
           1.5,
           1.551
          ],
          [
           1.551,
           1.717
          ],
          [
           1.717,
           1.93
          ],
          [
           1.93,
           2
          ],
          [
           2,
           2.008
          ],
          [
           2.008,
           2.185
          ],
          [
           2.185,
           2.42
          ],
          [
           2.42,
           2.5
          ],
          [
           2.5,
           2.681
          ],
          [
           2.681,
           2.974
          ],
          [
           2.974,
           3
          ],
          [
           3,
           3.018
          ],
          [
           3.018,
           3.319
          ],
          [
           3.319,
           3.705
          ],
          [
           3.705,
           4.065
          ],
          [
           4.065,
           4.691
          ],
          [
           4.691,
           5.068
          ],
          [
           5.068,
           6
          ],
          [
           6,
           7
          ],
          [
           7,
           8.15
          ],
          [
           8.15,
           10
          ],
          [
           10,
           12.536
          ],
          [
           12.536,
           18.713
          ],
          [
           18.713,
           33.305
          ],
          [
           33.305,
           504695.879
          ]
         ],
         "y": [
          0,
          0,
          2,
          2,
          3,
          1,
          0,
          0,
          0,
          0,
          0,
          0,
          1,
          1,
          5,
          0,
          68,
          16,
          10,
          19,
          21,
          12,
          291,
          19,
          11,
          7,
          200,
          7,
          20,
          4,
          20,
          14,
          17,
          251,
          10,
          10,
          7,
          2,
          6,
          4,
          13,
          14,
          17,
          9,
          26,
          4,
          3
         ]
        },
        {
         "name": "0.9 percentile",
         "text": "0.9 percentile",
         "type": "bar",
         "x": [
          [
           0,
           0.059
          ],
          [
           0.059,
           0.117
          ],
          [
           0.117,
           0.144
          ],
          [
           0.144,
           0.168
          ],
          [
           0.168,
           0.196
          ],
          [
           0.196,
           0.226
          ],
          [
           0.226,
           0.257
          ],
          [
           0.257,
           0.302
          ],
          [
           0.302,
           0.361
          ],
          [
           0.361,
           0.433
          ],
          [
           0.433,
           0.513
          ],
          [
           0.513,
           0.611
          ],
          [
           0.611,
           0.713
          ],
          [
           0.713,
           0.835
          ],
          [
           0.835,
           0.969
          ],
          [
           0.969,
           1
          ],
          [
           1,
           1.086
          ],
          [
           1.086,
           1.2
          ],
          [
           1.2,
           1.314
          ],
          [
           1.314,
           1.4
          ],
          [
           1.4,
           1.411
          ],
          [
           1.411,
           1.5
          ],
          [
           1.5,
           1.551
          ],
          [
           1.551,
           1.717
          ],
          [
           1.717,
           1.93
          ],
          [
           1.93,
           2
          ],
          [
           2,
           2.008
          ],
          [
           2.008,
           2.185
          ],
          [
           2.185,
           2.42
          ],
          [
           2.42,
           2.5
          ],
          [
           2.5,
           2.681
          ],
          [
           2.681,
           2.974
          ],
          [
           2.974,
           3
          ],
          [
           3,
           3.018
          ],
          [
           3.018,
           3.319
          ],
          [
           3.319,
           3.705
          ],
          [
           3.705,
           4.065
          ],
          [
           4.065,
           4.691
          ],
          [
           4.691,
           5.068
          ],
          [
           5.068,
           6
          ],
          [
           6,
           7
          ],
          [
           7,
           8.15
          ],
          [
           8.15,
           10
          ],
          [
           10,
           12.536
          ],
          [
           12.536,
           18.713
          ],
          [
           18.713,
           33.305
          ],
          [
           33.305,
           504695.879
          ]
         ],
         "y": [
          0,
          0,
          0,
          1,
          2,
          0,
          0,
          0,
          0,
          0,
          0,
          0,
          0,
          0,
          3,
          0,
          60,
          15,
          6,
          18,
          21,
          10,
          272,
          17,
          9,
          6,
          194,
          6,
          19,
          4,
          19,
          12,
          17,
          237,
          10,
          10,
          6,
          2,
          6,
          3,
          13,
          14,
          15,
          9,
          26,
          4,
          3
         ]
        },
        {
         "name": "0.91 percentile",
         "text": "0.91 percentile",
         "type": "bar",
         "x": [
          [
           0,
           0.059
          ],
          [
           0.059,
           0.117
          ],
          [
           0.117,
           0.144
          ],
          [
           0.144,
           0.168
          ],
          [
           0.168,
           0.196
          ],
          [
           0.196,
           0.226
          ],
          [
           0.226,
           0.257
          ],
          [
           0.257,
           0.302
          ],
          [
           0.302,
           0.361
          ],
          [
           0.361,
           0.433
          ],
          [
           0.433,
           0.513
          ],
          [
           0.513,
           0.611
          ],
          [
           0.611,
           0.713
          ],
          [
           0.713,
           0.835
          ],
          [
           0.835,
           0.969
          ],
          [
           0.969,
           1
          ],
          [
           1,
           1.086
          ],
          [
           1.086,
           1.2
          ],
          [
           1.2,
           1.314
          ],
          [
           1.314,
           1.4
          ],
          [
           1.4,
           1.411
          ],
          [
           1.411,
           1.5
          ],
          [
           1.5,
           1.551
          ],
          [
           1.551,
           1.717
          ],
          [
           1.717,
           1.93
          ],
          [
           1.93,
           2
          ],
          [
           2,
           2.008
          ],
          [
           2.008,
           2.185
          ],
          [
           2.185,
           2.42
          ],
          [
           2.42,
           2.5
          ],
          [
           2.5,
           2.681
          ],
          [
           2.681,
           2.974
          ],
          [
           2.974,
           3
          ],
          [
           3,
           3.018
          ],
          [
           3.018,
           3.319
          ],
          [
           3.319,
           3.705
          ],
          [
           3.705,
           4.065
          ],
          [
           4.065,
           4.691
          ],
          [
           4.691,
           5.068
          ],
          [
           5.068,
           6
          ],
          [
           6,
           7
          ],
          [
           7,
           8.15
          ],
          [
           8.15,
           10
          ],
          [
           10,
           12.536
          ],
          [
           12.536,
           18.713
          ],
          [
           18.713,
           33.305
          ],
          [
           33.305,
           504695.879
          ]
         ],
         "y": [
          0,
          0,
          0,
          0,
          2,
          0,
          0,
          0,
          0,
          0,
          0,
          0,
          0,
          0,
          3,
          0,
          60,
          15,
          6,
          17,
          21,
          10,
          272,
          17,
          9,
          6,
          194,
          6,
          19,
          4,
          19,
          12,
          15,
          237,
          10,
          10,
          6,
          2,
          6,
          3,
          13,
          14,
          15,
          9,
          26,
          4,
          3
         ]
        },
        {
         "name": "0.92 percentile",
         "text": "0.92 percentile",
         "type": "bar",
         "x": [
          [
           0,
           0.059
          ],
          [
           0.059,
           0.117
          ],
          [
           0.117,
           0.144
          ],
          [
           0.144,
           0.168
          ],
          [
           0.168,
           0.196
          ],
          [
           0.196,
           0.226
          ],
          [
           0.226,
           0.257
          ],
          [
           0.257,
           0.302
          ],
          [
           0.302,
           0.361
          ],
          [
           0.361,
           0.433
          ],
          [
           0.433,
           0.513
          ],
          [
           0.513,
           0.611
          ],
          [
           0.611,
           0.713
          ],
          [
           0.713,
           0.835
          ],
          [
           0.835,
           0.969
          ],
          [
           0.969,
           1
          ],
          [
           1,
           1.086
          ],
          [
           1.086,
           1.2
          ],
          [
           1.2,
           1.314
          ],
          [
           1.314,
           1.4
          ],
          [
           1.4,
           1.411
          ],
          [
           1.411,
           1.5
          ],
          [
           1.5,
           1.551
          ],
          [
           1.551,
           1.717
          ],
          [
           1.717,
           1.93
          ],
          [
           1.93,
           2
          ],
          [
           2,
           2.008
          ],
          [
           2.008,
           2.185
          ],
          [
           2.185,
           2.42
          ],
          [
           2.42,
           2.5
          ],
          [
           2.5,
           2.681
          ],
          [
           2.681,
           2.974
          ],
          [
           2.974,
           3
          ],
          [
           3,
           3.018
          ],
          [
           3.018,
           3.319
          ],
          [
           3.319,
           3.705
          ],
          [
           3.705,
           4.065
          ],
          [
           4.065,
           4.691
          ],
          [
           4.691,
           5.068
          ],
          [
           5.068,
           6
          ],
          [
           6,
           7
          ],
          [
           7,
           8.15
          ],
          [
           8.15,
           10
          ],
          [
           10,
           12.536
          ],
          [
           12.536,
           18.713
          ],
          [
           18.713,
           33.305
          ],
          [
           33.305,
           504695.879
          ]
         ],
         "y": [
          0,
          0,
          0,
          0,
          1,
          0,
          0,
          0,
          0,
          0,
          0,
          0,
          0,
          0,
          3,
          0,
          55,
          15,
          4,
          16,
          21,
          10,
          272,
          17,
          8,
          6,
          194,
          6,
          19,
          4,
          19,
          12,
          15,
          237,
          10,
          10,
          6,
          2,
          5,
          3,
          13,
          14,
          15,
          9,
          26,
          4,
          3
         ]
        },
        {
         "name": "0.93 percentile",
         "text": "0.93 percentile",
         "type": "bar",
         "x": [
          [
           0,
           0.059
          ],
          [
           0.059,
           0.117
          ],
          [
           0.117,
           0.144
          ],
          [
           0.144,
           0.168
          ],
          [
           0.168,
           0.196
          ],
          [
           0.196,
           0.226
          ],
          [
           0.226,
           0.257
          ],
          [
           0.257,
           0.302
          ],
          [
           0.302,
           0.361
          ],
          [
           0.361,
           0.433
          ],
          [
           0.433,
           0.513
          ],
          [
           0.513,
           0.611
          ],
          [
           0.611,
           0.713
          ],
          [
           0.713,
           0.835
          ],
          [
           0.835,
           0.969
          ],
          [
           0.969,
           1
          ],
          [
           1,
           1.086
          ],
          [
           1.086,
           1.2
          ],
          [
           1.2,
           1.314
          ],
          [
           1.314,
           1.4
          ],
          [
           1.4,
           1.411
          ],
          [
           1.411,
           1.5
          ],
          [
           1.5,
           1.551
          ],
          [
           1.551,
           1.717
          ],
          [
           1.717,
           1.93
          ],
          [
           1.93,
           2
          ],
          [
           2,
           2.008
          ],
          [
           2.008,
           2.185
          ],
          [
           2.185,
           2.42
          ],
          [
           2.42,
           2.5
          ],
          [
           2.5,
           2.681
          ],
          [
           2.681,
           2.974
          ],
          [
           2.974,
           3
          ],
          [
           3,
           3.018
          ],
          [
           3.018,
           3.319
          ],
          [
           3.319,
           3.705
          ],
          [
           3.705,
           4.065
          ],
          [
           4.065,
           4.691
          ],
          [
           4.691,
           5.068
          ],
          [
           5.068,
           6
          ],
          [
           6,
           7
          ],
          [
           7,
           8.15
          ],
          [
           8.15,
           10
          ],
          [
           10,
           12.536
          ],
          [
           12.536,
           18.713
          ],
          [
           18.713,
           33.305
          ],
          [
           33.305,
           504695.879
          ]
         ],
         "y": [
          0,
          0,
          0,
          0,
          1,
          0,
          0,
          0,
          0,
          0,
          0,
          0,
          0,
          0,
          2,
          0,
          50,
          12,
          2,
          13,
          20,
          10,
          258,
          16,
          6,
          6,
          194,
          6,
          18,
          4,
          18,
          12,
          15,
          225,
          10,
          10,
          6,
          2,
          5,
          3,
          13,
          14,
          15,
          9,
          26,
          4,
          3
         ]
        },
        {
         "name": "0.94 percentile",
         "text": "0.94 percentile",
         "type": "bar",
         "x": [
          [
           0,
           0.059
          ],
          [
           0.059,
           0.117
          ],
          [
           0.117,
           0.144
          ],
          [
           0.144,
           0.168
          ],
          [
           0.168,
           0.196
          ],
          [
           0.196,
           0.226
          ],
          [
           0.226,
           0.257
          ],
          [
           0.257,
           0.302
          ],
          [
           0.302,
           0.361
          ],
          [
           0.361,
           0.433
          ],
          [
           0.433,
           0.513
          ],
          [
           0.513,
           0.611
          ],
          [
           0.611,
           0.713
          ],
          [
           0.713,
           0.835
          ],
          [
           0.835,
           0.969
          ],
          [
           0.969,
           1
          ],
          [
           1,
           1.086
          ],
          [
           1.086,
           1.2
          ],
          [
           1.2,
           1.314
          ],
          [
           1.314,
           1.4
          ],
          [
           1.4,
           1.411
          ],
          [
           1.411,
           1.5
          ],
          [
           1.5,
           1.551
          ],
          [
           1.551,
           1.717
          ],
          [
           1.717,
           1.93
          ],
          [
           1.93,
           2
          ],
          [
           2,
           2.008
          ],
          [
           2.008,
           2.185
          ],
          [
           2.185,
           2.42
          ],
          [
           2.42,
           2.5
          ],
          [
           2.5,
           2.681
          ],
          [
           2.681,
           2.974
          ],
          [
           2.974,
           3
          ],
          [
           3,
           3.018
          ],
          [
           3.018,
           3.319
          ],
          [
           3.319,
           3.705
          ],
          [
           3.705,
           4.065
          ],
          [
           4.065,
           4.691
          ],
          [
           4.691,
           5.068
          ],
          [
           5.068,
           6
          ],
          [
           6,
           7
          ],
          [
           7,
           8.15
          ],
          [
           8.15,
           10
          ],
          [
           10,
           12.536
          ],
          [
           12.536,
           18.713
          ],
          [
           18.713,
           33.305
          ],
          [
           33.305,
           504695.879
          ]
         ],
         "y": [
          0,
          0,
          0,
          0,
          1,
          0,
          0,
          0,
          0,
          0,
          0,
          0,
          0,
          0,
          2,
          0,
          47,
          10,
          2,
          12,
          20,
          10,
          258,
          16,
          5,
          6,
          191,
          5,
          16,
          4,
          18,
          12,
          13,
          214,
          10,
          10,
          6,
          2,
          5,
          3,
          13,
          14,
          15,
          7,
          25,
          3,
          3
         ]
        },
        {
         "name": "0.95 percentile",
         "text": "0.95 percentile",
         "type": "bar",
         "x": [
          [
           0,
           0.059
          ],
          [
           0.059,
           0.117
          ],
          [
           0.117,
           0.144
          ],
          [
           0.144,
           0.168
          ],
          [
           0.168,
           0.196
          ],
          [
           0.196,
           0.226
          ],
          [
           0.226,
           0.257
          ],
          [
           0.257,
           0.302
          ],
          [
           0.302,
           0.361
          ],
          [
           0.361,
           0.433
          ],
          [
           0.433,
           0.513
          ],
          [
           0.513,
           0.611
          ],
          [
           0.611,
           0.713
          ],
          [
           0.713,
           0.835
          ],
          [
           0.835,
           0.969
          ],
          [
           0.969,
           1
          ],
          [
           1,
           1.086
          ],
          [
           1.086,
           1.2
          ],
          [
           1.2,
           1.314
          ],
          [
           1.314,
           1.4
          ],
          [
           1.4,
           1.411
          ],
          [
           1.411,
           1.5
          ],
          [
           1.5,
           1.551
          ],
          [
           1.551,
           1.717
          ],
          [
           1.717,
           1.93
          ],
          [
           1.93,
           2
          ],
          [
           2,
           2.008
          ],
          [
           2.008,
           2.185
          ],
          [
           2.185,
           2.42
          ],
          [
           2.42,
           2.5
          ],
          [
           2.5,
           2.681
          ],
          [
           2.681,
           2.974
          ],
          [
           2.974,
           3
          ],
          [
           3,
           3.018
          ],
          [
           3.018,
           3.319
          ],
          [
           3.319,
           3.705
          ],
          [
           3.705,
           4.065
          ],
          [
           4.065,
           4.691
          ],
          [
           4.691,
           5.068
          ],
          [
           5.068,
           6
          ],
          [
           6,
           7
          ],
          [
           7,
           8.15
          ],
          [
           8.15,
           10
          ],
          [
           10,
           12.536
          ],
          [
           12.536,
           18.713
          ],
          [
           18.713,
           33.305
          ],
          [
           33.305,
           504695.879
          ]
         ],
         "y": [
          0,
          0,
          0,
          0,
          0,
          0,
          0,
          0,
          0,
          0,
          0,
          0,
          0,
          0,
          1,
          0,
          41,
          7,
          2,
          11,
          19,
          10,
          238,
          14,
          5,
          6,
          189,
          5,
          16,
          4,
          15,
          12,
          13,
          208,
          10,
          10,
          6,
          2,
          5,
          3,
          12,
          14,
          14,
          6,
          23,
          3,
          1
         ]
        },
        {
         "name": "0.96 percentile",
         "text": "0.96 percentile",
         "type": "bar",
         "x": [
          [
           0,
           0.059
          ],
          [
           0.059,
           0.117
          ],
          [
           0.117,
           0.144
          ],
          [
           0.144,
           0.168
          ],
          [
           0.168,
           0.196
          ],
          [
           0.196,
           0.226
          ],
          [
           0.226,
           0.257
          ],
          [
           0.257,
           0.302
          ],
          [
           0.302,
           0.361
          ],
          [
           0.361,
           0.433
          ],
          [
           0.433,
           0.513
          ],
          [
           0.513,
           0.611
          ],
          [
           0.611,
           0.713
          ],
          [
           0.713,
           0.835
          ],
          [
           0.835,
           0.969
          ],
          [
           0.969,
           1
          ],
          [
           1,
           1.086
          ],
          [
           1.086,
           1.2
          ],
          [
           1.2,
           1.314
          ],
          [
           1.314,
           1.4
          ],
          [
           1.4,
           1.411
          ],
          [
           1.411,
           1.5
          ],
          [
           1.5,
           1.551
          ],
          [
           1.551,
           1.717
          ],
          [
           1.717,
           1.93
          ],
          [
           1.93,
           2
          ],
          [
           2,
           2.008
          ],
          [
           2.008,
           2.185
          ],
          [
           2.185,
           2.42
          ],
          [
           2.42,
           2.5
          ],
          [
           2.5,
           2.681
          ],
          [
           2.681,
           2.974
          ],
          [
           2.974,
           3
          ],
          [
           3,
           3.018
          ],
          [
           3.018,
           3.319
          ],
          [
           3.319,
           3.705
          ],
          [
           3.705,
           4.065
          ],
          [
           4.065,
           4.691
          ],
          [
           4.691,
           5.068
          ],
          [
           5.068,
           6
          ],
          [
           6,
           7
          ],
          [
           7,
           8.15
          ],
          [
           8.15,
           10
          ],
          [
           10,
           12.536
          ],
          [
           12.536,
           18.713
          ],
          [
           18.713,
           33.305
          ],
          [
           33.305,
           504695.879
          ]
         ],
         "y": [
          0,
          0,
          0,
          0,
          0,
          0,
          0,
          0,
          0,
          0,
          0,
          0,
          0,
          0,
          1,
          0,
          38,
          5,
          1,
          9,
          17,
          10,
          226,
          11,
          4,
          6,
          185,
          5,
          14,
          4,
          13,
          11,
          12,
          192,
          8,
          10,
          6,
          2,
          4,
          2,
          12,
          13,
          13,
          6,
          21,
          3,
          1
         ]
        },
        {
         "name": "0.97 percentile",
         "text": "0.97 percentile",
         "type": "bar",
         "x": [
          [
           0,
           0.059
          ],
          [
           0.059,
           0.117
          ],
          [
           0.117,
           0.144
          ],
          [
           0.144,
           0.168
          ],
          [
           0.168,
           0.196
          ],
          [
           0.196,
           0.226
          ],
          [
           0.226,
           0.257
          ],
          [
           0.257,
           0.302
          ],
          [
           0.302,
           0.361
          ],
          [
           0.361,
           0.433
          ],
          [
           0.433,
           0.513
          ],
          [
           0.513,
           0.611
          ],
          [
           0.611,
           0.713
          ],
          [
           0.713,
           0.835
          ],
          [
           0.835,
           0.969
          ],
          [
           0.969,
           1
          ],
          [
           1,
           1.086
          ],
          [
           1.086,
           1.2
          ],
          [
           1.2,
           1.314
          ],
          [
           1.314,
           1.4
          ],
          [
           1.4,
           1.411
          ],
          [
           1.411,
           1.5
          ],
          [
           1.5,
           1.551
          ],
          [
           1.551,
           1.717
          ],
          [
           1.717,
           1.93
          ],
          [
           1.93,
           2
          ],
          [
           2,
           2.008
          ],
          [
           2.008,
           2.185
          ],
          [
           2.185,
           2.42
          ],
          [
           2.42,
           2.5
          ],
          [
           2.5,
           2.681
          ],
          [
           2.681,
           2.974
          ],
          [
           2.974,
           3
          ],
          [
           3,
           3.018
          ],
          [
           3.018,
           3.319
          ],
          [
           3.319,
           3.705
          ],
          [
           3.705,
           4.065
          ],
          [
           4.065,
           4.691
          ],
          [
           4.691,
           5.068
          ],
          [
           5.068,
           6
          ],
          [
           6,
           7
          ],
          [
           7,
           8.15
          ],
          [
           8.15,
           10
          ],
          [
           10,
           12.536
          ],
          [
           12.536,
           18.713
          ],
          [
           18.713,
           33.305
          ],
          [
           33.305,
           504695.879
          ]
         ],
         "y": [
          0,
          0,
          0,
          0,
          0,
          0,
          0,
          0,
          0,
          0,
          0,
          0,
          0,
          0,
          1,
          0,
          34,
          4,
          0,
          7,
          12,
          9,
          201,
          5,
          2,
          6,
          177,
          4,
          13,
          4,
          12,
          9,
          12,
          165,
          8,
          10,
          5,
          2,
          2,
          2,
          12,
          12,
          13,
          5,
          20,
          2,
          1
         ]
        },
        {
         "name": "0.98 percentile",
         "text": "0.98 percentile",
         "type": "bar",
         "x": [
          [
           0,
           0.059
          ],
          [
           0.059,
           0.117
          ],
          [
           0.117,
           0.144
          ],
          [
           0.144,
           0.168
          ],
          [
           0.168,
           0.196
          ],
          [
           0.196,
           0.226
          ],
          [
           0.226,
           0.257
          ],
          [
           0.257,
           0.302
          ],
          [
           0.302,
           0.361
          ],
          [
           0.361,
           0.433
          ],
          [
           0.433,
           0.513
          ],
          [
           0.513,
           0.611
          ],
          [
           0.611,
           0.713
          ],
          [
           0.713,
           0.835
          ],
          [
           0.835,
           0.969
          ],
          [
           0.969,
           1
          ],
          [
           1,
           1.086
          ],
          [
           1.086,
           1.2
          ],
          [
           1.2,
           1.314
          ],
          [
           1.314,
           1.4
          ],
          [
           1.4,
           1.411
          ],
          [
           1.411,
           1.5
          ],
          [
           1.5,
           1.551
          ],
          [
           1.551,
           1.717
          ],
          [
           1.717,
           1.93
          ],
          [
           1.93,
           2
          ],
          [
           2,
           2.008
          ],
          [
           2.008,
           2.185
          ],
          [
           2.185,
           2.42
          ],
          [
           2.42,
           2.5
          ],
          [
           2.5,
           2.681
          ],
          [
           2.681,
           2.974
          ],
          [
           2.974,
           3
          ],
          [
           3,
           3.018
          ],
          [
           3.018,
           3.319
          ],
          [
           3.319,
           3.705
          ],
          [
           3.705,
           4.065
          ],
          [
           4.065,
           4.691
          ],
          [
           4.691,
           5.068
          ],
          [
           5.068,
           6
          ],
          [
           6,
           7
          ],
          [
           7,
           8.15
          ],
          [
           8.15,
           10
          ],
          [
           10,
           12.536
          ],
          [
           12.536,
           18.713
          ],
          [
           18.713,
           33.305
          ],
          [
           33.305,
           504695.879
          ]
         ],
         "y": [
          0,
          0,
          0,
          0,
          0,
          0,
          0,
          0,
          0,
          0,
          0,
          0,
          0,
          0,
          0,
          0,
          18,
          2,
          0,
          4,
          11,
          6,
          176,
          1,
          0,
          5,
          158,
          4,
          12,
          3,
          11,
          8,
          11,
          151,
          8,
          10,
          4,
          2,
          2,
          2,
          12,
          11,
          13,
          5,
          20,
          2,
          1
         ]
        },
        {
         "name": "0.99 percentile",
         "text": "0.99 percentile",
         "type": "bar",
         "x": [
          [
           0,
           0.059
          ],
          [
           0.059,
           0.117
          ],
          [
           0.117,
           0.144
          ],
          [
           0.144,
           0.168
          ],
          [
           0.168,
           0.196
          ],
          [
           0.196,
           0.226
          ],
          [
           0.226,
           0.257
          ],
          [
           0.257,
           0.302
          ],
          [
           0.302,
           0.361
          ],
          [
           0.361,
           0.433
          ],
          [
           0.433,
           0.513
          ],
          [
           0.513,
           0.611
          ],
          [
           0.611,
           0.713
          ],
          [
           0.713,
           0.835
          ],
          [
           0.835,
           0.969
          ],
          [
           0.969,
           1
          ],
          [
           1,
           1.086
          ],
          [
           1.086,
           1.2
          ],
          [
           1.2,
           1.314
          ],
          [
           1.314,
           1.4
          ],
          [
           1.4,
           1.411
          ],
          [
           1.411,
           1.5
          ],
          [
           1.5,
           1.551
          ],
          [
           1.551,
           1.717
          ],
          [
           1.717,
           1.93
          ],
          [
           1.93,
           2
          ],
          [
           2,
           2.008
          ],
          [
           2.008,
           2.185
          ],
          [
           2.185,
           2.42
          ],
          [
           2.42,
           2.5
          ],
          [
           2.5,
           2.681
          ],
          [
           2.681,
           2.974
          ],
          [
           2.974,
           3
          ],
          [
           3,
           3.018
          ],
          [
           3.018,
           3.319
          ],
          [
           3.319,
           3.705
          ],
          [
           3.705,
           4.065
          ],
          [
           4.065,
           4.691
          ],
          [
           4.691,
           5.068
          ],
          [
           5.068,
           6
          ],
          [
           6,
           7
          ],
          [
           7,
           8.15
          ],
          [
           8.15,
           10
          ],
          [
           10,
           12.536
          ],
          [
           12.536,
           18.713
          ],
          [
           18.713,
           33.305
          ],
          [
           33.305,
           504695.879
          ]
         ],
         "y": [
          0,
          0,
          0,
          0,
          0,
          0,
          0,
          0,
          0,
          0,
          0,
          0,
          0,
          0,
          0,
          0,
          0,
          0,
          0,
          0,
          7,
          1,
          151,
          0,
          0,
          5,
          141,
          1,
          1,
          1,
          10,
          1,
          7,
          118,
          5,
          10,
          0,
          0,
          0,
          1,
          7,
          3,
          10,
          2,
          10,
          1,
          1
         ]
        }
       ],
       "layout": {
        "barmode": "group",
        "template": {
         "data": {
          "bar": [
           {
            "error_x": {
             "color": "#2a3f5f"
            },
            "error_y": {
             "color": "#2a3f5f"
            },
            "marker": {
             "line": {
              "color": "#E5ECF6",
              "width": 0.5
             },
             "pattern": {
              "fillmode": "overlay",
              "size": 10,
              "solidity": 0.2
             }
            },
            "type": "bar"
           }
          ],
          "barpolar": [
           {
            "marker": {
             "line": {
              "color": "#E5ECF6",
              "width": 0.5
             },
             "pattern": {
              "fillmode": "overlay",
              "size": 10,
              "solidity": 0.2
             }
            },
            "type": "barpolar"
           }
          ],
          "carpet": [
           {
            "aaxis": {
             "endlinecolor": "#2a3f5f",
             "gridcolor": "white",
             "linecolor": "white",
             "minorgridcolor": "white",
             "startlinecolor": "#2a3f5f"
            },
            "baxis": {
             "endlinecolor": "#2a3f5f",
             "gridcolor": "white",
             "linecolor": "white",
             "minorgridcolor": "white",
             "startlinecolor": "#2a3f5f"
            },
            "type": "carpet"
           }
          ],
          "choropleth": [
           {
            "colorbar": {
             "outlinewidth": 0,
             "ticks": ""
            },
            "type": "choropleth"
           }
          ],
          "contour": [
           {
            "colorbar": {
             "outlinewidth": 0,
             "ticks": ""
            },
            "colorscale": [
             [
              0,
              "#0d0887"
             ],
             [
              0.1111111111111111,
              "#46039f"
             ],
             [
              0.2222222222222222,
              "#7201a8"
             ],
             [
              0.3333333333333333,
              "#9c179e"
             ],
             [
              0.4444444444444444,
              "#bd3786"
             ],
             [
              0.5555555555555556,
              "#d8576b"
             ],
             [
              0.6666666666666666,
              "#ed7953"
             ],
             [
              0.7777777777777778,
              "#fb9f3a"
             ],
             [
              0.8888888888888888,
              "#fdca26"
             ],
             [
              1,
              "#f0f921"
             ]
            ],
            "type": "contour"
           }
          ],
          "contourcarpet": [
           {
            "colorbar": {
             "outlinewidth": 0,
             "ticks": ""
            },
            "type": "contourcarpet"
           }
          ],
          "heatmap": [
           {
            "colorbar": {
             "outlinewidth": 0,
             "ticks": ""
            },
            "colorscale": [
             [
              0,
              "#0d0887"
             ],
             [
              0.1111111111111111,
              "#46039f"
             ],
             [
              0.2222222222222222,
              "#7201a8"
             ],
             [
              0.3333333333333333,
              "#9c179e"
             ],
             [
              0.4444444444444444,
              "#bd3786"
             ],
             [
              0.5555555555555556,
              "#d8576b"
             ],
             [
              0.6666666666666666,
              "#ed7953"
             ],
             [
              0.7777777777777778,
              "#fb9f3a"
             ],
             [
              0.8888888888888888,
              "#fdca26"
             ],
             [
              1,
              "#f0f921"
             ]
            ],
            "type": "heatmap"
           }
          ],
          "heatmapgl": [
           {
            "colorbar": {
             "outlinewidth": 0,
             "ticks": ""
            },
            "colorscale": [
             [
              0,
              "#0d0887"
             ],
             [
              0.1111111111111111,
              "#46039f"
             ],
             [
              0.2222222222222222,
              "#7201a8"
             ],
             [
              0.3333333333333333,
              "#9c179e"
             ],
             [
              0.4444444444444444,
              "#bd3786"
             ],
             [
              0.5555555555555556,
              "#d8576b"
             ],
             [
              0.6666666666666666,
              "#ed7953"
             ],
             [
              0.7777777777777778,
              "#fb9f3a"
             ],
             [
              0.8888888888888888,
              "#fdca26"
             ],
             [
              1,
              "#f0f921"
             ]
            ],
            "type": "heatmapgl"
           }
          ],
          "histogram": [
           {
            "marker": {
             "pattern": {
              "fillmode": "overlay",
              "size": 10,
              "solidity": 0.2
             }
            },
            "type": "histogram"
           }
          ],
          "histogram2d": [
           {
            "colorbar": {
             "outlinewidth": 0,
             "ticks": ""
            },
            "colorscale": [
             [
              0,
              "#0d0887"
             ],
             [
              0.1111111111111111,
              "#46039f"
             ],
             [
              0.2222222222222222,
              "#7201a8"
             ],
             [
              0.3333333333333333,
              "#9c179e"
             ],
             [
              0.4444444444444444,
              "#bd3786"
             ],
             [
              0.5555555555555556,
              "#d8576b"
             ],
             [
              0.6666666666666666,
              "#ed7953"
             ],
             [
              0.7777777777777778,
              "#fb9f3a"
             ],
             [
              0.8888888888888888,
              "#fdca26"
             ],
             [
              1,
              "#f0f921"
             ]
            ],
            "type": "histogram2d"
           }
          ],
          "histogram2dcontour": [
           {
            "colorbar": {
             "outlinewidth": 0,
             "ticks": ""
            },
            "colorscale": [
             [
              0,
              "#0d0887"
             ],
             [
              0.1111111111111111,
              "#46039f"
             ],
             [
              0.2222222222222222,
              "#7201a8"
             ],
             [
              0.3333333333333333,
              "#9c179e"
             ],
             [
              0.4444444444444444,
              "#bd3786"
             ],
             [
              0.5555555555555556,
              "#d8576b"
             ],
             [
              0.6666666666666666,
              "#ed7953"
             ],
             [
              0.7777777777777778,
              "#fb9f3a"
             ],
             [
              0.8888888888888888,
              "#fdca26"
             ],
             [
              1,
              "#f0f921"
             ]
            ],
            "type": "histogram2dcontour"
           }
          ],
          "mesh3d": [
           {
            "colorbar": {
             "outlinewidth": 0,
             "ticks": ""
            },
            "type": "mesh3d"
           }
          ],
          "parcoords": [
           {
            "line": {
             "colorbar": {
              "outlinewidth": 0,
              "ticks": ""
             }
            },
            "type": "parcoords"
           }
          ],
          "pie": [
           {
            "automargin": true,
            "type": "pie"
           }
          ],
          "scatter": [
           {
            "fillpattern": {
             "fillmode": "overlay",
             "size": 10,
             "solidity": 0.2
            },
            "type": "scatter"
           }
          ],
          "scatter3d": [
           {
            "line": {
             "colorbar": {
              "outlinewidth": 0,
              "ticks": ""
             }
            },
            "marker": {
             "colorbar": {
              "outlinewidth": 0,
              "ticks": ""
             }
            },
            "type": "scatter3d"
           }
          ],
          "scattercarpet": [
           {
            "marker": {
             "colorbar": {
              "outlinewidth": 0,
              "ticks": ""
             }
            },
            "type": "scattercarpet"
           }
          ],
          "scattergeo": [
           {
            "marker": {
             "colorbar": {
              "outlinewidth": 0,
              "ticks": ""
             }
            },
            "type": "scattergeo"
           }
          ],
          "scattergl": [
           {
            "marker": {
             "colorbar": {
              "outlinewidth": 0,
              "ticks": ""
             }
            },
            "type": "scattergl"
           }
          ],
          "scattermapbox": [
           {
            "marker": {
             "colorbar": {
              "outlinewidth": 0,
              "ticks": ""
             }
            },
            "type": "scattermapbox"
           }
          ],
          "scatterpolar": [
           {
            "marker": {
             "colorbar": {
              "outlinewidth": 0,
              "ticks": ""
             }
            },
            "type": "scatterpolar"
           }
          ],
          "scatterpolargl": [
           {
            "marker": {
             "colorbar": {
              "outlinewidth": 0,
              "ticks": ""
             }
            },
            "type": "scatterpolargl"
           }
          ],
          "scatterternary": [
           {
            "marker": {
             "colorbar": {
              "outlinewidth": 0,
              "ticks": ""
             }
            },
            "type": "scatterternary"
           }
          ],
          "surface": [
           {
            "colorbar": {
             "outlinewidth": 0,
             "ticks": ""
            },
            "colorscale": [
             [
              0,
              "#0d0887"
             ],
             [
              0.1111111111111111,
              "#46039f"
             ],
             [
              0.2222222222222222,
              "#7201a8"
             ],
             [
              0.3333333333333333,
              "#9c179e"
             ],
             [
              0.4444444444444444,
              "#bd3786"
             ],
             [
              0.5555555555555556,
              "#d8576b"
             ],
             [
              0.6666666666666666,
              "#ed7953"
             ],
             [
              0.7777777777777778,
              "#fb9f3a"
             ],
             [
              0.8888888888888888,
              "#fdca26"
             ],
             [
              1,
              "#f0f921"
             ]
            ],
            "type": "surface"
           }
          ],
          "table": [
           {
            "cells": {
             "fill": {
              "color": "#EBF0F8"
             },
             "line": {
              "color": "white"
             }
            },
            "header": {
             "fill": {
              "color": "#C8D4E3"
             },
             "line": {
              "color": "white"
             }
            },
            "type": "table"
           }
          ]
         },
         "layout": {
          "annotationdefaults": {
           "arrowcolor": "#2a3f5f",
           "arrowhead": 0,
           "arrowwidth": 1
          },
          "autotypenumbers": "strict",
          "coloraxis": {
           "colorbar": {
            "outlinewidth": 0,
            "ticks": ""
           }
          },
          "colorscale": {
           "diverging": [
            [
             0,
             "#8e0152"
            ],
            [
             0.1,
             "#c51b7d"
            ],
            [
             0.2,
             "#de77ae"
            ],
            [
             0.3,
             "#f1b6da"
            ],
            [
             0.4,
             "#fde0ef"
            ],
            [
             0.5,
             "#f7f7f7"
            ],
            [
             0.6,
             "#e6f5d0"
            ],
            [
             0.7,
             "#b8e186"
            ],
            [
             0.8,
             "#7fbc41"
            ],
            [
             0.9,
             "#4d9221"
            ],
            [
             1,
             "#276419"
            ]
           ],
           "sequential": [
            [
             0,
             "#0d0887"
            ],
            [
             0.1111111111111111,
             "#46039f"
            ],
            [
             0.2222222222222222,
             "#7201a8"
            ],
            [
             0.3333333333333333,
             "#9c179e"
            ],
            [
             0.4444444444444444,
             "#bd3786"
            ],
            [
             0.5555555555555556,
             "#d8576b"
            ],
            [
             0.6666666666666666,
             "#ed7953"
            ],
            [
             0.7777777777777778,
             "#fb9f3a"
            ],
            [
             0.8888888888888888,
             "#fdca26"
            ],
            [
             1,
             "#f0f921"
            ]
           ],
           "sequentialminus": [
            [
             0,
             "#0d0887"
            ],
            [
             0.1111111111111111,
             "#46039f"
            ],
            [
             0.2222222222222222,
             "#7201a8"
            ],
            [
             0.3333333333333333,
             "#9c179e"
            ],
            [
             0.4444444444444444,
             "#bd3786"
            ],
            [
             0.5555555555555556,
             "#d8576b"
            ],
            [
             0.6666666666666666,
             "#ed7953"
            ],
            [
             0.7777777777777778,
             "#fb9f3a"
            ],
            [
             0.8888888888888888,
             "#fdca26"
            ],
            [
             1,
             "#f0f921"
            ]
           ]
          },
          "colorway": [
           "#636efa",
           "#EF553B",
           "#00cc96",
           "#ab63fa",
           "#FFA15A",
           "#19d3f3",
           "#FF6692",
           "#B6E880",
           "#FF97FF",
           "#FECB52"
          ],
          "font": {
           "color": "#2a3f5f"
          },
          "geo": {
           "bgcolor": "white",
           "lakecolor": "white",
           "landcolor": "#E5ECF6",
           "showlakes": true,
           "showland": true,
           "subunitcolor": "white"
          },
          "hoverlabel": {
           "align": "left"
          },
          "hovermode": "closest",
          "mapbox": {
           "style": "light"
          },
          "paper_bgcolor": "white",
          "plot_bgcolor": "#E5ECF6",
          "polar": {
           "angularaxis": {
            "gridcolor": "white",
            "linecolor": "white",
            "ticks": ""
           },
           "bgcolor": "#E5ECF6",
           "radialaxis": {
            "gridcolor": "white",
            "linecolor": "white",
            "ticks": ""
           }
          },
          "scene": {
           "xaxis": {
            "backgroundcolor": "#E5ECF6",
            "gridcolor": "white",
            "gridwidth": 2,
            "linecolor": "white",
            "showbackground": true,
            "ticks": "",
            "zerolinecolor": "white"
           },
           "yaxis": {
            "backgroundcolor": "#E5ECF6",
            "gridcolor": "white",
            "gridwidth": 2,
            "linecolor": "white",
            "showbackground": true,
            "ticks": "",
            "zerolinecolor": "white"
           },
           "zaxis": {
            "backgroundcolor": "#E5ECF6",
            "gridcolor": "white",
            "gridwidth": 2,
            "linecolor": "white",
            "showbackground": true,
            "ticks": "",
            "zerolinecolor": "white"
           }
          },
          "shapedefaults": {
           "line": {
            "color": "#2a3f5f"
           }
          },
          "ternary": {
           "aaxis": {
            "gridcolor": "white",
            "linecolor": "white",
            "ticks": ""
           },
           "baxis": {
            "gridcolor": "white",
            "linecolor": "white",
            "ticks": ""
           },
           "bgcolor": "#E5ECF6",
           "caxis": {
            "gridcolor": "white",
            "linecolor": "white",
            "ticks": ""
           }
          },
          "title": {
           "x": 0.05
          },
          "xaxis": {
           "automargin": true,
           "gridcolor": "white",
           "linecolor": "white",
           "ticks": "",
           "title": {
            "standoff": 15
           },
           "zerolinecolor": "white",
           "zerolinewidth": 2
          },
          "yaxis": {
           "automargin": true,
           "gridcolor": "white",
           "linecolor": "white",
           "ticks": "",
           "title": {
            "standoff": 15
           },
           "zerolinecolor": "white",
           "zerolinewidth": 2
          }
         }
        }
       }
      },
      "text/html": [
       "<div>                            <div id=\"2e71c76e-dd09-4d2f-a245-7c46f60fad02\" class=\"plotly-graph-div\" style=\"height:525px; width:100%;\"></div>            <script type=\"text/javascript\">                require([\"plotly\"], function(Plotly) {                    window.PLOTLYENV=window.PLOTLYENV || {};                                    if (document.getElementById(\"2e71c76e-dd09-4d2f-a245-7c46f60fad02\")) {                    Plotly.newPlot(                        \"2e71c76e-dd09-4d2f-a245-7c46f60fad02\",                        [{\"name\":\"0.7 percentile\",\"text\":\"0.7 percentile\",\"x\":[[0.0,0.059],[0.059,0.117],[0.117,0.144],[0.144,0.168],[0.168,0.196],[0.196,0.226],[0.226,0.257],[0.257,0.302],[0.302,0.361],[0.361,0.433],[0.433,0.513],[0.513,0.611],[0.611,0.713],[0.713,0.835],[0.835,0.969],[0.969,1.0],[1.0,1.086],[1.086,1.2],[1.2,1.314],[1.314,1.4],[1.4,1.411],[1.411,1.5],[1.5,1.551],[1.551,1.717],[1.717,1.93],[1.93,2.0],[2.0,2.008],[2.008,2.185],[2.185,2.42],[2.42,2.5],[2.5,2.681],[2.681,2.974],[2.974,3.0],[3.0,3.018],[3.018,3.319],[3.319,3.705],[3.705,4.065],[4.065,4.691],[4.691,5.068],[5.068,6.0],[6.0,7.0],[7.0,8.15],[8.15,10.0],[10.0,12.536],[12.536,18.713],[18.713,33.305],[33.305,504695.879]],\"y\":[2.0,3.0,9.0,7.0,8.0,3.0,1.0,6.0,1.0,1.0,7.0,3.0,4.0,1.0,8.0,3.0,84.0,19.0,14.0,25.0,23.0,15.0,378.0,24.0,13.0,8.0,216.0,7.0,21.0,4.0,21.0,15.0,18.0,267.0,12.0,11.0,9.0,2.0,6.0,6.0,13.0,21.0,21.0,13.0,30.0,4.0,5.0],\"type\":\"bar\"},{\"name\":\"0.75 percentile\",\"text\":\"0.75 percentile\",\"x\":[[0.0,0.059],[0.059,0.117],[0.117,0.144],[0.144,0.168],[0.168,0.196],[0.196,0.226],[0.226,0.257],[0.257,0.302],[0.302,0.361],[0.361,0.433],[0.433,0.513],[0.513,0.611],[0.611,0.713],[0.713,0.835],[0.835,0.969],[0.969,1.0],[1.0,1.086],[1.086,1.2],[1.2,1.314],[1.314,1.4],[1.4,1.411],[1.411,1.5],[1.5,1.551],[1.551,1.717],[1.717,1.93],[1.93,2.0],[2.0,2.008],[2.008,2.185],[2.185,2.42],[2.42,2.5],[2.5,2.681],[2.681,2.974],[2.974,3.0],[3.0,3.018],[3.018,3.319],[3.319,3.705],[3.705,4.065],[4.065,4.691],[4.691,5.068],[5.068,6.0],[6.0,7.0],[7.0,8.15],[8.15,10.0],[10.0,12.536],[12.536,18.713],[18.713,33.305],[33.305,504695.879]],\"y\":[2.0,2.0,5.0,6.0,7.0,3.0,1.0,3.0,1.0,1.0,5.0,3.0,3.0,1.0,8.0,1.0,78.0,18.0,13.0,24.0,21.0,12.0,378.0,22.0,12.0,7.0,211.0,7.0,21.0,4.0,21.0,15.0,18.0,267.0,11.0,11.0,9.0,2.0,6.0,4.0,13.0,18.0,20.0,10.0,30.0,4.0,3.0],\"type\":\"bar\"},{\"name\":\"0.8 percentile\",\"text\":\"0.8 percentile\",\"x\":[[0.0,0.059],[0.059,0.117],[0.117,0.144],[0.144,0.168],[0.168,0.196],[0.196,0.226],[0.226,0.257],[0.257,0.302],[0.302,0.361],[0.361,0.433],[0.433,0.513],[0.513,0.611],[0.611,0.713],[0.713,0.835],[0.835,0.969],[0.969,1.0],[1.0,1.086],[1.086,1.2],[1.2,1.314],[1.314,1.4],[1.4,1.411],[1.411,1.5],[1.5,1.551],[1.551,1.717],[1.717,1.93],[1.93,2.0],[2.0,2.008],[2.008,2.185],[2.185,2.42],[2.42,2.5],[2.5,2.681],[2.681,2.974],[2.974,3.0],[3.0,3.018],[3.018,3.319],[3.319,3.705],[3.705,4.065],[4.065,4.691],[4.691,5.068],[5.068,6.0],[6.0,7.0],[7.0,8.15],[8.15,10.0],[10.0,12.536],[12.536,18.713],[18.713,33.305],[33.305,504695.879]],\"y\":[2.0,1.0,3.0,4.0,6.0,3.0,0.0,1.0,0.0,1.0,1.0,2.0,3.0,1.0,6.0,0.0,68.0,17.0,13.0,21.0,21.0,12.0,338.0,20.0,11.0,7.0,211.0,7.0,21.0,4.0,21.0,15.0,18.0,267.0,11.0,10.0,8.0,2.0,6.0,4.0,13.0,18.0,20.0,10.0,28.0,4.0,3.0],\"type\":\"bar\"},{\"name\":\"0.85 percentile\",\"text\":\"0.85 percentile\",\"x\":[[0.0,0.059],[0.059,0.117],[0.117,0.144],[0.144,0.168],[0.168,0.196],[0.196,0.226],[0.226,0.257],[0.257,0.302],[0.302,0.361],[0.361,0.433],[0.433,0.513],[0.513,0.611],[0.611,0.713],[0.713,0.835],[0.835,0.969],[0.969,1.0],[1.0,1.086],[1.086,1.2],[1.2,1.314],[1.314,1.4],[1.4,1.411],[1.411,1.5],[1.5,1.551],[1.551,1.717],[1.717,1.93],[1.93,2.0],[2.0,2.008],[2.008,2.185],[2.185,2.42],[2.42,2.5],[2.5,2.681],[2.681,2.974],[2.974,3.0],[3.0,3.018],[3.018,3.319],[3.319,3.705],[3.705,4.065],[4.065,4.691],[4.691,5.068],[5.068,6.0],[6.0,7.0],[7.0,8.15],[8.15,10.0],[10.0,12.536],[12.536,18.713],[18.713,33.305],[33.305,504695.879]],\"y\":[0.0,0.0,2.0,2.0,3.0,1.0,0.0,0.0,0.0,0.0,0.0,0.0,1.0,1.0,5.0,0.0,68.0,16.0,10.0,19.0,21.0,12.0,291.0,19.0,11.0,7.0,200.0,7.0,20.0,4.0,20.0,14.0,17.0,251.0,10.0,10.0,7.0,2.0,6.0,4.0,13.0,14.0,17.0,9.0,26.0,4.0,3.0],\"type\":\"bar\"},{\"name\":\"0.9 percentile\",\"text\":\"0.9 percentile\",\"x\":[[0.0,0.059],[0.059,0.117],[0.117,0.144],[0.144,0.168],[0.168,0.196],[0.196,0.226],[0.226,0.257],[0.257,0.302],[0.302,0.361],[0.361,0.433],[0.433,0.513],[0.513,0.611],[0.611,0.713],[0.713,0.835],[0.835,0.969],[0.969,1.0],[1.0,1.086],[1.086,1.2],[1.2,1.314],[1.314,1.4],[1.4,1.411],[1.411,1.5],[1.5,1.551],[1.551,1.717],[1.717,1.93],[1.93,2.0],[2.0,2.008],[2.008,2.185],[2.185,2.42],[2.42,2.5],[2.5,2.681],[2.681,2.974],[2.974,3.0],[3.0,3.018],[3.018,3.319],[3.319,3.705],[3.705,4.065],[4.065,4.691],[4.691,5.068],[5.068,6.0],[6.0,7.0],[7.0,8.15],[8.15,10.0],[10.0,12.536],[12.536,18.713],[18.713,33.305],[33.305,504695.879]],\"y\":[0.0,0.0,0.0,1.0,2.0,0.0,0.0,0.0,0.0,0.0,0.0,0.0,0.0,0.0,3.0,0.0,60.0,15.0,6.0,18.0,21.0,10.0,272.0,17.0,9.0,6.0,194.0,6.0,19.0,4.0,19.0,12.0,17.0,237.0,10.0,10.0,6.0,2.0,6.0,3.0,13.0,14.0,15.0,9.0,26.0,4.0,3.0],\"type\":\"bar\"},{\"name\":\"0.91 percentile\",\"text\":\"0.91 percentile\",\"x\":[[0.0,0.059],[0.059,0.117],[0.117,0.144],[0.144,0.168],[0.168,0.196],[0.196,0.226],[0.226,0.257],[0.257,0.302],[0.302,0.361],[0.361,0.433],[0.433,0.513],[0.513,0.611],[0.611,0.713],[0.713,0.835],[0.835,0.969],[0.969,1.0],[1.0,1.086],[1.086,1.2],[1.2,1.314],[1.314,1.4],[1.4,1.411],[1.411,1.5],[1.5,1.551],[1.551,1.717],[1.717,1.93],[1.93,2.0],[2.0,2.008],[2.008,2.185],[2.185,2.42],[2.42,2.5],[2.5,2.681],[2.681,2.974],[2.974,3.0],[3.0,3.018],[3.018,3.319],[3.319,3.705],[3.705,4.065],[4.065,4.691],[4.691,5.068],[5.068,6.0],[6.0,7.0],[7.0,8.15],[8.15,10.0],[10.0,12.536],[12.536,18.713],[18.713,33.305],[33.305,504695.879]],\"y\":[0.0,0.0,0.0,0.0,2.0,0.0,0.0,0.0,0.0,0.0,0.0,0.0,0.0,0.0,3.0,0.0,60.0,15.0,6.0,17.0,21.0,10.0,272.0,17.0,9.0,6.0,194.0,6.0,19.0,4.0,19.0,12.0,15.0,237.0,10.0,10.0,6.0,2.0,6.0,3.0,13.0,14.0,15.0,9.0,26.0,4.0,3.0],\"type\":\"bar\"},{\"name\":\"0.92 percentile\",\"text\":\"0.92 percentile\",\"x\":[[0.0,0.059],[0.059,0.117],[0.117,0.144],[0.144,0.168],[0.168,0.196],[0.196,0.226],[0.226,0.257],[0.257,0.302],[0.302,0.361],[0.361,0.433],[0.433,0.513],[0.513,0.611],[0.611,0.713],[0.713,0.835],[0.835,0.969],[0.969,1.0],[1.0,1.086],[1.086,1.2],[1.2,1.314],[1.314,1.4],[1.4,1.411],[1.411,1.5],[1.5,1.551],[1.551,1.717],[1.717,1.93],[1.93,2.0],[2.0,2.008],[2.008,2.185],[2.185,2.42],[2.42,2.5],[2.5,2.681],[2.681,2.974],[2.974,3.0],[3.0,3.018],[3.018,3.319],[3.319,3.705],[3.705,4.065],[4.065,4.691],[4.691,5.068],[5.068,6.0],[6.0,7.0],[7.0,8.15],[8.15,10.0],[10.0,12.536],[12.536,18.713],[18.713,33.305],[33.305,504695.879]],\"y\":[0.0,0.0,0.0,0.0,1.0,0.0,0.0,0.0,0.0,0.0,0.0,0.0,0.0,0.0,3.0,0.0,55.0,15.0,4.0,16.0,21.0,10.0,272.0,17.0,8.0,6.0,194.0,6.0,19.0,4.0,19.0,12.0,15.0,237.0,10.0,10.0,6.0,2.0,5.0,3.0,13.0,14.0,15.0,9.0,26.0,4.0,3.0],\"type\":\"bar\"},{\"name\":\"0.93 percentile\",\"text\":\"0.93 percentile\",\"x\":[[0.0,0.059],[0.059,0.117],[0.117,0.144],[0.144,0.168],[0.168,0.196],[0.196,0.226],[0.226,0.257],[0.257,0.302],[0.302,0.361],[0.361,0.433],[0.433,0.513],[0.513,0.611],[0.611,0.713],[0.713,0.835],[0.835,0.969],[0.969,1.0],[1.0,1.086],[1.086,1.2],[1.2,1.314],[1.314,1.4],[1.4,1.411],[1.411,1.5],[1.5,1.551],[1.551,1.717],[1.717,1.93],[1.93,2.0],[2.0,2.008],[2.008,2.185],[2.185,2.42],[2.42,2.5],[2.5,2.681],[2.681,2.974],[2.974,3.0],[3.0,3.018],[3.018,3.319],[3.319,3.705],[3.705,4.065],[4.065,4.691],[4.691,5.068],[5.068,6.0],[6.0,7.0],[7.0,8.15],[8.15,10.0],[10.0,12.536],[12.536,18.713],[18.713,33.305],[33.305,504695.879]],\"y\":[0.0,0.0,0.0,0.0,1.0,0.0,0.0,0.0,0.0,0.0,0.0,0.0,0.0,0.0,2.0,0.0,50.0,12.0,2.0,13.0,20.0,10.0,258.0,16.0,6.0,6.0,194.0,6.0,18.0,4.0,18.0,12.0,15.0,225.0,10.0,10.0,6.0,2.0,5.0,3.0,13.0,14.0,15.0,9.0,26.0,4.0,3.0],\"type\":\"bar\"},{\"name\":\"0.94 percentile\",\"text\":\"0.94 percentile\",\"x\":[[0.0,0.059],[0.059,0.117],[0.117,0.144],[0.144,0.168],[0.168,0.196],[0.196,0.226],[0.226,0.257],[0.257,0.302],[0.302,0.361],[0.361,0.433],[0.433,0.513],[0.513,0.611],[0.611,0.713],[0.713,0.835],[0.835,0.969],[0.969,1.0],[1.0,1.086],[1.086,1.2],[1.2,1.314],[1.314,1.4],[1.4,1.411],[1.411,1.5],[1.5,1.551],[1.551,1.717],[1.717,1.93],[1.93,2.0],[2.0,2.008],[2.008,2.185],[2.185,2.42],[2.42,2.5],[2.5,2.681],[2.681,2.974],[2.974,3.0],[3.0,3.018],[3.018,3.319],[3.319,3.705],[3.705,4.065],[4.065,4.691],[4.691,5.068],[5.068,6.0],[6.0,7.0],[7.0,8.15],[8.15,10.0],[10.0,12.536],[12.536,18.713],[18.713,33.305],[33.305,504695.879]],\"y\":[0.0,0.0,0.0,0.0,1.0,0.0,0.0,0.0,0.0,0.0,0.0,0.0,0.0,0.0,2.0,0.0,47.0,10.0,2.0,12.0,20.0,10.0,258.0,16.0,5.0,6.0,191.0,5.0,16.0,4.0,18.0,12.0,13.0,214.0,10.0,10.0,6.0,2.0,5.0,3.0,13.0,14.0,15.0,7.0,25.0,3.0,3.0],\"type\":\"bar\"},{\"name\":\"0.95 percentile\",\"text\":\"0.95 percentile\",\"x\":[[0.0,0.059],[0.059,0.117],[0.117,0.144],[0.144,0.168],[0.168,0.196],[0.196,0.226],[0.226,0.257],[0.257,0.302],[0.302,0.361],[0.361,0.433],[0.433,0.513],[0.513,0.611],[0.611,0.713],[0.713,0.835],[0.835,0.969],[0.969,1.0],[1.0,1.086],[1.086,1.2],[1.2,1.314],[1.314,1.4],[1.4,1.411],[1.411,1.5],[1.5,1.551],[1.551,1.717],[1.717,1.93],[1.93,2.0],[2.0,2.008],[2.008,2.185],[2.185,2.42],[2.42,2.5],[2.5,2.681],[2.681,2.974],[2.974,3.0],[3.0,3.018],[3.018,3.319],[3.319,3.705],[3.705,4.065],[4.065,4.691],[4.691,5.068],[5.068,6.0],[6.0,7.0],[7.0,8.15],[8.15,10.0],[10.0,12.536],[12.536,18.713],[18.713,33.305],[33.305,504695.879]],\"y\":[0.0,0.0,0.0,0.0,0.0,0.0,0.0,0.0,0.0,0.0,0.0,0.0,0.0,0.0,1.0,0.0,41.0,7.0,2.0,11.0,19.0,10.0,238.0,14.0,5.0,6.0,189.0,5.0,16.0,4.0,15.0,12.0,13.0,208.0,10.0,10.0,6.0,2.0,5.0,3.0,12.0,14.0,14.0,6.0,23.0,3.0,1.0],\"type\":\"bar\"},{\"name\":\"0.96 percentile\",\"text\":\"0.96 percentile\",\"x\":[[0.0,0.059],[0.059,0.117],[0.117,0.144],[0.144,0.168],[0.168,0.196],[0.196,0.226],[0.226,0.257],[0.257,0.302],[0.302,0.361],[0.361,0.433],[0.433,0.513],[0.513,0.611],[0.611,0.713],[0.713,0.835],[0.835,0.969],[0.969,1.0],[1.0,1.086],[1.086,1.2],[1.2,1.314],[1.314,1.4],[1.4,1.411],[1.411,1.5],[1.5,1.551],[1.551,1.717],[1.717,1.93],[1.93,2.0],[2.0,2.008],[2.008,2.185],[2.185,2.42],[2.42,2.5],[2.5,2.681],[2.681,2.974],[2.974,3.0],[3.0,3.018],[3.018,3.319],[3.319,3.705],[3.705,4.065],[4.065,4.691],[4.691,5.068],[5.068,6.0],[6.0,7.0],[7.0,8.15],[8.15,10.0],[10.0,12.536],[12.536,18.713],[18.713,33.305],[33.305,504695.879]],\"y\":[0.0,0.0,0.0,0.0,0.0,0.0,0.0,0.0,0.0,0.0,0.0,0.0,0.0,0.0,1.0,0.0,38.0,5.0,1.0,9.0,17.0,10.0,226.0,11.0,4.0,6.0,185.0,5.0,14.0,4.0,13.0,11.0,12.0,192.0,8.0,10.0,6.0,2.0,4.0,2.0,12.0,13.0,13.0,6.0,21.0,3.0,1.0],\"type\":\"bar\"},{\"name\":\"0.97 percentile\",\"text\":\"0.97 percentile\",\"x\":[[0.0,0.059],[0.059,0.117],[0.117,0.144],[0.144,0.168],[0.168,0.196],[0.196,0.226],[0.226,0.257],[0.257,0.302],[0.302,0.361],[0.361,0.433],[0.433,0.513],[0.513,0.611],[0.611,0.713],[0.713,0.835],[0.835,0.969],[0.969,1.0],[1.0,1.086],[1.086,1.2],[1.2,1.314],[1.314,1.4],[1.4,1.411],[1.411,1.5],[1.5,1.551],[1.551,1.717],[1.717,1.93],[1.93,2.0],[2.0,2.008],[2.008,2.185],[2.185,2.42],[2.42,2.5],[2.5,2.681],[2.681,2.974],[2.974,3.0],[3.0,3.018],[3.018,3.319],[3.319,3.705],[3.705,4.065],[4.065,4.691],[4.691,5.068],[5.068,6.0],[6.0,7.0],[7.0,8.15],[8.15,10.0],[10.0,12.536],[12.536,18.713],[18.713,33.305],[33.305,504695.879]],\"y\":[0.0,0.0,0.0,0.0,0.0,0.0,0.0,0.0,0.0,0.0,0.0,0.0,0.0,0.0,1.0,0.0,34.0,4.0,0.0,7.0,12.0,9.0,201.0,5.0,2.0,6.0,177.0,4.0,13.0,4.0,12.0,9.0,12.0,165.0,8.0,10.0,5.0,2.0,2.0,2.0,12.0,12.0,13.0,5.0,20.0,2.0,1.0],\"type\":\"bar\"},{\"name\":\"0.98 percentile\",\"text\":\"0.98 percentile\",\"x\":[[0.0,0.059],[0.059,0.117],[0.117,0.144],[0.144,0.168],[0.168,0.196],[0.196,0.226],[0.226,0.257],[0.257,0.302],[0.302,0.361],[0.361,0.433],[0.433,0.513],[0.513,0.611],[0.611,0.713],[0.713,0.835],[0.835,0.969],[0.969,1.0],[1.0,1.086],[1.086,1.2],[1.2,1.314],[1.314,1.4],[1.4,1.411],[1.411,1.5],[1.5,1.551],[1.551,1.717],[1.717,1.93],[1.93,2.0],[2.0,2.008],[2.008,2.185],[2.185,2.42],[2.42,2.5],[2.5,2.681],[2.681,2.974],[2.974,3.0],[3.0,3.018],[3.018,3.319],[3.319,3.705],[3.705,4.065],[4.065,4.691],[4.691,5.068],[5.068,6.0],[6.0,7.0],[7.0,8.15],[8.15,10.0],[10.0,12.536],[12.536,18.713],[18.713,33.305],[33.305,504695.879]],\"y\":[0.0,0.0,0.0,0.0,0.0,0.0,0.0,0.0,0.0,0.0,0.0,0.0,0.0,0.0,0.0,0.0,18.0,2.0,0.0,4.0,11.0,6.0,176.0,1.0,0.0,5.0,158.0,4.0,12.0,3.0,11.0,8.0,11.0,151.0,8.0,10.0,4.0,2.0,2.0,2.0,12.0,11.0,13.0,5.0,20.0,2.0,1.0],\"type\":\"bar\"},{\"name\":\"0.99 percentile\",\"text\":\"0.99 percentile\",\"x\":[[0.0,0.059],[0.059,0.117],[0.117,0.144],[0.144,0.168],[0.168,0.196],[0.196,0.226],[0.226,0.257],[0.257,0.302],[0.302,0.361],[0.361,0.433],[0.433,0.513],[0.513,0.611],[0.611,0.713],[0.713,0.835],[0.835,0.969],[0.969,1.0],[1.0,1.086],[1.086,1.2],[1.2,1.314],[1.314,1.4],[1.4,1.411],[1.411,1.5],[1.5,1.551],[1.551,1.717],[1.717,1.93],[1.93,2.0],[2.0,2.008],[2.008,2.185],[2.185,2.42],[2.42,2.5],[2.5,2.681],[2.681,2.974],[2.974,3.0],[3.0,3.018],[3.018,3.319],[3.319,3.705],[3.705,4.065],[4.065,4.691],[4.691,5.068],[5.068,6.0],[6.0,7.0],[7.0,8.15],[8.15,10.0],[10.0,12.536],[12.536,18.713],[18.713,33.305],[33.305,504695.879]],\"y\":[0.0,0.0,0.0,0.0,0.0,0.0,0.0,0.0,0.0,0.0,0.0,0.0,0.0,0.0,0.0,0.0,0.0,0.0,0.0,0.0,7.0,1.0,151.0,0.0,0.0,5.0,141.0,1.0,1.0,1.0,10.0,1.0,7.0,118.0,5.0,10.0,0.0,0.0,0.0,1.0,7.0,3.0,10.0,2.0,10.0,1.0,1.0],\"type\":\"bar\"}],                        {\"template\":{\"data\":{\"histogram2dcontour\":[{\"type\":\"histogram2dcontour\",\"colorbar\":{\"outlinewidth\":0,\"ticks\":\"\"},\"colorscale\":[[0.0,\"#0d0887\"],[0.1111111111111111,\"#46039f\"],[0.2222222222222222,\"#7201a8\"],[0.3333333333333333,\"#9c179e\"],[0.4444444444444444,\"#bd3786\"],[0.5555555555555556,\"#d8576b\"],[0.6666666666666666,\"#ed7953\"],[0.7777777777777778,\"#fb9f3a\"],[0.8888888888888888,\"#fdca26\"],[1.0,\"#f0f921\"]]}],\"choropleth\":[{\"type\":\"choropleth\",\"colorbar\":{\"outlinewidth\":0,\"ticks\":\"\"}}],\"histogram2d\":[{\"type\":\"histogram2d\",\"colorbar\":{\"outlinewidth\":0,\"ticks\":\"\"},\"colorscale\":[[0.0,\"#0d0887\"],[0.1111111111111111,\"#46039f\"],[0.2222222222222222,\"#7201a8\"],[0.3333333333333333,\"#9c179e\"],[0.4444444444444444,\"#bd3786\"],[0.5555555555555556,\"#d8576b\"],[0.6666666666666666,\"#ed7953\"],[0.7777777777777778,\"#fb9f3a\"],[0.8888888888888888,\"#fdca26\"],[1.0,\"#f0f921\"]]}],\"heatmap\":[{\"type\":\"heatmap\",\"colorbar\":{\"outlinewidth\":0,\"ticks\":\"\"},\"colorscale\":[[0.0,\"#0d0887\"],[0.1111111111111111,\"#46039f\"],[0.2222222222222222,\"#7201a8\"],[0.3333333333333333,\"#9c179e\"],[0.4444444444444444,\"#bd3786\"],[0.5555555555555556,\"#d8576b\"],[0.6666666666666666,\"#ed7953\"],[0.7777777777777778,\"#fb9f3a\"],[0.8888888888888888,\"#fdca26\"],[1.0,\"#f0f921\"]]}],\"heatmapgl\":[{\"type\":\"heatmapgl\",\"colorbar\":{\"outlinewidth\":0,\"ticks\":\"\"},\"colorscale\":[[0.0,\"#0d0887\"],[0.1111111111111111,\"#46039f\"],[0.2222222222222222,\"#7201a8\"],[0.3333333333333333,\"#9c179e\"],[0.4444444444444444,\"#bd3786\"],[0.5555555555555556,\"#d8576b\"],[0.6666666666666666,\"#ed7953\"],[0.7777777777777778,\"#fb9f3a\"],[0.8888888888888888,\"#fdca26\"],[1.0,\"#f0f921\"]]}],\"contourcarpet\":[{\"type\":\"contourcarpet\",\"colorbar\":{\"outlinewidth\":0,\"ticks\":\"\"}}],\"contour\":[{\"type\":\"contour\",\"colorbar\":{\"outlinewidth\":0,\"ticks\":\"\"},\"colorscale\":[[0.0,\"#0d0887\"],[0.1111111111111111,\"#46039f\"],[0.2222222222222222,\"#7201a8\"],[0.3333333333333333,\"#9c179e\"],[0.4444444444444444,\"#bd3786\"],[0.5555555555555556,\"#d8576b\"],[0.6666666666666666,\"#ed7953\"],[0.7777777777777778,\"#fb9f3a\"],[0.8888888888888888,\"#fdca26\"],[1.0,\"#f0f921\"]]}],\"surface\":[{\"type\":\"surface\",\"colorbar\":{\"outlinewidth\":0,\"ticks\":\"\"},\"colorscale\":[[0.0,\"#0d0887\"],[0.1111111111111111,\"#46039f\"],[0.2222222222222222,\"#7201a8\"],[0.3333333333333333,\"#9c179e\"],[0.4444444444444444,\"#bd3786\"],[0.5555555555555556,\"#d8576b\"],[0.6666666666666666,\"#ed7953\"],[0.7777777777777778,\"#fb9f3a\"],[0.8888888888888888,\"#fdca26\"],[1.0,\"#f0f921\"]]}],\"mesh3d\":[{\"type\":\"mesh3d\",\"colorbar\":{\"outlinewidth\":0,\"ticks\":\"\"}}],\"scatter\":[{\"fillpattern\":{\"fillmode\":\"overlay\",\"size\":10,\"solidity\":0.2},\"type\":\"scatter\"}],\"parcoords\":[{\"type\":\"parcoords\",\"line\":{\"colorbar\":{\"outlinewidth\":0,\"ticks\":\"\"}}}],\"scatterpolargl\":[{\"type\":\"scatterpolargl\",\"marker\":{\"colorbar\":{\"outlinewidth\":0,\"ticks\":\"\"}}}],\"bar\":[{\"error_x\":{\"color\":\"#2a3f5f\"},\"error_y\":{\"color\":\"#2a3f5f\"},\"marker\":{\"line\":{\"color\":\"#E5ECF6\",\"width\":0.5},\"pattern\":{\"fillmode\":\"overlay\",\"size\":10,\"solidity\":0.2}},\"type\":\"bar\"}],\"scattergeo\":[{\"type\":\"scattergeo\",\"marker\":{\"colorbar\":{\"outlinewidth\":0,\"ticks\":\"\"}}}],\"scatterpolar\":[{\"type\":\"scatterpolar\",\"marker\":{\"colorbar\":{\"outlinewidth\":0,\"ticks\":\"\"}}}],\"histogram\":[{\"marker\":{\"pattern\":{\"fillmode\":\"overlay\",\"size\":10,\"solidity\":0.2}},\"type\":\"histogram\"}],\"scattergl\":[{\"type\":\"scattergl\",\"marker\":{\"colorbar\":{\"outlinewidth\":0,\"ticks\":\"\"}}}],\"scatter3d\":[{\"type\":\"scatter3d\",\"line\":{\"colorbar\":{\"outlinewidth\":0,\"ticks\":\"\"}},\"marker\":{\"colorbar\":{\"outlinewidth\":0,\"ticks\":\"\"}}}],\"scattermapbox\":[{\"type\":\"scattermapbox\",\"marker\":{\"colorbar\":{\"outlinewidth\":0,\"ticks\":\"\"}}}],\"scatterternary\":[{\"type\":\"scatterternary\",\"marker\":{\"colorbar\":{\"outlinewidth\":0,\"ticks\":\"\"}}}],\"scattercarpet\":[{\"type\":\"scattercarpet\",\"marker\":{\"colorbar\":{\"outlinewidth\":0,\"ticks\":\"\"}}}],\"carpet\":[{\"aaxis\":{\"endlinecolor\":\"#2a3f5f\",\"gridcolor\":\"white\",\"linecolor\":\"white\",\"minorgridcolor\":\"white\",\"startlinecolor\":\"#2a3f5f\"},\"baxis\":{\"endlinecolor\":\"#2a3f5f\",\"gridcolor\":\"white\",\"linecolor\":\"white\",\"minorgridcolor\":\"white\",\"startlinecolor\":\"#2a3f5f\"},\"type\":\"carpet\"}],\"table\":[{\"cells\":{\"fill\":{\"color\":\"#EBF0F8\"},\"line\":{\"color\":\"white\"}},\"header\":{\"fill\":{\"color\":\"#C8D4E3\"},\"line\":{\"color\":\"white\"}},\"type\":\"table\"}],\"barpolar\":[{\"marker\":{\"line\":{\"color\":\"#E5ECF6\",\"width\":0.5},\"pattern\":{\"fillmode\":\"overlay\",\"size\":10,\"solidity\":0.2}},\"type\":\"barpolar\"}],\"pie\":[{\"automargin\":true,\"type\":\"pie\"}]},\"layout\":{\"autotypenumbers\":\"strict\",\"colorway\":[\"#636efa\",\"#EF553B\",\"#00cc96\",\"#ab63fa\",\"#FFA15A\",\"#19d3f3\",\"#FF6692\",\"#B6E880\",\"#FF97FF\",\"#FECB52\"],\"font\":{\"color\":\"#2a3f5f\"},\"hovermode\":\"closest\",\"hoverlabel\":{\"align\":\"left\"},\"paper_bgcolor\":\"white\",\"plot_bgcolor\":\"#E5ECF6\",\"polar\":{\"bgcolor\":\"#E5ECF6\",\"angularaxis\":{\"gridcolor\":\"white\",\"linecolor\":\"white\",\"ticks\":\"\"},\"radialaxis\":{\"gridcolor\":\"white\",\"linecolor\":\"white\",\"ticks\":\"\"}},\"ternary\":{\"bgcolor\":\"#E5ECF6\",\"aaxis\":{\"gridcolor\":\"white\",\"linecolor\":\"white\",\"ticks\":\"\"},\"baxis\":{\"gridcolor\":\"white\",\"linecolor\":\"white\",\"ticks\":\"\"},\"caxis\":{\"gridcolor\":\"white\",\"linecolor\":\"white\",\"ticks\":\"\"}},\"coloraxis\":{\"colorbar\":{\"outlinewidth\":0,\"ticks\":\"\"}},\"colorscale\":{\"sequential\":[[0.0,\"#0d0887\"],[0.1111111111111111,\"#46039f\"],[0.2222222222222222,\"#7201a8\"],[0.3333333333333333,\"#9c179e\"],[0.4444444444444444,\"#bd3786\"],[0.5555555555555556,\"#d8576b\"],[0.6666666666666666,\"#ed7953\"],[0.7777777777777778,\"#fb9f3a\"],[0.8888888888888888,\"#fdca26\"],[1.0,\"#f0f921\"]],\"sequentialminus\":[[0.0,\"#0d0887\"],[0.1111111111111111,\"#46039f\"],[0.2222222222222222,\"#7201a8\"],[0.3333333333333333,\"#9c179e\"],[0.4444444444444444,\"#bd3786\"],[0.5555555555555556,\"#d8576b\"],[0.6666666666666666,\"#ed7953\"],[0.7777777777777778,\"#fb9f3a\"],[0.8888888888888888,\"#fdca26\"],[1.0,\"#f0f921\"]],\"diverging\":[[0,\"#8e0152\"],[0.1,\"#c51b7d\"],[0.2,\"#de77ae\"],[0.3,\"#f1b6da\"],[0.4,\"#fde0ef\"],[0.5,\"#f7f7f7\"],[0.6,\"#e6f5d0\"],[0.7,\"#b8e186\"],[0.8,\"#7fbc41\"],[0.9,\"#4d9221\"],[1,\"#276419\"]]},\"xaxis\":{\"gridcolor\":\"white\",\"linecolor\":\"white\",\"ticks\":\"\",\"title\":{\"standoff\":15},\"zerolinecolor\":\"white\",\"automargin\":true,\"zerolinewidth\":2},\"yaxis\":{\"gridcolor\":\"white\",\"linecolor\":\"white\",\"ticks\":\"\",\"title\":{\"standoff\":15},\"zerolinecolor\":\"white\",\"automargin\":true,\"zerolinewidth\":2},\"scene\":{\"xaxis\":{\"backgroundcolor\":\"#E5ECF6\",\"gridcolor\":\"white\",\"linecolor\":\"white\",\"showbackground\":true,\"ticks\":\"\",\"zerolinecolor\":\"white\",\"gridwidth\":2},\"yaxis\":{\"backgroundcolor\":\"#E5ECF6\",\"gridcolor\":\"white\",\"linecolor\":\"white\",\"showbackground\":true,\"ticks\":\"\",\"zerolinecolor\":\"white\",\"gridwidth\":2},\"zaxis\":{\"backgroundcolor\":\"#E5ECF6\",\"gridcolor\":\"white\",\"linecolor\":\"white\",\"showbackground\":true,\"ticks\":\"\",\"zerolinecolor\":\"white\",\"gridwidth\":2}},\"shapedefaults\":{\"line\":{\"color\":\"#2a3f5f\"}},\"annotationdefaults\":{\"arrowcolor\":\"#2a3f5f\",\"arrowhead\":0,\"arrowwidth\":1},\"geo\":{\"bgcolor\":\"white\",\"landcolor\":\"#E5ECF6\",\"subunitcolor\":\"white\",\"showland\":true,\"showlakes\":true,\"lakecolor\":\"white\"},\"title\":{\"x\":0.05},\"mapbox\":{\"style\":\"light\"}}},\"barmode\":\"group\"},                        {\"responsive\": true}                    ).then(function(){\n",
       "                            \n",
       "var gd = document.getElementById('2e71c76e-dd09-4d2f-a245-7c46f60fad02');\n",
       "var x = new MutationObserver(function (mutations, observer) {{\n",
       "        var display = window.getComputedStyle(gd).display;\n",
       "        if (!display || display === 'none') {{\n",
       "            console.log([gd, 'removed!']);\n",
       "            Plotly.purge(gd);\n",
       "            observer.disconnect();\n",
       "        }}\n",
       "}});\n",
       "\n",
       "// Listen for the removal of the full notebook cells\n",
       "var notebookContainer = gd.closest('#notebook-container');\n",
       "if (notebookContainer) {{\n",
       "    x.observe(notebookContainer, {childList: true});\n",
       "}}\n",
       "\n",
       "// Listen for the clearing of the current output cell\n",
       "var outputEl = gd.closest('.output');\n",
       "if (outputEl) {{\n",
       "    x.observe(outputEl, {childList: true});\n",
       "}}\n",
       "\n",
       "                        })                };                });            </script>        </div>"
      ]
     },
     "metadata": {},
     "output_type": "display_data"
    }
   ],
   "source": [
    "\n",
    "\n",
    "fig = go.Figure(data=bars)\n",
    "# Change the bar mode\n",
    "fig.update_layout(barmode='group')\n",
    "fig.show()"
   ]
  },
  {
   "cell_type": "code",
   "execution_count": 61,
   "id": "3fe9d8a6",
   "metadata": {},
   "outputs": [
    {
     "data": {
      "image/png": "[encoded data removed]",
      "text/plain": [
       "<Figure size 842.4x595.44 with 1 Axes>"
      ]
     },
     "metadata": {},
     "output_type": "display_data"
    }
   ],
   "source": [
    "plot = sub_df.plot(x='fee_interval',\n",
    "        kind='bar',\n",
    "        stacked=False)"
   ]
  },
  {
   "cell_type": "code",
   "execution_count": null,
   "id": "d8ec64a2",
   "metadata": {},
   "outputs": [],
   "source": []
  }
 ],
 "metadata": {
  "kernelspec": {
   "display_name": "Python 3",
   "language": "python",
   "name": "python3"
  },
  "language_info": {
   "codemirror_mode": {
    "name": "ipython",
    "version": 3
   },
   "file_extension": ".py",
   "mimetype": "text/x-python",
   "name": "python",
   "nbconvert_exporter": "python",
   "pygments_lexer": "ipython3",
   "version": "3.8.8"
  }
 },
 "nbformat": 4,
 "nbformat_minor": 5
}
