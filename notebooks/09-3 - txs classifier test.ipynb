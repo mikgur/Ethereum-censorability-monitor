{
 "cells": [
  {
   "cell_type": "code",
   "execution_count": 1,
   "id": "9bc2c1a2-d77f-48c1-8165-f616b90f4fe4",
   "metadata": {},
   "outputs": [],
   "source": [
    "%load_ext autoreload\n",
    "%autoreload 2\n",
    "\n",
    "# Добавляем путь к основной папке проекта, чтобы иметь возможность делать импорт из src\n",
    "import os\n",
    "import sys\n",
    "module_path = os.path.abspath(os.path.join('..'))\n",
    "if module_path not in sys.path:\n",
    "    sys.path.append(module_path)"
   ]
  },
  {
   "cell_type": "code",
   "execution_count": 3,
   "id": "b223c7b6-731b-43b0-a07f-bb811da9be5f",
   "metadata": {},
   "outputs": [],
   "source": [
    "from pathlib import Path\n",
    "\n",
    "import pandas as pd\n",
    "import catboost"
   ]
  },
  {
   "cell_type": "code",
   "execution_count": 8,
   "id": "044573a2-90b5-441a-9fab-84c4300ef012",
   "metadata": {},
   "outputs": [],
   "source": [
    "additional_data_path = Path('../classifier_retraining')\n",
    "\n",
    "block_files = [p for p in sorted(additional_data_path.iterdir()) if p.suffix == '.csv']"
   ]
  },
  {
   "cell_type": "code",
   "execution_count": 12,
   "id": "ef37181f-a342-446c-9d2c-9dd93fa8fb0f",
   "metadata": {},
   "outputs": [
    {
     "data": {
      "text/plain": [
       "(9069895, 25)"
      ]
     },
     "execution_count": 12,
     "metadata": {},
     "output_type": "execute_result"
    }
   ],
   "source": [
    "block_data_chunks = []\n",
    "\n",
    "for p in block_files:\n",
    "    data = pd.read_csv(p)\n",
    "    block_data_chunks.append(data)\n",
    "all_data = pd.concat(block_data_chunks)\n",
    "all_data.shape"
   ]
  },
  {
   "cell_type": "code",
   "execution_count": 15,
   "id": "d28b1083-2861-4cfe-a7b6-44221777255d",
   "metadata": {},
   "outputs": [
    {
     "data": {
      "text/plain": [
       "Index(['hash', 'from', 'nonce', 'maxFeePerGas', 'maxPriorityFeePerGas', 'gas',\n",
       "       'already_waiting', 'included_into_next_block', 'baseFeePerGas',\n",
       "       'block_number', 'availablePriorityFee', 'mempool', 'prev_block_gasUsed',\n",
       "       'prev_block_baseFeePerGas', 'change_baseFeePerGas',\n",
       "       'total_eligible_txs', 'cumulative_gas', 'first_gas_unit',\n",
       "       'last_gas_unit', 'priority_n', 'priority_percent', 'timestamp', 'hour',\n",
       "       'prediction', 'status'],\n",
       "      dtype='object')"
      ]
     },
     "execution_count": 15,
     "metadata": {},
     "output_type": "execute_result"
    }
   ],
   "source": [
    "all_data.columns"
   ]
  },
  {
   "cell_type": "code",
   "execution_count": 26,
   "id": "c06bf3c1-54ff-4985-ba63-5171938aefc5",
   "metadata": {},
   "outputs": [
    {
     "name": "stdout",
     "output_type": "stream",
     "text": [
      "7298000\n"
     ]
    },
    {
     "data": {
      "text/plain": [
       "(7298000, 25)"
      ]
     },
     "execution_count": 26,
     "metadata": {},
     "output_type": "execute_result"
    }
   ],
   "source": [
    "compliant = all_data[all_data['status'] == 1]\n",
    "print(compliant['hash'].nunique())\n",
    "compliant.shape"
   ]
  },
  {
   "cell_type": "code",
   "execution_count": 27,
   "id": "68973457-e2dc-46c4-8e1d-89ae7e9fe587",
   "metadata": {},
   "outputs": [
    {
     "name": "stdout",
     "output_type": "stream",
     "text": [
      "1010\n"
     ]
    },
    {
     "data": {
      "text/plain": [
       "(1010, 25)"
      ]
     },
     "execution_count": 27,
     "metadata": {},
     "output_type": "execute_result"
    }
   ],
   "source": [
    "non_compliant = all_data[all_data['status'] == -1]\n",
    "print(non_compliant['hash'].nunique())\n",
    "non_compliant.shape"
   ]
  },
  {
   "cell_type": "code",
   "execution_count": 28,
   "id": "8fdd9934-814a-4329-84d8-d0c50b2549b7",
   "metadata": {},
   "outputs": [
    {
     "name": "stdout",
     "output_type": "stream",
     "text": [
      "843172\n"
     ]
    },
    {
     "data": {
      "text/plain": [
       "(1770885, 25)"
      ]
     },
     "execution_count": 28,
     "metadata": {},
     "output_type": "execute_result"
    }
   ],
   "source": [
    "unknown_at_block_time = all_data[all_data['status'] == 0]\n",
    "print(unknown_at_block_time['hash'].nunique())\n",
    "unknown_at_block_time.shape"
   ]
  },
  {
   "cell_type": "code",
   "execution_count": null,
   "id": "63488749-d700-434e-ab1a-b4b0218f3f35",
   "metadata": {},
   "outputs": [],
   "source": [
    "## Заполним статусы для для тех, по которым не было информации на момент блока"
   ]
  },
  {
   "cell_type": "code",
   "execution_count": 32,
   "id": "1e9a8009-7aea-4a89-b7b3-1b5670be2393",
   "metadata": {},
   "outputs": [],
   "source": [
    "all_data['compliance_status'] = 0\n",
    "all_data.loc[all_data['hash'].isin(compliant['hash'].unique()), 'compliance_status'] = 1\n",
    "all_data.loc[all_data['hash'].isin(non_compliant['hash'].unique()), 'compliance_status'] = -1"
   ]
  },
  {
   "cell_type": "code",
   "execution_count": 33,
   "id": "27c0945c-ceff-4020-90cb-f7bf4e2f3ec6",
   "metadata": {},
   "outputs": [
    {
     "data": {
      "text/plain": [
       " 1    8710792\n",
       " 0     356473\n",
       "-1       2630\n",
       "Name: compliance_status, dtype: int64"
      ]
     },
     "execution_count": 33,
     "metadata": {},
     "output_type": "execute_result"
    }
   ],
   "source": [
    "all_data['compliance_status'].value_counts()"
   ]
  },
  {
   "cell_type": "code",
   "execution_count": 34,
   "id": "83c5cd7b-9079-42be-90f3-433c4f68617c",
   "metadata": {},
   "outputs": [
    {
     "data": {
      "text/html": [
       "<div>\n",
       "<style scoped>\n",
       "    .dataframe tbody tr th:only-of-type {\n",
       "        vertical-align: middle;\n",
       "    }\n",
       "\n",
       "    .dataframe tbody tr th {\n",
       "        vertical-align: top;\n",
       "    }\n",
       "\n",
       "    .dataframe thead th {\n",
       "        text-align: right;\n",
       "    }\n",
       "</style>\n",
       "<table border=\"1\" class=\"dataframe\">\n",
       "  <thead>\n",
       "    <tr style=\"text-align: right;\">\n",
       "      <th></th>\n",
       "      <th>hash</th>\n",
       "      <th>from</th>\n",
       "      <th>nonce</th>\n",
       "      <th>maxFeePerGas</th>\n",
       "      <th>maxPriorityFeePerGas</th>\n",
       "      <th>gas</th>\n",
       "      <th>already_waiting</th>\n",
       "      <th>included_into_next_block</th>\n",
       "      <th>baseFeePerGas</th>\n",
       "      <th>block_number</th>\n",
       "      <th>...</th>\n",
       "      <th>cumulative_gas</th>\n",
       "      <th>first_gas_unit</th>\n",
       "      <th>last_gas_unit</th>\n",
       "      <th>priority_n</th>\n",
       "      <th>priority_percent</th>\n",
       "      <th>timestamp</th>\n",
       "      <th>hour</th>\n",
       "      <th>prediction</th>\n",
       "      <th>status</th>\n",
       "      <th>compliance_status</th>\n",
       "    </tr>\n",
       "  </thead>\n",
       "  <tbody>\n",
       "    <tr>\n",
       "      <th>3</th>\n",
       "      <td>0xb78315768262de8edc44893999e22c0577d1953a6648...</td>\n",
       "      <td>0x4E4B37D0a102D7e7213155A979a5b36A46ad3da5</td>\n",
       "      <td>85</td>\n",
       "      <td>37.671893</td>\n",
       "      <td>37.671893</td>\n",
       "      <td>285088</td>\n",
       "      <td>2215</td>\n",
       "      <td>False</td>\n",
       "      <td>22.718593</td>\n",
       "      <td>16767465</td>\n",
       "      <td>...</td>\n",
       "      <td>912234</td>\n",
       "      <td>0.020905</td>\n",
       "      <td>0.030408</td>\n",
       "      <td>3</td>\n",
       "      <td>0.025210</td>\n",
       "      <td>1678083227</td>\n",
       "      <td>6</td>\n",
       "      <td>0</td>\n",
       "      <td>0</td>\n",
       "      <td>0</td>\n",
       "    </tr>\n",
       "    <tr>\n",
       "      <th>5</th>\n",
       "      <td>0x8597fffd77f42e8a8ef1bf638ed23b7e80e5f5023a61...</td>\n",
       "      <td>0x58803DB3cC22e8b1562C332494DA49CACD94C6aB</td>\n",
       "      <td>61</td>\n",
       "      <td>32.605728</td>\n",
       "      <td>32.605728</td>\n",
       "      <td>21000</td>\n",
       "      <td>74</td>\n",
       "      <td>False</td>\n",
       "      <td>22.718593</td>\n",
       "      <td>16767465</td>\n",
       "      <td>...</td>\n",
       "      <td>979862</td>\n",
       "      <td>0.031962</td>\n",
       "      <td>0.032662</td>\n",
       "      <td>5</td>\n",
       "      <td>0.042017</td>\n",
       "      <td>1678083227</td>\n",
       "      <td>6</td>\n",
       "      <td>1</td>\n",
       "      <td>0</td>\n",
       "      <td>0</td>\n",
       "    </tr>\n",
       "    <tr>\n",
       "      <th>10</th>\n",
       "      <td>0xb9407f18e14a2cdff1489eefa027724363e1c03485da...</td>\n",
       "      <td>0xA873bBA4d7f39Be4960b54A534910863Fa66d884</td>\n",
       "      <td>7</td>\n",
       "      <td>29.000000</td>\n",
       "      <td>29.000000</td>\n",
       "      <td>21000</td>\n",
       "      <td>2572</td>\n",
       "      <td>False</td>\n",
       "      <td>22.718593</td>\n",
       "      <td>16767465</td>\n",
       "      <td>...</td>\n",
       "      <td>1224574</td>\n",
       "      <td>0.040119</td>\n",
       "      <td>0.040819</td>\n",
       "      <td>10</td>\n",
       "      <td>0.084034</td>\n",
       "      <td>1678083227</td>\n",
       "      <td>6</td>\n",
       "      <td>0</td>\n",
       "      <td>0</td>\n",
       "      <td>0</td>\n",
       "    </tr>\n",
       "    <tr>\n",
       "      <th>11</th>\n",
       "      <td>0xcdfe8302218331a7f98d9107c26634cc908e9ab87944...</td>\n",
       "      <td>0xD21BeDab06404A1d5500Fb645254134391740e8B</td>\n",
       "      <td>6</td>\n",
       "      <td>29.000000</td>\n",
       "      <td>29.000000</td>\n",
       "      <td>21000</td>\n",
       "      <td>2572</td>\n",
       "      <td>False</td>\n",
       "      <td>22.718593</td>\n",
       "      <td>16767465</td>\n",
       "      <td>...</td>\n",
       "      <td>1245574</td>\n",
       "      <td>0.040819</td>\n",
       "      <td>0.041519</td>\n",
       "      <td>11</td>\n",
       "      <td>0.092437</td>\n",
       "      <td>1678083227</td>\n",
       "      <td>6</td>\n",
       "      <td>0</td>\n",
       "      <td>0</td>\n",
       "      <td>0</td>\n",
       "    </tr>\n",
       "    <tr>\n",
       "      <th>13</th>\n",
       "      <td>0xd314489e5ce32bcf2ab74242b4fac0452f36a454806f...</td>\n",
       "      <td>0xFD98ec94860F574738596d9c843eb264574154A6</td>\n",
       "      <td>10</td>\n",
       "      <td>28.445986</td>\n",
       "      <td>28.445986</td>\n",
       "      <td>21680</td>\n",
       "      <td>1125</td>\n",
       "      <td>False</td>\n",
       "      <td>22.718593</td>\n",
       "      <td>16767465</td>\n",
       "      <td>...</td>\n",
       "      <td>1288254</td>\n",
       "      <td>0.042219</td>\n",
       "      <td>0.042942</td>\n",
       "      <td>13</td>\n",
       "      <td>0.109244</td>\n",
       "      <td>1678083227</td>\n",
       "      <td>6</td>\n",
       "      <td>0</td>\n",
       "      <td>0</td>\n",
       "      <td>0</td>\n",
       "    </tr>\n",
       "    <tr>\n",
       "      <th>...</th>\n",
       "      <td>...</td>\n",
       "      <td>...</td>\n",
       "      <td>...</td>\n",
       "      <td>...</td>\n",
       "      <td>...</td>\n",
       "      <td>...</td>\n",
       "      <td>...</td>\n",
       "      <td>...</td>\n",
       "      <td>...</td>\n",
       "      <td>...</td>\n",
       "      <td>...</td>\n",
       "      <td>...</td>\n",
       "      <td>...</td>\n",
       "      <td>...</td>\n",
       "      <td>...</td>\n",
       "      <td>...</td>\n",
       "      <td>...</td>\n",
       "      <td>...</td>\n",
       "      <td>...</td>\n",
       "      <td>...</td>\n",
       "      <td>...</td>\n",
       "    </tr>\n",
       "    <tr>\n",
       "      <th>290</th>\n",
       "      <td>0x1f44a030a8a31a577f90f3a7e7572054a6e4806ef5de...</td>\n",
       "      <td>0xfcc27B999c8c37FE5a220BC5817CFf95f7C51494</td>\n",
       "      <td>1586</td>\n",
       "      <td>25.292847</td>\n",
       "      <td>0.100000</td>\n",
       "      <td>46593</td>\n",
       "      <td>0</td>\n",
       "      <td>False</td>\n",
       "      <td>17.445109</td>\n",
       "      <td>16817663</td>\n",
       "      <td>...</td>\n",
       "      <td>26793135</td>\n",
       "      <td>0.891551</td>\n",
       "      <td>0.893104</td>\n",
       "      <td>290</td>\n",
       "      <td>0.845481</td>\n",
       "      <td>1678693451</td>\n",
       "      <td>7</td>\n",
       "      <td>0</td>\n",
       "      <td>0</td>\n",
       "      <td>0</td>\n",
       "    </tr>\n",
       "    <tr>\n",
       "      <th>292</th>\n",
       "      <td>0x1dab16aa0a7d94b3a76bb6ddea329bca1759f807a445...</td>\n",
       "      <td>0xD72291eF964a078d2F18D7C462739Cd40d496D02</td>\n",
       "      <td>15</td>\n",
       "      <td>24.878188</td>\n",
       "      <td>0.100000</td>\n",
       "      <td>370000</td>\n",
       "      <td>1481</td>\n",
       "      <td>False</td>\n",
       "      <td>17.445109</td>\n",
       "      <td>16817663</td>\n",
       "      <td>...</td>\n",
       "      <td>27226332</td>\n",
       "      <td>0.895211</td>\n",
       "      <td>0.907544</td>\n",
       "      <td>292</td>\n",
       "      <td>0.851312</td>\n",
       "      <td>1678693451</td>\n",
       "      <td>7</td>\n",
       "      <td>0</td>\n",
       "      <td>0</td>\n",
       "      <td>0</td>\n",
       "    </tr>\n",
       "    <tr>\n",
       "      <th>309</th>\n",
       "      <td>0xcd6beadadc0e9f28ad27956925292a6257a40439ca62...</td>\n",
       "      <td>0x9CceD06933250ce1a11a1aF64f710CF7cE97c822</td>\n",
       "      <td>2</td>\n",
       "      <td>25.292847</td>\n",
       "      <td>0.100000</td>\n",
       "      <td>92046</td>\n",
       "      <td>0</td>\n",
       "      <td>False</td>\n",
       "      <td>17.445109</td>\n",
       "      <td>16817663</td>\n",
       "      <td>...</td>\n",
       "      <td>28765874</td>\n",
       "      <td>0.955794</td>\n",
       "      <td>0.958862</td>\n",
       "      <td>309</td>\n",
       "      <td>0.900875</td>\n",
       "      <td>1678693451</td>\n",
       "      <td>7</td>\n",
       "      <td>0</td>\n",
       "      <td>0</td>\n",
       "      <td>0</td>\n",
       "    </tr>\n",
       "    <tr>\n",
       "      <th>317</th>\n",
       "      <td>0x01eda80e634809f103a93d7b94e010bd7434bb61c597...</td>\n",
       "      <td>0xD72291eF964a078d2F18D7C462739Cd40d496D02</td>\n",
       "      <td>13</td>\n",
       "      <td>21.675961</td>\n",
       "      <td>0.100000</td>\n",
       "      <td>370000</td>\n",
       "      <td>1481</td>\n",
       "      <td>False</td>\n",
       "      <td>17.445109</td>\n",
       "      <td>16817663</td>\n",
       "      <td>...</td>\n",
       "      <td>30095207</td>\n",
       "      <td>0.990840</td>\n",
       "      <td>1.003174</td>\n",
       "      <td>317</td>\n",
       "      <td>0.924198</td>\n",
       "      <td>1678693451</td>\n",
       "      <td>7</td>\n",
       "      <td>0</td>\n",
       "      <td>0</td>\n",
       "      <td>0</td>\n",
       "    </tr>\n",
       "    <tr>\n",
       "      <th>327</th>\n",
       "      <td>0x80954b1b9e87dade8d45a9aced4933bc7008179d72b0...</td>\n",
       "      <td>0x230A1AC45690B9Ae1176389434610B9526d2f21b</td>\n",
       "      <td>153476</td>\n",
       "      <td>900.000000</td>\n",
       "      <td>0.060678</td>\n",
       "      <td>128169</td>\n",
       "      <td>0</td>\n",
       "      <td>False</td>\n",
       "      <td>17.445109</td>\n",
       "      <td>16817663</td>\n",
       "      <td>...</td>\n",
       "      <td>31414477</td>\n",
       "      <td>1.042877</td>\n",
       "      <td>1.047149</td>\n",
       "      <td>327</td>\n",
       "      <td>0.953353</td>\n",
       "      <td>1678693451</td>\n",
       "      <td>7</td>\n",
       "      <td>0</td>\n",
       "      <td>0</td>\n",
       "      <td>0</td>\n",
       "    </tr>\n",
       "  </tbody>\n",
       "</table>\n",
       "<p>356473 rows × 26 columns</p>\n",
       "</div>"
      ],
      "text/plain": [
       "                                                  hash  \\\n",
       "3    0xb78315768262de8edc44893999e22c0577d1953a6648...   \n",
       "5    0x8597fffd77f42e8a8ef1bf638ed23b7e80e5f5023a61...   \n",
       "10   0xb9407f18e14a2cdff1489eefa027724363e1c03485da...   \n",
       "11   0xcdfe8302218331a7f98d9107c26634cc908e9ab87944...   \n",
       "13   0xd314489e5ce32bcf2ab74242b4fac0452f36a454806f...   \n",
       "..                                                 ...   \n",
       "290  0x1f44a030a8a31a577f90f3a7e7572054a6e4806ef5de...   \n",
       "292  0x1dab16aa0a7d94b3a76bb6ddea329bca1759f807a445...   \n",
       "309  0xcd6beadadc0e9f28ad27956925292a6257a40439ca62...   \n",
       "317  0x01eda80e634809f103a93d7b94e010bd7434bb61c597...   \n",
       "327  0x80954b1b9e87dade8d45a9aced4933bc7008179d72b0...   \n",
       "\n",
       "                                           from   nonce  maxFeePerGas  \\\n",
       "3    0x4E4B37D0a102D7e7213155A979a5b36A46ad3da5      85     37.671893   \n",
       "5    0x58803DB3cC22e8b1562C332494DA49CACD94C6aB      61     32.605728   \n",
       "10   0xA873bBA4d7f39Be4960b54A534910863Fa66d884       7     29.000000   \n",
       "11   0xD21BeDab06404A1d5500Fb645254134391740e8B       6     29.000000   \n",
       "13   0xFD98ec94860F574738596d9c843eb264574154A6      10     28.445986   \n",
       "..                                          ...     ...           ...   \n",
       "290  0xfcc27B999c8c37FE5a220BC5817CFf95f7C51494    1586     25.292847   \n",
       "292  0xD72291eF964a078d2F18D7C462739Cd40d496D02      15     24.878188   \n",
       "309  0x9CceD06933250ce1a11a1aF64f710CF7cE97c822       2     25.292847   \n",
       "317  0xD72291eF964a078d2F18D7C462739Cd40d496D02      13     21.675961   \n",
       "327  0x230A1AC45690B9Ae1176389434610B9526d2f21b  153476    900.000000   \n",
       "\n",
       "     maxPriorityFeePerGas     gas  already_waiting  included_into_next_block  \\\n",
       "3               37.671893  285088             2215                     False   \n",
       "5               32.605728   21000               74                     False   \n",
       "10              29.000000   21000             2572                     False   \n",
       "11              29.000000   21000             2572                     False   \n",
       "13              28.445986   21680             1125                     False   \n",
       "..                    ...     ...              ...                       ...   \n",
       "290              0.100000   46593                0                     False   \n",
       "292              0.100000  370000             1481                     False   \n",
       "309              0.100000   92046                0                     False   \n",
       "317              0.100000  370000             1481                     False   \n",
       "327              0.060678  128169                0                     False   \n",
       "\n",
       "     baseFeePerGas  block_number  ...  cumulative_gas  first_gas_unit  \\\n",
       "3        22.718593      16767465  ...          912234        0.020905   \n",
       "5        22.718593      16767465  ...          979862        0.031962   \n",
       "10       22.718593      16767465  ...         1224574        0.040119   \n",
       "11       22.718593      16767465  ...         1245574        0.040819   \n",
       "13       22.718593      16767465  ...         1288254        0.042219   \n",
       "..             ...           ...  ...             ...             ...   \n",
       "290      17.445109      16817663  ...        26793135        0.891551   \n",
       "292      17.445109      16817663  ...        27226332        0.895211   \n",
       "309      17.445109      16817663  ...        28765874        0.955794   \n",
       "317      17.445109      16817663  ...        30095207        0.990840   \n",
       "327      17.445109      16817663  ...        31414477        1.042877   \n",
       "\n",
       "     last_gas_unit  priority_n  priority_percent   timestamp  hour  \\\n",
       "3         0.030408           3          0.025210  1678083227     6   \n",
       "5         0.032662           5          0.042017  1678083227     6   \n",
       "10        0.040819          10          0.084034  1678083227     6   \n",
       "11        0.041519          11          0.092437  1678083227     6   \n",
       "13        0.042942          13          0.109244  1678083227     6   \n",
       "..             ...         ...               ...         ...   ...   \n",
       "290       0.893104         290          0.845481  1678693451     7   \n",
       "292       0.907544         292          0.851312  1678693451     7   \n",
       "309       0.958862         309          0.900875  1678693451     7   \n",
       "317       1.003174         317          0.924198  1678693451     7   \n",
       "327       1.047149         327          0.953353  1678693451     7   \n",
       "\n",
       "     prediction  status  compliance_status  \n",
       "3             0       0                  0  \n",
       "5             1       0                  0  \n",
       "10            0       0                  0  \n",
       "11            0       0                  0  \n",
       "13            0       0                  0  \n",
       "..          ...     ...                ...  \n",
       "290           0       0                  0  \n",
       "292           0       0                  0  \n",
       "309           0       0                  0  \n",
       "317           0       0                  0  \n",
       "327           0       0                  0  \n",
       "\n",
       "[356473 rows x 26 columns]"
      ]
     },
     "execution_count": 34,
     "metadata": {},
     "output_type": "execute_result"
    }
   ],
   "source": [
    "all_data[all_data['compliance_status'] == 0]"
   ]
  },
  {
   "cell_type": "code",
   "execution_count": 38,
   "id": "2b379b1d-70be-49cb-9660-f09f00f3ba07",
   "metadata": {},
   "outputs": [
    {
     "name": "stdout",
     "output_type": "stream",
     "text": [
      "7298000\n"
     ]
    },
    {
     "data": {
      "text/plain": [
       "(8710792, 26)"
      ]
     },
     "execution_count": 38,
     "metadata": {},
     "output_type": "execute_result"
    }
   ],
   "source": [
    "compliant = all_data[all_data['compliance_status'] == 1]\n",
    "print(compliant['hash'].nunique())\n",
    "compliant.shape"
   ]
  },
  {
   "cell_type": "code",
   "execution_count": 40,
   "id": "15fdbaf6-0b0f-44a4-a8f3-ade8f5b50759",
   "metadata": {},
   "outputs": [
    {
     "name": "stdout",
     "output_type": "stream",
     "text": [
      "1010\n"
     ]
    },
    {
     "data": {
      "text/plain": [
       "(2630, 26)"
      ]
     },
     "execution_count": 40,
     "metadata": {},
     "output_type": "execute_result"
    }
   ],
   "source": [
    "non_compliant = all_data[all_data['compliance_status'] == -1]\n",
    "print(non_compliant['hash'].nunique())\n",
    "non_compliant.shape"
   ]
  },
  {
   "cell_type": "code",
   "execution_count": 41,
   "id": "a090da8c-2d19-449c-9d9d-0c0b65060680",
   "metadata": {},
   "outputs": [],
   "source": [
    "from sklearn.metrics import recall_score, precision_score, f1_score"
   ]
  },
  {
   "cell_type": "code",
   "execution_count": 42,
   "id": "a96c6780-13f5-40ac-b466-4946c30d440b",
   "metadata": {},
   "outputs": [
    {
     "name": "stdout",
     "output_type": "stream",
     "text": [
      "Precision 0.943\n",
      "Recall 0.895\n",
      "F1 0.919\n"
     ]
    }
   ],
   "source": [
    "compliant_gt = compliant['included_into_next_block']\n",
    "compliant_pred = compliant['prediction']\n",
    "\n",
    "\n",
    "print(f'Precision {precision_score(compliant_gt, compliant_pred):0.3f}')\n",
    "print(f'Recall {recall_score(compliant_gt, compliant_pred):0.3f}')\n",
    "print(f'F1 {f1_score(compliant_gt, compliant_pred):0.3f}')"
   ]
  },
  {
   "cell_type": "code",
   "execution_count": 43,
   "id": "7383ac1f-23b6-4121-b708-850f66d1fac3",
   "metadata": {},
   "outputs": [
    {
     "name": "stdout",
     "output_type": "stream",
     "text": [
      "Precision 0.338\n",
      "Recall 0.710\n",
      "F1 0.458\n"
     ]
    }
   ],
   "source": [
    "non_compliant_gt = non_compliant['included_into_next_block']\n",
    "non_compliant_pred = non_compliant['prediction']\n",
    "\n",
    "\n",
    "print(f'Precision {precision_score(non_compliant_gt, non_compliant_pred):0.3f}')\n",
    "print(f'Recall {recall_score(non_compliant_gt, non_compliant_pred):0.3f}')\n",
    "print(f'F1 {f1_score(non_compliant_gt, non_compliant_pred):0.3f}')"
   ]
  },
  {
   "cell_type": "code",
   "execution_count": null,
   "id": "b3f99ed4-5b88-42ba-b310-b94caf3d0f1b",
   "metadata": {},
   "outputs": [],
   "source": []
  }
 ],
 "metadata": {
  "kernelspec": {
   "display_name": "Python 3 (ipykernel)",
   "language": "python",
   "name": "python3"
  },
  "language_info": {
   "codemirror_mode": {
    "name": "ipython",
    "version": 3
   },
   "file_extension": ".py",
   "mimetype": "text/x-python",
   "name": "python",
   "nbconvert_exporter": "python",
   "pygments_lexer": "ipython3",
   "version": "3.10.9"
  }
 },
 "nbformat": 4,
 "nbformat_minor": 5
}
