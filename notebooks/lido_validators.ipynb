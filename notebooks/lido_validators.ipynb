{
 "cells": [
  {
   "cell_type": "code",
   "execution_count": 6,
   "id": "b4c4297b-0560-4f6f-b2af-fe305ef996fb",
   "metadata": {},
   "outputs": [],
   "source": [
    "import json\n",
    "\n",
    "import web3\n",
    "from web3 import Web3, HTTPProvider, IPCProvider "
   ]
  },
  {
   "cell_type": "code",
   "execution_count": 7,
   "id": "f32ad43d-d272-4b45-9980-98fa34d25d42",
   "metadata": {},
   "outputs": [
    {
     "name": "stdout",
     "output_type": "stream",
     "text": [
      "Latest Ethereum block number 16318750\n"
     ]
    }
   ],
   "source": [
    "geth_ipc = '/media/Warehouse/Warehouse/Ethereum/data/.ethereum/geth.ipc'\n",
    "w3 = Web3(IPCProvider(geth_ipc))\n",
    "# w3 = Web3(HTTPProvider('http://localhost:8545'))\n",
    "print (\"Latest Ethereum block number\" , w3.eth.blockNumber)"
   ]
  },
  {
   "cell_type": "code",
   "execution_count": 16,
   "id": "a1180860-3c5b-456c-b795-5a3aff293b42",
   "metadata": {},
   "outputs": [],
   "source": [
    "lido_NodeOperatorsRegistry = '0x55032650b14df07b85bF18A3a3eC8E0Af2e028d5'\n",
    "lido_abi = json.loads('[{\"constant\":true,\"inputs\":[],\"name\":\"hasInitialized\",\"outputs\":[{\"name\":\"\",\"type\":\"bool\"}],\"payable\":false,\"stateMutability\":\"view\",\"type\":\"function\"},{\"constant\":false,\"inputs\":[{\"name\":\"_name\",\"type\":\"string\"},{\"name\":\"_rewardAddress\",\"type\":\"address\"},{\"name\":\"_stakingLimit\",\"type\":\"uint64\"}],\"name\":\"addNodeOperator\",\"outputs\":[{\"name\":\"id\",\"type\":\"uint256\"}],\"payable\":false,\"stateMutability\":\"nonpayable\",\"type\":\"function\"},{\"constant\":false,\"inputs\":[{\"name\":\"_operator_id\",\"type\":\"uint256\"},{\"name\":\"_quantity\",\"type\":\"uint256\"},{\"name\":\"_pubkeys\",\"type\":\"bytes\"},{\"name\":\"_signatures\",\"type\":\"bytes\"}],\"name\":\"addSigningKeys\",\"outputs\":[],\"payable\":false,\"stateMutability\":\"nonpayable\",\"type\":\"function\"},{\"constant\":true,\"inputs\":[],\"name\":\"pool\",\"outputs\":[{\"name\":\"\",\"type\":\"address\"}],\"payable\":false,\"stateMutability\":\"view\",\"type\":\"function\"},{\"constant\":false,\"inputs\":[{\"name\":\"_ids\",\"type\":\"uint256[]\"},{\"name\":\"_usedSigningKeys\",\"type\":\"uint64[]\"}],\"name\":\"updateUsedKeys\",\"outputs\":[],\"payable\":false,\"stateMutability\":\"nonpayable\",\"type\":\"function\"},{\"constant\":true,\"inputs\":[{\"name\":\"_script\",\"type\":\"bytes\"}],\"name\":\"getEVMScriptExecutor\",\"outputs\":[{\"name\":\"\",\"type\":\"address\"}],\"payable\":false,\"stateMutability\":\"view\",\"type\":\"function\"},{\"constant\":true,\"inputs\":[],\"name\":\"getRecoveryVault\",\"outputs\":[{\"name\":\"\",\"type\":\"address\"}],\"payable\":false,\"stateMutability\":\"view\",\"type\":\"function\"},{\"constant\":true,\"inputs\":[],\"name\":\"SIGNATURE_LENGTH\",\"outputs\":[{\"name\":\"\",\"type\":\"uint256\"}],\"payable\":false,\"stateMutability\":\"view\",\"type\":\"function\"},{\"constant\":true,\"inputs\":[],\"name\":\"SET_NODE_OPERATOR_ADDRESS_ROLE\",\"outputs\":[{\"name\":\"\",\"type\":\"bytes32\"}],\"payable\":false,\"stateMutability\":\"view\",\"type\":\"function\"},{\"constant\":false,\"inputs\":[{\"name\":\"_id\",\"type\":\"uint256\"},{\"name\":\"_name\",\"type\":\"string\"}],\"name\":\"setNodeOperatorName\",\"outputs\":[],\"payable\":false,\"stateMutability\":\"nonpayable\",\"type\":\"function\"},{\"constant\":false,\"inputs\":[{\"name\":\"_id\",\"type\":\"uint256\"},{\"name\":\"_active\",\"type\":\"bool\"}],\"name\":\"setNodeOperatorActive\",\"outputs\":[],\"payable\":false,\"stateMutability\":\"nonpayable\",\"type\":\"function\"},{\"constant\":true,\"inputs\":[],\"name\":\"SET_NODE_OPERATOR_NAME_ROLE\",\"outputs\":[{\"name\":\"\",\"type\":\"bytes32\"}],\"payable\":false,\"stateMutability\":\"view\",\"type\":\"function\"},{\"constant\":false,\"inputs\":[{\"name\":\"_operator_id\",\"type\":\"uint256\"},{\"name\":\"_index\",\"type\":\"uint256\"}],\"name\":\"removeSigningKey\",\"outputs\":[],\"payable\":false,\"stateMutability\":\"nonpayable\",\"type\":\"function\"},{\"constant\":true,\"inputs\":[],\"name\":\"ADD_NODE_OPERATOR_ROLE\",\"outputs\":[{\"name\":\"\",\"type\":\"bytes32\"}],\"payable\":false,\"stateMutability\":\"view\",\"type\":\"function\"},{\"constant\":true,\"inputs\":[{\"name\":\"token\",\"type\":\"address\"}],\"name\":\"allowRecoverability\",\"outputs\":[{\"name\":\"\",\"type\":\"bool\"}],\"payable\":false,\"stateMutability\":\"view\",\"type\":\"function\"},{\"constant\":false,\"inputs\":[{\"name\":\"_operator_id\",\"type\":\"uint256\"},{\"name\":\"_quantity\",\"type\":\"uint256\"},{\"name\":\"_pubkeys\",\"type\":\"bytes\"},{\"name\":\"_signatures\",\"type\":\"bytes\"}],\"name\":\"addSigningKeysOperatorBH\",\"outputs\":[],\"payable\":false,\"stateMutability\":\"nonpayable\",\"type\":\"function\"},{\"constant\":true,\"inputs\":[],\"name\":\"appId\",\"outputs\":[{\"name\":\"\",\"type\":\"bytes32\"}],\"payable\":false,\"stateMutability\":\"view\",\"type\":\"function\"},{\"constant\":true,\"inputs\":[],\"name\":\"getActiveNodeOperatorsCount\",\"outputs\":[{\"name\":\"\",\"type\":\"uint256\"}],\"payable\":false,\"stateMutability\":\"view\",\"type\":\"function\"},{\"constant\":true,\"inputs\":[],\"name\":\"getInitializationBlock\",\"outputs\":[{\"name\":\"\",\"type\":\"uint256\"}],\"payable\":false,\"stateMutability\":\"view\",\"type\":\"function\"},{\"constant\":true,\"inputs\":[{\"name\":\"_operator_id\",\"type\":\"uint256\"}],\"name\":\"getUnusedSigningKeyCount\",\"outputs\":[{\"name\":\"\",\"type\":\"uint256\"}],\"payable\":false,\"stateMutability\":\"view\",\"type\":\"function\"},{\"constant\":false,\"inputs\":[{\"name\":\"_id\",\"type\":\"uint256\"},{\"name\":\"_rewardAddress\",\"type\":\"address\"}],\"name\":\"setNodeOperatorRewardAddress\",\"outputs\":[],\"payable\":false,\"stateMutability\":\"nonpayable\",\"type\":\"function\"},{\"constant\":true,\"inputs\":[{\"name\":\"_id\",\"type\":\"uint256\"},{\"name\":\"_fullInfo\",\"type\":\"bool\"}],\"name\":\"getNodeOperator\",\"outputs\":[{\"name\":\"active\",\"type\":\"bool\"},{\"name\":\"name\",\"type\":\"string\"},{\"name\":\"rewardAddress\",\"type\":\"address\"},{\"name\":\"stakingLimit\",\"type\":\"uint64\"},{\"name\":\"stoppedValidators\",\"type\":\"uint64\"},{\"name\":\"totalSigningKeys\",\"type\":\"uint64\"},{\"name\":\"usedSigningKeys\",\"type\":\"uint64\"}],\"payable\":false,\"stateMutability\":\"view\",\"type\":\"function\"},{\"constant\":false,\"inputs\":[{\"name\":\"_token\",\"type\":\"address\"}],\"name\":\"transferToVault\",\"outputs\":[],\"payable\":false,\"stateMutability\":\"nonpayable\",\"type\":\"function\"},{\"constant\":true,\"inputs\":[{\"name\":\"_sender\",\"type\":\"address\"},{\"name\":\"_role\",\"type\":\"bytes32\"},{\"name\":\"_params\",\"type\":\"uint256[]\"}],\"name\":\"canPerform\",\"outputs\":[{\"name\":\"\",\"type\":\"bool\"}],\"payable\":false,\"stateMutability\":\"view\",\"type\":\"function\"},{\"constant\":true,\"inputs\":[],\"name\":\"getEVMScriptRegistry\",\"outputs\":[{\"name\":\"\",\"type\":\"address\"}],\"payable\":false,\"stateMutability\":\"view\",\"type\":\"function\"},{\"constant\":true,\"inputs\":[],\"name\":\"PUBKEY_LENGTH\",\"outputs\":[{\"name\":\"\",\"type\":\"uint256\"}],\"payable\":false,\"stateMutability\":\"view\",\"type\":\"function\"},{\"constant\":true,\"inputs\":[],\"name\":\"getNodeOperatorsCount\",\"outputs\":[{\"name\":\"\",\"type\":\"uint256\"}],\"payable\":false,\"stateMutability\":\"view\",\"type\":\"function\"},{\"constant\":false,\"inputs\":[{\"name\":\"_token\",\"type\":\"address\"},{\"name\":\"_totalReward\",\"type\":\"uint256\"}],\"name\":\"distributeRewards\",\"outputs\":[],\"payable\":false,\"stateMutability\":\"nonpayable\",\"type\":\"function\"},{\"constant\":false,\"inputs\":[{\"name\":\"_id\",\"type\":\"uint256\"},{\"name\":\"_stakingLimit\",\"type\":\"uint64\"}],\"name\":\"setNodeOperatorStakingLimit\",\"outputs\":[],\"payable\":false,\"stateMutability\":\"nonpayable\",\"type\":\"function\"},{\"constant\":true,\"inputs\":[{\"name\":\"_operator_id\",\"type\":\"uint256\"},{\"name\":\"_index\",\"type\":\"uint256\"}],\"name\":\"getSigningKey\",\"outputs\":[{\"name\":\"key\",\"type\":\"bytes\"},{\"name\":\"depositSignature\",\"type\":\"bytes\"},{\"name\":\"used\",\"type\":\"bool\"}],\"payable\":false,\"stateMutability\":\"view\",\"type\":\"function\"},{\"constant\":false,\"inputs\":[{\"name\":\"_id\",\"type\":\"uint256\"},{\"name\":\"_stoppedIncrement\",\"type\":\"uint64\"}],\"name\":\"reportStoppedValidators\",\"outputs\":[],\"payable\":false,\"stateMutability\":\"nonpayable\",\"type\":\"function\"},{\"constant\":false,\"inputs\":[{\"name\":\"_pool\",\"type\":\"address\"}],\"name\":\"initialize\",\"outputs\":[],\"payable\":false,\"stateMutability\":\"nonpayable\",\"type\":\"function\"},{\"constant\":true,\"inputs\":[],\"name\":\"REPORT_STOPPED_VALIDATORS_ROLE\",\"outputs\":[{\"name\":\"\",\"type\":\"bytes32\"}],\"payable\":false,\"stateMutability\":\"view\",\"type\":\"function\"},{\"constant\":true,\"inputs\":[],\"name\":\"kernel\",\"outputs\":[{\"name\":\"\",\"type\":\"address\"}],\"payable\":false,\"stateMutability\":\"view\",\"type\":\"function\"},{\"constant\":true,\"inputs\":[],\"name\":\"SET_NODE_OPERATOR_ACTIVE_ROLE\",\"outputs\":[{\"name\":\"\",\"type\":\"bytes32\"}],\"payable\":false,\"stateMutability\":\"view\",\"type\":\"function\"},{\"constant\":true,\"inputs\":[],\"name\":\"SET_NODE_OPERATOR_LIMIT_ROLE\",\"outputs\":[{\"name\":\"\",\"type\":\"bytes32\"}],\"payable\":false,\"stateMutability\":\"view\",\"type\":\"function\"},{\"constant\":true,\"inputs\":[{\"name\":\"_operator_id\",\"type\":\"uint256\"}],\"name\":\"getTotalSigningKeyCount\",\"outputs\":[{\"name\":\"\",\"type\":\"uint256\"}],\"payable\":false,\"stateMutability\":\"view\",\"type\":\"function\"},{\"constant\":true,\"inputs\":[],\"name\":\"isPetrified\",\"outputs\":[{\"name\":\"\",\"type\":\"bool\"}],\"payable\":false,\"stateMutability\":\"view\",\"type\":\"function\"},{\"constant\":false,\"inputs\":[{\"name\":\"_operator_id\",\"type\":\"uint256\"},{\"name\":\"_index\",\"type\":\"uint256\"}],\"name\":\"removeSigningKeyOperatorBH\",\"outputs\":[],\"payable\":false,\"stateMutability\":\"nonpayable\",\"type\":\"function\"},{\"constant\":true,\"inputs\":[],\"name\":\"MANAGE_SIGNING_KEYS\",\"outputs\":[{\"name\":\"\",\"type\":\"bytes32\"}],\"payable\":false,\"stateMutability\":\"view\",\"type\":\"function\"},{\"constant\":false,\"inputs\":[],\"name\":\"trimUnusedKeys\",\"outputs\":[],\"payable\":false,\"stateMutability\":\"nonpayable\",\"type\":\"function\"},{\"anonymous\":false,\"inputs\":[{\"indexed\":true,\"name\":\"executor\",\"type\":\"address\"},{\"indexed\":false,\"name\":\"script\",\"type\":\"bytes\"},{\"indexed\":false,\"name\":\"input\",\"type\":\"bytes\"},{\"indexed\":false,\"name\":\"returnData\",\"type\":\"bytes\"}],\"name\":\"ScriptResult\",\"type\":\"event\"},{\"anonymous\":false,\"inputs\":[{\"indexed\":true,\"name\":\"vault\",\"type\":\"address\"},{\"indexed\":true,\"name\":\"token\",\"type\":\"address\"},{\"indexed\":false,\"name\":\"amount\",\"type\":\"uint256\"}],\"name\":\"RecoverToVault\",\"type\":\"event\"},{\"anonymous\":false,\"inputs\":[{\"indexed\":false,\"name\":\"id\",\"type\":\"uint256\"},{\"indexed\":false,\"name\":\"name\",\"type\":\"string\"},{\"indexed\":false,\"name\":\"rewardAddress\",\"type\":\"address\"},{\"indexed\":false,\"name\":\"stakingLimit\",\"type\":\"uint64\"}],\"name\":\"NodeOperatorAdded\",\"type\":\"event\"},{\"anonymous\":false,\"inputs\":[{\"indexed\":true,\"name\":\"id\",\"type\":\"uint256\"},{\"indexed\":false,\"name\":\"active\",\"type\":\"bool\"}],\"name\":\"NodeOperatorActiveSet\",\"type\":\"event\"},{\"anonymous\":false,\"inputs\":[{\"indexed\":true,\"name\":\"id\",\"type\":\"uint256\"},{\"indexed\":false,\"name\":\"name\",\"type\":\"string\"}],\"name\":\"NodeOperatorNameSet\",\"type\":\"event\"},{\"anonymous\":false,\"inputs\":[{\"indexed\":true,\"name\":\"id\",\"type\":\"uint256\"},{\"indexed\":false,\"name\":\"rewardAddress\",\"type\":\"address\"}],\"name\":\"NodeOperatorRewardAddressSet\",\"type\":\"event\"},{\"anonymous\":false,\"inputs\":[{\"indexed\":true,\"name\":\"id\",\"type\":\"uint256\"},{\"indexed\":false,\"name\":\"stakingLimit\",\"type\":\"uint64\"}],\"name\":\"NodeOperatorStakingLimitSet\",\"type\":\"event\"},{\"anonymous\":false,\"inputs\":[{\"indexed\":true,\"name\":\"id\",\"type\":\"uint256\"},{\"indexed\":false,\"name\":\"totalStopped\",\"type\":\"uint64\"}],\"name\":\"NodeOperatorTotalStoppedValidatorsReported\",\"type\":\"event\"},{\"anonymous\":false,\"inputs\":[{\"indexed\":true,\"name\":\"operatorId\",\"type\":\"uint256\"},{\"indexed\":false,\"name\":\"pubkey\",\"type\":\"bytes\"}],\"name\":\"SigningKeyAdded\",\"type\":\"event\"},{\"anonymous\":false,\"inputs\":[{\"indexed\":true,\"name\":\"operatorId\",\"type\":\"uint256\"},{\"indexed\":false,\"name\":\"pubkey\",\"type\":\"bytes\"}],\"name\":\"SigningKeyRemoved\",\"type\":\"event\"}]')"
   ]
  },
  {
   "cell_type": "code",
   "execution_count": 17,
   "id": "a1d6ac97-3da5-41f4-986d-536499689b7a",
   "metadata": {},
   "outputs": [
    {
     "data": {
      "text/plain": [
       "<web3._utils.datatypes.Contract at 0x7faa3cf9a170>"
      ]
     },
     "execution_count": 17,
     "metadata": {},
     "output_type": "execute_result"
    }
   ],
   "source": [
    "contract = w3.eth.contract(address=lido_NodeOperatorsRegistry, abi=lido_abi)\n",
    "contract"
   ]
  },
  {
   "cell_type": "code",
   "execution_count": 33,
   "id": "d887ffff-4cb2-4681-8ef9-81b18a12d5ca",
   "metadata": {
    "scrolled": true,
    "tags": []
   },
   "outputs": [
    {
     "data": {
      "text/plain": [
       "['hasInitialized',\n",
       " 'addNodeOperator',\n",
       " 'addSigningKeys',\n",
       " 'pool',\n",
       " 'updateUsedKeys',\n",
       " 'getEVMScriptExecutor',\n",
       " 'getRecoveryVault',\n",
       " 'SIGNATURE_LENGTH',\n",
       " 'SET_NODE_OPERATOR_ADDRESS_ROLE',\n",
       " 'setNodeOperatorName',\n",
       " 'setNodeOperatorActive',\n",
       " 'SET_NODE_OPERATOR_NAME_ROLE',\n",
       " 'removeSigningKey',\n",
       " 'ADD_NODE_OPERATOR_ROLE',\n",
       " 'allowRecoverability',\n",
       " 'addSigningKeysOperatorBH',\n",
       " 'appId',\n",
       " 'getActiveNodeOperatorsCount',\n",
       " 'getInitializationBlock',\n",
       " 'getUnusedSigningKeyCount',\n",
       " 'setNodeOperatorRewardAddress',\n",
       " 'getNodeOperator',\n",
       " 'transferToVault',\n",
       " 'canPerform',\n",
       " 'getEVMScriptRegistry',\n",
       " 'PUBKEY_LENGTH',\n",
       " 'getNodeOperatorsCount',\n",
       " 'distributeRewards',\n",
       " 'setNodeOperatorStakingLimit',\n",
       " 'getSigningKey',\n",
       " 'reportStoppedValidators',\n",
       " 'initialize',\n",
       " 'REPORT_STOPPED_VALIDATORS_ROLE',\n",
       " 'kernel',\n",
       " 'SET_NODE_OPERATOR_ACTIVE_ROLE',\n",
       " 'SET_NODE_OPERATOR_LIMIT_ROLE',\n",
       " 'getTotalSigningKeyCount',\n",
       " 'isPetrified',\n",
       " 'removeSigningKeyOperatorBH',\n",
       " 'MANAGE_SIGNING_KEYS',\n",
       " 'trimUnusedKeys']"
      ]
     },
     "execution_count": 33,
     "metadata": {},
     "output_type": "execute_result"
    }
   ],
   "source": [
    "list(contract.functions)"
   ]
  },
  {
   "cell_type": "code",
   "execution_count": 22,
   "id": "7034ee5e-27a4-4110-8d1b-e2cfb5a27beb",
   "metadata": {},
   "outputs": [
    {
     "data": {
      "text/plain": [
       "30"
      ]
     },
     "execution_count": 22,
     "metadata": {},
     "output_type": "execute_result"
    }
   ],
   "source": [
    "contract.functions.getNodeOperatorsCount().call()"
   ]
  },
  {
   "cell_type": "code",
   "execution_count": 29,
   "id": "59b4113f-0db4-4911-9a74-6d4f3a742eaf",
   "metadata": {},
   "outputs": [
    {
     "data": {
      "text/plain": [
       "30"
      ]
     },
     "execution_count": 29,
     "metadata": {},
     "output_type": "execute_result"
    }
   ],
   "source": [
    "contract.functions.getActiveNodeOperatorsCount().call()"
   ]
  },
  {
   "cell_type": "code",
   "execution_count": 32,
   "id": "4f8f2e2f-b00f-4a5b-988c-2ce58cb2eb68",
   "metadata": {},
   "outputs": [
    {
     "name": "stdout",
     "output_type": "stream",
     "text": [
      "[True, 'Staking Facilities', '0xdD4Bc51496dc93A0c47008E820e0d80745476f22', 8400, 0, 8400, 7391]\n",
      "[True, 'Certus One', '0x8D689476EB446a1FB0065bFFAc32398Ed7F89165', 1000, 0, 1000, 1000]\n",
      "[True, 'P2P.ORG - P2P Validator', '0x9a66fD7948a6834176Fbb1c4127c61Cb6d349561', 7800, 0, 7800, 7391]\n",
      "[True, 'Chorus One', '0x0aC7E9aF32422ac5968622585822E4D89ef51343', 9000, 0, 9000, 7000]\n",
      "[True, 'stakefish', '0x987Cc5111389a1f58BC7f678C95f485631205Ec3', 8000, 0, 8000, 7391]\n",
      "[True, 'Blockscape', '0x5F74a2db08D717c94457c550af54548C4241Ace9', 9900, 0, 9900, 7391]\n",
      "[True, 'DSRV', '0xC0B581e041C17716Ea1FcEdE4Ec40e2E27a48abA', 9000, 0, 9000, 7391]\n",
      "[True, 'Everstake', '0x3D5A107F7a5bcEC8734c49ed54d41bc6F93eB97F', 6000, 0, 7500, 6000]\n",
      "[True, 'SkillZ', '0xe080E860741b7f9e8369b61645E68AD197B1e74C', 9000, 0, 9000, 7390]\n",
      "[True, 'RockX', '0x258cB32B1875168858E57Bb31482054e008d344e', 8200, 0, 8200, 7390]\n",
      "[True, 'Figment', '0xfE78617EC612ac67bCc9CC145d376400f15a82cb', 9000, 0, 9000, 7000]\n",
      "[True, 'Allnodes', '0xd8d93E91EA5F24D0E2a328BC242055D40f00bE1A', 10000, 0, 10000, 7390]\n",
      "[True, 'Anyblock Analytics', '0x8b90ac446d4360332129e92F857a9d536DB9d7c2', 2300, 0, 2300, 2300]\n",
      "[True, 'Blockdaemon', '0x4f42A816dC2DBa82fF927b6996c14a741DCbD902', 5850, 0, 5850, 3346]\n",
      "[True, 'Stakin', '0xf6b0a1B771633DB40A3e21Cc49fD2FE35669eF46', 8000, 0, 8000, 5664]\n",
      "[True, 'ChainLayer', '0xd5aC23b1adE91A054C4974264C9dbdDD0E52BB05', 8600, 0, 8600, 7390]\n",
      "[True, 'Simply Staking', '0xFEf3C7aa6956D03dbad8959c59155c4A465DCacd', 6500, 0, 6500, 6500]\n",
      "[True, 'BridgeTower', '0x40C20da8d0214A7eF33a84e287992858dB744e6d', 7600, 0, 7600, 7390]\n",
      "[True, 'Stakely', '0x77d2CF58aa4da90b3AFCd283646568e4383193BF', 6000, 0, 6000, 5000]\n",
      "[True, 'InfStones', '0x60bC65e1ccA448F98578F8d9f9AB64c3BA70a4c3', 7500, 0, 7500, 6000]\n",
      "[True, 'HashQuark', '0x065dAAb531e7Cd50f900D644E8caE8A208eEa4E9', 5000, 0, 5000, 3768]\n",
      "[True, 'ConsenSys Codefi', '0x5Bc5ec5130f66f13d5C21ac6811A7e624ED3C7c6', 4400, 0, 4500, 2576]\n",
      "[True, 'RockLogic GmbH', '0x49Df3CCa2670eB0D591146B16359fe336e476F29', 3000, 0, 4000, 2576]\n",
      "[True, 'CryptoManufaktur', '0x59eCf48345A221E0731E785ED79eD40d0A94E2A5', 3000, 0, 3000, 2576]\n",
      "[True, 'Kukis Global', '0x8845D7F2Bbfe82249c3B95e378A6eD039Dd953F5', 5000, 0, 5000, 2576]\n",
      "[True, 'Nethermind', '0x237DeE529A47750bEcdFa8A59a1D766e3e7B5F91', 4500, 0, 4500, 2576]\n",
      "[True, 'ChainSafe', '0xf82B1FdCD493B2dEFAB52c740399fF150bAA7a2A', 1000, 0, 1000, 1000]\n",
      "[True, 'Prysmatic Labs', '0x3bF3A9260fE18A1239767aC6F0F0bc7c1E5d1cBC', 2100, 0, 2100, 891]\n",
      "[True, 'Sigma Prime', '0x07FE5F404778C27f4d3A0AB56dC59f8eFDd32d96', 3000, 0, 3000, 2576]\n",
      "[True, 'Attestant (BVI) Limited', '0xcd51df5142156BD92E7A9494Dd2b9362f5078D64', 250, 0, 850, 219]\n"
     ]
    }
   ],
   "source": [
    "\n",
    "for i in range(contract.functions.getNodeOperatorsCount().call()):\n",
    "    print(contract.functions.getNodeOperator(i, True).call())"
   ]
  },
  {
   "cell_type": "code",
   "execution_count": 34,
   "id": "25c62cdb-b807-465d-89f3-cfe7c3d3c44c",
   "metadata": {},
   "outputs": [
    {
     "name": "stdout",
     "output_type": "stream",
     "text": [
      "[True, 'Attestant (BVI) Limited', '0xcd51df5142156BD92E7A9494Dd2b9362f5078D64', 250, 0, 850, 226]\n",
      "850\n"
     ]
    }
   ],
   "source": [
    "i = 29\n",
    "print(contract.functions.getNodeOperator(i, True).call())\n",
    "print(contract.functions.getTotalSigningKeyCount(i).call())"
   ]
  },
  {
   "cell_type": "code",
   "execution_count": 37,
   "id": "91684cd9-fbe0-42b6-90ed-8536a43266e9",
   "metadata": {},
   "outputs": [
    {
     "name": "stdout",
     "output_type": "stream",
     "text": [
      "[b'\\x83@3\\xabJ\\x0c\\x97SEU\\xf2\\xaa\\x01,\\x17\\xcc\\x05`OM\\\\\\x8e3\\xfb\\xdcdo\\xb21c\\xdb\\x06\\x14\\x97\\x06\\xc3\\xfc\\\\|\\xb0ERuG&q9L', b'\\xb8\"\\xf3\\xaf\\xb9\\xb5\\xb6C)\\xda\\xd5T\\xbfV\\x10\\r\\x02o[\\x05\\x02\\x7f~\\xdd\\xe8\\xabU\\x96\\xc4\\xcfZ\\xf8\\xe8\\x81\\x96\\xf5(\\x0cv\\xa7\\x1c\\x844%\\xbd[\\xdcL\\x12>\\xc11\\x0cI$\\x94\\xa3V\\xb3^\\r\\x01\\xd1\\x17\\x8c\\xd6o\\x9f\\x1e\\xef@\\xc1p.t\\n\\x808\\x05\\x83}\\xdaD\\xfeSe\\x136\\xaf\\x08O\\x80.\\xbd\\xb0K', True]\n"
     ]
    }
   ],
   "source": [
    "for j in range(1):\n",
    "    key = contract.functions.getSigningKey(i, j).call()\n",
    "    print(key)"
   ]
  },
  {
   "cell_type": "code",
   "execution_count": null,
   "id": "ac2b502e-e508-437f-9325-c421944ffa80",
   "metadata": {},
   "outputs": [],
   "source": [
    "# https://beaconcha.in/validator/834033ab4a0c97534555f2aa012c17cc05604f4d5c8e33fbdc646fb23163db06149706c3fc5c7cb0455275472671394c"
   ]
  },
  {
   "cell_type": "code",
   "execution_count": 51,
   "id": "f5a3c9f6-bf2e-438f-bd83-b69c0bcee0ca",
   "metadata": {},
   "outputs": [
    {
     "data": {
      "text/plain": [
       "True"
      ]
     },
     "execution_count": 51,
     "metadata": {},
     "output_type": "execute_result"
    }
   ],
   "source": [
    "'0x' + str(key[0].hex()) == '0x834033ab4a0c97534555f2aa012c17cc05604f4d5c8e33fbdc646fb23163db06149706c3fc5c7cb0455275472671394c'"
   ]
  }
 ],
 "metadata": {
  "kernelspec": {
   "display_name": "Python 3 (ipykernel)",
   "language": "python",
   "name": "python3"
  },
  "language_info": {
   "codemirror_mode": {
    "name": "ipython",
    "version": 3
   },
   "file_extension": ".py",
   "mimetype": "text/x-python",
   "name": "python",
   "nbconvert_exporter": "python",
   "pygments_lexer": "ipython3",
   "version": "3.10.9"
  }
 },
 "nbformat": 4,
 "nbformat_minor": 5
}
