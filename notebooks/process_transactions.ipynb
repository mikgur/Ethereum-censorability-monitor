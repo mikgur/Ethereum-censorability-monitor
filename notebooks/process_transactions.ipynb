{
 "cells": [
  {
   "cell_type": "code",
   "execution_count": 1,
   "id": "beeb8018-ff51-4c88-bdd8-fe558859f18e",
   "metadata": {},
   "outputs": [],
   "source": [
    "%load_ext autoreload\n",
    "%autoreload 2"
   ]
  },
  {
   "cell_type": "code",
   "execution_count": 2,
   "id": "ac15d608-e5f7-40d4-aaab-4bfff409cd0d",
   "metadata": {},
   "outputs": [],
   "source": [
    "# workaround via specifying an invalid value first\n",
    "# %config Application.log_level='WORKAROUND'\n",
    "# => fails, necessary on Fedora 27, ipython3 6.2.1\n",
    "%config Application.log_level='INFO'"
   ]
  },
  {
   "cell_type": "code",
   "execution_count": 3,
   "id": "a921c621-c3b3-40b3-9453-418e5e80fa46",
   "metadata": {},
   "outputs": [],
   "source": [
    "import logging\n",
    "logging.getLogger().setLevel(logging.INFO)\n",
    "log = logging.getLogger()\n",
    "log.debug('Test debug')"
   ]
  },
  {
   "cell_type": "code",
   "execution_count": 4,
   "id": "bc7b8024-472a-466b-9467-e71fdf90667b",
   "metadata": {},
   "outputs": [],
   "source": [
    "from datetime import datetime\n",
    "import pickle\n",
    "\n",
    "import pandas as pd\n",
    "import tqdm"
   ]
  },
  {
   "cell_type": "code",
   "execution_count": 5,
   "id": "1a1127df-f572-4c39-9921-775bc500352c",
   "metadata": {},
   "outputs": [],
   "source": [
    "from censorability_monitor.data import process_transaction, get_addresses_from_receipt"
   ]
  },
  {
   "cell_type": "code",
   "execution_count": 1,
   "id": "9fef24db-254f-40b3-bcd9-b3d9d83ee381",
   "metadata": {},
   "outputs": [
    {
     "name": "stdout",
     "output_type": "stream",
     "text": [
      "Latest Ethereum block number 16490481\n"
     ]
    }
   ],
   "source": [
    "from web3 import Web3, IPCProvider\n",
    "\n",
    "geth_ipc = '/media/Warehouse/Warehouse/Ethereum/data/.ethereum/geth.ipc'\n",
    "w3 = Web3(IPCProvider(geth_ipc))\n",
    "# Check\n",
    "print (\"Latest Ethereum block number\" , w3.eth.blockNumber)"
   ]
  },
  {
   "cell_type": "code",
   "execution_count": 7,
   "id": "29132b44-a5b9-4747-af66-837d784f9489",
   "metadata": {},
   "outputs": [
    {
     "data": {
      "text/html": [
       "<div>\n",
       "<style scoped>\n",
       "    .dataframe tbody tr th:only-of-type {\n",
       "        vertical-align: middle;\n",
       "    }\n",
       "\n",
       "    .dataframe tbody tr th {\n",
       "        vertical-align: top;\n",
       "    }\n",
       "\n",
       "    .dataframe thead th {\n",
       "        text-align: right;\n",
       "    }\n",
       "</style>\n",
       "<table border=\"1\" class=\"dataframe\">\n",
       "  <thead>\n",
       "    <tr style=\"text-align: right;\">\n",
       "      <th></th>\n",
       "      <th>contract</th>\n",
       "      <th>transactions</th>\n",
       "    </tr>\n",
       "  </thead>\n",
       "  <tbody>\n",
       "    <tr>\n",
       "      <th>0</th>\n",
       "      <td>0xdAC17F958D2ee523a2206206994597C13D831ec7</td>\n",
       "      <td>1042798</td>\n",
       "    </tr>\n",
       "    <tr>\n",
       "      <th>1</th>\n",
       "      <td>0x00000000006c3852cbEf3e08E8dF289169EdE581</td>\n",
       "      <td>564820</td>\n",
       "    </tr>\n",
       "    <tr>\n",
       "      <th>2</th>\n",
       "      <td>0x68b3465833fb72A70ecDF485E0e4C7bD8665Fc45</td>\n",
       "      <td>467017</td>\n",
       "    </tr>\n",
       "    <tr>\n",
       "      <th>3</th>\n",
       "      <td>0xA0b86991c6218b36c1d19D4a2e9Eb0cE3606eB48</td>\n",
       "      <td>273982</td>\n",
       "    </tr>\n",
       "    <tr>\n",
       "      <th>4</th>\n",
       "      <td>0x7a250d5630B4cF539739dF2C5dAcb4c659F2488D</td>\n",
       "      <td>224322</td>\n",
       "    </tr>\n",
       "  </tbody>\n",
       "</table>\n",
       "</div>"
      ],
      "text/plain": [
       "                                     contract  transactions\n",
       "0  0xdAC17F958D2ee523a2206206994597C13D831ec7       1042798\n",
       "1  0x00000000006c3852cbEf3e08E8dF289169EdE581        564820\n",
       "2  0x68b3465833fb72A70ecDF485E0e4C7bD8665Fc45        467017\n",
       "3  0xA0b86991c6218b36c1d19D4a2e9Eb0cE3606eB48        273982\n",
       "4  0x7a250d5630B4cF539739dF2C5dAcb4c659F2488D        224322"
      ]
     },
     "execution_count": 7,
     "metadata": {},
     "output_type": "execute_result"
    }
   ],
   "source": [
    "contracts_df = pd.read_csv('contracts_221220_221231.csv')\n",
    "contracts_df.head()"
   ]
  },
  {
   "cell_type": "code",
   "execution_count": 8,
   "id": "a344e26f-76d7-4f9a-8608-26224a235c75",
   "metadata": {},
   "outputs": [],
   "source": [
    "with open('contracts_db.pickle', 'rb') as f:\n",
    "    contract_db = pickle.load(f)"
   ]
  },
  {
   "cell_type": "code",
   "execution_count": 9,
   "id": "e9126580-7786-4bbf-a2ae-c70c0ffbca81",
   "metadata": {},
   "outputs": [],
   "source": [
    "data = pd.read_csv('data/transactions_from_to_hash.csv')"
   ]
  },
  {
   "cell_type": "code",
   "execution_count": 10,
   "id": "49d20238-5700-4022-afdf-4e71643f1548",
   "metadata": {},
   "outputs": [
    {
     "data": {
      "text/plain": [
       "11527423"
      ]
     },
     "execution_count": 10,
     "metadata": {},
     "output_type": "execute_result"
    }
   ],
   "source": [
    "len(data)"
   ]
  },
  {
   "cell_type": "code",
   "execution_count": 17,
   "id": "f1be69fd-dee1-4374-847e-64491d6d55f6",
   "metadata": {
    "tags": []
   },
   "outputs": [
    {
     "name": "stderr",
     "output_type": "stream",
     "text": [
      " 88%|████████▊ | 10106515/11527423 [5:12:04<39:23, 601.12it/s]  IOPub message rate exceeded.\n",
      "The Jupyter server will temporarily stop sending output\n",
      "to the client in order to avoid crashing it.\n",
      "To change this limit, set the config variable\n",
      "`--ServerApp.iopub_msg_rate_limit`.\n",
      "\n",
      "Current values:\n",
      "ServerApp.iopub_msg_rate_limit=1000.0 (msgs/sec)\n",
      "ServerApp.rate_limit_window=3.0 (secs)\n",
      "\n",
      "100%|██████████| 11527423/11527423 [5:56:07<00:00, 539.47it/s]  \n"
     ]
    }
   ],
   "source": [
    "addresses_from_receipts = {}\n",
    "n_without_from = 0\n",
    "n_without_to = 0\n",
    "not_contract_transaction = 0\n",
    "\n",
    "for i, row in tqdm.tqdm(data.iterrows(), total=len(data)):\n",
    "    if row['is_contract_transaction'] is False:\n",
    "        not_contract_transaction += 1\n",
    "        continue\n",
    "    contract_address = row['to']\n",
    "    # tx = w3.eth.get_transaction(row['tx_hash'])\n",
    "    tx_receipt = w3.eth.get_transaction_receipt(row['tx_hash'])\n",
    "    # addresses = process_transaction(row['tx_hash'], tx, tx_receipt, contract_address, w3)\n",
    "    addresses = get_addresses_from_receipt(tx_receipt)\n",
    "    if row['to'] not in addresses:\n",
    "        addresses.add(row['to'].lower())\n",
    "        n_without_to += 1\n",
    "    if row['from'] not in addresses:\n",
    "        addresses.add(row['from'].lower())\n",
    "        n_without_from += 1\n",
    "    addresses_from_receipts[row['tx_hash']] = list(addresses)\n",
    "    if i % 100000 == 0:\n",
    "        with open('addresses_from_receipts.pickle', 'wb') as f:\n",
    "            pickle.dump(addresses_from_receipts, f)\n",
    "with open('addresses_from_receipts.pickle', 'wb') as f:\n",
    "    pickle.dump(addresses_from_receipts, f)"
   ]
  },
  {
   "cell_type": "code",
   "execution_count": 18,
   "id": "53685943-3c9d-4627-b46e-e0a19553d88b",
   "metadata": {},
   "outputs": [
    {
     "data": {
      "text/plain": [
       "8357981"
      ]
     },
     "execution_count": 18,
     "metadata": {},
     "output_type": "execute_result"
    }
   ],
   "source": [
    "len(addresses_from_receipts)"
   ]
  },
  {
   "cell_type": "code",
   "execution_count": 22,
   "id": "7e05cc85-eb5b-4474-b3e5-635c93a7a7a9",
   "metadata": {},
   "outputs": [
    {
     "name": "stderr",
     "output_type": "stream",
     "text": [
      "100%|██████████| 86002/86002 [03:56<00:00, 362.96it/s]\n"
     ]
    }
   ],
   "source": [
    "blocks = {}\n",
    "for i in tqdm.tqdm(range(16221291, 16307292 + 1)):\n",
    "    block_data = w3.eth.get_block(i)\n",
    "    blocks[i] = block_data\n",
    "\n",
    "with open('data/twelve_days_blocks.pickle', 'wb') as f:\n",
    "    pickle.dump(blocks, f)"
   ]
  },
  {
   "cell_type": "code",
   "execution_count": null,
   "id": "1af01734-9603-4c6c-8495-747ccfb71ccd",
   "metadata": {},
   "outputs": [],
   "source": []
  },
  {
   "cell_type": "code",
   "execution_count": null,
   "id": "6f234358-8d37-42d6-8de1-5a175747e04f",
   "metadata": {},
   "outputs": [],
   "source": []
  },
  {
   "cell_type": "code",
   "execution_count": 65,
   "id": "122dd2b8-d19e-4b57-88ab-fd2381f8f9a2",
   "metadata": {},
   "outputs": [
    {
     "data": {
      "text/plain": [
       "{'0x0000000000000000000000000000000000000000',\n",
       " '0x0000000000000000000000000000000000002467',\n",
       " '0x498b859d2e59958e209d7dd262324c8d31b12b12',\n",
       " '0xBEA0000029AD1c77D3d5D23Ba2D8893dB9d1Efab',\n",
       " '0xC1E088fC1323b20BCBee9bd1B9fC9546db5624C5'}"
      ]
     },
     "execution_count": 65,
     "metadata": {},
     "output_type": "execute_result"
    }
   ],
   "source": [
    "addresses"
   ]
  },
  {
   "cell_type": "code",
   "execution_count": 13,
   "id": "7c5e1576-0292-4d6c-89d8-9aa6fb915a87",
   "metadata": {},
   "outputs": [
    {
     "name": "stdout",
     "output_type": "stream",
     "text": [
      "0xC1E088fC1323b20BCBee9bd1B9fC9546db5624C5\n"
     ]
    },
    {
     "data": {
      "text/plain": [
       "[{'inputs': [{'internalType': 'address',\n",
       "    'name': '_contractOwner',\n",
       "    'type': 'address'}],\n",
       "  'stateMutability': 'nonpayable',\n",
       "  'type': 'constructor'},\n",
       " {'stateMutability': 'payable', 'type': 'fallback'},\n",
       " {'stateMutability': 'payable', 'type': 'receive'}]"
      ]
     },
     "execution_count": 13,
     "metadata": {},
     "output_type": "execute_result"
    }
   ],
   "source": [
    "print(contract_address)\n",
    "contract_db[contract_address]['abi']"
   ]
  },
  {
   "cell_type": "code",
   "execution_count": 14,
   "id": "7ad51689-1de8-42ff-914e-ce7e5c00a062",
   "metadata": {},
   "outputs": [
    {
     "name": "stdout",
     "output_type": "stream",
     "text": [
      "constructor\n",
      "fallback\n",
      "receive\n"
     ]
    }
   ],
   "source": [
    "for el in contract_db[contract_address]['abi']:\n",
    "    el_type = el.get('type', None)\n",
    "    if el_type:\n",
    "        print(el_type)"
   ]
  },
  {
   "cell_type": "code",
   "execution_count": 16,
   "id": "ee746cf6-3602-48fd-b138-144a223264c8",
   "metadata": {},
   "outputs": [],
   "source": [
    "contract = w3.eth.contract(address=contract_address, abi=contract_db[contract_address]['abi'])"
   ]
  },
  {
   "cell_type": "code",
   "execution_count": 17,
   "id": "b0b27731-348f-4549-b19e-f4c795e6f1e6",
   "metadata": {},
   "outputs": [
    {
     "ename": "ABIFunctionNotFound",
     "evalue": "(\"The function 'facetAddresses' was not found in this contract's abi. \", 'Are you sure you provided the correct contract abi?')",
     "output_type": "error",
     "traceback": [
      "\u001b[0;31m---------------------------------------------------------------------------\u001b[0m",
      "\u001b[0;31mABIFunctionNotFound\u001b[0m                       Traceback (most recent call last)",
      "Cell \u001b[0;32mIn[17], line 1\u001b[0m\n\u001b[0;32m----> 1\u001b[0m \u001b[43mcontract\u001b[49m\u001b[38;5;241;43m.\u001b[39;49m\u001b[43mfunctions\u001b[49m\u001b[38;5;241;43m.\u001b[39;49m\u001b[43mfacetAddresses\u001b[49m()\u001b[38;5;241m.\u001b[39mcall()\n",
      "File \u001b[0;32m~/Documents/Ethereum-censorability-monitor/.venv/lib/python3.10/site-packages/web3/contract.py:194\u001b[0m, in \u001b[0;36mContractFunctions.__getattr__\u001b[0;34m(self, function_name)\u001b[0m\n\u001b[1;32m    189\u001b[0m     \u001b[38;5;28;01mraise\u001b[39;00m NoABIFunctionsFound(\n\u001b[1;32m    190\u001b[0m         \u001b[38;5;124m\"\u001b[39m\u001b[38;5;124mThe abi for this contract contains no function definitions. \u001b[39m\u001b[38;5;124m\"\u001b[39m,\n\u001b[1;32m    191\u001b[0m         \u001b[38;5;124m\"\u001b[39m\u001b[38;5;124mAre you sure you provided the correct contract abi?\u001b[39m\u001b[38;5;124m\"\u001b[39m\n\u001b[1;32m    192\u001b[0m     )\n\u001b[1;32m    193\u001b[0m \u001b[38;5;28;01melif\u001b[39;00m function_name \u001b[38;5;129;01mnot\u001b[39;00m \u001b[38;5;129;01min\u001b[39;00m \u001b[38;5;28mself\u001b[39m\u001b[38;5;241m.\u001b[39m\u001b[38;5;18m__dict__\u001b[39m[\u001b[38;5;124m'\u001b[39m\u001b[38;5;124m_functions\u001b[39m\u001b[38;5;124m'\u001b[39m]:\n\u001b[0;32m--> 194\u001b[0m     \u001b[38;5;28;01mraise\u001b[39;00m ABIFunctionNotFound(\n\u001b[1;32m    195\u001b[0m         \u001b[38;5;124m\"\u001b[39m\u001b[38;5;124mThe function \u001b[39m\u001b[38;5;124m'\u001b[39m\u001b[38;5;132;01m{}\u001b[39;00m\u001b[38;5;124m'\u001b[39m\u001b[38;5;124m was not found in this contract\u001b[39m\u001b[38;5;124m'\u001b[39m\u001b[38;5;124ms abi. \u001b[39m\u001b[38;5;124m\"\u001b[39m\u001b[38;5;241m.\u001b[39mformat(function_name),\n\u001b[1;32m    196\u001b[0m         \u001b[38;5;124m\"\u001b[39m\u001b[38;5;124mAre you sure you provided the correct contract abi?\u001b[39m\u001b[38;5;124m\"\u001b[39m\n\u001b[1;32m    197\u001b[0m     )\n\u001b[1;32m    198\u001b[0m \u001b[38;5;28;01melse\u001b[39;00m:\n\u001b[1;32m    199\u001b[0m     \u001b[38;5;28;01mreturn\u001b[39;00m \u001b[38;5;28msuper\u001b[39m()\u001b[38;5;241m.\u001b[39m\u001b[38;5;21m__getattribute__\u001b[39m(function_name)\n",
      "\u001b[0;31mABIFunctionNotFound\u001b[0m: (\"The function 'facetAddresses' was not found in this contract's abi. \", 'Are you sure you provided the correct contract abi?')"
     ]
    }
   ],
   "source": [
    "contract.functions.facetAddresses().call()"
   ]
  },
  {
   "cell_type": "code",
   "execution_count": 11,
   "id": "96349d8a-5505-4349-8c0f-093f320d7f37",
   "metadata": {},
   "outputs": [
    {
     "data": {
      "text/plain": [
       "AttributeDict({'blockHash': HexBytes('0x47113ab19d73a5c56854ae24273a1caf43b477a175964557464f92078f8317d0'),\n",
       " 'blockNumber': 16221291,\n",
       " 'from': '0x498B859D2e59958E209d7DD262324C8D31b12B12',\n",
       " 'gas': 242494,\n",
       " 'gasPrice': 117114004578,\n",
       " 'maxFeePerGas': 117114004578,\n",
       " 'maxPriorityFeePerGas': 117114004578,\n",
       " 'hash': HexBytes('0x14e970dba71ef93b42f337d3494c4d6e8fee4d83ce388cd911076d3163f4ed81'),\n",
       " 'input': '0xfc06d2a6',\n",
       " 'nonce': 12269,\n",
       " 'to': '0xC1E088fC1323b20BCBee9bd1B9fC9546db5624C5',\n",
       " 'transactionIndex': 0,\n",
       " 'value': 0,\n",
       " 'type': '0x2',\n",
       " 'accessList': [],\n",
       " 'chainId': '0x1',\n",
       " 'v': 1,\n",
       " 'r': HexBytes('0xae34479899815d7009d024f639c0430c8690e44006a85eadd1c98a06fa6d7f6c'),\n",
       " 's': HexBytes('0x64b730cc097b328a0216e1113b110c24b2fbd6c0290ec4cd5731d360f3096b67')})"
      ]
     },
     "execution_count": 11,
     "metadata": {},
     "output_type": "execute_result"
    }
   ],
   "source": [
    "tx"
   ]
  },
  {
   "cell_type": "code",
   "execution_count": 66,
   "id": "0e766780-f95b-4a6f-8b29-720c37cebf99",
   "metadata": {},
   "outputs": [
    {
     "data": {
      "text/plain": [
       "AttributeDict({'blockHash': HexBytes('0x47113ab19d73a5c56854ae24273a1caf43b477a175964557464f92078f8317d0'),\n",
       " 'blockNumber': 16221291,\n",
       " 'contractAddress': None,\n",
       " 'cumulativeGasUsed': 189564,\n",
       " 'effectiveGasPrice': 117114004578,\n",
       " 'from': '0x498B859D2e59958E209d7DD262324C8D31b12B12',\n",
       " 'gasUsed': 189564,\n",
       " 'logs': [AttributeDict({'address': '0xC1E088fC1323b20BCBee9bd1B9fC9546db5624C5',\n",
       "   'topics': [HexBytes('0xb360bcf4b60112f485fd94b599df45181250ef0e80538be7b334728ab0990b1a'),\n",
       "    HexBytes('0x0000000000000000000000000000000000000000000000000000000000002467')],\n",
       "   'data': '0x',\n",
       "   'blockNumber': 16221291,\n",
       "   'transactionHash': HexBytes('0x14e970dba71ef93b42f337d3494c4d6e8fee4d83ce388cd911076d3163f4ed81'),\n",
       "   'transactionIndex': 0,\n",
       "   'blockHash': HexBytes('0x47113ab19d73a5c56854ae24273a1caf43b477a175964557464f92078f8317d0'),\n",
       "   'logIndex': 0,\n",
       "   'removed': False}),\n",
       "  AttributeDict({'address': '0xC1E088fC1323b20BCBee9bd1B9fC9546db5624C5',\n",
       "   'topics': [HexBytes('0x0e0c101fa6afb12838450cfd752d904d70198349367ff256b1460f10bcbd1904'),\n",
       "    HexBytes('0x0000000000000000000000000000000000000000000000000000000000002467')],\n",
       "   'data': '0xffffffffffffffffffffffffffffffffffffffffffffffffffffff9173fa47c800000000000000000000000000000000000000000000000957390f53dc475ff0000000000000000000000000000000000000083c4784032abb5fcccf8071ed4e',\n",
       "   'blockNumber': 16221291,\n",
       "   'transactionHash': HexBytes('0x14e970dba71ef93b42f337d3494c4d6e8fee4d83ce388cd911076d3163f4ed81'),\n",
       "   'transactionIndex': 0,\n",
       "   'blockHash': HexBytes('0x47113ab19d73a5c56854ae24273a1caf43b477a175964557464f92078f8317d0'),\n",
       "   'logIndex': 1,\n",
       "   'removed': False}),\n",
       "  AttributeDict({'address': '0xC1E088fC1323b20BCBee9bd1B9fC9546db5624C5',\n",
       "   'topics': [HexBytes('0x0a45556f9791e291dc4f0b1ef18464f43f40ed88e389ebc91d42435adb0b46e7'),\n",
       "    HexBytes('0x0000000000000000000000000000000000000000000000000000000000002467')],\n",
       "   'data': '0x000000000000000000000000000000000000000000000000000000000000001a0000000000000000000000000000000000000000000000000000000000000001',\n",
       "   'blockNumber': 16221291,\n",
       "   'transactionHash': HexBytes('0x14e970dba71ef93b42f337d3494c4d6e8fee4d83ce388cd911076d3163f4ed81'),\n",
       "   'transactionIndex': 0,\n",
       "   'blockHash': HexBytes('0x47113ab19d73a5c56854ae24273a1caf43b477a175964557464f92078f8317d0'),\n",
       "   'logIndex': 2,\n",
       "   'removed': False}),\n",
       "  AttributeDict({'address': '0xC1E088fC1323b20BCBee9bd1B9fC9546db5624C5',\n",
       "   'topics': [HexBytes('0x120fa8f6031fee45346a5c55083305b3840521c041af94971694219f7c26db8b'),\n",
       "    HexBytes('0x0000000000000000000000000000000000000000000000000000000000002467')],\n",
       "   'data': '0x0000000000000000000000000000000000000000000000000000004e92512d78',\n",
       "   'blockNumber': 16221291,\n",
       "   'transactionHash': HexBytes('0x14e970dba71ef93b42f337d3494c4d6e8fee4d83ce388cd911076d3163f4ed81'),\n",
       "   'transactionIndex': 0,\n",
       "   'blockHash': HexBytes('0x47113ab19d73a5c56854ae24273a1caf43b477a175964557464f92078f8317d0'),\n",
       "   'logIndex': 3,\n",
       "   'removed': False}),\n",
       "  AttributeDict({'address': '0xBEA0000029AD1c77D3d5D23Ba2D8893dB9d1Efab',\n",
       "   'topics': [HexBytes('0xddf252ad1be2c89b69c2b068fc378daa952ba7f163c4a11628f55a4df523b3ef'),\n",
       "    HexBytes('0x0000000000000000000000000000000000000000000000000000000000000000'),\n",
       "    HexBytes('0x000000000000000000000000498b859d2e59958e209d7dd262324c8d31b12b12')],\n",
       "   'data': '0x0000000000000000000000000000000000000000000000000000000001a997fb',\n",
       "   'blockNumber': 16221291,\n",
       "   'transactionHash': HexBytes('0x14e970dba71ef93b42f337d3494c4d6e8fee4d83ce388cd911076d3163f4ed81'),\n",
       "   'transactionIndex': 0,\n",
       "   'blockHash': HexBytes('0x47113ab19d73a5c56854ae24273a1caf43b477a175964557464f92078f8317d0'),\n",
       "   'logIndex': 4,\n",
       "   'removed': False}),\n",
       "  AttributeDict({'address': '0xC1E088fC1323b20BCBee9bd1B9fC9546db5624C5',\n",
       "   'topics': [HexBytes('0xbb4f656853bc420ad6e4321622c07eefb4ed40e3f91b35553ce14a6dff4c0981'),\n",
       "    HexBytes('0x000000000000000000000000498b859d2e59958e209d7dd262324c8d31b12b12')],\n",
       "   'data': '0x0000000000000000000000000000000000000000000000000000000001a997fb',\n",
       "   'blockNumber': 16221291,\n",
       "   'transactionHash': HexBytes('0x14e970dba71ef93b42f337d3494c4d6e8fee4d83ce388cd911076d3163f4ed81'),\n",
       "   'transactionIndex': 0,\n",
       "   'blockHash': HexBytes('0x47113ab19d73a5c56854ae24273a1caf43b477a175964557464f92078f8317d0'),\n",
       "   'logIndex': 5,\n",
       "   'removed': False})],\n",
       " 'logsBloom': HexBytes('0x08000000000000000000000000000020000000000000000004000000002000000200000000000000000000000000002000000000000000004000000000000000000000000010000000000008400000000000000000000000800020000000000000000000020000000000000000000800000000000000000000000010000000000000000002000000100000000000001002000000000000000000000000000000000000001000000000000000000000000800020000000010800000000000400800000002000000000000000000000000000800240000000000000080000020000000000000000000000000000000000000000000000000000000000000000000'),\n",
       " 'status': 1,\n",
       " 'to': '0xC1E088fC1323b20BCBee9bd1B9fC9546db5624C5',\n",
       " 'transactionHash': HexBytes('0x14e970dba71ef93b42f337d3494c4d6e8fee4d83ce388cd911076d3163f4ed81'),\n",
       " 'transactionIndex': 0,\n",
       " 'type': '0x2'})"
      ]
     },
     "execution_count": 66,
     "metadata": {},
     "output_type": "execute_result"
    }
   ],
   "source": [
    "tx_receipt"
   ]
  },
  {
   "cell_type": "code",
   "execution_count": 63,
   "id": "3c394b7b-0c18-4d47-ba78-ab8b6c4c8bec",
   "metadata": {},
   "outputs": [
    {
     "data": {
      "text/plain": [
       "{'0x0000000000000000000000000000000000000000',\n",
       " '0x0000000000000000000000000000000000002467',\n",
       " '0x498b859d2e59958e209d7dd262324c8d31b12b12',\n",
       " '0xBEA0000029AD1c77D3d5D23Ba2D8893dB9d1Efab',\n",
       " '0xC1E088fC1323b20BCBee9bd1B9fC9546db5624C5'}"
      ]
     },
     "execution_count": 63,
     "metadata": {},
     "output_type": "execute_result"
    }
   ],
   "source": [
    "receipt_possible_addresses = set()\n",
    "\n",
    "for log in tx_receipt['logs']:\n",
    "    if 'address' in log:\n",
    "        receipt_possible_addresses.add(log['address'])\n",
    "    for el in log['topics']:\n",
    "        len_el = len(el)\n",
    "        if len_el == 20:\n",
    "            receipt_possible_addresses.add(el)\n",
    "        elif len_el > 20:\n",
    "            prefix = el[:len_el - 20]\n",
    "            if len(prefix) == prefix.count(b'\\x00'):\n",
    "                receipt_possible_addresses.add(el[len_el - 20:].hex())\n",
    "receipt_possible_addresses"
   ]
  },
  {
   "cell_type": "code",
   "execution_count": 55,
   "id": "c3aeab67-9a29-4d45-9310-66b6dfd5f140",
   "metadata": {},
   "outputs": [
    {
     "data": {
      "text/plain": [
       "12"
      ]
     },
     "execution_count": 55,
     "metadata": {},
     "output_type": "execute_result"
    }
   ],
   "source": [
    "hb = tx_receipt['logs'][0]['topics'][1]\n",
    "\n",
    "prefix = hb[:len(hb) - 20]\n",
    "if "
   ]
  },
  {
   "cell_type": "code",
   "execution_count": 58,
   "id": "ec5850b2-0592-4dfe-915f-3ca99321ef07",
   "metadata": {},
   "outputs": [
    {
     "data": {
      "text/plain": [
       "b'\\x00\\x00\\x00\\x00\\x00\\x00\\x00\\x00\\x00\\x00\\x00\\x00'"
      ]
     },
     "execution_count": 58,
     "metadata": {},
     "output_type": "execute_result"
    }
   ],
   "source": [
    "bytes(prefix)"
   ]
  },
  {
   "cell_type": "code",
   "execution_count": 2,
   "id": "3125a81a-8747-4c7d-8b81-98b36f6fb204",
   "metadata": {},
   "outputs": [],
   "source": [
    "pending = w3.geth.txpool.content()"
   ]
  },
  {
   "cell_type": "code",
   "execution_count": 7,
   "id": "cf7c5597-5293-438a-8a3c-0fee42552055",
   "metadata": {},
   "outputs": [
    {
     "data": {
      "text/plain": [
       "3641"
      ]
     },
     "execution_count": 7,
     "metadata": {},
     "output_type": "execute_result"
    }
   ],
   "source": [
    "len(pending['pending'])"
   ]
  },
  {
   "cell_type": "code",
   "execution_count": 8,
   "id": "bf7a1b91-4d1b-43aa-9c60-b876833bd2c8",
   "metadata": {},
   "outputs": [
    {
     "data": {
      "text/plain": [
       "378"
      ]
     },
     "execution_count": 8,
     "metadata": {},
     "output_type": "execute_result"
    }
   ],
   "source": [
    "len(pending['queued'])"
   ]
  },
  {
   "cell_type": "code",
   "execution_count": 12,
   "id": "f743b212-4d92-4a1d-a0a6-c989ffcce925",
   "metadata": {},
   "outputs": [
    {
     "name": "stdout",
     "output_type": "stream",
     "text": [
      "0x000000aACE0e0959C134069caA419F0F23050eA0\n",
      "AttributeDict({'329': AttributeDict({'blockHash': None, 'blockNumber': None, 'from': '0x000000aace0e0959c134069caa419f0f23050ea0', 'gas': '0x7a120', 'gasPrice': '0x2cb417800', 'hash': '0x80fbc406e1e201cecd93fbdca770bb8b31158b902cc478a4c14db64982389373', 'input': '0xf4dd8c36', 'nonce': '0x149', 'to': '0x43c41ac895f22f068f6ec875822b13421a9086cc', 'transactionIndex': None, 'value': '0x0', 'type': '0x0', 'chainId': '0x1', 'v': '0x26', 'r': '0xbc4d7e2849b262865e4efa9059f9fd35088757995291fcc7ed4c81e05fb2ce7d', 's': '0x3b423f7696a2a9b6eeaa1dd11a9641912e0d53e7ae1c37d0b0f687d2fef09438'})})\n"
     ]
    }
   ],
   "source": [
    "for k, v in pending['pending'].items():\n",
    "    print(k)\n",
    "    print(v)\n",
    "    break"
   ]
  },
  {
   "cell_type": "code",
   "execution_count": null,
   "id": "3e7b208e-563f-4388-8df6-fd87f6904c9a",
   "metadata": {},
   "outputs": [],
   "source": []
  }
 ],
 "metadata": {
  "kernelspec": {
   "display_name": "Python 3 (ipykernel)",
   "language": "python",
   "name": "python3"
  },
  "language_info": {
   "codemirror_mode": {
    "name": "ipython",
    "version": 3
   },
   "file_extension": ".py",
   "mimetype": "text/x-python",
   "name": "python",
   "nbconvert_exporter": "python",
   "pygments_lexer": "ipython3",
   "version": "3.10.9"
  }
 },
 "nbformat": 4,
 "nbformat_minor": 5
}
