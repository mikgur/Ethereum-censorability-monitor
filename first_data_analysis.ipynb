{
 "cells": [
  {
   "cell_type": "code",
   "execution_count": 89,
   "id": "e455138c-5acf-4fb8-9a6d-bdfbd1e801da",
   "metadata": {},
   "outputs": [],
   "source": [
    "from datetime import datetime\n",
    "import pickle\n",
    "\n",
    "import numpy as np\n",
    "import pandas as pd\n",
    "import seaborn as sns\n",
    "import tqdm\n",
    "\n",
    "from matplotlib import pyplot as plt"
   ]
  },
  {
   "cell_type": "code",
   "execution_count": 2,
   "id": "7da4dbae-7cea-46cc-ab39-29bd1fdab9eb",
   "metadata": {},
   "outputs": [
    {
     "data": {
      "text/html": [
       "<div>\n",
       "<style scoped>\n",
       "    .dataframe tbody tr th:only-of-type {\n",
       "        vertical-align: middle;\n",
       "    }\n",
       "\n",
       "    .dataframe tbody tr th {\n",
       "        vertical-align: top;\n",
       "    }\n",
       "\n",
       "    .dataframe thead th {\n",
       "        text-align: right;\n",
       "    }\n",
       "</style>\n",
       "<table border=\"1\" class=\"dataframe\">\n",
       "  <thead>\n",
       "    <tr style=\"text-align: right;\">\n",
       "      <th></th>\n",
       "      <th>tx_hash</th>\n",
       "      <th>from</th>\n",
       "      <th>to</th>\n",
       "      <th>gas</th>\n",
       "      <th>gasPrice</th>\n",
       "      <th>blockNumber</th>\n",
       "      <th>timestamp_x</th>\n",
       "      <th>miner</th>\n",
       "      <th>timestamp_y</th>\n",
       "      <th>waiting</th>\n",
       "      <th>validator</th>\n",
       "      <th>public_key</th>\n",
       "      <th>validator_name</th>\n",
       "      <th>validator_address</th>\n",
       "      <th>pub_key_lido_status</th>\n",
       "    </tr>\n",
       "  </thead>\n",
       "  <tbody>\n",
       "    <tr>\n",
       "      <th>0</th>\n",
       "      <td>0x14e970dba71ef93b42f337d3494c4d6e8fee4d83ce38...</td>\n",
       "      <td>0x498B859D2e59958E209d7DD262324C8D31b12B12</td>\n",
       "      <td>0xC1E088fC1323b20BCBee9bd1B9fC9546db5624C5</td>\n",
       "      <td>242494</td>\n",
       "      <td>117.114005</td>\n",
       "      <td>16221291</td>\n",
       "      <td>1671483611</td>\n",
       "      <td>0x690B9A9E9aa1C9dB991C7721a92d351Db4FaC990</td>\n",
       "      <td>NaN</td>\n",
       "      <td>NaN</td>\n",
       "      <td>61954</td>\n",
       "      <td>0x99f4c9ad6fe9d3c956c52e3a31d2d2d348913228d33f...</td>\n",
       "      <td>NaN</td>\n",
       "      <td>NaN</td>\n",
       "      <td>NaN</td>\n",
       "    </tr>\n",
       "    <tr>\n",
       "      <th>1</th>\n",
       "      <td>0x33fcc824c05553a3ec31a7d71dc6dbb26cf51d608009...</td>\n",
       "      <td>0x07B873DE48807ec7B02B38cc31b4f96a6A507182</td>\n",
       "      <td>0x883B01205b938EC7268286d13Cb40a2045D2E78F</td>\n",
       "      <td>800000</td>\n",
       "      <td>23.932889</td>\n",
       "      <td>16221291</td>\n",
       "      <td>1671483611</td>\n",
       "      <td>0x690B9A9E9aa1C9dB991C7721a92d351Db4FaC990</td>\n",
       "      <td>NaN</td>\n",
       "      <td>NaN</td>\n",
       "      <td>61954</td>\n",
       "      <td>0x99f4c9ad6fe9d3c956c52e3a31d2d2d348913228d33f...</td>\n",
       "      <td>NaN</td>\n",
       "      <td>NaN</td>\n",
       "      <td>NaN</td>\n",
       "    </tr>\n",
       "    <tr>\n",
       "      <th>2</th>\n",
       "      <td>0x555ffb08812804e23fe18467886edaa167f502488c6b...</td>\n",
       "      <td>0xAC813c6b767F3C2f1764994F9D3E4D38A8df6F32</td>\n",
       "      <td>0x0b382C0A00D6080b0009F003C050eAC3c30f0000</td>\n",
       "      <td>305170</td>\n",
       "      <td>17.248596</td>\n",
       "      <td>16221291</td>\n",
       "      <td>1671483611</td>\n",
       "      <td>0x690B9A9E9aa1C9dB991C7721a92d351Db4FaC990</td>\n",
       "      <td>NaN</td>\n",
       "      <td>NaN</td>\n",
       "      <td>61954</td>\n",
       "      <td>0x99f4c9ad6fe9d3c956c52e3a31d2d2d348913228d33f...</td>\n",
       "      <td>NaN</td>\n",
       "      <td>NaN</td>\n",
       "      <td>NaN</td>\n",
       "    </tr>\n",
       "    <tr>\n",
       "      <th>3</th>\n",
       "      <td>0x9febfdc63677cd0decb532cb049004add2959d7f1a1f...</td>\n",
       "      <td>0xf7C8133baEa3313993B3c476c016aa869C991679</td>\n",
       "      <td>0x91c8D7e4080bed28e26FCE1b87cACcFaF7bbF794</td>\n",
       "      <td>292432</td>\n",
       "      <td>18.212433</td>\n",
       "      <td>16221291</td>\n",
       "      <td>1671483611</td>\n",
       "      <td>0x690B9A9E9aa1C9dB991C7721a92d351Db4FaC990</td>\n",
       "      <td>1.671484e+09</td>\n",
       "      <td>3.0</td>\n",
       "      <td>61954</td>\n",
       "      <td>0x99f4c9ad6fe9d3c956c52e3a31d2d2d348913228d33f...</td>\n",
       "      <td>NaN</td>\n",
       "      <td>NaN</td>\n",
       "      <td>NaN</td>\n",
       "    </tr>\n",
       "    <tr>\n",
       "      <th>4</th>\n",
       "      <td>0xe24c2fb8e8d581d86710a0ca685e27ed6c36ca722d8e...</td>\n",
       "      <td>0xAC813c6b767F3C2f1764994F9D3E4D38A8df6F32</td>\n",
       "      <td>0x0b382C0A00D6080b0009F003C050eAC3c30f0000</td>\n",
       "      <td>245026</td>\n",
       "      <td>20.798797</td>\n",
       "      <td>16221291</td>\n",
       "      <td>1671483611</td>\n",
       "      <td>0x690B9A9E9aa1C9dB991C7721a92d351Db4FaC990</td>\n",
       "      <td>NaN</td>\n",
       "      <td>NaN</td>\n",
       "      <td>61954</td>\n",
       "      <td>0x99f4c9ad6fe9d3c956c52e3a31d2d2d348913228d33f...</td>\n",
       "      <td>NaN</td>\n",
       "      <td>NaN</td>\n",
       "      <td>NaN</td>\n",
       "    </tr>\n",
       "  </tbody>\n",
       "</table>\n",
       "</div>"
      ],
      "text/plain": [
       "                                             tx_hash  \\\n",
       "0  0x14e970dba71ef93b42f337d3494c4d6e8fee4d83ce38...   \n",
       "1  0x33fcc824c05553a3ec31a7d71dc6dbb26cf51d608009...   \n",
       "2  0x555ffb08812804e23fe18467886edaa167f502488c6b...   \n",
       "3  0x9febfdc63677cd0decb532cb049004add2959d7f1a1f...   \n",
       "4  0xe24c2fb8e8d581d86710a0ca685e27ed6c36ca722d8e...   \n",
       "\n",
       "                                         from  \\\n",
       "0  0x498B859D2e59958E209d7DD262324C8D31b12B12   \n",
       "1  0x07B873DE48807ec7B02B38cc31b4f96a6A507182   \n",
       "2  0xAC813c6b767F3C2f1764994F9D3E4D38A8df6F32   \n",
       "3  0xf7C8133baEa3313993B3c476c016aa869C991679   \n",
       "4  0xAC813c6b767F3C2f1764994F9D3E4D38A8df6F32   \n",
       "\n",
       "                                           to     gas    gasPrice  \\\n",
       "0  0xC1E088fC1323b20BCBee9bd1B9fC9546db5624C5  242494  117.114005   \n",
       "1  0x883B01205b938EC7268286d13Cb40a2045D2E78F  800000   23.932889   \n",
       "2  0x0b382C0A00D6080b0009F003C050eAC3c30f0000  305170   17.248596   \n",
       "3  0x91c8D7e4080bed28e26FCE1b87cACcFaF7bbF794  292432   18.212433   \n",
       "4  0x0b382C0A00D6080b0009F003C050eAC3c30f0000  245026   20.798797   \n",
       "\n",
       "   blockNumber  timestamp_x                                       miner  \\\n",
       "0     16221291   1671483611  0x690B9A9E9aa1C9dB991C7721a92d351Db4FaC990   \n",
       "1     16221291   1671483611  0x690B9A9E9aa1C9dB991C7721a92d351Db4FaC990   \n",
       "2     16221291   1671483611  0x690B9A9E9aa1C9dB991C7721a92d351Db4FaC990   \n",
       "3     16221291   1671483611  0x690B9A9E9aa1C9dB991C7721a92d351Db4FaC990   \n",
       "4     16221291   1671483611  0x690B9A9E9aa1C9dB991C7721a92d351Db4FaC990   \n",
       "\n",
       "    timestamp_y  waiting  validator  \\\n",
       "0           NaN      NaN      61954   \n",
       "1           NaN      NaN      61954   \n",
       "2           NaN      NaN      61954   \n",
       "3  1.671484e+09      3.0      61954   \n",
       "4           NaN      NaN      61954   \n",
       "\n",
       "                                          public_key validator_name  \\\n",
       "0  0x99f4c9ad6fe9d3c956c52e3a31d2d2d348913228d33f...            NaN   \n",
       "1  0x99f4c9ad6fe9d3c956c52e3a31d2d2d348913228d33f...            NaN   \n",
       "2  0x99f4c9ad6fe9d3c956c52e3a31d2d2d348913228d33f...            NaN   \n",
       "3  0x99f4c9ad6fe9d3c956c52e3a31d2d2d348913228d33f...            NaN   \n",
       "4  0x99f4c9ad6fe9d3c956c52e3a31d2d2d348913228d33f...            NaN   \n",
       "\n",
       "  validator_address pub_key_lido_status  \n",
       "0               NaN                 NaN  \n",
       "1               NaN                 NaN  \n",
       "2               NaN                 NaN  \n",
       "3               NaN                 NaN  \n",
       "4               NaN                 NaN  "
      ]
     },
     "execution_count": 2,
     "metadata": {},
     "output_type": "execute_result"
    }
   ],
   "source": [
    "data = pd.read_csv('data/merged_221220_221231.csv')\n",
    "data['gasPrice'] = data['gasPrice'] / 10 ** 9\n",
    "data.head()"
   ]
  },
  {
   "cell_type": "markdown",
   "id": "1f16c19e-d544-4faf-8736-839e7670a09f",
   "metadata": {},
   "source": [
    "# 1. Количество транзакций Lido/ Non Lido"
   ]
  },
  {
   "cell_type": "code",
   "execution_count": 3,
   "id": "db4b8585-8d70-4997-b94e-6cd78e44c1af",
   "metadata": {},
   "outputs": [
    {
     "data": {
      "text/plain": [
       "(11527423, 15)"
      ]
     },
     "execution_count": 3,
     "metadata": {},
     "output_type": "execute_result"
    }
   ],
   "source": [
    "data.shape"
   ]
  },
  {
   "cell_type": "code",
   "execution_count": 4,
   "id": "2233c48f-a6fa-441a-a5cc-105e839b66cc",
   "metadata": {},
   "outputs": [
    {
     "name": "stdout",
     "output_type": "stream",
     "text": [
      "Total number of unique validators 78754\n",
      "Total number of unique validators public keys 78754\n",
      "Total number of blocks 85944\n"
     ]
    }
   ],
   "source": [
    "print(f\"Total number of unique validators {data['validator'].nunique()}\")\n",
    "print(f\"Total number of unique validators public keys {data['public_key'].nunique()}\")\n",
    "print(f\"Total number of blocks {data['blockNumber'].nunique()}\")"
   ]
  },
  {
   "cell_type": "code",
   "execution_count": 5,
   "id": "1cb06f43-ee0c-4840-b3be-241f671660a6",
   "metadata": {},
   "outputs": [],
   "source": [
    "data['validator_type'] = 'Lido'\n",
    "data.loc[data['validator_name'].isna(), 'validator_type'] = 'Non Lido'"
   ]
  },
  {
   "cell_type": "code",
   "execution_count": 6,
   "id": "87905507-d21f-449f-bc99-2b1c6cd69204",
   "metadata": {},
   "outputs": [
    {
     "data": {
      "image/png": "[encoded data removed]",
      "text/plain": [
       "<Figure size 500x500 with 1 Axes>"
      ]
     },
     "metadata": {},
     "output_type": "display_data"
    }
   ],
   "source": [
    "g = sns.catplot(data=data, x=\"validator_type\", kind=\"count\")\n",
    "g.set(ylabel='Number of transactions', xlabel='Validator Type')\n",
    "plt.show()"
   ]
  },
  {
   "cell_type": "code",
   "execution_count": 7,
   "id": "ddb2e112-bd4c-4a17-877f-387f9ff5e5a8",
   "metadata": {},
   "outputs": [
    {
     "data": {
      "text/html": [
       "<div>\n",
       "<style scoped>\n",
       "    .dataframe tbody tr th:only-of-type {\n",
       "        vertical-align: middle;\n",
       "    }\n",
       "\n",
       "    .dataframe tbody tr th {\n",
       "        vertical-align: top;\n",
       "    }\n",
       "\n",
       "    .dataframe thead th {\n",
       "        text-align: right;\n",
       "    }\n",
       "</style>\n",
       "<table border=\"1\" class=\"dataframe\">\n",
       "  <thead>\n",
       "    <tr style=\"text-align: right;\">\n",
       "      <th></th>\n",
       "      <th>tx_hash</th>\n",
       "      <th>from</th>\n",
       "      <th>to</th>\n",
       "      <th>gas</th>\n",
       "      <th>gasPrice</th>\n",
       "      <th>blockNumber</th>\n",
       "      <th>timestamp_x</th>\n",
       "      <th>miner</th>\n",
       "      <th>timestamp_y</th>\n",
       "      <th>waiting</th>\n",
       "      <th>validator</th>\n",
       "      <th>public_key</th>\n",
       "      <th>validator_name</th>\n",
       "      <th>validator_address</th>\n",
       "      <th>pub_key_lido_status</th>\n",
       "      <th>validator_type</th>\n",
       "      <th>eth_datetime</th>\n",
       "      <th>eth_hour</th>\n",
       "    </tr>\n",
       "  </thead>\n",
       "  <tbody>\n",
       "    <tr>\n",
       "      <th>0</th>\n",
       "      <td>0x14e970dba71ef93b42f337d3494c4d6e8fee4d83ce38...</td>\n",
       "      <td>0x498B859D2e59958E209d7DD262324C8D31b12B12</td>\n",
       "      <td>0xC1E088fC1323b20BCBee9bd1B9fC9546db5624C5</td>\n",
       "      <td>242494</td>\n",
       "      <td>117.114005</td>\n",
       "      <td>16221291</td>\n",
       "      <td>1671483611</td>\n",
       "      <td>0x690B9A9E9aa1C9dB991C7721a92d351Db4FaC990</td>\n",
       "      <td>NaN</td>\n",
       "      <td>NaN</td>\n",
       "      <td>61954</td>\n",
       "      <td>0x99f4c9ad6fe9d3c956c52e3a31d2d2d348913228d33f...</td>\n",
       "      <td>NaN</td>\n",
       "      <td>NaN</td>\n",
       "      <td>NaN</td>\n",
       "      <td>Non Lido</td>\n",
       "      <td>2022-12-19 21:00:11</td>\n",
       "      <td>2022-12-19 21:00:00</td>\n",
       "    </tr>\n",
       "    <tr>\n",
       "      <th>1</th>\n",
       "      <td>0x33fcc824c05553a3ec31a7d71dc6dbb26cf51d608009...</td>\n",
       "      <td>0x07B873DE48807ec7B02B38cc31b4f96a6A507182</td>\n",
       "      <td>0x883B01205b938EC7268286d13Cb40a2045D2E78F</td>\n",
       "      <td>800000</td>\n",
       "      <td>23.932889</td>\n",
       "      <td>16221291</td>\n",
       "      <td>1671483611</td>\n",
       "      <td>0x690B9A9E9aa1C9dB991C7721a92d351Db4FaC990</td>\n",
       "      <td>NaN</td>\n",
       "      <td>NaN</td>\n",
       "      <td>61954</td>\n",
       "      <td>0x99f4c9ad6fe9d3c956c52e3a31d2d2d348913228d33f...</td>\n",
       "      <td>NaN</td>\n",
       "      <td>NaN</td>\n",
       "      <td>NaN</td>\n",
       "      <td>Non Lido</td>\n",
       "      <td>2022-12-19 21:00:11</td>\n",
       "      <td>2022-12-19 21:00:00</td>\n",
       "    </tr>\n",
       "    <tr>\n",
       "      <th>2</th>\n",
       "      <td>0x555ffb08812804e23fe18467886edaa167f502488c6b...</td>\n",
       "      <td>0xAC813c6b767F3C2f1764994F9D3E4D38A8df6F32</td>\n",
       "      <td>0x0b382C0A00D6080b0009F003C050eAC3c30f0000</td>\n",
       "      <td>305170</td>\n",
       "      <td>17.248596</td>\n",
       "      <td>16221291</td>\n",
       "      <td>1671483611</td>\n",
       "      <td>0x690B9A9E9aa1C9dB991C7721a92d351Db4FaC990</td>\n",
       "      <td>NaN</td>\n",
       "      <td>NaN</td>\n",
       "      <td>61954</td>\n",
       "      <td>0x99f4c9ad6fe9d3c956c52e3a31d2d2d348913228d33f...</td>\n",
       "      <td>NaN</td>\n",
       "      <td>NaN</td>\n",
       "      <td>NaN</td>\n",
       "      <td>Non Lido</td>\n",
       "      <td>2022-12-19 21:00:11</td>\n",
       "      <td>2022-12-19 21:00:00</td>\n",
       "    </tr>\n",
       "    <tr>\n",
       "      <th>3</th>\n",
       "      <td>0x9febfdc63677cd0decb532cb049004add2959d7f1a1f...</td>\n",
       "      <td>0xf7C8133baEa3313993B3c476c016aa869C991679</td>\n",
       "      <td>0x91c8D7e4080bed28e26FCE1b87cACcFaF7bbF794</td>\n",
       "      <td>292432</td>\n",
       "      <td>18.212433</td>\n",
       "      <td>16221291</td>\n",
       "      <td>1671483611</td>\n",
       "      <td>0x690B9A9E9aa1C9dB991C7721a92d351Db4FaC990</td>\n",
       "      <td>1.671484e+09</td>\n",
       "      <td>3.0</td>\n",
       "      <td>61954</td>\n",
       "      <td>0x99f4c9ad6fe9d3c956c52e3a31d2d2d348913228d33f...</td>\n",
       "      <td>NaN</td>\n",
       "      <td>NaN</td>\n",
       "      <td>NaN</td>\n",
       "      <td>Non Lido</td>\n",
       "      <td>2022-12-19 21:00:11</td>\n",
       "      <td>2022-12-19 21:00:00</td>\n",
       "    </tr>\n",
       "    <tr>\n",
       "      <th>4</th>\n",
       "      <td>0xe24c2fb8e8d581d86710a0ca685e27ed6c36ca722d8e...</td>\n",
       "      <td>0xAC813c6b767F3C2f1764994F9D3E4D38A8df6F32</td>\n",
       "      <td>0x0b382C0A00D6080b0009F003C050eAC3c30f0000</td>\n",
       "      <td>245026</td>\n",
       "      <td>20.798797</td>\n",
       "      <td>16221291</td>\n",
       "      <td>1671483611</td>\n",
       "      <td>0x690B9A9E9aa1C9dB991C7721a92d351Db4FaC990</td>\n",
       "      <td>NaN</td>\n",
       "      <td>NaN</td>\n",
       "      <td>61954</td>\n",
       "      <td>0x99f4c9ad6fe9d3c956c52e3a31d2d2d348913228d33f...</td>\n",
       "      <td>NaN</td>\n",
       "      <td>NaN</td>\n",
       "      <td>NaN</td>\n",
       "      <td>Non Lido</td>\n",
       "      <td>2022-12-19 21:00:11</td>\n",
       "      <td>2022-12-19 21:00:00</td>\n",
       "    </tr>\n",
       "  </tbody>\n",
       "</table>\n",
       "</div>"
      ],
      "text/plain": [
       "                                             tx_hash  \\\n",
       "0  0x14e970dba71ef93b42f337d3494c4d6e8fee4d83ce38...   \n",
       "1  0x33fcc824c05553a3ec31a7d71dc6dbb26cf51d608009...   \n",
       "2  0x555ffb08812804e23fe18467886edaa167f502488c6b...   \n",
       "3  0x9febfdc63677cd0decb532cb049004add2959d7f1a1f...   \n",
       "4  0xe24c2fb8e8d581d86710a0ca685e27ed6c36ca722d8e...   \n",
       "\n",
       "                                         from  \\\n",
       "0  0x498B859D2e59958E209d7DD262324C8D31b12B12   \n",
       "1  0x07B873DE48807ec7B02B38cc31b4f96a6A507182   \n",
       "2  0xAC813c6b767F3C2f1764994F9D3E4D38A8df6F32   \n",
       "3  0xf7C8133baEa3313993B3c476c016aa869C991679   \n",
       "4  0xAC813c6b767F3C2f1764994F9D3E4D38A8df6F32   \n",
       "\n",
       "                                           to     gas    gasPrice  \\\n",
       "0  0xC1E088fC1323b20BCBee9bd1B9fC9546db5624C5  242494  117.114005   \n",
       "1  0x883B01205b938EC7268286d13Cb40a2045D2E78F  800000   23.932889   \n",
       "2  0x0b382C0A00D6080b0009F003C050eAC3c30f0000  305170   17.248596   \n",
       "3  0x91c8D7e4080bed28e26FCE1b87cACcFaF7bbF794  292432   18.212433   \n",
       "4  0x0b382C0A00D6080b0009F003C050eAC3c30f0000  245026   20.798797   \n",
       "\n",
       "   blockNumber  timestamp_x                                       miner  \\\n",
       "0     16221291   1671483611  0x690B9A9E9aa1C9dB991C7721a92d351Db4FaC990   \n",
       "1     16221291   1671483611  0x690B9A9E9aa1C9dB991C7721a92d351Db4FaC990   \n",
       "2     16221291   1671483611  0x690B9A9E9aa1C9dB991C7721a92d351Db4FaC990   \n",
       "3     16221291   1671483611  0x690B9A9E9aa1C9dB991C7721a92d351Db4FaC990   \n",
       "4     16221291   1671483611  0x690B9A9E9aa1C9dB991C7721a92d351Db4FaC990   \n",
       "\n",
       "    timestamp_y  waiting  validator  \\\n",
       "0           NaN      NaN      61954   \n",
       "1           NaN      NaN      61954   \n",
       "2           NaN      NaN      61954   \n",
       "3  1.671484e+09      3.0      61954   \n",
       "4           NaN      NaN      61954   \n",
       "\n",
       "                                          public_key validator_name  \\\n",
       "0  0x99f4c9ad6fe9d3c956c52e3a31d2d2d348913228d33f...            NaN   \n",
       "1  0x99f4c9ad6fe9d3c956c52e3a31d2d2d348913228d33f...            NaN   \n",
       "2  0x99f4c9ad6fe9d3c956c52e3a31d2d2d348913228d33f...            NaN   \n",
       "3  0x99f4c9ad6fe9d3c956c52e3a31d2d2d348913228d33f...            NaN   \n",
       "4  0x99f4c9ad6fe9d3c956c52e3a31d2d2d348913228d33f...            NaN   \n",
       "\n",
       "  validator_address pub_key_lido_status validator_type        eth_datetime  \\\n",
       "0               NaN                 NaN       Non Lido 2022-12-19 21:00:11   \n",
       "1               NaN                 NaN       Non Lido 2022-12-19 21:00:11   \n",
       "2               NaN                 NaN       Non Lido 2022-12-19 21:00:11   \n",
       "3               NaN                 NaN       Non Lido 2022-12-19 21:00:11   \n",
       "4               NaN                 NaN       Non Lido 2022-12-19 21:00:11   \n",
       "\n",
       "             eth_hour  \n",
       "0 2022-12-19 21:00:00  \n",
       "1 2022-12-19 21:00:00  \n",
       "2 2022-12-19 21:00:00  \n",
       "3 2022-12-19 21:00:00  \n",
       "4 2022-12-19 21:00:00  "
      ]
     },
     "execution_count": 7,
     "metadata": {},
     "output_type": "execute_result"
    }
   ],
   "source": [
    "data['eth_datetime'] = pd.to_datetime(data['timestamp_x'], unit='s')\n",
    "data['eth_hour'] = [datetime(x.year, x.month, x.day, x.hour) for x in data['eth_datetime'].tolist()]\n",
    "data.head()"
   ]
  },
  {
   "cell_type": "code",
   "execution_count": 8,
   "id": "a77c07d6-bad6-46d7-8a85-22f6b1a9ac10",
   "metadata": {},
   "outputs": [],
   "source": [
    "hour_data = pd.pivot_table(data[['eth_hour', 'validator_type', 'gasPrice', 'tx_hash']],\n",
    "                           index='eth_hour', values=['gasPrice', 'tx_hash'],\n",
    "                           aggfunc={'tx_hash': 'count', 'gasPrice': 'mean'},\n",
    "                           columns='validator_type')"
   ]
  },
  {
   "cell_type": "code",
   "execution_count": 9,
   "id": "e7c8c42d-c90a-48a1-ab2a-4cedf03bc8c5",
   "metadata": {},
   "outputs": [
    {
     "data": {
      "text/html": [
       "<div>\n",
       "<style scoped>\n",
       "    .dataframe tbody tr th:only-of-type {\n",
       "        vertical-align: middle;\n",
       "    }\n",
       "\n",
       "    .dataframe tbody tr th {\n",
       "        vertical-align: top;\n",
       "    }\n",
       "\n",
       "    .dataframe thead tr th {\n",
       "        text-align: left;\n",
       "    }\n",
       "\n",
       "    .dataframe thead tr:last-of-type th {\n",
       "        text-align: right;\n",
       "    }\n",
       "</style>\n",
       "<table border=\"1\" class=\"dataframe\">\n",
       "  <thead>\n",
       "    <tr>\n",
       "      <th></th>\n",
       "      <th colspan=\"2\" halign=\"left\">gasPrice</th>\n",
       "      <th colspan=\"2\" halign=\"left\">tx_hash</th>\n",
       "    </tr>\n",
       "    <tr>\n",
       "      <th>validator_type</th>\n",
       "      <th>Lido</th>\n",
       "      <th>Non Lido</th>\n",
       "      <th>Lido</th>\n",
       "      <th>Non Lido</th>\n",
       "    </tr>\n",
       "    <tr>\n",
       "      <th>eth_hour</th>\n",
       "      <th></th>\n",
       "      <th></th>\n",
       "      <th></th>\n",
       "      <th></th>\n",
       "    </tr>\n",
       "  </thead>\n",
       "  <tbody>\n",
       "    <tr>\n",
       "      <th>2022-12-19 21:00:00</th>\n",
       "      <td>21.253256</td>\n",
       "      <td>21.085744</td>\n",
       "      <td>14807</td>\n",
       "      <td>29028</td>\n",
       "    </tr>\n",
       "    <tr>\n",
       "      <th>2022-12-19 22:00:00</th>\n",
       "      <td>25.985921</td>\n",
       "      <td>27.149318</td>\n",
       "      <td>12011</td>\n",
       "      <td>32153</td>\n",
       "    </tr>\n",
       "    <tr>\n",
       "      <th>2022-12-19 23:00:00</th>\n",
       "      <td>19.253743</td>\n",
       "      <td>19.081004</td>\n",
       "      <td>14436</td>\n",
       "      <td>28034</td>\n",
       "    </tr>\n",
       "    <tr>\n",
       "      <th>2022-12-20 00:00:00</th>\n",
       "      <td>17.140613</td>\n",
       "      <td>16.753229</td>\n",
       "      <td>11058</td>\n",
       "      <td>29665</td>\n",
       "    </tr>\n",
       "    <tr>\n",
       "      <th>2022-12-20 01:00:00</th>\n",
       "      <td>17.354385</td>\n",
       "      <td>16.370288</td>\n",
       "      <td>11576</td>\n",
       "      <td>27925</td>\n",
       "    </tr>\n",
       "    <tr>\n",
       "      <th>...</th>\n",
       "      <td>...</td>\n",
       "      <td>...</td>\n",
       "      <td>...</td>\n",
       "      <td>...</td>\n",
       "    </tr>\n",
       "    <tr>\n",
       "      <th>2022-12-31 16:00:00</th>\n",
       "      <td>23.246663</td>\n",
       "      <td>23.384683</td>\n",
       "      <td>13275</td>\n",
       "      <td>27800</td>\n",
       "    </tr>\n",
       "    <tr>\n",
       "      <th>2022-12-31 17:00:00</th>\n",
       "      <td>17.965450</td>\n",
       "      <td>17.899954</td>\n",
       "      <td>11530</td>\n",
       "      <td>29823</td>\n",
       "    </tr>\n",
       "    <tr>\n",
       "      <th>2022-12-31 18:00:00</th>\n",
       "      <td>19.766482</td>\n",
       "      <td>19.191375</td>\n",
       "      <td>12078</td>\n",
       "      <td>26422</td>\n",
       "    </tr>\n",
       "    <tr>\n",
       "      <th>2022-12-31 19:00:00</th>\n",
       "      <td>17.776543</td>\n",
       "      <td>18.416145</td>\n",
       "      <td>11489</td>\n",
       "      <td>27614</td>\n",
       "    </tr>\n",
       "    <tr>\n",
       "      <th>2022-12-31 20:00:00</th>\n",
       "      <td>17.899185</td>\n",
       "      <td>17.665073</td>\n",
       "      <td>12623</td>\n",
       "      <td>25833</td>\n",
       "    </tr>\n",
       "  </tbody>\n",
       "</table>\n",
       "<p>288 rows × 4 columns</p>\n",
       "</div>"
      ],
      "text/plain": [
       "                      gasPrice            tx_hash         \n",
       "validator_type            Lido   Non Lido    Lido Non Lido\n",
       "eth_hour                                                  \n",
       "2022-12-19 21:00:00  21.253256  21.085744   14807    29028\n",
       "2022-12-19 22:00:00  25.985921  27.149318   12011    32153\n",
       "2022-12-19 23:00:00  19.253743  19.081004   14436    28034\n",
       "2022-12-20 00:00:00  17.140613  16.753229   11058    29665\n",
       "2022-12-20 01:00:00  17.354385  16.370288   11576    27925\n",
       "...                        ...        ...     ...      ...\n",
       "2022-12-31 16:00:00  23.246663  23.384683   13275    27800\n",
       "2022-12-31 17:00:00  17.965450  17.899954   11530    29823\n",
       "2022-12-31 18:00:00  19.766482  19.191375   12078    26422\n",
       "2022-12-31 19:00:00  17.776543  18.416145   11489    27614\n",
       "2022-12-31 20:00:00  17.899185  17.665073   12623    25833\n",
       "\n",
       "[288 rows x 4 columns]"
      ]
     },
     "execution_count": 9,
     "metadata": {},
     "output_type": "execute_result"
    }
   ],
   "source": [
    "hour_data"
   ]
  },
  {
   "cell_type": "code",
   "execution_count": 10,
   "id": "d588365e-e94d-443d-99f4-181b7496b324",
   "metadata": {},
   "outputs": [
    {
     "data": {
      "image/png": "[encoded data removed]",
      "text/plain": [
       "<Figure size 2500x1200 with 2 Axes>"
      ]
     },
     "metadata": {},
     "output_type": "display_data"
    }
   ],
   "source": [
    "import matplotlib.dates as mdates\n",
    "\n",
    "_ = plt.figure(figsize=(25, 12))\n",
    "ax = plt.subplot()\n",
    "\n",
    "width = 1.0 / 24\n",
    "ax.bar(hour_data.index, hour_data['tx_hash']['Lido'], width, label='Lido')\n",
    "ax.bar(hour_data.index, hour_data['tx_hash']['Non Lido'], width, bottom=hour_data['tx_hash']['Lido'],\n",
    "       label='Non Lido')\n",
    "\n",
    "ax_gas = ax.twinx()\n",
    "ax_gas.plot(hour_data.index, hour_data['gasPrice']['Lido'], label='Lido Gas', color='green')\n",
    "ax_gas.plot(hour_data.index, hour_data['gasPrice']['Non Lido'], label='Non Lido Gas', color='red')\n",
    "\n",
    "ax.xaxis.set_major_locator(mdates.DayLocator(interval=1))\n",
    "ax.xaxis.set_major_formatter(mdates.DateFormatter('%Y-%m-%d'))\n",
    "plt.gcf().autofmt_xdate()\n",
    "plt.title('Transactions per hour Lido vs Non Lido')\n",
    "plt.xlabel('Date')\n",
    "ax.set_ylabel('Number of transactions')\n",
    "ax_gas.set_ylabel('Gas price')\n",
    "ax.legend(loc=2)\n",
    "ax_gas.legend(loc=0)\n",
    "plt.show()"
   ]
  },
  {
   "cell_type": "markdown",
   "id": "1527feb4-1f10-4aeb-98ef-9e76e7e32ec4",
   "metadata": {},
   "source": [
    "# 2. Посмотрим на поле to"
   ]
  },
  {
   "cell_type": "code",
   "execution_count": 11,
   "id": "8b83bdf3-1672-4b65-860b-0dbdd288cbc8",
   "metadata": {},
   "outputs": [
    {
     "name": "stdout",
     "output_type": "stream",
     "text": [
      "Total number of unique addresses \"to\": 1469577\n"
     ]
    }
   ],
   "source": [
    "print(f'Total number of unique addresses \"to\": {data[\"to\"].nunique()}')"
   ]
  },
  {
   "cell_type": "code",
   "execution_count": 12,
   "id": "b1eb322f-945c-4a18-9ef2-a7210dcdce75",
   "metadata": {},
   "outputs": [
    {
     "name": "stdout",
     "output_type": "stream",
     "text": [
      "Latest Ethereum block number 16347174\n"
     ]
    }
   ],
   "source": [
    "from web3 import Web3, IPCProvider\n",
    "\n",
    "geth_ipc = '/media/Warehouse/Warehouse/Ethereum/data/.ethereum/geth.ipc'\n",
    "w3 = Web3(IPCProvider(geth_ipc))\n",
    "# Check\n",
    "print (\"Latest Ethereum block number\" , w3.eth.blockNumber)"
   ]
  },
  {
   "cell_type": "code",
   "execution_count": 13,
   "id": "90021cc9-6368-41ca-a87a-47e327e88828",
   "metadata": {},
   "outputs": [
    {
     "name": "stderr",
     "output_type": "stream",
     "text": [
      "100%|█████████████████████████████████████████████████████████████████████| 1469578/1469578 [19:02<00:00, 1286.53it/s]\n"
     ]
    }
   ],
   "source": [
    "contracts = []\n",
    "contracts_codelen = []\n",
    "for address in tqdm.tqdm(data[\"to\"].unique()):\n",
    "    if type(address) is not str:\n",
    "        continue\n",
    "    code = w3.eth.get_code(address)\n",
    "    if len(code) > 0:\n",
    "        contracts.append(address)\n",
    "        contracts_codelen.append(len(code))"
   ]
  },
  {
   "cell_type": "code",
   "execution_count": 14,
   "id": "7046d894-4694-4da8-af43-e3c782f77642",
   "metadata": {},
   "outputs": [
    {
     "name": "stdout",
     "output_type": "stream",
     "text": [
      "Total number of contracts: 110495\n"
     ]
    }
   ],
   "source": [
    "print(f'Total number of contracts: {len(contracts)}')"
   ]
  },
  {
   "cell_type": "code",
   "execution_count": 15,
   "id": "2846e420-264a-435f-b3e5-85b4c4becab6",
   "metadata": {},
   "outputs": [
    {
     "data": {
      "text/html": [
       "<div>\n",
       "<style scoped>\n",
       "    .dataframe tbody tr th:only-of-type {\n",
       "        vertical-align: middle;\n",
       "    }\n",
       "\n",
       "    .dataframe tbody tr th {\n",
       "        vertical-align: top;\n",
       "    }\n",
       "\n",
       "    .dataframe thead th {\n",
       "        text-align: right;\n",
       "    }\n",
       "</style>\n",
       "<table border=\"1\" class=\"dataframe\">\n",
       "  <thead>\n",
       "    <tr style=\"text-align: right;\">\n",
       "      <th></th>\n",
       "      <th>tx_hash</th>\n",
       "      <th>from</th>\n",
       "      <th>to</th>\n",
       "      <th>gas</th>\n",
       "      <th>gasPrice</th>\n",
       "      <th>blockNumber</th>\n",
       "      <th>timestamp_x</th>\n",
       "      <th>miner</th>\n",
       "      <th>timestamp_y</th>\n",
       "      <th>waiting</th>\n",
       "      <th>validator</th>\n",
       "      <th>public_key</th>\n",
       "      <th>validator_name</th>\n",
       "      <th>validator_address</th>\n",
       "      <th>pub_key_lido_status</th>\n",
       "      <th>validator_type</th>\n",
       "      <th>eth_datetime</th>\n",
       "      <th>eth_hour</th>\n",
       "      <th>is_contract_transaction</th>\n",
       "    </tr>\n",
       "  </thead>\n",
       "  <tbody>\n",
       "    <tr>\n",
       "      <th>0</th>\n",
       "      <td>0x14e970dba71ef93b42f337d3494c4d6e8fee4d83ce38...</td>\n",
       "      <td>0x498B859D2e59958E209d7DD262324C8D31b12B12</td>\n",
       "      <td>0xC1E088fC1323b20BCBee9bd1B9fC9546db5624C5</td>\n",
       "      <td>242494</td>\n",
       "      <td>117.114005</td>\n",
       "      <td>16221291</td>\n",
       "      <td>1671483611</td>\n",
       "      <td>0x690B9A9E9aa1C9dB991C7721a92d351Db4FaC990</td>\n",
       "      <td>NaN</td>\n",
       "      <td>NaN</td>\n",
       "      <td>61954</td>\n",
       "      <td>0x99f4c9ad6fe9d3c956c52e3a31d2d2d348913228d33f...</td>\n",
       "      <td>NaN</td>\n",
       "      <td>NaN</td>\n",
       "      <td>NaN</td>\n",
       "      <td>Non Lido</td>\n",
       "      <td>2022-12-19 21:00:11</td>\n",
       "      <td>2022-12-19 21:00:00</td>\n",
       "      <td>True</td>\n",
       "    </tr>\n",
       "    <tr>\n",
       "      <th>1</th>\n",
       "      <td>0x33fcc824c05553a3ec31a7d71dc6dbb26cf51d608009...</td>\n",
       "      <td>0x07B873DE48807ec7B02B38cc31b4f96a6A507182</td>\n",
       "      <td>0x883B01205b938EC7268286d13Cb40a2045D2E78F</td>\n",
       "      <td>800000</td>\n",
       "      <td>23.932889</td>\n",
       "      <td>16221291</td>\n",
       "      <td>1671483611</td>\n",
       "      <td>0x690B9A9E9aa1C9dB991C7721a92d351Db4FaC990</td>\n",
       "      <td>NaN</td>\n",
       "      <td>NaN</td>\n",
       "      <td>61954</td>\n",
       "      <td>0x99f4c9ad6fe9d3c956c52e3a31d2d2d348913228d33f...</td>\n",
       "      <td>NaN</td>\n",
       "      <td>NaN</td>\n",
       "      <td>NaN</td>\n",
       "      <td>Non Lido</td>\n",
       "      <td>2022-12-19 21:00:11</td>\n",
       "      <td>2022-12-19 21:00:00</td>\n",
       "      <td>True</td>\n",
       "    </tr>\n",
       "    <tr>\n",
       "      <th>2</th>\n",
       "      <td>0x555ffb08812804e23fe18467886edaa167f502488c6b...</td>\n",
       "      <td>0xAC813c6b767F3C2f1764994F9D3E4D38A8df6F32</td>\n",
       "      <td>0x0b382C0A00D6080b0009F003C050eAC3c30f0000</td>\n",
       "      <td>305170</td>\n",
       "      <td>17.248596</td>\n",
       "      <td>16221291</td>\n",
       "      <td>1671483611</td>\n",
       "      <td>0x690B9A9E9aa1C9dB991C7721a92d351Db4FaC990</td>\n",
       "      <td>NaN</td>\n",
       "      <td>NaN</td>\n",
       "      <td>61954</td>\n",
       "      <td>0x99f4c9ad6fe9d3c956c52e3a31d2d2d348913228d33f...</td>\n",
       "      <td>NaN</td>\n",
       "      <td>NaN</td>\n",
       "      <td>NaN</td>\n",
       "      <td>Non Lido</td>\n",
       "      <td>2022-12-19 21:00:11</td>\n",
       "      <td>2022-12-19 21:00:00</td>\n",
       "      <td>True</td>\n",
       "    </tr>\n",
       "    <tr>\n",
       "      <th>3</th>\n",
       "      <td>0x9febfdc63677cd0decb532cb049004add2959d7f1a1f...</td>\n",
       "      <td>0xf7C8133baEa3313993B3c476c016aa869C991679</td>\n",
       "      <td>0x91c8D7e4080bed28e26FCE1b87cACcFaF7bbF794</td>\n",
       "      <td>292432</td>\n",
       "      <td>18.212433</td>\n",
       "      <td>16221291</td>\n",
       "      <td>1671483611</td>\n",
       "      <td>0x690B9A9E9aa1C9dB991C7721a92d351Db4FaC990</td>\n",
       "      <td>1.671484e+09</td>\n",
       "      <td>3.0</td>\n",
       "      <td>61954</td>\n",
       "      <td>0x99f4c9ad6fe9d3c956c52e3a31d2d2d348913228d33f...</td>\n",
       "      <td>NaN</td>\n",
       "      <td>NaN</td>\n",
       "      <td>NaN</td>\n",
       "      <td>Non Lido</td>\n",
       "      <td>2022-12-19 21:00:11</td>\n",
       "      <td>2022-12-19 21:00:00</td>\n",
       "      <td>True</td>\n",
       "    </tr>\n",
       "    <tr>\n",
       "      <th>4</th>\n",
       "      <td>0xe24c2fb8e8d581d86710a0ca685e27ed6c36ca722d8e...</td>\n",
       "      <td>0xAC813c6b767F3C2f1764994F9D3E4D38A8df6F32</td>\n",
       "      <td>0x0b382C0A00D6080b0009F003C050eAC3c30f0000</td>\n",
       "      <td>245026</td>\n",
       "      <td>20.798797</td>\n",
       "      <td>16221291</td>\n",
       "      <td>1671483611</td>\n",
       "      <td>0x690B9A9E9aa1C9dB991C7721a92d351Db4FaC990</td>\n",
       "      <td>NaN</td>\n",
       "      <td>NaN</td>\n",
       "      <td>61954</td>\n",
       "      <td>0x99f4c9ad6fe9d3c956c52e3a31d2d2d348913228d33f...</td>\n",
       "      <td>NaN</td>\n",
       "      <td>NaN</td>\n",
       "      <td>NaN</td>\n",
       "      <td>Non Lido</td>\n",
       "      <td>2022-12-19 21:00:11</td>\n",
       "      <td>2022-12-19 21:00:00</td>\n",
       "      <td>True</td>\n",
       "    </tr>\n",
       "  </tbody>\n",
       "</table>\n",
       "</div>"
      ],
      "text/plain": [
       "                                             tx_hash  \\\n",
       "0  0x14e970dba71ef93b42f337d3494c4d6e8fee4d83ce38...   \n",
       "1  0x33fcc824c05553a3ec31a7d71dc6dbb26cf51d608009...   \n",
       "2  0x555ffb08812804e23fe18467886edaa167f502488c6b...   \n",
       "3  0x9febfdc63677cd0decb532cb049004add2959d7f1a1f...   \n",
       "4  0xe24c2fb8e8d581d86710a0ca685e27ed6c36ca722d8e...   \n",
       "\n",
       "                                         from  \\\n",
       "0  0x498B859D2e59958E209d7DD262324C8D31b12B12   \n",
       "1  0x07B873DE48807ec7B02B38cc31b4f96a6A507182   \n",
       "2  0xAC813c6b767F3C2f1764994F9D3E4D38A8df6F32   \n",
       "3  0xf7C8133baEa3313993B3c476c016aa869C991679   \n",
       "4  0xAC813c6b767F3C2f1764994F9D3E4D38A8df6F32   \n",
       "\n",
       "                                           to     gas    gasPrice  \\\n",
       "0  0xC1E088fC1323b20BCBee9bd1B9fC9546db5624C5  242494  117.114005   \n",
       "1  0x883B01205b938EC7268286d13Cb40a2045D2E78F  800000   23.932889   \n",
       "2  0x0b382C0A00D6080b0009F003C050eAC3c30f0000  305170   17.248596   \n",
       "3  0x91c8D7e4080bed28e26FCE1b87cACcFaF7bbF794  292432   18.212433   \n",
       "4  0x0b382C0A00D6080b0009F003C050eAC3c30f0000  245026   20.798797   \n",
       "\n",
       "   blockNumber  timestamp_x                                       miner  \\\n",
       "0     16221291   1671483611  0x690B9A9E9aa1C9dB991C7721a92d351Db4FaC990   \n",
       "1     16221291   1671483611  0x690B9A9E9aa1C9dB991C7721a92d351Db4FaC990   \n",
       "2     16221291   1671483611  0x690B9A9E9aa1C9dB991C7721a92d351Db4FaC990   \n",
       "3     16221291   1671483611  0x690B9A9E9aa1C9dB991C7721a92d351Db4FaC990   \n",
       "4     16221291   1671483611  0x690B9A9E9aa1C9dB991C7721a92d351Db4FaC990   \n",
       "\n",
       "    timestamp_y  waiting  validator  \\\n",
       "0           NaN      NaN      61954   \n",
       "1           NaN      NaN      61954   \n",
       "2           NaN      NaN      61954   \n",
       "3  1.671484e+09      3.0      61954   \n",
       "4           NaN      NaN      61954   \n",
       "\n",
       "                                          public_key validator_name  \\\n",
       "0  0x99f4c9ad6fe9d3c956c52e3a31d2d2d348913228d33f...            NaN   \n",
       "1  0x99f4c9ad6fe9d3c956c52e3a31d2d2d348913228d33f...            NaN   \n",
       "2  0x99f4c9ad6fe9d3c956c52e3a31d2d2d348913228d33f...            NaN   \n",
       "3  0x99f4c9ad6fe9d3c956c52e3a31d2d2d348913228d33f...            NaN   \n",
       "4  0x99f4c9ad6fe9d3c956c52e3a31d2d2d348913228d33f...            NaN   \n",
       "\n",
       "  validator_address pub_key_lido_status validator_type        eth_datetime  \\\n",
       "0               NaN                 NaN       Non Lido 2022-12-19 21:00:11   \n",
       "1               NaN                 NaN       Non Lido 2022-12-19 21:00:11   \n",
       "2               NaN                 NaN       Non Lido 2022-12-19 21:00:11   \n",
       "3               NaN                 NaN       Non Lido 2022-12-19 21:00:11   \n",
       "4               NaN                 NaN       Non Lido 2022-12-19 21:00:11   \n",
       "\n",
       "             eth_hour  is_contract_transaction  \n",
       "0 2022-12-19 21:00:00                     True  \n",
       "1 2022-12-19 21:00:00                     True  \n",
       "2 2022-12-19 21:00:00                     True  \n",
       "3 2022-12-19 21:00:00                     True  \n",
       "4 2022-12-19 21:00:00                     True  "
      ]
     },
     "execution_count": 15,
     "metadata": {},
     "output_type": "execute_result"
    }
   ],
   "source": [
    "contracts_set = set(contracts)\n",
    "data['is_contract_transaction'] = data['to'].apply(lambda x: x in contracts_set)\n",
    "data.head()"
   ]
  },
  {
   "cell_type": "code",
   "execution_count": 16,
   "id": "f4b849fa-65b0-472e-9ffd-2d042fc72b68",
   "metadata": {},
   "outputs": [],
   "source": [
    "data.to_csv('data/merged_221220_221231_with_contracts.csv')"
   ]
  },
  {
   "cell_type": "markdown",
   "id": "2c1be1d2-342c-40b7-9df9-ac866acdb152",
   "metadata": {},
   "source": [
    "## А много ли транзакций с контрактами?"
   ]
  },
  {
   "cell_type": "code",
   "execution_count": 17,
   "id": "6a02b4dd-8ec8-4193-8c5a-0596fb30840d",
   "metadata": {},
   "outputs": [
    {
     "data": {
      "image/png": "[encoded data removed]",
      "text/plain": [
       "<Figure size 500x500 with 1 Axes>"
      ]
     },
     "metadata": {},
     "output_type": "display_data"
    }
   ],
   "source": [
    "g = sns.catplot(data=data, x=\"is_contract_transaction\", kind=\"count\")\n",
    "g.set(ylabel='Number of transactions', xlabel='Transaction with contract')\n",
    "plt.show()"
   ]
  },
  {
   "cell_type": "markdown",
   "id": "9aa43ad2-4f70-42de-ada9-b579238170bc",
   "metadata": {},
   "source": [
    "## Посмотрим сколько есть значимых контрактов"
   ]
  },
  {
   "cell_type": "code",
   "execution_count": 18,
   "id": "8df73768-ab6d-4c24-b089-e2ca35e28b02",
   "metadata": {},
   "outputs": [
    {
     "data": {
      "text/html": [
       "<div>\n",
       "<style scoped>\n",
       "    .dataframe tbody tr th:only-of-type {\n",
       "        vertical-align: middle;\n",
       "    }\n",
       "\n",
       "    .dataframe tbody tr th {\n",
       "        vertical-align: top;\n",
       "    }\n",
       "\n",
       "    .dataframe thead th {\n",
       "        text-align: right;\n",
       "    }\n",
       "</style>\n",
       "<table border=\"1\" class=\"dataframe\">\n",
       "  <thead>\n",
       "    <tr style=\"text-align: right;\">\n",
       "      <th></th>\n",
       "      <th>contract</th>\n",
       "      <th>transactions</th>\n",
       "    </tr>\n",
       "  </thead>\n",
       "  <tbody>\n",
       "    <tr>\n",
       "      <th>0</th>\n",
       "      <td>0xdAC17F958D2ee523a2206206994597C13D831ec7</td>\n",
       "      <td>1042798</td>\n",
       "    </tr>\n",
       "    <tr>\n",
       "      <th>1</th>\n",
       "      <td>0x00000000006c3852cbEf3e08E8dF289169EdE581</td>\n",
       "      <td>564820</td>\n",
       "    </tr>\n",
       "    <tr>\n",
       "      <th>2</th>\n",
       "      <td>0x68b3465833fb72A70ecDF485E0e4C7bD8665Fc45</td>\n",
       "      <td>467017</td>\n",
       "    </tr>\n",
       "    <tr>\n",
       "      <th>3</th>\n",
       "      <td>0xA0b86991c6218b36c1d19D4a2e9Eb0cE3606eB48</td>\n",
       "      <td>273982</td>\n",
       "    </tr>\n",
       "    <tr>\n",
       "      <th>4</th>\n",
       "      <td>0x7a250d5630B4cF539739dF2C5dAcb4c659F2488D</td>\n",
       "      <td>224322</td>\n",
       "    </tr>\n",
       "    <tr>\n",
       "      <th>...</th>\n",
       "      <td>...</td>\n",
       "      <td>...</td>\n",
       "    </tr>\n",
       "    <tr>\n",
       "      <th>110490</th>\n",
       "      <td>0x96c75BfA74C82145a5646e5fB8cd70Cd1740ff2B</td>\n",
       "      <td>1</td>\n",
       "    </tr>\n",
       "    <tr>\n",
       "      <th>110491</th>\n",
       "      <td>0x8708E21b6470249be6AeC5059C3C51199ED6FE57</td>\n",
       "      <td>1</td>\n",
       "    </tr>\n",
       "    <tr>\n",
       "      <th>110492</th>\n",
       "      <td>0xb62435dd31d27277a5A736657c288242969ba504</td>\n",
       "      <td>1</td>\n",
       "    </tr>\n",
       "    <tr>\n",
       "      <th>110493</th>\n",
       "      <td>0xdB56c0D8198cd459604EcdE065596923A03e075a</td>\n",
       "      <td>1</td>\n",
       "    </tr>\n",
       "    <tr>\n",
       "      <th>110494</th>\n",
       "      <td>0x0c2D4A36e12570214e0cC73799E2e52Dde5F1041</td>\n",
       "      <td>1</td>\n",
       "    </tr>\n",
       "  </tbody>\n",
       "</table>\n",
       "<p>110495 rows × 2 columns</p>\n",
       "</div>"
      ],
      "text/plain": [
       "                                          contract  transactions\n",
       "0       0xdAC17F958D2ee523a2206206994597C13D831ec7       1042798\n",
       "1       0x00000000006c3852cbEf3e08E8dF289169EdE581        564820\n",
       "2       0x68b3465833fb72A70ecDF485E0e4C7bD8665Fc45        467017\n",
       "3       0xA0b86991c6218b36c1d19D4a2e9Eb0cE3606eB48        273982\n",
       "4       0x7a250d5630B4cF539739dF2C5dAcb4c659F2488D        224322\n",
       "...                                            ...           ...\n",
       "110490  0x96c75BfA74C82145a5646e5fB8cd70Cd1740ff2B             1\n",
       "110491  0x8708E21b6470249be6AeC5059C3C51199ED6FE57             1\n",
       "110492  0xb62435dd31d27277a5A736657c288242969ba504             1\n",
       "110493  0xdB56c0D8198cd459604EcdE065596923A03e075a             1\n",
       "110494  0x0c2D4A36e12570214e0cC73799E2e52Dde5F1041             1\n",
       "\n",
       "[110495 rows x 2 columns]"
      ]
     },
     "execution_count": 18,
     "metadata": {},
     "output_type": "execute_result"
    }
   ],
   "source": [
    "contracts_df = pd.DataFrame(data[data['is_contract_transaction']]['to'].value_counts())\n",
    "contracts_df = contracts_df.reset_index().rename({'index': 'contract', 'to': 'transactions'}, axis=1)\n",
    "contracts_df"
   ]
  },
  {
   "cell_type": "code",
   "execution_count": 19,
   "id": "34821600-7098-4c33-8366-5a936dfc98d1",
   "metadata": {},
   "outputs": [
    {
     "data": {
      "text/plain": [
       "0.014646019239680504"
      ]
     },
     "execution_count": 19,
     "metadata": {},
     "output_type": "execute_result"
    }
   ],
   "source": [
    "sum(contracts_df['transactions'].values[30000:]) / contracts_df['transactions'].sum()"
   ]
  },
  {
   "cell_type": "code",
   "execution_count": 20,
   "id": "d1d98025-db4c-4293-a1e8-2cdaaf0f735c",
   "metadata": {},
   "outputs": [
    {
     "data": {
      "text/plain": [
       "1799238"
      ]
     },
     "execution_count": 20,
     "metadata": {},
     "output_type": "execute_result"
    }
   ],
   "source": [
    "contracts_df[contracts_df['transactions'] < 1000]['transactions'].sum()"
   ]
  },
  {
   "cell_type": "code",
   "execution_count": 23,
   "id": "a5b26ea1-5d3e-4b93-bd3f-b2e54424847a",
   "metadata": {},
   "outputs": [],
   "source": [
    "contracts_df.to_csv('contracts_221220_221231.csv', index=False)"
   ]
  },
  {
   "cell_type": "code",
   "execution_count": 24,
   "id": "fc1b6170-9c2a-43a0-bda8-c9d1bf05afd7",
   "metadata": {},
   "outputs": [],
   "source": [
    "contracts_df = pd.read_csv('contracts_221220_221231.csv')"
   ]
  },
  {
   "cell_type": "markdown",
   "id": "9caac364-6314-4140-a104-bc92f9bd33ba",
   "metadata": {},
   "source": [
    "## Загрузим ABI (получаем отдельным скриптом - gather_contracts_abi.py)"
   ]
  },
  {
   "cell_type": "code",
   "execution_count": 142,
   "id": "f448187c-1d18-434a-b396-78391f2670ce",
   "metadata": {},
   "outputs": [],
   "source": [
    "with open('contracts_abi.pickle', 'rb') as f:\n",
    "    contract_abi = pickle.load(f)"
   ]
  },
  {
   "cell_type": "code",
   "execution_count": 143,
   "id": "c0a61474-d573-4444-88b8-3149ea457e3a",
   "metadata": {
    "tags": []
   },
   "outputs": [
    {
     "data": {
      "text/plain": [
       "5734"
      ]
     },
     "execution_count": 143,
     "metadata": {},
     "output_type": "execute_result"
    }
   ],
   "source": [
    "len(contract_abi)"
   ]
  },
  {
   "cell_type": "code",
   "execution_count": 144,
   "id": "cb616acd-0d6d-4c53-b502-a174a382d85e",
   "metadata": {},
   "outputs": [],
   "source": [
    "import re\n",
    "\n",
    "types_to_skip = [\n",
    "                 # 'bytes', 'bytes[]', 'bytes2', 'bytes2[]', 'bytes32', 'bytes32[]', 'bytes32[][]',\n",
    "                 # 'int64', 'int128',\n",
    "                 # 'int64[]', 'int128[]',\n",
    "                 # 'uint8', 'uint16', 'uint24', 'uint32', 'uint40', 'uint48', 'uint64',\n",
    "                 # 'uint96', 'uint120', 'uint128', 'uint224', 'uint256',\n",
    "                 # 'uint8[]', 'uint16[]', 'uint24[]', 'uint32[]', 'uint40[]', 'uint48[]', 'uint64[]',\n",
    "                 # 'uint96[]', 'uint120[]', 'uint128[]', 'uint224[]', 'uint256[]',\n",
    "                 'bool', 'bool[]',\n",
    "                 'string', 'string[]']\n",
    "\n",
    "tuple_array_1 = re.compile('tuple\\[[\\d]*\\]$')\n",
    "tuple_array_2 = re.compile('tuple\\[[\\d]*\\]\\[[\\d]*\\]$')\n",
    "address_array_1 = re.compile('address\\[[\\d]*\\]$')\n",
    "\n",
    "def get_addresses_from_tuple(arg, param):\n",
    "    # print('Parsing tuple')\n",
    "    # print(f'LEN arg {len(arg[\"components\"])}')\n",
    "    # for i, c in enumerate(arg['components']):\n",
    "    #     print(f'Component {i}: {c}')\n",
    "    # print(f'LEN param {len(param)}')\n",
    "    # for i, c in enumerate(param):\n",
    "    #     print(f'Param {i}: {c}')\n",
    "    # print('\\n')\n",
    "    # # Разбираем компоненты\n",
    "    addresses = []\n",
    "    for i in range(len(arg['components'])):\n",
    "        # print(f'PARSING COMPONENT {i}')\n",
    "        # print('component:')\n",
    "        component = arg['components'][i]\n",
    "        # print(component)\n",
    "        # print('param:')\n",
    "        comp_arg = param[i]\n",
    "        # print(comp_arg)\n",
    "        if component['type'] == 'address':\n",
    "            addresses.append(comp_arg)\n",
    "        # elif component['type'] == 'address[]':\n",
    "        elif address_array_1.match(component['type']):\n",
    "            addresses.extend(comp_arg)\n",
    "        elif component['type'] == 'tuple':\n",
    "            comp_addresses = get_addresses_from_tuple(component, comp_arg)\n",
    "            addresses.extend(comp_addresses)\n",
    "        # elif component['type'] == 'tuple[]':\n",
    "        elif tuple_array_1.match(component['type']):\n",
    "            # print(f'get_addresses_from_tuple - tuple_array_1: {comp_arg}')\n",
    "            for comp_arg_v in comp_arg:\n",
    "                comp_addresses = get_addresses_from_tuple(component, comp_arg_v)\n",
    "                addresses.extend(comp_addresses)\n",
    "        # elif component['type'] == 'tuple[][]':\n",
    "        elif tuple_array_2.match(component['type']):\n",
    "            # print(f'get_addresses_from_tuple - tuple_array_2: {comp_arg}')\n",
    "            for comp_arg_v in comp_arg:\n",
    "                for comp_arg_vv in comp_arg_v:\n",
    "                    comp_addresses = get_addresses_from_tuple(component, comp_arg_vv)\n",
    "                    addresses.extend(comp_addresses)\n",
    "        elif component['type'] in types_to_skip:\n",
    "            pass\n",
    "        elif 'int' in component['type']:\n",
    "            pass\n",
    "        elif 'bytes' in component['type']:\n",
    "            pass\n",
    "        elif 'bool' in component['type']:\n",
    "            pass\n",
    "        elif 'string' in component['type']:\n",
    "            pass\n",
    "        else:\n",
    "            # print(f'New type: {component[\"type\"]}')\n",
    "            raise Exception(f'get_addresses_from_tuple - {component[\"type\"]}')\n",
    "        \n",
    "    return addresses\n",
    "\n",
    "def get_addresses_from_param(arg, param):\n",
    "    if arg['type'] == 'address':\n",
    "        return [func_params[arg['name']]]\n",
    "    # if arg['type'] == 'address[]':\n",
    "    elif address_array_1.match(arg['type']):\n",
    "        return func_params[arg['name']]\n",
    "    elif arg['type'] in 'tuple':\n",
    "        return get_addresses_from_tuple(arg, param)\n",
    "    # elif arg['type'] in 'tuple[]':\n",
    "    elif tuple_array_1.match(arg['type']): \n",
    "        # print(f'get_addresses_from_param - tuple_array_1: {param} - {arg[\"type\"]}')\n",
    "        addresses = []\n",
    "        for param_v in param:\n",
    "            addresses.extend(get_addresses_from_tuple(arg, param_v))\n",
    "        return addresses\n",
    "    # elif arg['type'] in 'tuple[][]':\n",
    "    elif tuple_array_2.match(arg['type']):\n",
    "        # print(f'get_addresses_from_param - tuple_array_2: {param}')\n",
    "        addresses = []\n",
    "        for param_v in param:\n",
    "            for param_vv in param_v:\n",
    "                addresses.extend(get_addresses_from_tuple(arg, param_vv))\n",
    "        return addresses\n",
    "    elif arg['type'] in types_to_skip:\n",
    "        return []\n",
    "    elif 'int' in arg['type']:\n",
    "        return []\n",
    "    elif 'bytes' in arg['type']:\n",
    "        return []\n",
    "    elif 'bool' in arg['type']:\n",
    "        return []\n",
    "    elif 'string' in arg['type']:\n",
    "        return []\n",
    "    # print(f'New type: {arg[\"type\"]}')\n",
    "    raise Exception(arg[\"type\"])\n",
    "    return []\n",
    "\n",
    "def get_used_addresses(func_obj, func_params):\n",
    "    addresses = []\n",
    "    for arg in func_obj.abi['inputs']:\n",
    "        arg_addresses = get_addresses_from_param(arg, func_params[arg['name']])\n",
    "        addresses.extend(arg_addresses)        \n",
    "    return addresses"
   ]
  },
  {
   "cell_type": "code",
   "execution_count": 145,
   "id": "d4dee9de-8a8f-4953-8de2-020ac59778e2",
   "metadata": {
    "scrolled": true,
    "tags": []
   },
   "outputs": [
    {
     "name": "stderr",
     "output_type": "stream",
     "text": [
      "58675it [02:11, 684.94it/s]"
     ]
    },
    {
     "name": "stdout",
     "output_type": "stream",
     "text": [
      "Error during decoding input data - contract 0x00000000006c3852cbEf3e08E8dF289169EdE581 - tx - 0x85737eb11a6ee942c616b2797a05d1814be4005b81a12216f81a399da8893da3 - Tried to read 32 bytes.  Only got 31 bytes\n"
     ]
    },
    {
     "name": "stderr",
     "output_type": "stream",
     "text": [
      "239023it [06:56, 872.47it/s] "
     ]
    },
    {
     "name": "stdout",
     "output_type": "stream",
     "text": [
      "Error during decoding input data - contract 0x0311D3e4a472a21d18cF5491224258b61147D34c - tx - 0xa8a5ecffcbfc6b6c7578637d6eb964b75245a7d4c080e8f0f93e62b8667b0255 - Tried to read 96 bytes.  Only got 63 bytes\n"
     ]
    },
    {
     "name": "stderr",
     "output_type": "stream",
     "text": [
      "240596it [06:59, 749.32it/s]"
     ]
    },
    {
     "name": "stdout",
     "output_type": "stream",
     "text": [
      "Error during decoding input data - contract 0x0311D3e4a472a21d18cF5491224258b61147D34c - tx - 0x54ac01972cc72c8ad23918dfdbbfa86a79d85b9b694869345226600568f51406 - Tried to read 96 bytes.  Only got 63 bytes\n"
     ]
    },
    {
     "name": "stderr",
     "output_type": "stream",
     "text": [
      "350673it [09:41, 670.30it/s] "
     ]
    },
    {
     "name": "stdout",
     "output_type": "stream",
     "text": [
      "Error during decoding input data - contract 0xD37BbE5744D730a1d98d8DC97c42F0Ca46aD7146 - tx - 0xb9dfd7ce9b79ef58a490ba2434e42bf7ecc26e460d624375cb95ddd7b8a7cae9 - Tried to read 128 bytes.  Only got 109 bytes\n"
     ]
    },
    {
     "name": "stderr",
     "output_type": "stream",
     "text": [
      "1723932it [46:40, 746.58it/s] "
     ]
    },
    {
     "name": "stdout",
     "output_type": "stream",
     "text": [
      "Error during decoding input data - contract 0x617Dee16B86534a5d792A4d7A62FB491B544111E - tx - 0x913d6ef4ea959ed83e8ffe62b36dfe840e24047884b289c29f7be75513377ed0 - Tried to read 512 bytes.  Only got 255 bytes\n"
     ]
    },
    {
     "name": "stderr",
     "output_type": "stream",
     "text": [
      "1724310it [46:40, 679.72it/s]"
     ]
    },
    {
     "name": "stdout",
     "output_type": "stream",
     "text": [
      "Error during decoding input data - contract 0x617Dee16B86534a5d792A4d7A62FB491B544111E - tx - 0xdda45030bff38193dbf6ef07903282e8663c57c04f744bd5a462866161d88d40 - Tried to read 512 bytes.  Only got 255 bytes\n"
     ]
    },
    {
     "name": "stderr",
     "output_type": "stream",
     "text": [
      "1725465it [46:42, 783.06it/s]"
     ]
    },
    {
     "name": "stdout",
     "output_type": "stream",
     "text": [
      "Error during decoding input data - contract 0x617Dee16B86534a5d792A4d7A62FB491B544111E - tx - 0x13e00affa5b758f42b50e26f0b4dcd0d5fff6525cca68fb9ce0e13aa34ff46f8 - Tried to read 512 bytes.  Only got 255 bytes\n"
     ]
    },
    {
     "name": "stderr",
     "output_type": "stream",
     "text": [
      "2217823it [1:00:15, 679.05it/s] "
     ]
    },
    {
     "name": "stdout",
     "output_type": "stream",
     "text": [
      "Error during decoding input data - contract 0xD37BbE5744D730a1d98d8DC97c42F0Ca46aD7146 - tx - 0xe3b72406bdcd679f660556acb607a1e58124d7c91961f3e1fac0968390798429 - Tried to read 128 bytes.  Only got 109 bytes\n"
     ]
    },
    {
     "name": "stderr",
     "output_type": "stream",
     "text": [
      "3046093it [1:21:35, 462.58it/s] "
     ]
    },
    {
     "name": "stdout",
     "output_type": "stream",
     "text": [
      "Error during decoding input data - contract 0xc64efC58fb656f389F0F7C25C92B7ecF8D02D740 - tx - 0xfc2b03a89bd28bf4722bfc0b258d3c68ef8e54eaf7f2bffc22120fa5b40d6363 - Tried to read 32 bytes.  Only got 0 bytes\n",
      "Error during decoding input data - contract 0xc64efC58fb656f389F0F7C25C92B7ecF8D02D740 - tx - 0x210dc0c5cecfb81530b5ca4aff6529846165df6eb3e0aff825a0f5d171a9b149 - Tried to read 32 bytes.  Only got 0 bytes\n",
      "Error during decoding input data - contract 0xc64efC58fb656f389F0F7C25C92B7ecF8D02D740 - tx - 0x9860c66735624098384322e3a62b404b4a54ad4b758235630b526d181038d6c2 - Tried to read 32 bytes.  Only got 0 bytes\n",
      "Error during decoding input data - contract 0xc64efC58fb656f389F0F7C25C92B7ecF8D02D740 - tx - 0xbe25bed78b3ac423d954af35fbdd294404d56da52f7c77194ab984eef8ac1cb9 - Tried to read 32 bytes.  Only got 0 bytes\n",
      "Error during decoding input data - contract 0xc64efC58fb656f389F0F7C25C92B7ecF8D02D740 - tx - 0xee474068ae496852d1ee05de77d1966a2a94c9bf64c91eeba9affe9d915a9c00 - Tried to read 32 bytes.  Only got 0 bytes\n",
      "Error during decoding input data - contract 0xc64efC58fb656f389F0F7C25C92B7ecF8D02D740 - tx - 0x29ed421833eb1ad2ad50e24de462af4d7af1fa6f84d9440010b4a0db551f0029 - Tried to read 32 bytes.  Only got 0 bytes\n",
      "Error during decoding input data - contract 0xc64efC58fb656f389F0F7C25C92B7ecF8D02D740 - tx - 0x9301db0d23b28a14c747822aeb0244cc785963a1ce4dfd3e818c20c987ce9ec3 - Tried to read 32 bytes.  Only got 0 bytes\n",
      "Error during decoding input data - contract 0xc64efC58fb656f389F0F7C25C92B7ecF8D02D740 - tx - 0xda8580a48417d612252241ef7685cc9e9e0c8a333f01c5c15905e1e68674fe2e - Tried to read 32 bytes.  Only got 0 bytes\n",
      "Error during decoding input data - contract 0xc64efC58fb656f389F0F7C25C92B7ecF8D02D740 - tx - 0x9aa7a278a458b14c3af1ac49a454117f4b2f18afd5a64829e01f1a03b853ce92 - Tried to read 32 bytes.  Only got 0 bytes\n",
      "Error during decoding input data - contract 0xc64efC58fb656f389F0F7C25C92B7ecF8D02D740 - tx - 0xbe36c683b7214adee6b6a58e25a765e6fcffbc4acbda665cbe6c93232afacf49 - Tried to read 32 bytes.  Only got 0 bytes\n",
      "Error during decoding input data - contract 0xc64efC58fb656f389F0F7C25C92B7ecF8D02D740 - tx - 0x7307c9ad948c7ba5bdd74a0443b60ac8597f81a6dd176147333459ef83bc6e5c - Tried to read 32 bytes.  Only got 0 bytes\n"
     ]
    },
    {
     "name": "stderr",
     "output_type": "stream",
     "text": [
      "3046144it [1:21:36, 394.61it/s]"
     ]
    },
    {
     "name": "stdout",
     "output_type": "stream",
     "text": [
      "Error during decoding input data - contract 0xc64efC58fb656f389F0F7C25C92B7ecF8D02D740 - tx - 0x8a1294c1d8b82c99507126743d5f014a39b6ede8470e94b7a60962a862b21c2e - Tried to read 32 bytes.  Only got 0 bytes\n",
      "Error during decoding input data - contract 0xc64efC58fb656f389F0F7C25C92B7ecF8D02D740 - tx - 0xf055eb6282cdd5da092a3dfe6ecd2ca9a9bbff1f120ab2833abbd5e8a8591e87 - Tried to read 32 bytes.  Only got 0 bytes\n",
      "Error during decoding input data - contract 0xc64efC58fb656f389F0F7C25C92B7ecF8D02D740 - tx - 0xeff64eaf2d22498bec9ef8d598e8c81fecc05eca0d7fad74b36960f7c4daf51f - Tried to read 32 bytes.  Only got 0 bytes\n",
      "Error during decoding input data - contract 0xc64efC58fb656f389F0F7C25C92B7ecF8D02D740 - tx - 0x612a633c5efd780617ddafc11a4e7313b4409b73269ee85afe2ae20a3a0ec15d - Tried to read 32 bytes.  Only got 0 bytes\n",
      "Error during decoding input data - contract 0xc64efC58fb656f389F0F7C25C92B7ecF8D02D740 - tx - 0x86e160da3d268f6b6ca3ce005a08fe8b509efb331e695110515f19d8a1e5ed94 - Tried to read 32 bytes.  Only got 0 bytes\n",
      "Error during decoding input data - contract 0xc64efC58fb656f389F0F7C25C92B7ecF8D02D740 - tx - 0xc8d011e5e721c6b298ece056e337c93a43c36374b93691d46e76ba0d6acdba54 - Tried to read 32 bytes.  Only got 0 bytes\n",
      "Error during decoding input data - contract 0xc64efC58fb656f389F0F7C25C92B7ecF8D02D740 - tx - 0xbe2acb2ad93e68abedcf996f34fb608a17709a4dfef6ed82b697f3d7645d8955 - Tried to read 32 bytes.  Only got 0 bytes\n",
      "Error during decoding input data - contract 0xc64efC58fb656f389F0F7C25C92B7ecF8D02D740 - tx - 0x63c8c02ba846640ebdff8f3ddf9a421b03a1089ae3bad70d4190c1c1a786e711 - Tried to read 32 bytes.  Only got 0 bytes\n",
      "Error during decoding input data - contract 0xc64efC58fb656f389F0F7C25C92B7ecF8D02D740 - tx - 0x582c6271556153ffa784158c7987c8b8af21797728ee178357f33c932dd5b603 - Tried to read 32 bytes.  Only got 0 bytes\n",
      "Error during decoding input data - contract 0xc64efC58fb656f389F0F7C25C92B7ecF8D02D740 - tx - 0x8cf49ef360974f59bfcfde63acd8d235f96219bd91851454a6bf1a8d374e9014 - Tried to read 32 bytes.  Only got 0 bytes\n",
      "Error during decoding input data - contract 0xc64efC58fb656f389F0F7C25C92B7ecF8D02D740 - tx - 0x896a1de5ee420068bbe4b63c4a0c59fb9160e2dc6ded5a196c5e3e3f8599e374 - Tried to read 32 bytes.  Only got 0 bytes\n",
      "Error during decoding input data - contract 0xc64efC58fb656f389F0F7C25C92B7ecF8D02D740 - tx - 0x7992570e984ebc3c8d56b93ce5a5b20b94970409e2ff469e1a7896c536e1424c - Tried to read 32 bytes.  Only got 0 bytes\n"
     ]
    },
    {
     "name": "stderr",
     "output_type": "stream",
     "text": [
      "3046227it [1:21:36, 329.39it/s]"
     ]
    },
    {
     "name": "stdout",
     "output_type": "stream",
     "text": [
      "Error during decoding input data - contract 0xc64efC58fb656f389F0F7C25C92B7ecF8D02D740 - tx - 0xa605c9c94549d01ed2121df3cb15566ac0fae45f234351598cc01f7f095b7d0e - Tried to read 32 bytes.  Only got 0 bytes\n",
      "Error during decoding input data - contract 0xc64efC58fb656f389F0F7C25C92B7ecF8D02D740 - tx - 0xd095ade3f690b289d74fd863b9dcefe4a2e618ee85b5b579ab46b45c68acde2d - Tried to read 32 bytes.  Only got 0 bytes\n",
      "Error during decoding input data - contract 0xc64efC58fb656f389F0F7C25C92B7ecF8D02D740 - tx - 0x537e81fa882614404f3d696604f013ff9f6db9bd3a58ab5e96347cda7a91d243 - Tried to read 32 bytes.  Only got 0 bytes\n",
      "Error during decoding input data - contract 0xc64efC58fb656f389F0F7C25C92B7ecF8D02D740 - tx - 0x5335cd052fc99fbce0fc6b63df9a23ac6007dbbe8b35b86f4ce9fc5c58696485 - Tried to read 32 bytes.  Only got 0 bytes\n",
      "Error during decoding input data - contract 0xc64efC58fb656f389F0F7C25C92B7ecF8D02D740 - tx - 0xdfcc427abc8c5d2419131e8be60f56dcd7eb1c72f00c86d61fb2a765bdc3f30f - Tried to read 32 bytes.  Only got 0 bytes\n",
      "Error during decoding input data - contract 0xc64efC58fb656f389F0F7C25C92B7ecF8D02D740 - tx - 0x2ac2ea85937d23d330816880c218989de7b1202cfd9240e99b85064002f32102 - Tried to read 32 bytes.  Only got 0 bytes\n",
      "Error during decoding input data - contract 0xc64efC58fb656f389F0F7C25C92B7ecF8D02D740 - tx - 0x2d904d285850ab62f68e9d9b3ed80f6c63da0bbe18b6520b7845421eb2dab09c - Tried to read 32 bytes.  Only got 0 bytes\n",
      "Error during decoding input data - contract 0xc64efC58fb656f389F0F7C25C92B7ecF8D02D740 - tx - 0xa148978cb67ecaea17d30af6564e459893ff64c9ab5f38056a7aed7ed821b890 - Tried to read 32 bytes.  Only got 0 bytes\n",
      "Error during decoding input data - contract 0xc64efC58fb656f389F0F7C25C92B7ecF8D02D740 - tx - 0x109ba119e6707acb1170825364aedc6d78e5d0e1f7e5292ecf01f03acc3115d7 - Tried to read 32 bytes.  Only got 0 bytes\n"
     ]
    },
    {
     "name": "stderr",
     "output_type": "stream",
     "text": [
      "3046262it [1:21:36, 312.12it/s]"
     ]
    },
    {
     "name": "stdout",
     "output_type": "stream",
     "text": [
      "Error during decoding input data - contract 0xc64efC58fb656f389F0F7C25C92B7ecF8D02D740 - tx - 0xe4395641f8c6280bd2e18d5a188f53e260dd789ece48156a45e277c5b6e41c1b - Tried to read 32 bytes.  Only got 0 bytes\n",
      "Error during decoding input data - contract 0xc64efC58fb656f389F0F7C25C92B7ecF8D02D740 - tx - 0xec15eb52046e490a7380da3bbb9eb1f4d94383532cba7769f861d82f21dab739 - Tried to read 32 bytes.  Only got 0 bytes\n",
      "Error during decoding input data - contract 0xc64efC58fb656f389F0F7C25C92B7ecF8D02D740 - tx - 0xf05f86df39200c73fdb1d8db4b559a0b846525e975d47129644568547aeabe3b - Tried to read 32 bytes.  Only got 0 bytes\n",
      "Error during decoding input data - contract 0xc64efC58fb656f389F0F7C25C92B7ecF8D02D740 - tx - 0x90057d6d44dcdf3a5ea47fec1459acbb37f8e70809baf7820a77d9fa5fc2cfee - Tried to read 32 bytes.  Only got 0 bytes\n"
     ]
    },
    {
     "name": "stderr",
     "output_type": "stream",
     "text": [
      "3143319it [1:24:13, 779.75it/s]"
     ]
    },
    {
     "name": "stdout",
     "output_type": "stream",
     "text": [
      "Error during decoding input data - contract 0x617Dee16B86534a5d792A4d7A62FB491B544111E - tx - 0xcac73c83c34f5bba1e323fe556a1930ed85e93d958015b8bfe021e5e3a0ea6e2 - Tried to read 512 bytes.  Only got 447 bytes\n"
     ]
    },
    {
     "name": "stderr",
     "output_type": "stream",
     "text": [
      "3693882it [1:38:07, 563.09it/s] "
     ]
    },
    {
     "name": "stdout",
     "output_type": "stream",
     "text": [
      "Error during decoding input data - contract 0x98A2AdbC454e5050c657311F9Cd04db443b1746e - tx - 0xee4c8d465af7db8186d50fdd33c268a5a0291b52376088a39c54d7f5e86e754c - Tried to read 32 bytes.  Only got 27 bytes\n"
     ]
    },
    {
     "name": "stderr",
     "output_type": "stream",
     "text": [
      "3694805it [1:38:09, 465.98it/s]"
     ]
    },
    {
     "name": "stdout",
     "output_type": "stream",
     "text": [
      "Error during decoding input data - contract 0x98A2AdbC454e5050c657311F9Cd04db443b1746e - tx - 0xe8e29d3865a9b7478f27b8f7ce2594c1fe41df2d5e30a00d019dbfa71cf2e52e - Tried to read 32 bytes.  Only got 27 bytes\n"
     ]
    },
    {
     "name": "stderr",
     "output_type": "stream",
     "text": [
      "4539995it [2:00:15, 1178.17it/s]"
     ]
    },
    {
     "name": "stdout",
     "output_type": "stream",
     "text": [
      "Error during decoding input data - contract 0x00000000006c3852cbEf3e08E8dF289169EdE581 - tx - 0x38857cc94f10963ce92aa234cacdec8d7d3f21fd7378ccce6ff9a25af3e36e2b - Tried to read 32 bytes.  Only got 31 bytes\n"
     ]
    },
    {
     "name": "stderr",
     "output_type": "stream",
     "text": [
      "4839748it [2:08:16, 404.68it/s] "
     ]
    },
    {
     "name": "stdout",
     "output_type": "stream",
     "text": [
      "Error during decoding input data - contract 0x10A25256DAd13a5979Ecb9E26F5b8aa874D6A604 - tx - 0xa585b6dc40aaf937bb192b8777a0821e07ae7b1b58e36eaa67badf9f83d25582 - Tried to read 32 bytes.  Only got 27 bytes\n",
      "Error during decoding input data - contract 0x10A25256DAd13a5979Ecb9E26F5b8aa874D6A604 - tx - 0x7124a7310131d2f015bb33382dfb295eaf900469e25482d6be01064ca0b6ffcc - Tried to read 32 bytes.  Only got 27 bytes\n",
      "Error during decoding input data - contract 0x10A25256DAd13a5979Ecb9E26F5b8aa874D6A604 - tx - 0x9885f1af9599a1e5729c537368e6bb0df4926db6feb16d15fffc94d19ab74f40 - Tried to read 32 bytes.  Only got 27 bytes\n",
      "Error during decoding input data - contract 0x10A25256DAd13a5979Ecb9E26F5b8aa874D6A604 - tx - 0xc27a5f128bf4eca54f4dbc9e8f91df5c8ff3e44d697e2c6936f7027d09180dda - Tried to read 32 bytes.  Only got 27 bytes\n",
      "Error during decoding input data - contract 0x10A25256DAd13a5979Ecb9E26F5b8aa874D6A604 - tx - 0x278804b38e16a7646c26a25a4bca419ed6d551d392d23b900dc52b4bd571e6ff - Tried to read 32 bytes.  Only got 27 bytes\n"
     ]
    },
    {
     "name": "stderr",
     "output_type": "stream",
     "text": [
      "4840211it [2:08:17, 484.47it/s]"
     ]
    },
    {
     "name": "stdout",
     "output_type": "stream",
     "text": [
      "Error during decoding input data - contract 0x10A25256DAd13a5979Ecb9E26F5b8aa874D6A604 - tx - 0x00203f2d1c462b6a886303d4f57277495b7221ec0bb1708557158391f5c73e88 - Tried to read 32 bytes.  Only got 27 bytes\n",
      "Error during decoding input data - contract 0x10A25256DAd13a5979Ecb9E26F5b8aa874D6A604 - tx - 0xfcf0ce38536a962183e33383549c22f1d531b055010b4c08be199756aaf2c40d - Tried to read 32 bytes.  Only got 27 bytes\n",
      "Error during decoding input data - contract 0x10A25256DAd13a5979Ecb9E26F5b8aa874D6A604 - tx - 0x7140955c25a13ce96a8011d063e2212e644e787f94f092b2f922901c73bd0ad3 - Tried to read 32 bytes.  Only got 27 bytes\n",
      "Error during decoding input data - contract 0x10A25256DAd13a5979Ecb9E26F5b8aa874D6A604 - tx - 0xd628a45649de6264b73c36ede6afe4bb5a11c583e548e7968e69982c5808896e - Tried to read 32 bytes.  Only got 27 bytes\n",
      "Error during decoding input data - contract 0x10A25256DAd13a5979Ecb9E26F5b8aa874D6A604 - tx - 0x02b282b8ed5735bfbd4c5329c946fdb466b48707aedf5c875471423c3dd1f4cd - Tried to read 32 bytes.  Only got 27 bytes\n",
      "Error during decoding input data - contract 0x10A25256DAd13a5979Ecb9E26F5b8aa874D6A604 - tx - 0x049d4a47acb7fc443392c07cd96e51a26590c713a26dd69693ed8dfd992d3049 - Tried to read 32 bytes.  Only got 27 bytes\n",
      "Error during decoding input data - contract 0x10A25256DAd13a5979Ecb9E26F5b8aa874D6A604 - tx - 0xecba062396a464702e82e81bdd3671f7c6a70549aba0567fea350dbe2f059432 - Tried to read 32 bytes.  Only got 27 bytes\n",
      "Error during decoding input data - contract 0x10A25256DAd13a5979Ecb9E26F5b8aa874D6A604 - tx - 0xaeb95ae74a229405360f1164fb66228d3410b007ef11147e7ce03c86696eff8d - Tried to read 32 bytes.  Only got 27 bytes\n",
      "Error during decoding input data - contract 0x10A25256DAd13a5979Ecb9E26F5b8aa874D6A604 - tx - 0x0ba07df50c511eb57881845f47bdf9f8e4a36b78a98391e8fbca41a60f480c2a - Tried to read 32 bytes.  Only got 27 bytes\n",
      "Error during decoding input data - contract 0x10A25256DAd13a5979Ecb9E26F5b8aa874D6A604 - tx - 0x1f90f11e2e1d1561e552cdedf10b763e4d01e48c3965b3d826b6fe317d2b5647 - Tried to read 32 bytes.  Only got 27 bytes\n"
     ]
    },
    {
     "name": "stderr",
     "output_type": "stream",
     "text": [
      "4840409it [2:08:17, 456.75it/s]"
     ]
    },
    {
     "name": "stdout",
     "output_type": "stream",
     "text": [
      "Error during decoding input data - contract 0x10A25256DAd13a5979Ecb9E26F5b8aa874D6A604 - tx - 0x4e83ea77a2629827d145bade437f2d2582566e5e291cd7c6973873c6952db410 - Tried to read 32 bytes.  Only got 27 bytes\n",
      "Error during decoding input data - contract 0x10A25256DAd13a5979Ecb9E26F5b8aa874D6A604 - tx - 0x0573d6e37a286d952120e6c9ee5da4aafa02b1ae8d3323cfe9353dd1b21db600 - Tried to read 32 bytes.  Only got 27 bytes\n",
      "Error during decoding input data - contract 0x10A25256DAd13a5979Ecb9E26F5b8aa874D6A604 - tx - 0xc4932d80cdde6096661a310331ab0f78eb2b3b47670d06a7e0a79af21807a772 - Tried to read 32 bytes.  Only got 27 bytes\n",
      "Error during decoding input data - contract 0x10A25256DAd13a5979Ecb9E26F5b8aa874D6A604 - tx - 0xbc697fc039690dff27603269cd4e5e7c04966e2fa650d62d9f334db7dfbf47dd - Tried to read 32 bytes.  Only got 27 bytes\n",
      "Error during decoding input data - contract 0x10A25256DAd13a5979Ecb9E26F5b8aa874D6A604 - tx - 0x5190ea3d137c17a1a8b815a317b0fa44019ce52980d5dbd2368e4e1293b6df7a - Tried to read 32 bytes.  Only got 27 bytes\n",
      "Error during decoding input data - contract 0x10A25256DAd13a5979Ecb9E26F5b8aa874D6A604 - tx - 0x980b7af0d5ab30ff6e5a1a9aab6984c19faa5d58c2bfe6545f36bf24888df9e7 - Tried to read 32 bytes.  Only got 27 bytes\n",
      "Error during decoding input data - contract 0x10A25256DAd13a5979Ecb9E26F5b8aa874D6A604 - tx - 0xa4265ef621453b2888e724500ee531d0180684e8200797785b848e681b6be06e - Tried to read 32 bytes.  Only got 27 bytes\n",
      "Error during decoding input data - contract 0x10A25256DAd13a5979Ecb9E26F5b8aa874D6A604 - tx - 0x5dd96a51d89302b313d0c4d5083239fd756798f399b9b6d60984846220acdc95 - Tried to read 32 bytes.  Only got 27 bytes\n",
      "Error during decoding input data - contract 0x10A25256DAd13a5979Ecb9E26F5b8aa874D6A604 - tx - 0x9899adac6dabfcde76360db91cbe68dc56429c48326567ef428c308c1bfdff94 - Tried to read 32 bytes.  Only got 27 bytes\n",
      "Error during decoding input data - contract 0x10A25256DAd13a5979Ecb9E26F5b8aa874D6A604 - tx - 0x9c17bb130f1b2e408813b96813269ef24d42fa7249b3f58656f38f188a33efad - Tried to read 32 bytes.  Only got 27 bytes\n",
      "Error during decoding input data - contract 0x10A25256DAd13a5979Ecb9E26F5b8aa874D6A604 - tx - 0x2769fd1334f8d0394d0aa774bccb8c00a7bfa71f7e7c3a4d2974c73e287160a3 - Tried to read 32 bytes.  Only got 27 bytes\n",
      "Error during decoding input data - contract 0x10A25256DAd13a5979Ecb9E26F5b8aa874D6A604 - tx - 0xa417e072fa93af085cefcbf84966f5677112e5bea8ae42b621b709cac18a2f68 - Tried to read 32 bytes.  Only got 27 bytes\n",
      "Error during decoding input data - contract 0x10A25256DAd13a5979Ecb9E26F5b8aa874D6A604 - tx - 0x177a8ba7bad08082cabe96c753e45d82fbfd043848222887ca4852cb08a9afcb - Tried to read 32 bytes.  Only got 27 bytes\n",
      "Error during decoding input data - contract 0x10A25256DAd13a5979Ecb9E26F5b8aa874D6A604 - tx - 0x77abfa9f9bdd0c466f1a50238429ee892a67e553e61e0888dc88c930b2135824 - Tried to read 32 bytes.  Only got 27 bytes\n",
      "Error during decoding input data - contract 0x10A25256DAd13a5979Ecb9E26F5b8aa874D6A604 - tx - 0x50205939d25e4f0b4a54b02c21923eb8f52667a499a2c211ac567a5e5ffbe7de - Tried to read 32 bytes.  Only got 27 bytes\n",
      "Error during decoding input data - contract 0x10A25256DAd13a5979Ecb9E26F5b8aa874D6A604 - tx - 0xd8c83606106c32a43e7dd096b89365a0cd971827ac46ef15395b5dbe49138fe1 - Tried to read 32 bytes.  Only got 27 bytes\n",
      "Error during decoding input data - contract 0x10A25256DAd13a5979Ecb9E26F5b8aa874D6A604 - tx - 0xd2c9353de4ebf43c1b7b49969bf4ed703e9b175e6cdba8e8b2af93c2249833e4 - Tried to read 32 bytes.  Only got 27 bytes\n",
      "Error during decoding input data - contract 0x10A25256DAd13a5979Ecb9E26F5b8aa874D6A604 - tx - 0x7c84e79667e8762b3f95dd7e54196a86d6615b5aa128945ae351f7e02b87c4ab - Tried to read 32 bytes.  Only got 27 bytes\n",
      "Error during decoding input data - contract 0x10A25256DAd13a5979Ecb9E26F5b8aa874D6A604 - tx - 0x36c5fccc5c4116b54c9e23d8176e5247b3490d5dc3757a62a979c171b5c8ad8f - Tried to read 32 bytes.  Only got 27 bytes\n"
     ]
    },
    {
     "name": "stderr",
     "output_type": "stream",
     "text": [
      "4907994it [2:09:58, 536.13it/s] "
     ]
    },
    {
     "name": "stdout",
     "output_type": "stream",
     "text": [
      "Error during decoding input data - contract 0x57E239F94D3C0c36035c8612036fe0ACaBd4D4ef - tx - 0x3336bd44ec92e340afd4db85ad286b16d958ab5a9a6c79e6df7c73eca3e33a8f - Tried to read 32 bytes.  Only got 0 bytes\n",
      "Error during decoding input data - contract 0x57E239F94D3C0c36035c8612036fe0ACaBd4D4ef - tx - 0xce7fd3afa125f6e6d8f39d80f6d4f30ad4e2b576609b67a8333f055e0f8f3671 - Tried to read 32 bytes.  Only got 0 bytes\n",
      "Error during decoding input data - contract 0x57E239F94D3C0c36035c8612036fe0ACaBd4D4ef - tx - 0x1ba7b33db9330e4a8d121b261dc62e7e5cf6fc3c8205df250c4b19ad2bcd730f - Tried to read 32 bytes.  Only got 0 bytes\n",
      "Error during decoding input data - contract 0x57E239F94D3C0c36035c8612036fe0ACaBd4D4ef - tx - 0xacd4678c95ebdc0d14ed1b3f0132068404c032e2e112c3ca302d1507e646ea17 - Tried to read 32 bytes.  Only got 0 bytes\n",
      "Error during decoding input data - contract 0x57E239F94D3C0c36035c8612036fe0ACaBd4D4ef - tx - 0x62b78118fbb2527fba888a13d92d25beb07962bd2a2307f6d28309fa89c4a4b7 - Tried to read 32 bytes.  Only got 0 bytes\n",
      "Error during decoding input data - contract 0x57E239F94D3C0c36035c8612036fe0ACaBd4D4ef - tx - 0xb75fa8209d0060eb99272d09e3ff45ffaab95f80ffac06696d2dde38d7aad021 - Tried to read 32 bytes.  Only got 0 bytes\n",
      "Error during decoding input data - contract 0x57E239F94D3C0c36035c8612036fe0ACaBd4D4ef - tx - 0x55c1460b89acfb0d6f2e7a17c3dab099f98205a7835ec5f13a72e2dd028e7984 - Tried to read 32 bytes.  Only got 0 bytes\n",
      "Error during decoding input data - contract 0x57E239F94D3C0c36035c8612036fe0ACaBd4D4ef - tx - 0x72371ed9f41d70c32b9b4955e1df213a280f796c03828264686b8caf43aed21f - Tried to read 32 bytes.  Only got 0 bytes\n"
     ]
    },
    {
     "name": "stderr",
     "output_type": "stream",
     "text": [
      "4915080it [2:10:12, 688.69it/s]"
     ]
    },
    {
     "name": "stdout",
     "output_type": "stream",
     "text": [
      "Error during decoding input data - contract 0xb01DCeE31Da4f7CDD656DF5DfA112795aCC09CFA - tx - 0x0f7474da6347be80867c523ca56bd283564159fff95fbd944982d3be79680046 - Padding bytes were not empty: b'\\x00\\x00\\x00\\x00\\x00\\x00\\x00\\x00\\x00\\x00\\x00\\x00\\x10=\\x05~\\x8bB\\x9du\\x065p\\x0e\\xe8\\xb3\\xaf\\xf4d\\x9f\\xc0'\n",
      "Error during decoding input data - contract 0xb01DCeE31Da4f7CDD656DF5DfA112795aCC09CFA - tx - 0x2ac0350e9f6cdd4c25ec12d9d5e64c1a1266bf05ec75c6ace77d2bd022ea72ff - Padding bytes were not empty: b'\\x00\\x00\\x00\\x00\\x00\\x00\\x00\\x00\\x00\\x00\\x00\\x00\\xa3\\\\\\x11Q+\\x1f\\xda\\xdfEOKM\\xe5\\xe85G\\x0f\"z'\n",
      "Error during decoding input data - contract 0xb01DCeE31Da4f7CDD656DF5DfA112795aCC09CFA - tx - 0xe3f059bfc1cf49e32217f53aaf287fb4a64b2a7fa0577d32cee241aa3e2e21ba - Padding bytes were not empty: b'\\x00\\x00\\x00\\x00\\x00\\x00\\x00\\x00\\x00\\x00\\x00\\x00\\xa1\\x83\\xe1g|DX\\xfb\\xfc\\xc62\\xd0\\x81#\\xda\\x1f\\x95\\x8e\\xfe'\n",
      "Error during decoding input data - contract 0xb01DCeE31Da4f7CDD656DF5DfA112795aCC09CFA - tx - 0x48e15a9d9516445c0f86ca73a112037c8353ae18df7eda2d4b0a6d622a4383ec - Padding bytes were not empty: b\"\\x00\\x00\\x00\\x00\\x00\\x00\\x00\\x00\\x00\\x00\\x00\\x00\\xc6P\\xa7\\x0c\\x82\\xe4\\xadY\\x87\\xf7T'6\\x0cK\\tj\\xc6\\x0b\"\n",
      "Error during decoding input data - contract 0xb01DCeE31Da4f7CDD656DF5DfA112795aCC09CFA - tx - 0x1caa1359b0ed917a3ee0c645b665d029fc47aacc2a10976f11dda96963966b91 - Padding bytes were not empty: b'\\x00\\x00\\x00\\x00\\x00\\x00\\x00\\x00\\x00\\x00\\x00\\x00D\\xd4\\xc0\\xb8\\xff=\\x91\\xe0x\\xb1\\xf0o\\xbc\\xd8,P\\xef|\\x9f'\n"
     ]
    },
    {
     "name": "stderr",
     "output_type": "stream",
     "text": [
      "5147868it [2:15:24, 581.14it/s] "
     ]
    },
    {
     "name": "stdout",
     "output_type": "stream",
     "text": [
      "Error during decoding input data - contract 0xD37BbE5744D730a1d98d8DC97c42F0Ca46aD7146 - tx - 0xc866f8c1951a89e562ca7ed4ec7dded61af4b7abf6599f0e531c82f7e951e38e - Tried to read 96 bytes.  Only got 67 bytes\n"
     ]
    },
    {
     "name": "stderr",
     "output_type": "stream",
     "text": [
      "5522717it [2:24:14, 581.27it/s] "
     ]
    },
    {
     "name": "stdout",
     "output_type": "stream",
     "text": [
      "Error during decoding input data - contract 0x68c29Be85ecBBd536239259dd466a57f11e86Ed4 - tx - 0x84bdc65a0ab05052bb8d94abb9ea31b572ea42bc22becf43a0f6d15438f11e46 - Padding bytes were not empty: b'\\x00\\x00\\x00\\x00\\x00\\x00\\x00\\x00\\x00\\x00\\x00\\x00\\xa3\\\\\\x11Q+\\x1f\\xda\\xdfEOKM\\xe5\\xe85G\\x0f\"z'\n",
      "Error during decoding input data - contract 0x68c29Be85ecBBd536239259dd466a57f11e86Ed4 - tx - 0xe0008e3ca8deeea8081394d43e19e99376c99c42f4c0e630e1acd97a510d55fa - Padding bytes were not empty: b'\\x00\\x00\\x00\\x00\\x00\\x00\\x00\\x00\\x00\\x00\\x00\\x00D\\xd4\\xc0\\xb8\\xff=\\x91\\xe0x\\xb1\\xf0o\\xbc\\xd8,P\\xef|\\x9f'\n",
      "Error during decoding input data - contract 0x68c29Be85ecBBd536239259dd466a57f11e86Ed4 - tx - 0x2e2ab509d1bd7846134964ba33018bd304278a2ac1b34fd75d59b0184542a548 - Padding bytes were not empty: b'\\x00\\x00\\x00\\x00\\x00\\x00\\x00\\x00\\x00\\x00\\x00\\x00\\x10=\\x05~\\x8bB\\x9du\\x065p\\x0e\\xe8\\xb3\\xaf\\xf4d\\x9f\\xc0'\n",
      "Error during decoding input data - contract 0x68c29Be85ecBBd536239259dd466a57f11e86Ed4 - tx - 0xfcda3b53f789a61a9118cb4037f0da389d1e306868eef2e0a4b18cae92c8a0f3 - Padding bytes were not empty: b'\\x00\\x00\\x00\\x00\\x00\\x00\\x00\\x00\\x00\\x00\\x00\\x00\\xa1\\x83\\xe1g|DX\\xfb\\xfc\\xc62\\xd0\\x81#\\xda\\x1f\\x95\\x8e\\xfe'\n",
      "Error during decoding input data - contract 0x68c29Be85ecBBd536239259dd466a57f11e86Ed4 - tx - 0x02a37f6d4c55086c549df88d8a8da2bc17db745ac9be78df4ae516147fe26da8 - Padding bytes were not empty: b\"\\x00\\x00\\x00\\x00\\x00\\x00\\x00\\x00\\x00\\x00\\x00\\x00\\xc6P\\xa7\\x0c\\x82\\xe4\\xadY\\x87\\xf7T'6\\x0cK\\tj\\xc6\\x0b\"\n"
     ]
    },
    {
     "name": "stderr",
     "output_type": "stream",
     "text": [
      "6258306it [2:42:37, 876.11it/s] "
     ]
    },
    {
     "name": "stdout",
     "output_type": "stream",
     "text": [
      "Error during decoding input data - contract 0x00000000006c3852cbEf3e08E8dF289169EdE581 - tx - 0xcf07a620e2906f259638da8553759d16683ba93bc20ac8a87ca7e962cc2be31e - Tried to read 32 bytes.  Only got 31 bytes\n"
     ]
    },
    {
     "name": "stderr",
     "output_type": "stream",
     "text": [
      "6764070it [2:56:09, 609.89it/s] "
     ]
    },
    {
     "name": "stdout",
     "output_type": "stream",
     "text": [
      "Error during decoding input data - contract 0x00000000006c3852cbEf3e08E8dF289169EdE581 - tx - 0x476a7e9f9672d67eca6d764edcd0dd1fbc91f747fabafa3f0e379c2dc4847c12 - Tried to read 96 bytes.  Only got 95 bytes\n"
     ]
    },
    {
     "name": "stderr",
     "output_type": "stream",
     "text": [
      "6834021it [2:58:04, 723.87it/s]"
     ]
    },
    {
     "name": "stdout",
     "output_type": "stream",
     "text": [
      "Error during decoding input data - contract 0xD37BbE5744D730a1d98d8DC97c42F0Ca46aD7146 - tx - 0xab39d112aee68e333340b88b92a8f5546b1079fcaa5c4eae22112173abccfa70 - Tried to read 128 bytes.  Only got 110 bytes\n"
     ]
    },
    {
     "name": "stderr",
     "output_type": "stream",
     "text": [
      "6862108it [2:58:49, 700.54it/s]"
     ]
    },
    {
     "name": "stdout",
     "output_type": "stream",
     "text": [
      "Error during decoding input data - contract 0xD37BbE5744D730a1d98d8DC97c42F0Ca46aD7146 - tx - 0xc8f61fd045c5300a1d6b6b4a7ddd3acd01d0f31fa5980a771dd38e72d33d2a61 - Tried to read 96 bytes.  Only got 67 bytes\n"
     ]
    },
    {
     "name": "stderr",
     "output_type": "stream",
     "text": [
      "6863590it [2:58:52, 393.62it/s]"
     ]
    },
    {
     "name": "stdout",
     "output_type": "stream",
     "text": [
      "Error during decoding input data - contract 0xD37BbE5744D730a1d98d8DC97c42F0Ca46aD7146 - tx - 0xd446192dd25782f8e76870c42e4a2799ec07d9e7ffb8f6bca7f58361c55e1de4 - Tried to read 128 bytes.  Only got 109 bytes\n"
     ]
    },
    {
     "name": "stderr",
     "output_type": "stream",
     "text": [
      "6863631it [2:58:53, 389.80it/s]"
     ]
    },
    {
     "name": "stdout",
     "output_type": "stream",
     "text": [
      "Error during decoding input data - contract 0x49729243900113D14aaCbC35239Ed4Ad40a73f7A - tx - 0x7af0d40f4f2ec0f39fd5fc820b212198eb0d78b73714a0872e1ff956a4379f78 - Tried to read 32 bytes.  Only got 0 bytes\n"
     ]
    },
    {
     "name": "stderr",
     "output_type": "stream",
     "text": [
      "7381206it [3:12:53, 600.90it/s] "
     ]
    },
    {
     "name": "stdout",
     "output_type": "stream",
     "text": [
      "Error during decoding input data - contract 0x744d70FDBE2Ba4CF95131626614a1763DF805B9E - tx - 0x4ef18d981b9c4722213d2a573ba1c0fab0be790d4f77388a8dd9b3a425495690 - Tried to read 160 bytes.  Only got 136 bytes\n"
     ]
    },
    {
     "name": "stderr",
     "output_type": "stream",
     "text": [
      "8868771it [3:52:45, 695.74it/s] "
     ]
    },
    {
     "name": "stdout",
     "output_type": "stream",
     "text": [
      "Error during decoding input data - contract 0x6D7c44773C52D396F43c2D511B81aa168E9a7a42 - tx - 0x3a4dab71ddcd6d3bb0879cf805cf102d8ad4d109fa6146aff494033a976ec5b4 - Boolean must be either 0x0 or 0x1.  Got: b'\\x02'\n"
     ]
    },
    {
     "name": "stderr",
     "output_type": "stream",
     "text": [
      "8915043it [3:53:53, 740.27it/s] "
     ]
    },
    {
     "name": "stdout",
     "output_type": "stream",
     "text": [
      "Error during decoding input data - contract 0xD37BbE5744D730a1d98d8DC97c42F0Ca46aD7146 - tx - 0x92ca2ab9b054e049829cb04e586b6fb80c718b92cc268683b162b53596b27bc0 - Tried to read 96 bytes.  Only got 66 bytes\n"
     ]
    },
    {
     "name": "stderr",
     "output_type": "stream",
     "text": [
      "10746528it [4:42:10, 353.80it/s] "
     ]
    },
    {
     "name": "stdout",
     "output_type": "stream",
     "text": [
      "Error during decoding input data - contract 0x2AaC69Dc29b3870B6Ae42A18514DFa1133B958eC - tx - 0x6c0c05a6b065fe3f47853bea3ff453544fd472b015b3707e128b1f7219630fef - Tried to read 32 bytes.  Only got 0 bytes\n",
      "Error during decoding input data - contract 0x2AaC69Dc29b3870B6Ae42A18514DFa1133B958eC - tx - 0xd4fb28ae9dfa452ca8a5a5435e3d2262e659b7c7d3398ccfc3e808260ea334d9 - Tried to read 32 bytes.  Only got 0 bytes\n",
      "Error during decoding input data - contract 0x2AaC69Dc29b3870B6Ae42A18514DFa1133B958eC - tx - 0xc0cfeb526539e1e678477f7c1cca651f59d36fbee641776ffbb6cccb881d7cee - Tried to read 32 bytes.  Only got 0 bytes\n",
      "Error during decoding input data - contract 0x2AaC69Dc29b3870B6Ae42A18514DFa1133B958eC - tx - 0xd40b8de5c718973870deb8e370ee7175c46054cf01999119187cfc181e59cf65 - Tried to read 32 bytes.  Only got 0 bytes\n"
     ]
    },
    {
     "name": "stderr",
     "output_type": "stream",
     "text": [
      "10831047it [4:44:27, 758.26it/s] "
     ]
    },
    {
     "name": "stdout",
     "output_type": "stream",
     "text": [
      "Error during decoding input data - contract 0x00000000006c3852cbEf3e08E8dF289169EdE581 - tx - 0xedb09155057faf812de37b95f362d1c327b89479332cf3beb81022e5acf0900b - Tried to read 32 bytes.  Only got 31 bytes\n"
     ]
    },
    {
     "name": "stderr",
     "output_type": "stream",
     "text": [
      "10854254it [4:45:02, 557.61it/s] "
     ]
    },
    {
     "name": "stdout",
     "output_type": "stream",
     "text": [
      "Error during decoding input data - contract 0xdAC17F958D2ee523a2206206994597C13D831ec7 - tx - 0x7172ce425504cc70bd8dfd368aac95e21348bb8440888d7675c70927aa04501c - Tried to read 32 bytes.  Only got 0 bytes\n"
     ]
    },
    {
     "name": "stderr",
     "output_type": "stream",
     "text": [
      "11527423it [5:01:55, 636.34it/s] \n"
     ]
    }
   ],
   "source": [
    "transaction_used_addresses = {}\n",
    "contracts = {}\n",
    "decode_errors = []\n",
    "n_no_contract = 0\n",
    "n_json_decoder_error = 0\n",
    "n_source_not_verified = 0\n",
    "not_contract_transaction = 0\n",
    "num_errors = 0\n",
    "\n",
    "for i, row in tqdm.tqdm(data.iterrows()):\n",
    "    if row['is_contract_transaction'] is False:\n",
    "        not_contract_transaction += 1\n",
    "        continue\n",
    "    contract_address = row['to']\n",
    "    if contract_address not in contracts:\n",
    "        abi = contract_abi.get(contract_address, '')\n",
    "        if abi == '':\n",
    "            # print(f'Unknown contract - {contract_address}')\n",
    "            n_no_contract += 1\n",
    "            continue\n",
    "        elif abi == 'JSONDecodeError':\n",
    "            # print(f'Contract with JSONDecodeError - {contract_address}')\n",
    "            n_json_decoder_error += 1\n",
    "            continue\n",
    "        elif abi == 'Contract source code not verified':\n",
    "            # print(f'Contract source code not verified - {contract_address}')\n",
    "            n_source_not_verified += 1\n",
    "            continue\n",
    "\n",
    "        contract = w3.eth.contract(address=contract_address, abi=abi)\n",
    "        contracts[contract_address] = contract\n",
    "    else:\n",
    "        contract = contracts[contract_address]\n",
    "        \n",
    "    tx = w3.eth.get_transaction(row['tx_hash'])\n",
    "    try:\n",
    "        func_obj, func_params = contract.decode_function_input(tx[\"input\"])\n",
    "    except ValueError:\n",
    "        # print(f'Error during decoding input data - contract {contract_address} - tx - {row[\"tx_hash\"]}')\n",
    "        decode_errors.append((contract_address, row[\"tx_hash\"]))\n",
    "        continue\n",
    "    except Exception as e:\n",
    "        print(f'Error during decoding input data - contract {contract_address} - tx - {row[\"tx_hash\"]} - {e}')\n",
    "        num_errors += 1\n",
    "        continue\n",
    "    if func_obj.abi['type'] != 'function':\n",
    "        print(f'Unknown type: {func_obj.abi[\"type\"]} - {tx_hash}')\n",
    "    try:\n",
    "        used_addresses = get_used_addresses(func_obj, func_params)\n",
    "    except Exception as e:\n",
    "        print(f'{contract_address} - {row[\"tx_hash\"]} - {e}')\n",
    "        num_errors += 1\n",
    "        continue\n",
    "    transaction_used_addresses[row['tx_hash']] = set(used_addresses)"
   ]
  },
  {
   "cell_type": "code",
   "execution_count": 141,
   "id": "b4be1cfc-3fb2-4345-8e0d-e19846601a35",
   "metadata": {},
   "outputs": [
    {
     "name": "stdout",
     "output_type": "stream",
     "text": [
      "transaction completely proccessed 3739303 (50.09%)\n",
      "not a contract transaction: 2069551 (27.72%)\n",
      "no contract 371941 (4.98%)\n",
      "n_json_decoder_error 0 (0.00%)\n",
      "n_source_not_verified 477566 (6.40%)\n",
      "ABI decode error: 807230 (10.81%)\n",
      "Other errors: 108 (0.00%)\n",
      "Total 7465699\n"
     ]
    }
   ],
   "source": [
    "total = (len(transaction_used_addresses) + n_no_contract + n_json_decoder_error\n",
    "         + n_source_not_verified + len(decode_errors) + not_contract_transaction + num_errors)\n",
    "\n",
    "print(f'transaction completely proccessed {len(transaction_used_addresses)} ({len(transaction_used_addresses) / total * 100:0.2f}%)')\n",
    "print(f'not a contract transaction: {not_contract_transaction} ({not_contract_transaction / total * 100:0.2f}%)')\n",
    "print(f'no contract {n_no_contract} ({n_no_contract / total * 100:0.2f}%)')\n",
    "print(f'n_json_decoder_error {n_json_decoder_error} ({n_json_decoder_error / total * 100:0.2f}%)')\n",
    "print(f'n_source_not_verified {n_source_not_verified} ({n_source_not_verified / total * 100:0.2f}%)')\n",
    "print(f'ABI decode error: {len(decode_errors)} ({len(decode_errors) / total * 100:0.2f}%)')\n",
    "print(f'Other errors: {num_errors} ({num_errors / total * 100:0.2f}%)')\n",
    "\n",
    "print(f'Total {total}')"
   ]
  },
  {
   "cell_type": "code",
   "execution_count": 146,
   "id": "cc1dec86-274c-472c-a3c2-f8a3fba734bc",
   "metadata": {},
   "outputs": [
    {
     "name": "stdout",
     "output_type": "stream",
     "text": [
      "transaction completely proccessed 5828686 (50.56%)\n",
      "not a contract transaction: 3169384 (27.49%)\n",
      "no contract 561328 (4.87%)\n",
      "n_json_decoder_error 0 (0.00%)\n",
      "n_source_not_verified 746822 (6.48%)\n",
      "ABI decode error: 1221042 (10.59%)\n",
      "Other errors: 116 (0.00%)\n",
      "Total 11527378\n"
     ]
    }
   ],
   "source": [
    "total = (len(transaction_used_addresses) + n_no_contract + n_json_decoder_error\n",
    "         + n_source_not_verified + len(decode_errors) + not_contract_transaction + num_errors)\n",
    "\n",
    "print(f'transaction completely proccessed {len(transaction_used_addresses)} ({len(transaction_used_addresses) / total * 100:0.2f}%)')\n",
    "print(f'not a contract transaction: {not_contract_transaction} ({not_contract_transaction / total * 100:0.2f}%)')\n",
    "print(f'no contract {n_no_contract} ({n_no_contract / total * 100:0.2f}%)')\n",
    "print(f'n_json_decoder_error {n_json_decoder_error} ({n_json_decoder_error / total * 100:0.2f}%)')\n",
    "print(f'n_source_not_verified {n_source_not_verified} ({n_source_not_verified / total * 100:0.2f}%)')\n",
    "print(f'ABI decode error: {len(decode_errors)} ({len(decode_errors) / total * 100:0.2f}%)')\n",
    "print(f'Other errors: {num_errors} ({num_errors / total * 100:0.2f}%)')\n",
    "\n",
    "print(f'Total {total}')"
   ]
  },
  {
   "cell_type": "code",
   "execution_count": 147,
   "id": "62ebd986-bdaa-4d61-a895-5b5030679248",
   "metadata": {},
   "outputs": [],
   "source": [
    "with open('transaction_adresses.pickle', 'wb') as f:\n",
    "    pickle.dump(transaction_used_addresses, f)"
   ]
  },
  {
   "cell_type": "code",
   "execution_count": null,
   "id": "2a8502db-c721-40cc-95aa-add9b25979a7",
   "metadata": {},
   "outputs": [],
   "source": [
    "# DEBUG\n",
    "\n",
    "# contract_address = '0x00000000006c3852cbEf3e08E8dF289169EdE581'\n",
    "# abi = contract_abi.get(contract_address, '')\n",
    "# if abi == '':\n",
    "#     print(f'Unknown contract - {contract_address}')\n",
    "\n",
    "# elif abi == 'JSONDecodeError':\n",
    "#     print(f'Contract with JSONDecodeError - {contract_address}')\n",
    "# elif abi == 'Contract source code not verified':\n",
    "#     print(f'Contract source code not verified - {contract_address}')\n",
    "\n",
    "# contract = w3.eth.contract(address=contract_address, abi=abi)\n",
    "\n",
    "# transactions = data[data['to'] == contract_address]['tx_hash'].values\n",
    "# print(f'Contract {contract_address} - {len(transactions)} transactions')\n",
    "# for tx_hash in tqdm.tqdm(transactions):\n",
    "#     tx = w3.eth.get_transaction(tx_hash)\n",
    "#     func_obj, func_params = contract.decode_function_input(tx[\"input\"])\n",
    "#     if func_obj.abi['type'] != 'function':\n",
    "#         print(f'Unknown type: {func_obj.abi[\"type\"]} - {tx_hash}')\n",
    "#     used_addresses = get_used_addresses(func_obj, func_params)\n",
    "#     print(used_addresses)"
   ]
  },
  {
   "cell_type": "markdown",
   "id": "d503c7cb-8e18-4ffd-8da9-ae855168e19e",
   "metadata": {},
   "source": [
    "# Пробуем получать ABI из байткода"
   ]
  },
  {
   "cell_type": "code",
   "execution_count": null,
   "id": "965ca1e5-5db8-48bc-ba8c-cc28b36ee33f",
   "metadata": {},
   "outputs": [],
   "source": []
  },
  {
   "cell_type": "code",
   "execution_count": null,
   "id": "dec8b7f9-1ec6-470b-87dc-a2ac3421570c",
   "metadata": {},
   "outputs": [],
   "source": []
  }
 ],
 "metadata": {
  "kernelspec": {
   "display_name": "Python 3 (ipykernel)",
   "language": "python",
   "name": "python3"
  },
  "language_info": {
   "codemirror_mode": {
    "name": "ipython",
    "version": 3
   },
   "file_extension": ".py",
   "mimetype": "text/x-python",
   "name": "python",
   "nbconvert_exporter": "python",
   "pygments_lexer": "ipython3",
   "version": "3.10.9"
  }
 },
 "nbformat": 4,
 "nbformat_minor": 5
}
