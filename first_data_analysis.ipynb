{
 "cells": [
  {
   "cell_type": "code",
   "execution_count": 2,
   "id": "bb317417-1181-4de8-97fc-54ed0d0f7828",
   "metadata": {},
   "outputs": [],
   "source": [
    "import json"
   ]
  },
  {
   "cell_type": "code",
   "execution_count": 3,
   "id": "dc63ac7e-d926-4349-868a-1b2b4f159a2d",
   "metadata": {},
   "outputs": [],
   "source": [
    "with open('result.json', 'r') as f:\n",
    "    data = json.load(f)"
   ]
  },
  {
   "cell_type": "code",
   "execution_count": 7,
   "id": "69d827a4-968d-434a-97f1-0015a4a298e3",
   "metadata": {},
   "outputs": [
    {
     "data": {
      "text/plain": [
       "'0x2063a55f96005a6a7aa989780967c5fda93cce665f1db2373e033ab450b72f24'"
      ]
     },
     "execution_count": 7,
     "metadata": {},
     "output_type": "execute_result"
    }
   ],
   "source": [
    "list(data.keys())[0]"
   ]
  },
  {
   "cell_type": "code",
   "execution_count": 10,
   "id": "8820a5e5-39af-4df5-a82f-dab906f0fb4e",
   "metadata": {},
   "outputs": [
    {
     "name": "stdout",
     "output_type": "stream",
     "text": [
      "0x4309e01a9ee9aae49fdfc251fe3d892254ae79d06b3d73201aec575309125461\n",
      "0x4b6358a15cdc6fea42bc153083d051cc104fa128dff4b2188a8bf11523f9929b\n",
      "0x6e22eff94727220aff868cbe752a4cfe619479aa8dc8cdc491de6c789dbe9300\n",
      "0xf71dfdd463c0ddfa23eeac5dfd1c00fb4fc1b73cb58006390835659b7c7b83b5\n",
      "0x53d6a7a89f56d5f9b3e97ff6b1f4198b286ef0085aac0affff30f4ad42353cc1\n",
      "0x33c5519621a7aa9b28f99389ee4801ee3e69b83d45873de40dc3b039842167f8\n",
      "0xd3d0c7f5199fdd77e80d41e00f9182be6fe24da3bd59dac67c07712ec1c17d46\n",
      "0x75531762150683ced14a3f505bb5528546d94b178049f98c8462113028c1515c\n",
      "0x08645efdc64ee607075ea7a0747fc6e07dc7d6d9f3cb82e53d9a96292e5e925e\n",
      "0x6a3fd789c19972f609ef604ec4bf4bcac3710e0a71afd6864352992abe6ad022\n",
      "0xb2270ff9cf993d1a8ac387bfd18b4248e4c35293f63756ea30d2d097e09ce586\n",
      "0xec75e73efdb7d68986f6d39f46b18071293f4e9990760300f21ff37d7fd846a8\n",
      "0x4504e49205f43bee21b63be511e98d211439ec8be98fca6bf6c9572b889470d9\n",
      "0xdd33e75e356399c32d0b216d6117846e129c72766474627eacc70b4527bb13c9\n",
      "0x797d6a40afa7fb2bf8fd83e7c7f97db67baf3168220dca403678314b4e197b3e\n",
      "0x8f738ed410e58603c864db26a02e79c8934a12443f611fbf310476ed6691c83f\n",
      "0xd9ae89374782a40d311239ecc8509d654bcdc730398746f0c1ad7e28bc3f9a82\n",
      "0x3bd5593a1f7579ce2bffc87f003f36459d27b1aca0a3e7a03249bbbbd7cba8c3\n",
      "0xdfc0a53f7039bb6eadf4ae6be1f9cc59c5df8ac7d845c57e86886dd5a74e88bb\n",
      "0x48c1b6166ba368dee1e8f2373cff33cad6c205dc14e404bd34749e4fde6a5f74\n",
      "0xbace933bbe44c9640150e3527ac688713a22b5691efd9bb0c99cd501ffc00ae3\n",
      "0xb8c82e66f366e191b596477e9e63c0d72d19e29d8d4b539626362589caf64f1d\n",
      "0xb2834c7d00020d5c6376b7e4c2d5a5d123ddd348491165e7912bf6c60348c0be\n",
      "0x2d89c5ad481d2f59d2563d41e7f94e1162078d37938a03293f8358715b26340a\n",
      "0x7854461dd026d451fbfdfaae5e6299ed41d7514cc6a02ebbcd336b613d3f2c78\n",
      "0x8e5b6be555395b7fc2fd06d7ada4c6e54442d23219ccf7e5381ec563df2dfdf7\n",
      "0xd70092847fc599f64fd0c28e8791b560f8e12c87aca5b2df9c3bf6b3096ddb4b\n",
      "0x124ea87e924e5c681b8edb6bb6ccd5b6e0c198e03a020fb41fe66439ced20d65\n",
      "0x25e54a5909e4ddd0e4b2022f8aefe89099dbd021f220e8d51c41a09e1e9104da\n",
      "0xac8f971060ef8cd178418c42c0143e75b9222f333d7a17e554ec37efee020f73\n",
      "0xd5c31aabfa42e630708ac757c25e2cee21b0166b922ba7af253e063665f2993f\n",
      "0x36a9da0359ee7f621273c7850716de03a24c8add1b05d912aba53edf4730576b\n",
      "0xbd87ee9afa1b528a0cfe3db250cb06c7d6ce17ec8784574132c791a557133d5d\n",
      "0x1f059972764377acb891fa50c3750e3e2abca58b8df6f331f9894ceae3a3133b\n",
      "0x143af25caba30d2c99de09ad8f40ad470e5e71ea833d867b0c27d3920d31a3af\n",
      "0xe3d3ce39e90550a12906da5a21121efb36c3a8578b027d879e4e2c2f00b73699\n",
      "0xeb8f604151f44aed971126beff7a4cf0936858efe0923481fbcfdee1755c6307\n",
      "0x6657fe34241cc1f28b12b1393a8f93a57a68025c8014bc2a8ada29f207621e28\n",
      "0x05e3c03ade550f7b7853793e2ffa17f43dfae481768367b1e59259b8ead16cce\n",
      "0x28e651bf05b7a5f5392d563244892bca9994b9b159fc790b6a57e249180d0e16\n",
      "0xe60635ba42b7b8922277adaf827b10d16c18474d9ff59724215b96f1641fa65c\n",
      "0x1fd09218dac231c2fe5479cc8ad0f30d550359107b46cefe2ba1ddb223a5c3a1\n",
      "0x22f6f97a8b20662f5bf81cd74a4b10f1730adb9b11ebaf9197d8cad293883e60\n",
      "0x2f8e6a53bdac266f6879c5e183468ad5abdd6b664a8d5fe3dd6dcb378e1dae3b\n",
      "0x8d7c0cdaffa0188325ec1343e6d0d3c1ea87640ad450346e4ede94b5f989b177\n",
      "0x0b8c3eb5c4325df4341e38ba4550d047676f68ec73318f134492ffeb639b2603\n",
      "0xcc8042843b1ebe178baf8ed3f17f619dece113950596463b23a44a35c18c0f56\n",
      "0xc2da8df0a7e28dc7d301fcf761d1e8bf057d2d4b7782c33d94962be91a873445\n",
      "0xca8c216d284fa8fc259f6405ff20bb2cb684314ab249be959d2330ac85c6092d\n",
      "0xfc6708a216c89b815dd40478513b4d081a9a9f9557f6a5493c91a722e6e4cae9\n",
      "0x8d4069f00ac37d03b8a133344819118fa7872eb741738c3d040380b957c61c98\n",
      "0x79dd2c9d2d1e2077e38585331bd1c5e61d24331c53ef3694778a2a04744368df\n",
      "0x077a9f2ec89600ff509ed03180de32d6ff86f5690fa05f5900c4aae63bdecc4a\n",
      "0x99d48fedfb625fc8f0e37ee791c856d8ec331eae35438403cdf193b3cdc6913b\n",
      "0x03f9b90830069cd4b7baa001c7d40295d61e24e6213d2d014177bea02304bd5d\n",
      "0xad0aa4793934c969f8817f1945dd6412a48d2d587ea0ba446417376a376c98f4\n",
      "0xab7f8ee55829e5d94b3844e66e805cf59ca2e18929d640807bb717d23ba8a062\n",
      "0x0f98c8edcee400e8509b22bf0535db72e8c15137cce77f45faa5f6f50fe366c2\n",
      "0xd810380fb0e1feb8098ba23411b0b2cfdc4b1f4843cdd5b5054387c8a8aa67b9\n",
      "0xd01084e6ac8c57ab632af5093ecf826bbf95d357cae75b583000455aa00f7234\n",
      "0x4c28ddb0f01093e0b258f93b43bed4f90eb28b387a91995b2aa5508357681184\n",
      "0xcdf15f1378d199188a99c17dc723b5f790034c58fb985ce7794901bc592f7054\n",
      "0x107cef3a0ea9280b4ca7ff4d1cc672980fb6bf3a6743850cf245b5ef8b9ad1a3\n",
      "0x406ead2666a9b28f6a70bb62781d3ea8494b583189271f950871413bfacd236d\n",
      "0x6479250ef4f9e88855ed2eefccf75988b2d20c4e5e619f3493a873c5561925c3\n",
      "0xb6ed5535d01c69e153d9a20279ea3c74dea9e7ae56d1dbdf751fa7106fe952ab\n",
      "0x4bf21503657a4ebf78ba9f4014ade69c1a53cf6c11222635f88191bda2d94353\n",
      "0xf9a487c4af7138ee2c861a5adeed519afd8128a39200b766c98fb7e919665d62\n",
      "0xa2af34a77a368f824c413c7b6f2514e73f475b265852db17c1d3edc9c4604efa\n",
      "0x6374d20c70a7ba7641a54578d8bc89eb2396a02aeee719abeb6b3464e5d8d067\n",
      "0x7b93c756986f4b59a3f6496aee7db06338061ef3906d81b1755686da9d31b955\n",
      "0x03d96a440e0ea8058922108168e221827dee57a376192839d008a151e242a4df\n",
      "0xfcaaab4e193978eb05c9b46cdc19b95fc4b8762df35e8c02b70627ebaf526045\n",
      "0x8259044270b350fd0735aca939b7fd4eccb6478acfb934c5b62d732485bd8a3c\n",
      "0x93b14dea9716ac5fc462adca42bf46f6bacec651466c287d9c1e9c265eebf843\n",
      "0xb8275563d08cb564029e2b7b9ea9c58732f7ec16e726369169d2a18bc5529bea\n",
      "0x7be0ceb324008ca7a9fe215fd532bea07f6a680ca04aba4d15414aa244659afa\n",
      "0x83cd0cf82e61dc62caf64811eb1b5cb4552953624f105ae956a74221146c622d\n",
      "0x8b9c364fc9e126fa37df1603eca8444be7df0267c929e1844eef28b44bca89de\n",
      "0xc40c2dff34e7dc8b11e0afd38aac22f17164d4d033ef41b6c6f38e3f8812ae61\n",
      "0xdff25e025f2ffda83aaccebec928a5c364b7cea1a720e3ab32093f22be7fadc1\n",
      "0xe13e49c86d9278252eb44d5a01b5d92ef503ce4fb4f9a69f3b8a0380b8aad4c2\n",
      "0x09bd4670a5f2d269576afb649b4fe465a2f41ed690418b7e0e3ac822352e6819\n",
      "0x9fbdf07c5df64145de53b76c078b0cd5a5c970eafdf70221ea705188164b3b62\n",
      "0x95cd94154b5b8d46be4cf68ee59b4d8563a0bd8e67a7f7fcd0cb5f93cf760f32\n",
      "0x721d52803e7ac91fec90290b340298d487486f4fb387f48a7a80cbab666ec8d4\n",
      "0x86f02d263c82dd5c82fb46919cc46eb562381ab7c1042b01e9a02ba548a28ca5\n",
      "0x5e86ac72919a455cc0088cd4b70aea32401d6a899dda4c041338294f07875c3b\n",
      "0xa9bead32b0a3f6955dba776ae8c9c54b5a14887bf96a15ca193e2d768fcc96f2\n",
      "0xbc2b128a76cd5a465d1a31c1eaea25937c214d375f067afcb2e3df311f2d8378\n",
      "0xf32cf2da8cdfc43eedb3c060a5409a3636492608342fdbb68322eb938869e790\n",
      "0x09d0b23d4db72e0d6e56e10301bba02c98f2743d64c2aaeb5468c5d6d8a488a5\n",
      "0x9f6205d603438d9d50279874b3130f1249442ee479f007c1fc05df8ffbb0c35b\n",
      "0x17f5dc9221e95ce9f7787f5f56bc733f5bbe338e232b8124a3421f638241ce1b\n",
      "0xdc2fb210907aa81317fc3940d37eba28d268d5f3066813b30e7e612f9d2f72dd\n",
      "0xc0e823a16465b0232588334a29d321d48762a000bd38b13de49ac1e7f98aca04\n",
      "0x2324a403fe304730f848b27a6d50b91e65a8157c6a6d76df6a2a220cdc2eadbf\n",
      "0xf51dabda2424986070b50ecaed676f5aa08e72caf3722614518c3d56d6dbe8d3\n"
     ]
    }
   ],
   "source": [
    "for k, v in data.items():\n",
    "    if len(v['details']) == 0:\n",
    "        print(k)"
   ]
  },
  {
   "cell_type": "code",
   "execution_count": 11,
   "id": "3d31604e-38b7-4f34-847c-ab81779762c4",
   "metadata": {},
   "outputs": [
    {
     "data": {
      "text/plain": [
       "{'timestamp': 1671343881.2307715, 'details': {}}"
      ]
     },
     "execution_count": 11,
     "metadata": {},
     "output_type": "execute_result"
    }
   ],
   "source": [
    "data['0x4309e01a9ee9aae49fdfc251fe3d892254ae79d06b3d73201aec575309125461']"
   ]
  },
  {
   "cell_type": "code",
   "execution_count": null,
   "id": "e455138c-5acf-4fb8-9a6d-bdfbd1e801da",
   "metadata": {},
   "outputs": [],
   "source": []
  }
 ],
 "metadata": {
  "kernelspec": {
   "display_name": "Python 3 (ipykernel)",
   "language": "python",
   "name": "python3"
  },
  "language_info": {
   "codemirror_mode": {
    "name": "ipython",
    "version": 3
   },
   "file_extension": ".py",
   "mimetype": "text/x-python",
   "name": "python",
   "nbconvert_exporter": "python",
   "pygments_lexer": "ipython3",
   "version": "3.10.9"
  }
 },
 "nbformat": 4,
 "nbformat_minor": 5
}
